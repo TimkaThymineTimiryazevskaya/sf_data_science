{
  "cells": [
    {
      "cell_type": "markdown",
      "id": "c8a6af25-08d3-487a-bd90-001772ac9161",
      "metadata": {
        "id": "c8a6af25-08d3-487a-bd90-001772ac9161"
      },
      "source": [
        "## <center> **Анализ результатов A/B-тестирования**"
      ]
    },
    {
      "cell_type": "markdown",
      "id": "d7d45571-6545-4904-a86b-9b3b6b8163d3",
      "metadata": {
        "id": "d7d45571-6545-4904-a86b-9b3b6b8163d3"
      },
      "source": [
        "Компания планирует запустить новую акцию, чтобы продать как можно больше туров. Команда разработала два варианта посадочной страницы официального сайта компании и провела A/B-тестирование. Собранные в результате проведения эксперимента данные вы можете найти здесь.\n",
        "\n",
        "Вам предстоит решить настоящую бизнес-задачу: проанализировать эффективность обоих вариантов посадочной страницы сразу по двум критериям: конверсии покупки и среднему чеку. На основе проведенного анализа вам будет необходимо сделать выводы и принять решение: какой из вариантов дизайна более предпочтительный.\n",
        "\n",
        "Итак, наша фирма предлагает следующие варианты туров и их соответствующие стоимости:\n",
        "* Таиланд — 100000 рублей;\n",
        "* Турция — 60000 рублей;\n",
        "* Мальдивы — 200000 рублей;\n",
        "* Санкт-Петербург — 10000 рублей;\n",
        "* Камчатка — 150000 рублей."
      ]
    },
    {
      "cell_type": "code",
      "execution_count": 11,
      "id": "a974b482-e192-4014-8520-8a5c0c946da6",
      "metadata": {
        "id": "a974b482-e192-4014-8520-8a5c0c946da6"
      },
      "outputs": [],
      "source": [
        "import pandas as pd\n",
        "import matplotlib.pyplot as plt\n",
        "import seaborn as sns\n",
        "from scipy.stats import norm\n",
        "from scipy.stats import t\n",
        "from scipy.stats import ttest_ind, shapiro, f_oneway, mannwhitneyu\n",
        "from statsmodels.stats.proportion import proportions_ztest"
      ]
    },
    {
      "cell_type": "markdown",
      "id": "55c84550-4162-4325-acc2-7d3c0aafe6f0",
      "metadata": {
        "id": "55c84550-4162-4325-acc2-7d3c0aafe6f0"
      },
      "source": [
        "Прочитаем наши данные и посмотрим на столбцы таблицы:"
      ]
    },
    {
      "cell_type": "code",
      "execution_count": 32,
      "id": "b0d18245-b9da-44bd-8aea-d272ea74b63a",
      "metadata": {
        "colab": {
          "base_uri": "https://localhost:8080/",
          "height": 206
        },
        "id": "b0d18245-b9da-44bd-8aea-d272ea74b63a",
        "outputId": "1754d96c-9533-40f7-8a90-d92282258021"
      },
      "outputs": [
        {
          "output_type": "execute_result",
          "data": {
            "text/plain": [
              "   user_id        date group  purchase   price\n",
              "0   851104  2021-01-21     A         0       0\n",
              "1   804228  2021-01-12     A         0       0\n",
              "2   661590  2021-01-11     B         0       0\n",
              "3   853541  2021-01-08     B         0       0\n",
              "4   864975  2021-01-21     A         1  150000"
            ],
            "text/html": [
              "\n",
              "  <div id=\"df-dc1426b0-6eb0-429d-bc46-2e7deff32cc2\">\n",
              "    <div class=\"colab-df-container\">\n",
              "      <div>\n",
              "<style scoped>\n",
              "    .dataframe tbody tr th:only-of-type {\n",
              "        vertical-align: middle;\n",
              "    }\n",
              "\n",
              "    .dataframe tbody tr th {\n",
              "        vertical-align: top;\n",
              "    }\n",
              "\n",
              "    .dataframe thead th {\n",
              "        text-align: right;\n",
              "    }\n",
              "</style>\n",
              "<table border=\"1\" class=\"dataframe\">\n",
              "  <thead>\n",
              "    <tr style=\"text-align: right;\">\n",
              "      <th></th>\n",
              "      <th>user_id</th>\n",
              "      <th>date</th>\n",
              "      <th>group</th>\n",
              "      <th>purchase</th>\n",
              "      <th>price</th>\n",
              "    </tr>\n",
              "  </thead>\n",
              "  <tbody>\n",
              "    <tr>\n",
              "      <th>0</th>\n",
              "      <td>851104</td>\n",
              "      <td>2021-01-21</td>\n",
              "      <td>A</td>\n",
              "      <td>0</td>\n",
              "      <td>0</td>\n",
              "    </tr>\n",
              "    <tr>\n",
              "      <th>1</th>\n",
              "      <td>804228</td>\n",
              "      <td>2021-01-12</td>\n",
              "      <td>A</td>\n",
              "      <td>0</td>\n",
              "      <td>0</td>\n",
              "    </tr>\n",
              "    <tr>\n",
              "      <th>2</th>\n",
              "      <td>661590</td>\n",
              "      <td>2021-01-11</td>\n",
              "      <td>B</td>\n",
              "      <td>0</td>\n",
              "      <td>0</td>\n",
              "    </tr>\n",
              "    <tr>\n",
              "      <th>3</th>\n",
              "      <td>853541</td>\n",
              "      <td>2021-01-08</td>\n",
              "      <td>B</td>\n",
              "      <td>0</td>\n",
              "      <td>0</td>\n",
              "    </tr>\n",
              "    <tr>\n",
              "      <th>4</th>\n",
              "      <td>864975</td>\n",
              "      <td>2021-01-21</td>\n",
              "      <td>A</td>\n",
              "      <td>1</td>\n",
              "      <td>150000</td>\n",
              "    </tr>\n",
              "  </tbody>\n",
              "</table>\n",
              "</div>\n",
              "      <button class=\"colab-df-convert\" onclick=\"convertToInteractive('df-dc1426b0-6eb0-429d-bc46-2e7deff32cc2')\"\n",
              "              title=\"Convert this dataframe to an interactive table.\"\n",
              "              style=\"display:none;\">\n",
              "        \n",
              "  <svg xmlns=\"http://www.w3.org/2000/svg\" height=\"24px\"viewBox=\"0 0 24 24\"\n",
              "       width=\"24px\">\n",
              "    <path d=\"M0 0h24v24H0V0z\" fill=\"none\"/>\n",
              "    <path d=\"M18.56 5.44l.94 2.06.94-2.06 2.06-.94-2.06-.94-.94-2.06-.94 2.06-2.06.94zm-11 1L8.5 8.5l.94-2.06 2.06-.94-2.06-.94L8.5 2.5l-.94 2.06-2.06.94zm10 10l.94 2.06.94-2.06 2.06-.94-2.06-.94-.94-2.06-.94 2.06-2.06.94z\"/><path d=\"M17.41 7.96l-1.37-1.37c-.4-.4-.92-.59-1.43-.59-.52 0-1.04.2-1.43.59L10.3 9.45l-7.72 7.72c-.78.78-.78 2.05 0 2.83L4 21.41c.39.39.9.59 1.41.59.51 0 1.02-.2 1.41-.59l7.78-7.78 2.81-2.81c.8-.78.8-2.07 0-2.86zM5.41 20L4 18.59l7.72-7.72 1.47 1.35L5.41 20z\"/>\n",
              "  </svg>\n",
              "      </button>\n",
              "      \n",
              "  <style>\n",
              "    .colab-df-container {\n",
              "      display:flex;\n",
              "      flex-wrap:wrap;\n",
              "      gap: 12px;\n",
              "    }\n",
              "\n",
              "    .colab-df-convert {\n",
              "      background-color: #E8F0FE;\n",
              "      border: none;\n",
              "      border-radius: 50%;\n",
              "      cursor: pointer;\n",
              "      display: none;\n",
              "      fill: #1967D2;\n",
              "      height: 32px;\n",
              "      padding: 0 0 0 0;\n",
              "      width: 32px;\n",
              "    }\n",
              "\n",
              "    .colab-df-convert:hover {\n",
              "      background-color: #E2EBFA;\n",
              "      box-shadow: 0px 1px 2px rgba(60, 64, 67, 0.3), 0px 1px 3px 1px rgba(60, 64, 67, 0.15);\n",
              "      fill: #174EA6;\n",
              "    }\n",
              "\n",
              "    [theme=dark] .colab-df-convert {\n",
              "      background-color: #3B4455;\n",
              "      fill: #D2E3FC;\n",
              "    }\n",
              "\n",
              "    [theme=dark] .colab-df-convert:hover {\n",
              "      background-color: #434B5C;\n",
              "      box-shadow: 0px 1px 3px 1px rgba(0, 0, 0, 0.15);\n",
              "      filter: drop-shadow(0px 1px 2px rgba(0, 0, 0, 0.3));\n",
              "      fill: #FFFFFF;\n",
              "    }\n",
              "  </style>\n",
              "\n",
              "      <script>\n",
              "        const buttonEl =\n",
              "          document.querySelector('#df-dc1426b0-6eb0-429d-bc46-2e7deff32cc2 button.colab-df-convert');\n",
              "        buttonEl.style.display =\n",
              "          google.colab.kernel.accessAllowed ? 'block' : 'none';\n",
              "\n",
              "        async function convertToInteractive(key) {\n",
              "          const element = document.querySelector('#df-dc1426b0-6eb0-429d-bc46-2e7deff32cc2');\n",
              "          const dataTable =\n",
              "            await google.colab.kernel.invokeFunction('convertToInteractive',\n",
              "                                                     [key], {});\n",
              "          if (!dataTable) return;\n",
              "\n",
              "          const docLinkHtml = 'Like what you see? Visit the ' +\n",
              "            '<a target=\"_blank\" href=https://colab.research.google.com/notebooks/data_table.ipynb>data table notebook</a>'\n",
              "            + ' to learn more about interactive tables.';\n",
              "          element.innerHTML = '';\n",
              "          dataTable['output_type'] = 'display_data';\n",
              "          await google.colab.output.renderOutput(dataTable, element);\n",
              "          const docLink = document.createElement('div');\n",
              "          docLink.innerHTML = docLinkHtml;\n",
              "          element.appendChild(docLink);\n",
              "        }\n",
              "      </script>\n",
              "    </div>\n",
              "  </div>\n",
              "  "
            ]
          },
          "metadata": {},
          "execution_count": 32
        }
      ],
      "source": [
        "data = pd.read_csv('ab_data_tourist.zip')\n",
        "data.head()"
      ]
    },
    {
      "cell_type": "markdown",
      "id": "2fc48225-26ac-49c4-b99d-8b2a03dd74a1",
      "metadata": {
        "tags": [],
        "id": "2fc48225-26ac-49c4-b99d-8b2a03dd74a1"
      },
      "source": [
        "## **Задание 7.1.**\n",
        "\n",
        "Начнем с исследования структуры наших данных. С помощью метода info() выведите информацию о типах данных и количестве непустых значений. Какой тип данных имеет столбец date?"
      ]
    },
    {
      "cell_type": "code",
      "execution_count": 13,
      "id": "23496521-4878-46e2-ab02-1a98be14884a",
      "metadata": {
        "colab": {
          "base_uri": "https://localhost:8080/"
        },
        "id": "23496521-4878-46e2-ab02-1a98be14884a",
        "outputId": "01a7c63c-4791-4b21-ad7c-2be428757558"
      },
      "outputs": [
        {
          "output_type": "stream",
          "name": "stdout",
          "text": [
            "<class 'pandas.core.frame.DataFrame'>\n",
            "RangeIndex: 294478 entries, 0 to 294477\n",
            "Data columns (total 5 columns):\n",
            " #   Column    Non-Null Count   Dtype \n",
            "---  ------    --------------   ----- \n",
            " 0   user_id   294478 non-null  int64 \n",
            " 1   date      294478 non-null  object\n",
            " 2   group     294478 non-null  object\n",
            " 3   purchase  294478 non-null  int64 \n",
            " 4   price     294478 non-null  int64 \n",
            "dtypes: int64(3), object(2)\n",
            "memory usage: 11.2+ MB\n"
          ]
        }
      ],
      "source": [
        "data.info()"
      ]
    },
    {
      "cell_type": "markdown",
      "id": "946d017d-b4fe-4a17-b91d-0ce369d1ab2e",
      "metadata": {
        "tags": [],
        "id": "946d017d-b4fe-4a17-b91d-0ce369d1ab2e"
      },
      "source": [
        "## **Задание 7.2.**\n",
        "\n",
        "Приведите столбец date к типу данных datetime. Убедитесь в равной длительности проведения тестирования для каждой из группы. Для этого сгруппируйте данные по признаку группы и определите первую и последнюю дату наблюдения для каждой из групп. \n",
        "\n",
        "В какой промежуток времени проводился A/B-тест?\n"
      ]
    },
    {
      "cell_type": "code",
      "execution_count": 34,
      "id": "604c619d-6338-45c8-8248-ac098a2366bb",
      "metadata": {
        "colab": {
          "base_uri": "https://localhost:8080/",
          "height": 143
        },
        "id": "604c619d-6338-45c8-8248-ac098a2366bb",
        "outputId": "a862d2e5-8726-4268-cdc4-9c6ce8d0d368"
      },
      "outputs": [
        {
          "output_type": "display_data",
          "data": {
            "text/plain": [
              "               x          y\n",
              "group                      \n",
              "A     2021-01-02 2021-01-24\n",
              "B     2021-01-02 2021-01-24"
            ],
            "text/html": [
              "\n",
              "  <div id=\"df-3264aa95-1513-4d03-a988-01588b7fe996\">\n",
              "    <div class=\"colab-df-container\">\n",
              "      <div>\n",
              "<style scoped>\n",
              "    .dataframe tbody tr th:only-of-type {\n",
              "        vertical-align: middle;\n",
              "    }\n",
              "\n",
              "    .dataframe tbody tr th {\n",
              "        vertical-align: top;\n",
              "    }\n",
              "\n",
              "    .dataframe thead th {\n",
              "        text-align: right;\n",
              "    }\n",
              "</style>\n",
              "<table border=\"1\" class=\"dataframe\">\n",
              "  <thead>\n",
              "    <tr style=\"text-align: right;\">\n",
              "      <th></th>\n",
              "      <th>x</th>\n",
              "      <th>y</th>\n",
              "    </tr>\n",
              "    <tr>\n",
              "      <th>group</th>\n",
              "      <th></th>\n",
              "      <th></th>\n",
              "    </tr>\n",
              "  </thead>\n",
              "  <tbody>\n",
              "    <tr>\n",
              "      <th>A</th>\n",
              "      <td>2021-01-02</td>\n",
              "      <td>2021-01-24</td>\n",
              "    </tr>\n",
              "    <tr>\n",
              "      <th>B</th>\n",
              "      <td>2021-01-02</td>\n",
              "      <td>2021-01-24</td>\n",
              "    </tr>\n",
              "  </tbody>\n",
              "</table>\n",
              "</div>\n",
              "      <button class=\"colab-df-convert\" onclick=\"convertToInteractive('df-3264aa95-1513-4d03-a988-01588b7fe996')\"\n",
              "              title=\"Convert this dataframe to an interactive table.\"\n",
              "              style=\"display:none;\">\n",
              "        \n",
              "  <svg xmlns=\"http://www.w3.org/2000/svg\" height=\"24px\"viewBox=\"0 0 24 24\"\n",
              "       width=\"24px\">\n",
              "    <path d=\"M0 0h24v24H0V0z\" fill=\"none\"/>\n",
              "    <path d=\"M18.56 5.44l.94 2.06.94-2.06 2.06-.94-2.06-.94-.94-2.06-.94 2.06-2.06.94zm-11 1L8.5 8.5l.94-2.06 2.06-.94-2.06-.94L8.5 2.5l-.94 2.06-2.06.94zm10 10l.94 2.06.94-2.06 2.06-.94-2.06-.94-.94-2.06-.94 2.06-2.06.94z\"/><path d=\"M17.41 7.96l-1.37-1.37c-.4-.4-.92-.59-1.43-.59-.52 0-1.04.2-1.43.59L10.3 9.45l-7.72 7.72c-.78.78-.78 2.05 0 2.83L4 21.41c.39.39.9.59 1.41.59.51 0 1.02-.2 1.41-.59l7.78-7.78 2.81-2.81c.8-.78.8-2.07 0-2.86zM5.41 20L4 18.59l7.72-7.72 1.47 1.35L5.41 20z\"/>\n",
              "  </svg>\n",
              "      </button>\n",
              "      \n",
              "  <style>\n",
              "    .colab-df-container {\n",
              "      display:flex;\n",
              "      flex-wrap:wrap;\n",
              "      gap: 12px;\n",
              "    }\n",
              "\n",
              "    .colab-df-convert {\n",
              "      background-color: #E8F0FE;\n",
              "      border: none;\n",
              "      border-radius: 50%;\n",
              "      cursor: pointer;\n",
              "      display: none;\n",
              "      fill: #1967D2;\n",
              "      height: 32px;\n",
              "      padding: 0 0 0 0;\n",
              "      width: 32px;\n",
              "    }\n",
              "\n",
              "    .colab-df-convert:hover {\n",
              "      background-color: #E2EBFA;\n",
              "      box-shadow: 0px 1px 2px rgba(60, 64, 67, 0.3), 0px 1px 3px 1px rgba(60, 64, 67, 0.15);\n",
              "      fill: #174EA6;\n",
              "    }\n",
              "\n",
              "    [theme=dark] .colab-df-convert {\n",
              "      background-color: #3B4455;\n",
              "      fill: #D2E3FC;\n",
              "    }\n",
              "\n",
              "    [theme=dark] .colab-df-convert:hover {\n",
              "      background-color: #434B5C;\n",
              "      box-shadow: 0px 1px 3px 1px rgba(0, 0, 0, 0.15);\n",
              "      filter: drop-shadow(0px 1px 2px rgba(0, 0, 0, 0.3));\n",
              "      fill: #FFFFFF;\n",
              "    }\n",
              "  </style>\n",
              "\n",
              "      <script>\n",
              "        const buttonEl =\n",
              "          document.querySelector('#df-3264aa95-1513-4d03-a988-01588b7fe996 button.colab-df-convert');\n",
              "        buttonEl.style.display =\n",
              "          google.colab.kernel.accessAllowed ? 'block' : 'none';\n",
              "\n",
              "        async function convertToInteractive(key) {\n",
              "          const element = document.querySelector('#df-3264aa95-1513-4d03-a988-01588b7fe996');\n",
              "          const dataTable =\n",
              "            await google.colab.kernel.invokeFunction('convertToInteractive',\n",
              "                                                     [key], {});\n",
              "          if (!dataTable) return;\n",
              "\n",
              "          const docLinkHtml = 'Like what you see? Visit the ' +\n",
              "            '<a target=\"_blank\" href=https://colab.research.google.com/notebooks/data_table.ipynb>data table notebook</a>'\n",
              "            + ' to learn more about interactive tables.';\n",
              "          element.innerHTML = '';\n",
              "          dataTable['output_type'] = 'display_data';\n",
              "          await google.colab.output.renderOutput(dataTable, element);\n",
              "          const docLink = document.createElement('div');\n",
              "          docLink.innerHTML = docLinkHtml;\n",
              "          element.appendChild(docLink);\n",
              "        }\n",
              "      </script>\n",
              "    </div>\n",
              "  </div>\n",
              "  "
            ]
          },
          "metadata": {}
        }
      ],
      "source": [
        "data['date'] = pd.to_datetime(data['date'], format='%Y-%m-%d')\n",
        "datagr = data.groupby('group').agg(x=('date', 'min'),y= ('date', 'max'))\n",
        "display(datagr)"
      ]
    },
    {
      "cell_type": "markdown",
      "id": "e04eb341-52ae-48b3-9dc2-0578ca91641a",
      "metadata": {
        "id": "e04eb341-52ae-48b3-9dc2-0578ca91641a"
      },
      "source": [
        "## **Задание 7.3.**\n",
        "\n",
        "* Чему равно количество посещений сайта в группах А и B?\n",
        "\n",
        "* Чему равно суммарное количество покупок в группах А и B?\n",
        "\n",
        "* Чему равна сумма всех покупок в группах А и B? Ответ приведите в миллионах рублей. Например, 185.52 млн. руб."
      ]
    },
    {
      "cell_type": "code",
      "execution_count": 38,
      "id": "02bf0148-488e-4f34-95bf-37794b2fa98b",
      "metadata": {
        "colab": {
          "base_uri": "https://localhost:8080/",
          "height": 143
        },
        "id": "02bf0148-488e-4f34-95bf-37794b2fa98b",
        "outputId": "a0a7c30e-d3ba-460c-fa18-612fab8c8b92"
      },
      "outputs": [
        {
          "output_type": "display_data",
          "data": {
            "text/plain": [
              "       user_id  purchase       price\n",
              "group                               \n",
              "A       147202     17723  1436260000\n",
              "B       147276     17514  1554100000"
            ],
            "text/html": [
              "\n",
              "  <div id=\"df-115c7b03-a3e9-4d32-8925-332700fa4cf7\">\n",
              "    <div class=\"colab-df-container\">\n",
              "      <div>\n",
              "<style scoped>\n",
              "    .dataframe tbody tr th:only-of-type {\n",
              "        vertical-align: middle;\n",
              "    }\n",
              "\n",
              "    .dataframe tbody tr th {\n",
              "        vertical-align: top;\n",
              "    }\n",
              "\n",
              "    .dataframe thead th {\n",
              "        text-align: right;\n",
              "    }\n",
              "</style>\n",
              "<table border=\"1\" class=\"dataframe\">\n",
              "  <thead>\n",
              "    <tr style=\"text-align: right;\">\n",
              "      <th></th>\n",
              "      <th>user_id</th>\n",
              "      <th>purchase</th>\n",
              "      <th>price</th>\n",
              "    </tr>\n",
              "    <tr>\n",
              "      <th>group</th>\n",
              "      <th></th>\n",
              "      <th></th>\n",
              "      <th></th>\n",
              "    </tr>\n",
              "  </thead>\n",
              "  <tbody>\n",
              "    <tr>\n",
              "      <th>A</th>\n",
              "      <td>147202</td>\n",
              "      <td>17723</td>\n",
              "      <td>1436260000</td>\n",
              "    </tr>\n",
              "    <tr>\n",
              "      <th>B</th>\n",
              "      <td>147276</td>\n",
              "      <td>17514</td>\n",
              "      <td>1554100000</td>\n",
              "    </tr>\n",
              "  </tbody>\n",
              "</table>\n",
              "</div>\n",
              "      <button class=\"colab-df-convert\" onclick=\"convertToInteractive('df-115c7b03-a3e9-4d32-8925-332700fa4cf7')\"\n",
              "              title=\"Convert this dataframe to an interactive table.\"\n",
              "              style=\"display:none;\">\n",
              "        \n",
              "  <svg xmlns=\"http://www.w3.org/2000/svg\" height=\"24px\"viewBox=\"0 0 24 24\"\n",
              "       width=\"24px\">\n",
              "    <path d=\"M0 0h24v24H0V0z\" fill=\"none\"/>\n",
              "    <path d=\"M18.56 5.44l.94 2.06.94-2.06 2.06-.94-2.06-.94-.94-2.06-.94 2.06-2.06.94zm-11 1L8.5 8.5l.94-2.06 2.06-.94-2.06-.94L8.5 2.5l-.94 2.06-2.06.94zm10 10l.94 2.06.94-2.06 2.06-.94-2.06-.94-.94-2.06-.94 2.06-2.06.94z\"/><path d=\"M17.41 7.96l-1.37-1.37c-.4-.4-.92-.59-1.43-.59-.52 0-1.04.2-1.43.59L10.3 9.45l-7.72 7.72c-.78.78-.78 2.05 0 2.83L4 21.41c.39.39.9.59 1.41.59.51 0 1.02-.2 1.41-.59l7.78-7.78 2.81-2.81c.8-.78.8-2.07 0-2.86zM5.41 20L4 18.59l7.72-7.72 1.47 1.35L5.41 20z\"/>\n",
              "  </svg>\n",
              "      </button>\n",
              "      \n",
              "  <style>\n",
              "    .colab-df-container {\n",
              "      display:flex;\n",
              "      flex-wrap:wrap;\n",
              "      gap: 12px;\n",
              "    }\n",
              "\n",
              "    .colab-df-convert {\n",
              "      background-color: #E8F0FE;\n",
              "      border: none;\n",
              "      border-radius: 50%;\n",
              "      cursor: pointer;\n",
              "      display: none;\n",
              "      fill: #1967D2;\n",
              "      height: 32px;\n",
              "      padding: 0 0 0 0;\n",
              "      width: 32px;\n",
              "    }\n",
              "\n",
              "    .colab-df-convert:hover {\n",
              "      background-color: #E2EBFA;\n",
              "      box-shadow: 0px 1px 2px rgba(60, 64, 67, 0.3), 0px 1px 3px 1px rgba(60, 64, 67, 0.15);\n",
              "      fill: #174EA6;\n",
              "    }\n",
              "\n",
              "    [theme=dark] .colab-df-convert {\n",
              "      background-color: #3B4455;\n",
              "      fill: #D2E3FC;\n",
              "    }\n",
              "\n",
              "    [theme=dark] .colab-df-convert:hover {\n",
              "      background-color: #434B5C;\n",
              "      box-shadow: 0px 1px 3px 1px rgba(0, 0, 0, 0.15);\n",
              "      filter: drop-shadow(0px 1px 2px rgba(0, 0, 0, 0.3));\n",
              "      fill: #FFFFFF;\n",
              "    }\n",
              "  </style>\n",
              "\n",
              "      <script>\n",
              "        const buttonEl =\n",
              "          document.querySelector('#df-115c7b03-a3e9-4d32-8925-332700fa4cf7 button.colab-df-convert');\n",
              "        buttonEl.style.display =\n",
              "          google.colab.kernel.accessAllowed ? 'block' : 'none';\n",
              "\n",
              "        async function convertToInteractive(key) {\n",
              "          const element = document.querySelector('#df-115c7b03-a3e9-4d32-8925-332700fa4cf7');\n",
              "          const dataTable =\n",
              "            await google.colab.kernel.invokeFunction('convertToInteractive',\n",
              "                                                     [key], {});\n",
              "          if (!dataTable) return;\n",
              "\n",
              "          const docLinkHtml = 'Like what you see? Visit the ' +\n",
              "            '<a target=\"_blank\" href=https://colab.research.google.com/notebooks/data_table.ipynb>data table notebook</a>'\n",
              "            + ' to learn more about interactive tables.';\n",
              "          element.innerHTML = '';\n",
              "          dataTable['output_type'] = 'display_data';\n",
              "          await google.colab.output.renderOutput(dataTable, element);\n",
              "          const docLink = document.createElement('div');\n",
              "          docLink.innerHTML = docLinkHtml;\n",
              "          element.appendChild(docLink);\n",
              "        }\n",
              "      </script>\n",
              "    </div>\n",
              "  </div>\n",
              "  "
            ]
          },
          "metadata": {}
        }
      ],
      "source": [
        "datagr = data.groupby('group').agg({'user_id':'count', 'purchase':'sum', 'price':'sum'})\n",
        "display(datagr)"
      ]
    },
    {
      "cell_type": "markdown",
      "id": "2434db1b-17e6-4977-8e54-1df875c6f221",
      "metadata": {
        "tags": [],
        "id": "2434db1b-17e6-4977-8e54-1df875c6f221"
      },
      "source": [
        "## **Задание 7.4.**\n",
        "\n",
        "Проверьте, есть ли пользователи, которые в процессе A/B-теста попали в обе тестовые группы? Если да, то сколько таких уникальных пользователей, если нет - введите в поле для ответа 0?\n",
        "\n",
        "**Подсказка:**\n",
        "\n",
        "*Создайте множество пользователей группы А и множество пользователей группы B. Пересеките два этих множества (операция intersection) и вычислите количество элементов в полученном множестве.*\n"
      ]
    },
    {
      "cell_type": "code",
      "execution_count": 39,
      "id": "57a2d711-057d-4f8b-9f56-df0f772d41c8",
      "metadata": {
        "colab": {
          "base_uri": "https://localhost:8080/"
        },
        "id": "57a2d711-057d-4f8b-9f56-df0f772d41c8",
        "outputId": "8dc7d7d4-0e4c-4484-db02-ce1af66f13e1"
      },
      "outputs": [
        {
          "output_type": "stream",
          "name": "stdout",
          "text": [
            "1895\n"
          ]
        }
      ],
      "source": [
        "intersect = set(data[data['group'] == 'A']['user_id']).intersection(set(data[data['group'] == 'B']['user_id']))\n",
        "print(len(intersect))"
      ]
    },
    {
      "cell_type": "markdown",
      "id": "118b1904-7d7a-4935-825e-535da45c611b",
      "metadata": {
        "tags": [],
        "id": "118b1904-7d7a-4935-825e-535da45c611b"
      },
      "source": [
        "## **Исключите пользователей, оказавшихся в обеих группах**\n",
        "\n",
        "Так как мы не можем определить, какая из версий сайта повлияла на принятие решения, исключим этих пользователей. Далее мы будем работать только с очищенными от пересечений данными.\n",
        "\n",
        "Возможный вариант исключения пользователей:"
      ]
    },
    {
      "cell_type": "code",
      "execution_count": 40,
      "id": "f618b34b-35a3-4bf1-8d6d-38b3401930b7",
      "metadata": {
        "id": "f618b34b-35a3-4bf1-8d6d-38b3401930b7"
      },
      "outputs": [],
      "source": [
        "updated_data = data[data['user_id'].apply(lambda x: x not in intersect)]"
      ]
    },
    {
      "cell_type": "markdown",
      "id": "2bce6c9a-6580-4250-b280-204d40d20da2",
      "metadata": {
        "id": "2bce6c9a-6580-4250-b280-204d40d20da2"
      },
      "source": [
        "Где user_intersection - множество пересечений пользователей групп А и B."
      ]
    },
    {
      "cell_type": "markdown",
      "id": "2ddf6b2c-7987-41f3-82b1-8992630ae97b",
      "metadata": {
        "tags": [],
        "id": "2ddf6b2c-7987-41f3-82b1-8992630ae97b"
      },
      "source": [
        "## **Задание 7.5.**\n",
        "\n",
        "Для первичного анализа результатов A/B-тестирования нам понадобится таблица следующего вида:\n",
        "\n",
        "![image.png](attachment:95f235d2-6323-4799-bf69-697fc57f727b.png)\n",
        " \n",
        " \n",
        "Для того, чтобы получить такую таблицу, сгруппируйте данные по признаку группы. В каждой группе рассчитайте следующие показатели:\n",
        "* количество посещений (количество пользователей)\n",
        "* количество совершенных покупок\n",
        "* сумма всех покупок в группе\n",
        "\n",
        "В полученной сгруппированной таблице переименуйте столбцы на **count_visits, count_purchases и sum_price**.\n",
        "\n",
        "**Подсказка:**\n",
        "\n",
        "*Для переименования столбцов можно использовать метод rename() с параметром columns, в который передается словарь. Ключи этого словаря - старые имена столбцов, а значения - новые.*\n",
        "\n",
        "Чему на этот раз равно количество посещений сайта в группах А и B?\n"
      ]
    },
    {
      "cell_type": "code",
      "execution_count": 44,
      "id": "5c0c018e-a250-48e9-b72a-e3c7be586ebd",
      "metadata": {
        "colab": {
          "base_uri": "https://localhost:8080/",
          "height": 143
        },
        "id": "5c0c018e-a250-48e9-b72a-e3c7be586ebd",
        "outputId": "041f09ad-3a17-4f70-904b-eec34f1df0e5"
      },
      "outputs": [
        {
          "output_type": "execute_result",
          "data": {
            "text/plain": [
              "       count_visits  count_purchases   sum_price\n",
              "group                                           \n",
              "A            145307            17487  1417780000\n",
              "B            145381            17290  1533010000"
            ],
            "text/html": [
              "\n",
              "  <div id=\"df-e042e3eb-cc17-4a4f-858b-1fffbaae6600\">\n",
              "    <div class=\"colab-df-container\">\n",
              "      <div>\n",
              "<style scoped>\n",
              "    .dataframe tbody tr th:only-of-type {\n",
              "        vertical-align: middle;\n",
              "    }\n",
              "\n",
              "    .dataframe tbody tr th {\n",
              "        vertical-align: top;\n",
              "    }\n",
              "\n",
              "    .dataframe thead th {\n",
              "        text-align: right;\n",
              "    }\n",
              "</style>\n",
              "<table border=\"1\" class=\"dataframe\">\n",
              "  <thead>\n",
              "    <tr style=\"text-align: right;\">\n",
              "      <th></th>\n",
              "      <th>count_visits</th>\n",
              "      <th>count_purchases</th>\n",
              "      <th>sum_price</th>\n",
              "    </tr>\n",
              "    <tr>\n",
              "      <th>group</th>\n",
              "      <th></th>\n",
              "      <th></th>\n",
              "      <th></th>\n",
              "    </tr>\n",
              "  </thead>\n",
              "  <tbody>\n",
              "    <tr>\n",
              "      <th>A</th>\n",
              "      <td>145307</td>\n",
              "      <td>17487</td>\n",
              "      <td>1417780000</td>\n",
              "    </tr>\n",
              "    <tr>\n",
              "      <th>B</th>\n",
              "      <td>145381</td>\n",
              "      <td>17290</td>\n",
              "      <td>1533010000</td>\n",
              "    </tr>\n",
              "  </tbody>\n",
              "</table>\n",
              "</div>\n",
              "      <button class=\"colab-df-convert\" onclick=\"convertToInteractive('df-e042e3eb-cc17-4a4f-858b-1fffbaae6600')\"\n",
              "              title=\"Convert this dataframe to an interactive table.\"\n",
              "              style=\"display:none;\">\n",
              "        \n",
              "  <svg xmlns=\"http://www.w3.org/2000/svg\" height=\"24px\"viewBox=\"0 0 24 24\"\n",
              "       width=\"24px\">\n",
              "    <path d=\"M0 0h24v24H0V0z\" fill=\"none\"/>\n",
              "    <path d=\"M18.56 5.44l.94 2.06.94-2.06 2.06-.94-2.06-.94-.94-2.06-.94 2.06-2.06.94zm-11 1L8.5 8.5l.94-2.06 2.06-.94-2.06-.94L8.5 2.5l-.94 2.06-2.06.94zm10 10l.94 2.06.94-2.06 2.06-.94-2.06-.94-.94-2.06-.94 2.06-2.06.94z\"/><path d=\"M17.41 7.96l-1.37-1.37c-.4-.4-.92-.59-1.43-.59-.52 0-1.04.2-1.43.59L10.3 9.45l-7.72 7.72c-.78.78-.78 2.05 0 2.83L4 21.41c.39.39.9.59 1.41.59.51 0 1.02-.2 1.41-.59l7.78-7.78 2.81-2.81c.8-.78.8-2.07 0-2.86zM5.41 20L4 18.59l7.72-7.72 1.47 1.35L5.41 20z\"/>\n",
              "  </svg>\n",
              "      </button>\n",
              "      \n",
              "  <style>\n",
              "    .colab-df-container {\n",
              "      display:flex;\n",
              "      flex-wrap:wrap;\n",
              "      gap: 12px;\n",
              "    }\n",
              "\n",
              "    .colab-df-convert {\n",
              "      background-color: #E8F0FE;\n",
              "      border: none;\n",
              "      border-radius: 50%;\n",
              "      cursor: pointer;\n",
              "      display: none;\n",
              "      fill: #1967D2;\n",
              "      height: 32px;\n",
              "      padding: 0 0 0 0;\n",
              "      width: 32px;\n",
              "    }\n",
              "\n",
              "    .colab-df-convert:hover {\n",
              "      background-color: #E2EBFA;\n",
              "      box-shadow: 0px 1px 2px rgba(60, 64, 67, 0.3), 0px 1px 3px 1px rgba(60, 64, 67, 0.15);\n",
              "      fill: #174EA6;\n",
              "    }\n",
              "\n",
              "    [theme=dark] .colab-df-convert {\n",
              "      background-color: #3B4455;\n",
              "      fill: #D2E3FC;\n",
              "    }\n",
              "\n",
              "    [theme=dark] .colab-df-convert:hover {\n",
              "      background-color: #434B5C;\n",
              "      box-shadow: 0px 1px 3px 1px rgba(0, 0, 0, 0.15);\n",
              "      filter: drop-shadow(0px 1px 2px rgba(0, 0, 0, 0.3));\n",
              "      fill: #FFFFFF;\n",
              "    }\n",
              "  </style>\n",
              "\n",
              "      <script>\n",
              "        const buttonEl =\n",
              "          document.querySelector('#df-e042e3eb-cc17-4a4f-858b-1fffbaae6600 button.colab-df-convert');\n",
              "        buttonEl.style.display =\n",
              "          google.colab.kernel.accessAllowed ? 'block' : 'none';\n",
              "\n",
              "        async function convertToInteractive(key) {\n",
              "          const element = document.querySelector('#df-e042e3eb-cc17-4a4f-858b-1fffbaae6600');\n",
              "          const dataTable =\n",
              "            await google.colab.kernel.invokeFunction('convertToInteractive',\n",
              "                                                     [key], {});\n",
              "          if (!dataTable) return;\n",
              "\n",
              "          const docLinkHtml = 'Like what you see? Visit the ' +\n",
              "            '<a target=\"_blank\" href=https://colab.research.google.com/notebooks/data_table.ipynb>data table notebook</a>'\n",
              "            + ' to learn more about interactive tables.';\n",
              "          element.innerHTML = '';\n",
              "          dataTable['output_type'] = 'display_data';\n",
              "          await google.colab.output.renderOutput(dataTable, element);\n",
              "          const docLink = document.createElement('div');\n",
              "          docLink.innerHTML = docLinkHtml;\n",
              "          element.appendChild(docLink);\n",
              "        }\n",
              "      </script>\n",
              "    </div>\n",
              "  </div>\n",
              "  "
            ]
          },
          "metadata": {},
          "execution_count": 44
        }
      ],
      "source": [
        "updated_data.groupby('group').agg({'user_id':'count', 'purchase':'sum', 'price':'sum'}).rename(columns={'user_id':'count_visits', 'purchase': 'count_purchases', 'price':'sum_price'})"
      ]
    },
    {
      "cell_type": "markdown",
      "id": "b71e1390-9846-4a8e-b357-f82b847d1952",
      "metadata": {
        "id": "b71e1390-9846-4a8e-b357-f82b847d1952"
      },
      "source": [
        "Приведите промежуточные выводы по построенной таблице. Сопоставимо ли количество посещений обоих вариантов посадочной странице, можно ли говорить о сбалансированности выборок?"
      ]
    },
    {
      "cell_type": "markdown",
      "id": "4ea1b65b-475e-4bff-9460-fac0acdb9620",
      "metadata": {
        "id": "4ea1b65b-475e-4bff-9460-fac0acdb9620"
      },
      "source": [
        "**Вывод**: Количество посещений в каждой из анализируемых групп сопоставимо (расхождение составляет менее 0.06%)"
      ]
    },
    {
      "cell_type": "markdown",
      "id": "afb2ee0a-31d1-45a5-be42-a2bf168b9448",
      "metadata": {
        "tags": [],
        "id": "afb2ee0a-31d1-45a5-be42-a2bf168b9448"
      },
      "source": [
        "## **Задание 7.6.**\n",
        "\n",
        "Добавьте в сгруппированную таблицу столбцы conversion - конверсия покупки (отношение количества покупок к количеству посещений сайта в каждой группе, выраженное в процентах) и mean_check - средний чек (отношение суммы покупок к количеству покупок в каждой группе).\n",
        "\n",
        "* Чему равна конверсия в группах? Ответ приведите в процентах и округлите до сотых. Например, 75.12 %\n",
        "* Чему равен средний чек в группах? Ответ приведите в рублях и округлите до целых. Например, 120519 рублей."
      ]
    },
    {
      "cell_type": "code",
      "execution_count": 48,
      "id": "bd9c3b3e-5956-41a8-bae0-43693f6de1f2",
      "metadata": {
        "colab": {
          "base_uri": "https://localhost:8080/",
          "height": 143
        },
        "id": "bd9c3b3e-5956-41a8-bae0-43693f6de1f2",
        "outputId": "f34e95de-a96b-4766-b04b-c357fb66a173"
      },
      "outputs": [
        {
          "output_type": "execute_result",
          "data": {
            "text/plain": [
              "       count_visits  count_purchases   sum_price  conversion    mean_check\n",
              "group                                                                     \n",
              "A            145307            17487  1417780000   12.034520  81076.228055\n",
              "B            145381            17290  1533010000   11.892888  88664.545980"
            ],
            "text/html": [
              "\n",
              "  <div id=\"df-62861af2-2e12-4845-b1f2-435503c21a77\">\n",
              "    <div class=\"colab-df-container\">\n",
              "      <div>\n",
              "<style scoped>\n",
              "    .dataframe tbody tr th:only-of-type {\n",
              "        vertical-align: middle;\n",
              "    }\n",
              "\n",
              "    .dataframe tbody tr th {\n",
              "        vertical-align: top;\n",
              "    }\n",
              "\n",
              "    .dataframe thead th {\n",
              "        text-align: right;\n",
              "    }\n",
              "</style>\n",
              "<table border=\"1\" class=\"dataframe\">\n",
              "  <thead>\n",
              "    <tr style=\"text-align: right;\">\n",
              "      <th></th>\n",
              "      <th>count_visits</th>\n",
              "      <th>count_purchases</th>\n",
              "      <th>sum_price</th>\n",
              "      <th>conversion</th>\n",
              "      <th>mean_check</th>\n",
              "    </tr>\n",
              "    <tr>\n",
              "      <th>group</th>\n",
              "      <th></th>\n",
              "      <th></th>\n",
              "      <th></th>\n",
              "      <th></th>\n",
              "      <th></th>\n",
              "    </tr>\n",
              "  </thead>\n",
              "  <tbody>\n",
              "    <tr>\n",
              "      <th>A</th>\n",
              "      <td>145307</td>\n",
              "      <td>17487</td>\n",
              "      <td>1417780000</td>\n",
              "      <td>12.034520</td>\n",
              "      <td>81076.228055</td>\n",
              "    </tr>\n",
              "    <tr>\n",
              "      <th>B</th>\n",
              "      <td>145381</td>\n",
              "      <td>17290</td>\n",
              "      <td>1533010000</td>\n",
              "      <td>11.892888</td>\n",
              "      <td>88664.545980</td>\n",
              "    </tr>\n",
              "  </tbody>\n",
              "</table>\n",
              "</div>\n",
              "      <button class=\"colab-df-convert\" onclick=\"convertToInteractive('df-62861af2-2e12-4845-b1f2-435503c21a77')\"\n",
              "              title=\"Convert this dataframe to an interactive table.\"\n",
              "              style=\"display:none;\">\n",
              "        \n",
              "  <svg xmlns=\"http://www.w3.org/2000/svg\" height=\"24px\"viewBox=\"0 0 24 24\"\n",
              "       width=\"24px\">\n",
              "    <path d=\"M0 0h24v24H0V0z\" fill=\"none\"/>\n",
              "    <path d=\"M18.56 5.44l.94 2.06.94-2.06 2.06-.94-2.06-.94-.94-2.06-.94 2.06-2.06.94zm-11 1L8.5 8.5l.94-2.06 2.06-.94-2.06-.94L8.5 2.5l-.94 2.06-2.06.94zm10 10l.94 2.06.94-2.06 2.06-.94-2.06-.94-.94-2.06-.94 2.06-2.06.94z\"/><path d=\"M17.41 7.96l-1.37-1.37c-.4-.4-.92-.59-1.43-.59-.52 0-1.04.2-1.43.59L10.3 9.45l-7.72 7.72c-.78.78-.78 2.05 0 2.83L4 21.41c.39.39.9.59 1.41.59.51 0 1.02-.2 1.41-.59l7.78-7.78 2.81-2.81c.8-.78.8-2.07 0-2.86zM5.41 20L4 18.59l7.72-7.72 1.47 1.35L5.41 20z\"/>\n",
              "  </svg>\n",
              "      </button>\n",
              "      \n",
              "  <style>\n",
              "    .colab-df-container {\n",
              "      display:flex;\n",
              "      flex-wrap:wrap;\n",
              "      gap: 12px;\n",
              "    }\n",
              "\n",
              "    .colab-df-convert {\n",
              "      background-color: #E8F0FE;\n",
              "      border: none;\n",
              "      border-radius: 50%;\n",
              "      cursor: pointer;\n",
              "      display: none;\n",
              "      fill: #1967D2;\n",
              "      height: 32px;\n",
              "      padding: 0 0 0 0;\n",
              "      width: 32px;\n",
              "    }\n",
              "\n",
              "    .colab-df-convert:hover {\n",
              "      background-color: #E2EBFA;\n",
              "      box-shadow: 0px 1px 2px rgba(60, 64, 67, 0.3), 0px 1px 3px 1px rgba(60, 64, 67, 0.15);\n",
              "      fill: #174EA6;\n",
              "    }\n",
              "\n",
              "    [theme=dark] .colab-df-convert {\n",
              "      background-color: #3B4455;\n",
              "      fill: #D2E3FC;\n",
              "    }\n",
              "\n",
              "    [theme=dark] .colab-df-convert:hover {\n",
              "      background-color: #434B5C;\n",
              "      box-shadow: 0px 1px 3px 1px rgba(0, 0, 0, 0.15);\n",
              "      filter: drop-shadow(0px 1px 2px rgba(0, 0, 0, 0.3));\n",
              "      fill: #FFFFFF;\n",
              "    }\n",
              "  </style>\n",
              "\n",
              "      <script>\n",
              "        const buttonEl =\n",
              "          document.querySelector('#df-62861af2-2e12-4845-b1f2-435503c21a77 button.colab-df-convert');\n",
              "        buttonEl.style.display =\n",
              "          google.colab.kernel.accessAllowed ? 'block' : 'none';\n",
              "\n",
              "        async function convertToInteractive(key) {\n",
              "          const element = document.querySelector('#df-62861af2-2e12-4845-b1f2-435503c21a77');\n",
              "          const dataTable =\n",
              "            await google.colab.kernel.invokeFunction('convertToInteractive',\n",
              "                                                     [key], {});\n",
              "          if (!dataTable) return;\n",
              "\n",
              "          const docLinkHtml = 'Like what you see? Visit the ' +\n",
              "            '<a target=\"_blank\" href=https://colab.research.google.com/notebooks/data_table.ipynb>data table notebook</a>'\n",
              "            + ' to learn more about interactive tables.';\n",
              "          element.innerHTML = '';\n",
              "          dataTable['output_type'] = 'display_data';\n",
              "          await google.colab.output.renderOutput(dataTable, element);\n",
              "          const docLink = document.createElement('div');\n",
              "          docLink.innerHTML = docLinkHtml;\n",
              "          element.appendChild(docLink);\n",
              "        }\n",
              "      </script>\n",
              "    </div>\n",
              "  </div>\n",
              "  "
            ]
          },
          "metadata": {},
          "execution_count": 48
        }
      ],
      "source": [
        "up_datagr = updated_data.groupby('group').agg({'user_id':'count', 'purchase':'sum', 'price':'sum'}).rename(columns={'user_id':'count_visits', 'purchase': 'count_purchases', 'price':'sum_price'})\n",
        "up_datagr['conversion'] = up_datagr['count_purchases']/up_datagr['count_visits']*100\n",
        "up_datagr['mean_check'] = up_datagr['sum_price']/up_datagr['count_purchases']\n",
        "up_datagr"
      ]
    },
    {
      "cell_type": "markdown",
      "id": "1eb6e140-c702-43e0-b301-9914a7f49448",
      "metadata": {
        "id": "1eb6e140-c702-43e0-b301-9914a7f49448"
      },
      "source": [
        "Приведите промежуточные выводы по таблице. По какому(им) показателю(ям) вариант А эффективнее варианта B и наоборот?"
      ]
    },
    {
      "cell_type": "markdown",
      "id": "9e88c883-84f9-44ec-accd-04d5d459b261",
      "metadata": {
        "id": "9e88c883-84f9-44ec-accd-04d5d459b261"
      },
      "source": [
        "**Вывод**: В группе А конверсия больше на 0.14%, при этом значение среднего чека больше в группе В на более чем 7 тыс.руб."
      ]
    },
    {
      "cell_type": "markdown",
      "id": "7f9f1ae0-f12f-49b3-8b57-1c299c208c49",
      "metadata": {
        "tags": [],
        "id": "7f9f1ae0-f12f-49b3-8b57-1c299c208c49"
      },
      "source": [
        "## **Задание 7.7.**\n",
        "\n",
        "Теперь давайте сравним варианты по покупательской способности туров. Для этого постройте сводную таблицу, которая покажет зависимость количества продаж от группы и цены тура. "
      ]
    },
    {
      "cell_type": "code",
      "execution_count": 49,
      "id": "78d46a02-cc30-4783-9b18-9fc9c6a08012",
      "metadata": {
        "id": "78d46a02-cc30-4783-9b18-9fc9c6a08012"
      },
      "outputs": [],
      "source": [
        "pivot = updated_data[updated_data['price'] > 0].pivot_table(\n",
        "    index='group', \n",
        "    columns='price', \n",
        "    values='purchase', \n",
        "    aggfunc='sum')\n"
      ]
    },
    {
      "cell_type": "markdown",
      "id": "977423ed-8f8d-475c-b773-621edd95338d",
      "metadata": {
        "id": "977423ed-8f8d-475c-b773-621edd95338d"
      },
      "source": [
        "Визуализируйте полученную сводную таблицу с помощью тепловой карты с аннотацией. \n",
        "Чему равно количество проданных туров за 60000 рублей в группах?"
      ]
    },
    {
      "cell_type": "code",
      "execution_count": 52,
      "id": "f634fa8d-585c-42e3-b7d5-78e8d9eaa8c5",
      "metadata": {
        "colab": {
          "base_uri": "https://localhost:8080/",
          "height": 312
        },
        "id": "f634fa8d-585c-42e3-b7d5-78e8d9eaa8c5",
        "outputId": "33a7ba51-06eb-4f7e-db42-a8a5bb5c537f"
      },
      "outputs": [
        {
          "output_type": "execute_result",
          "data": {
            "text/plain": [
              "Text(0.5, 1.0, 'Тепловая карта покупательской способности туров в группах')"
            ]
          },
          "metadata": {},
          "execution_count": 52
        },
        {
          "output_type": "display_data",
          "data": {
            "text/plain": [
              "<Figure size 720x288 with 2 Axes>"
            ],
            "image/png": "[encoded data removed]"
          },
          "metadata": {
            "needs_background": "light"
          }
        }
      ],
      "source": [
        "fig = plt.figure(figsize=(10, 4))\n",
        "ax = sns.heatmap(pivot, annot=True, fmt = '.0f');\n",
        "ax.set_title('Тепловая карта покупательской способности туров в группах')"
      ]
    },
    {
      "cell_type": "markdown",
      "id": "9caa92ca-e261-4b8f-a16c-2abc322c9ffb",
      "metadata": {
        "id": "9caa92ca-e261-4b8f-a16c-2abc322c9ffb"
      },
      "source": [
        "Сделайте выводы по построенной таблице. По каким турам покупательская способность участников группы А выше, чем участников группы B и наоборот?"
      ]
    },
    {
      "cell_type": "markdown",
      "id": "6d13fd45-e3df-468f-9d32-1fc45d38b10c",
      "metadata": {
        "id": "6d13fd45-e3df-468f-9d32-1fc45d38b10c"
      },
      "source": [
        "**Вывод**: Покупательская способность у группы А значимо выше группы В по турам стоимостью от 60 тыс.рублей и меньше. Туры стоимостью 100 тыс.рублей покупаются группой В гораздо чаще. Туры от 150 тыс.рублей покупаются примерно в равных количествах. "
      ]
    },
    {
      "cell_type": "markdown",
      "id": "8f021fb4-d0f6-4e43-b518-1a96c07a4531",
      "metadata": {
        "tags": [],
        "id": "8f021fb4-d0f6-4e43-b518-1a96c07a4531"
      },
      "source": [
        "## **Задание 7.8.**\n",
        "\n",
        "Настало время поговорить о стабилизации кумулятивных метрик во времени. Но прежде, чем перейти к кумулятивным метрикам, нам необходимо построить таблицу с ежедневными данными результатов проведения A/B-тестирования.\n",
        "\n",
        "Сгруппируйте данные по дате и группе тестирования. В каждой группе вычислите количество посещений страницы, количество покупок и сумму покупок. \n",
        "\n",
        "Добавьте в таблицу информацию о ежедневной конверсии (ежедневное количество покупок / ежедневное количество посещений) в группе и ежедневном среднем чеке (ежедневная сумма покупок / ежедневное количество покупок)\n",
        "* Чему равна конверсия 3 января 2021 года? Ответ приведите в процентах и округлите до сотых.\n",
        "\n",
        "* Чему равен средний чек 3 января 2021 года? Ответ приведите в рублях и округлите до целого."
      ]
    },
    {
      "cell_type": "code",
      "execution_count": 53,
      "id": "4503b528-412e-433a-bc03-da7da52fa1a3",
      "metadata": {
        "colab": {
          "base_uri": "https://localhost:8080/",
          "height": 242
        },
        "id": "4503b528-412e-433a-bc03-da7da52fa1a3",
        "outputId": "2155057c-8380-46b5-a18d-f3ddf42bd81c"
      },
      "outputs": [
        {
          "output_type": "stream",
          "name": "stdout",
          "text": [
            "Конверсия\n"
          ]
        },
        {
          "output_type": "display_data",
          "data": {
            "text/plain": [
              "  group  conversion\n",
              "2     A       11.34\n",
              "3     B       11.39"
            ],
            "text/html": [
              "\n",
              "  <div id=\"df-a967a8d3-4483-46af-b605-d9f60b8a2874\">\n",
              "    <div class=\"colab-df-container\">\n",
              "      <div>\n",
              "<style scoped>\n",
              "    .dataframe tbody tr th:only-of-type {\n",
              "        vertical-align: middle;\n",
              "    }\n",
              "\n",
              "    .dataframe tbody tr th {\n",
              "        vertical-align: top;\n",
              "    }\n",
              "\n",
              "    .dataframe thead th {\n",
              "        text-align: right;\n",
              "    }\n",
              "</style>\n",
              "<table border=\"1\" class=\"dataframe\">\n",
              "  <thead>\n",
              "    <tr style=\"text-align: right;\">\n",
              "      <th></th>\n",
              "      <th>group</th>\n",
              "      <th>conversion</th>\n",
              "    </tr>\n",
              "  </thead>\n",
              "  <tbody>\n",
              "    <tr>\n",
              "      <th>2</th>\n",
              "      <td>A</td>\n",
              "      <td>11.34</td>\n",
              "    </tr>\n",
              "    <tr>\n",
              "      <th>3</th>\n",
              "      <td>B</td>\n",
              "      <td>11.39</td>\n",
              "    </tr>\n",
              "  </tbody>\n",
              "</table>\n",
              "</div>\n",
              "      <button class=\"colab-df-convert\" onclick=\"convertToInteractive('df-a967a8d3-4483-46af-b605-d9f60b8a2874')\"\n",
              "              title=\"Convert this dataframe to an interactive table.\"\n",
              "              style=\"display:none;\">\n",
              "        \n",
              "  <svg xmlns=\"http://www.w3.org/2000/svg\" height=\"24px\"viewBox=\"0 0 24 24\"\n",
              "       width=\"24px\">\n",
              "    <path d=\"M0 0h24v24H0V0z\" fill=\"none\"/>\n",
              "    <path d=\"M18.56 5.44l.94 2.06.94-2.06 2.06-.94-2.06-.94-.94-2.06-.94 2.06-2.06.94zm-11 1L8.5 8.5l.94-2.06 2.06-.94-2.06-.94L8.5 2.5l-.94 2.06-2.06.94zm10 10l.94 2.06.94-2.06 2.06-.94-2.06-.94-.94-2.06-.94 2.06-2.06.94z\"/><path d=\"M17.41 7.96l-1.37-1.37c-.4-.4-.92-.59-1.43-.59-.52 0-1.04.2-1.43.59L10.3 9.45l-7.72 7.72c-.78.78-.78 2.05 0 2.83L4 21.41c.39.39.9.59 1.41.59.51 0 1.02-.2 1.41-.59l7.78-7.78 2.81-2.81c.8-.78.8-2.07 0-2.86zM5.41 20L4 18.59l7.72-7.72 1.47 1.35L5.41 20z\"/>\n",
              "  </svg>\n",
              "      </button>\n",
              "      \n",
              "  <style>\n",
              "    .colab-df-container {\n",
              "      display:flex;\n",
              "      flex-wrap:wrap;\n",
              "      gap: 12px;\n",
              "    }\n",
              "\n",
              "    .colab-df-convert {\n",
              "      background-color: #E8F0FE;\n",
              "      border: none;\n",
              "      border-radius: 50%;\n",
              "      cursor: pointer;\n",
              "      display: none;\n",
              "      fill: #1967D2;\n",
              "      height: 32px;\n",
              "      padding: 0 0 0 0;\n",
              "      width: 32px;\n",
              "    }\n",
              "\n",
              "    .colab-df-convert:hover {\n",
              "      background-color: #E2EBFA;\n",
              "      box-shadow: 0px 1px 2px rgba(60, 64, 67, 0.3), 0px 1px 3px 1px rgba(60, 64, 67, 0.15);\n",
              "      fill: #174EA6;\n",
              "    }\n",
              "\n",
              "    [theme=dark] .colab-df-convert {\n",
              "      background-color: #3B4455;\n",
              "      fill: #D2E3FC;\n",
              "    }\n",
              "\n",
              "    [theme=dark] .colab-df-convert:hover {\n",
              "      background-color: #434B5C;\n",
              "      box-shadow: 0px 1px 3px 1px rgba(0, 0, 0, 0.15);\n",
              "      filter: drop-shadow(0px 1px 2px rgba(0, 0, 0, 0.3));\n",
              "      fill: #FFFFFF;\n",
              "    }\n",
              "  </style>\n",
              "\n",
              "      <script>\n",
              "        const buttonEl =\n",
              "          document.querySelector('#df-a967a8d3-4483-46af-b605-d9f60b8a2874 button.colab-df-convert');\n",
              "        buttonEl.style.display =\n",
              "          google.colab.kernel.accessAllowed ? 'block' : 'none';\n",
              "\n",
              "        async function convertToInteractive(key) {\n",
              "          const element = document.querySelector('#df-a967a8d3-4483-46af-b605-d9f60b8a2874');\n",
              "          const dataTable =\n",
              "            await google.colab.kernel.invokeFunction('convertToInteractive',\n",
              "                                                     [key], {});\n",
              "          if (!dataTable) return;\n",
              "\n",
              "          const docLinkHtml = 'Like what you see? Visit the ' +\n",
              "            '<a target=\"_blank\" href=https://colab.research.google.com/notebooks/data_table.ipynb>data table notebook</a>'\n",
              "            + ' to learn more about interactive tables.';\n",
              "          element.innerHTML = '';\n",
              "          dataTable['output_type'] = 'display_data';\n",
              "          await google.colab.output.renderOutput(dataTable, element);\n",
              "          const docLink = document.createElement('div');\n",
              "          docLink.innerHTML = docLinkHtml;\n",
              "          element.appendChild(docLink);\n",
              "        }\n",
              "      </script>\n",
              "    </div>\n",
              "  </div>\n",
              "  "
            ]
          },
          "metadata": {}
        },
        {
          "output_type": "stream",
          "name": "stdout",
          "text": [
            "Средний чек\n"
          ]
        },
        {
          "output_type": "display_data",
          "data": {
            "text/plain": [
              "  group  mean_check\n",
              "2     A     82888.0\n",
              "3     B     87480.0"
            ],
            "text/html": [
              "\n",
              "  <div id=\"df-306e08bb-964a-4874-b0c5-54bd775aaee1\">\n",
              "    <div class=\"colab-df-container\">\n",
              "      <div>\n",
              "<style scoped>\n",
              "    .dataframe tbody tr th:only-of-type {\n",
              "        vertical-align: middle;\n",
              "    }\n",
              "\n",
              "    .dataframe tbody tr th {\n",
              "        vertical-align: top;\n",
              "    }\n",
              "\n",
              "    .dataframe thead th {\n",
              "        text-align: right;\n",
              "    }\n",
              "</style>\n",
              "<table border=\"1\" class=\"dataframe\">\n",
              "  <thead>\n",
              "    <tr style=\"text-align: right;\">\n",
              "      <th></th>\n",
              "      <th>group</th>\n",
              "      <th>mean_check</th>\n",
              "    </tr>\n",
              "  </thead>\n",
              "  <tbody>\n",
              "    <tr>\n",
              "      <th>2</th>\n",
              "      <td>A</td>\n",
              "      <td>82888.0</td>\n",
              "    </tr>\n",
              "    <tr>\n",
              "      <th>3</th>\n",
              "      <td>B</td>\n",
              "      <td>87480.0</td>\n",
              "    </tr>\n",
              "  </tbody>\n",
              "</table>\n",
              "</div>\n",
              "      <button class=\"colab-df-convert\" onclick=\"convertToInteractive('df-306e08bb-964a-4874-b0c5-54bd775aaee1')\"\n",
              "              title=\"Convert this dataframe to an interactive table.\"\n",
              "              style=\"display:none;\">\n",
              "        \n",
              "  <svg xmlns=\"http://www.w3.org/2000/svg\" height=\"24px\"viewBox=\"0 0 24 24\"\n",
              "       width=\"24px\">\n",
              "    <path d=\"M0 0h24v24H0V0z\" fill=\"none\"/>\n",
              "    <path d=\"M18.56 5.44l.94 2.06.94-2.06 2.06-.94-2.06-.94-.94-2.06-.94 2.06-2.06.94zm-11 1L8.5 8.5l.94-2.06 2.06-.94-2.06-.94L8.5 2.5l-.94 2.06-2.06.94zm10 10l.94 2.06.94-2.06 2.06-.94-2.06-.94-.94-2.06-.94 2.06-2.06.94z\"/><path d=\"M17.41 7.96l-1.37-1.37c-.4-.4-.92-.59-1.43-.59-.52 0-1.04.2-1.43.59L10.3 9.45l-7.72 7.72c-.78.78-.78 2.05 0 2.83L4 21.41c.39.39.9.59 1.41.59.51 0 1.02-.2 1.41-.59l7.78-7.78 2.81-2.81c.8-.78.8-2.07 0-2.86zM5.41 20L4 18.59l7.72-7.72 1.47 1.35L5.41 20z\"/>\n",
              "  </svg>\n",
              "      </button>\n",
              "      \n",
              "  <style>\n",
              "    .colab-df-container {\n",
              "      display:flex;\n",
              "      flex-wrap:wrap;\n",
              "      gap: 12px;\n",
              "    }\n",
              "\n",
              "    .colab-df-convert {\n",
              "      background-color: #E8F0FE;\n",
              "      border: none;\n",
              "      border-radius: 50%;\n",
              "      cursor: pointer;\n",
              "      display: none;\n",
              "      fill: #1967D2;\n",
              "      height: 32px;\n",
              "      padding: 0 0 0 0;\n",
              "      width: 32px;\n",
              "    }\n",
              "\n",
              "    .colab-df-convert:hover {\n",
              "      background-color: #E2EBFA;\n",
              "      box-shadow: 0px 1px 2px rgba(60, 64, 67, 0.3), 0px 1px 3px 1px rgba(60, 64, 67, 0.15);\n",
              "      fill: #174EA6;\n",
              "    }\n",
              "\n",
              "    [theme=dark] .colab-df-convert {\n",
              "      background-color: #3B4455;\n",
              "      fill: #D2E3FC;\n",
              "    }\n",
              "\n",
              "    [theme=dark] .colab-df-convert:hover {\n",
              "      background-color: #434B5C;\n",
              "      box-shadow: 0px 1px 3px 1px rgba(0, 0, 0, 0.15);\n",
              "      filter: drop-shadow(0px 1px 2px rgba(0, 0, 0, 0.3));\n",
              "      fill: #FFFFFF;\n",
              "    }\n",
              "  </style>\n",
              "\n",
              "      <script>\n",
              "        const buttonEl =\n",
              "          document.querySelector('#df-306e08bb-964a-4874-b0c5-54bd775aaee1 button.colab-df-convert');\n",
              "        buttonEl.style.display =\n",
              "          google.colab.kernel.accessAllowed ? 'block' : 'none';\n",
              "\n",
              "        async function convertToInteractive(key) {\n",
              "          const element = document.querySelector('#df-306e08bb-964a-4874-b0c5-54bd775aaee1');\n",
              "          const dataTable =\n",
              "            await google.colab.kernel.invokeFunction('convertToInteractive',\n",
              "                                                     [key], {});\n",
              "          if (!dataTable) return;\n",
              "\n",
              "          const docLinkHtml = 'Like what you see? Visit the ' +\n",
              "            '<a target=\"_blank\" href=https://colab.research.google.com/notebooks/data_table.ipynb>data table notebook</a>'\n",
              "            + ' to learn more about interactive tables.';\n",
              "          element.innerHTML = '';\n",
              "          dataTable['output_type'] = 'display_data';\n",
              "          await google.colab.output.renderOutput(dataTable, element);\n",
              "          const docLink = document.createElement('div');\n",
              "          docLink.innerHTML = docLinkHtml;\n",
              "          element.appendChild(docLink);\n",
              "        }\n",
              "      </script>\n",
              "    </div>\n",
              "  </div>\n",
              "  "
            ]
          },
          "metadata": {}
        }
      ],
      "source": [
        "daily_data = updated_data.groupby(['date', 'group']).agg({'user_id':'count','purchase':'sum','price': 'sum'}).reset_index().rename(columns={'user_id': 'count_visits','purchase': 'count_purchases','price': 'sum_price'})\n",
        "daily_data['conversion'] = daily_data['count_purchases']/daily_data['count_visits'] * 100\n",
        "daily_data['mean_check'] = daily_data['sum_price']/daily_data['count_purchases']\n",
        "print('Конверсия')\n",
        "display(daily_data[daily_data['date'] == pd.to_datetime('2021-01-03')][['group', 'conversion']].round(2))\n",
        " \n",
        "print('Средний чек')\n",
        "display(daily_data[daily_data['date'] == pd.to_datetime('2021-01-03')][['group', 'mean_check']].round())"
      ]
    },
    {
      "cell_type": "markdown",
      "id": "bc8e241b-1ef1-4f67-ab90-77251889b7f2",
      "metadata": {
        "id": "bc8e241b-1ef1-4f67-ab90-77251889b7f2"
      },
      "source": [
        "## **Задание 7.9.** \n",
        "\n",
        "Добавьте в таблицу с ежедневными показателями кумулятивные признаки:\n",
        "* кумулятивное количество посещений страницы\n",
        "* кумулятивное количество покупок\n",
        "* кумулятивную сумму покупок\n",
        "\n",
        "Не забудьте при расчете кумулятивной суммы сгруппировать данные по группам. \n",
        "\n",
        "Вычислите кумулятивную конверсию и кумулятивный средний чек на основе полученных кумулятивных показателей. \n",
        "\n",
        "* Какая **кумулятивная** конверсия была в группе B на 20 января? Ответ приведите в процентах, округлив до сотых.\n",
        "* Какой **кумулятивный** средний чек был в группе А на 12 января 2021 года? Ответ приведите в рублях, округлив до целых."
      ]
    },
    {
      "cell_type": "code",
      "execution_count": 54,
      "id": "afe59f9a-8d39-45c1-a14f-9f62091d81a1",
      "metadata": {
        "colab": {
          "base_uri": "https://localhost:8080/",
          "height": 242
        },
        "id": "afe59f9a-8d39-45c1-a14f-9f62091d81a1",
        "outputId": "2bfebd18-54e5-4fce-b3f9-3548836f408b"
      },
      "outputs": [
        {
          "output_type": "stream",
          "name": "stdout",
          "text": [
            "Кумулятивная конверсия 20 января 2020 года:\n"
          ]
        },
        {
          "output_type": "display_data",
          "data": {
            "text/plain": [
              "   group  cum_conversion\n",
              "36     A           11.98\n",
              "37     B           11.90"
            ],
            "text/html": [
              "\n",
              "  <div id=\"df-fdbc5bcd-753c-46ff-8ace-bded5eb67b48\">\n",
              "    <div class=\"colab-df-container\">\n",
              "      <div>\n",
              "<style scoped>\n",
              "    .dataframe tbody tr th:only-of-type {\n",
              "        vertical-align: middle;\n",
              "    }\n",
              "\n",
              "    .dataframe tbody tr th {\n",
              "        vertical-align: top;\n",
              "    }\n",
              "\n",
              "    .dataframe thead th {\n",
              "        text-align: right;\n",
              "    }\n",
              "</style>\n",
              "<table border=\"1\" class=\"dataframe\">\n",
              "  <thead>\n",
              "    <tr style=\"text-align: right;\">\n",
              "      <th></th>\n",
              "      <th>group</th>\n",
              "      <th>cum_conversion</th>\n",
              "    </tr>\n",
              "  </thead>\n",
              "  <tbody>\n",
              "    <tr>\n",
              "      <th>36</th>\n",
              "      <td>A</td>\n",
              "      <td>11.98</td>\n",
              "    </tr>\n",
              "    <tr>\n",
              "      <th>37</th>\n",
              "      <td>B</td>\n",
              "      <td>11.90</td>\n",
              "    </tr>\n",
              "  </tbody>\n",
              "</table>\n",
              "</div>\n",
              "      <button class=\"colab-df-convert\" onclick=\"convertToInteractive('df-fdbc5bcd-753c-46ff-8ace-bded5eb67b48')\"\n",
              "              title=\"Convert this dataframe to an interactive table.\"\n",
              "              style=\"display:none;\">\n",
              "        \n",
              "  <svg xmlns=\"http://www.w3.org/2000/svg\" height=\"24px\"viewBox=\"0 0 24 24\"\n",
              "       width=\"24px\">\n",
              "    <path d=\"M0 0h24v24H0V0z\" fill=\"none\"/>\n",
              "    <path d=\"M18.56 5.44l.94 2.06.94-2.06 2.06-.94-2.06-.94-.94-2.06-.94 2.06-2.06.94zm-11 1L8.5 8.5l.94-2.06 2.06-.94-2.06-.94L8.5 2.5l-.94 2.06-2.06.94zm10 10l.94 2.06.94-2.06 2.06-.94-2.06-.94-.94-2.06-.94 2.06-2.06.94z\"/><path d=\"M17.41 7.96l-1.37-1.37c-.4-.4-.92-.59-1.43-.59-.52 0-1.04.2-1.43.59L10.3 9.45l-7.72 7.72c-.78.78-.78 2.05 0 2.83L4 21.41c.39.39.9.59 1.41.59.51 0 1.02-.2 1.41-.59l7.78-7.78 2.81-2.81c.8-.78.8-2.07 0-2.86zM5.41 20L4 18.59l7.72-7.72 1.47 1.35L5.41 20z\"/>\n",
              "  </svg>\n",
              "      </button>\n",
              "      \n",
              "  <style>\n",
              "    .colab-df-container {\n",
              "      display:flex;\n",
              "      flex-wrap:wrap;\n",
              "      gap: 12px;\n",
              "    }\n",
              "\n",
              "    .colab-df-convert {\n",
              "      background-color: #E8F0FE;\n",
              "      border: none;\n",
              "      border-radius: 50%;\n",
              "      cursor: pointer;\n",
              "      display: none;\n",
              "      fill: #1967D2;\n",
              "      height: 32px;\n",
              "      padding: 0 0 0 0;\n",
              "      width: 32px;\n",
              "    }\n",
              "\n",
              "    .colab-df-convert:hover {\n",
              "      background-color: #E2EBFA;\n",
              "      box-shadow: 0px 1px 2px rgba(60, 64, 67, 0.3), 0px 1px 3px 1px rgba(60, 64, 67, 0.15);\n",
              "      fill: #174EA6;\n",
              "    }\n",
              "\n",
              "    [theme=dark] .colab-df-convert {\n",
              "      background-color: #3B4455;\n",
              "      fill: #D2E3FC;\n",
              "    }\n",
              "\n",
              "    [theme=dark] .colab-df-convert:hover {\n",
              "      background-color: #434B5C;\n",
              "      box-shadow: 0px 1px 3px 1px rgba(0, 0, 0, 0.15);\n",
              "      filter: drop-shadow(0px 1px 2px rgba(0, 0, 0, 0.3));\n",
              "      fill: #FFFFFF;\n",
              "    }\n",
              "  </style>\n",
              "\n",
              "      <script>\n",
              "        const buttonEl =\n",
              "          document.querySelector('#df-fdbc5bcd-753c-46ff-8ace-bded5eb67b48 button.colab-df-convert');\n",
              "        buttonEl.style.display =\n",
              "          google.colab.kernel.accessAllowed ? 'block' : 'none';\n",
              "\n",
              "        async function convertToInteractive(key) {\n",
              "          const element = document.querySelector('#df-fdbc5bcd-753c-46ff-8ace-bded5eb67b48');\n",
              "          const dataTable =\n",
              "            await google.colab.kernel.invokeFunction('convertToInteractive',\n",
              "                                                     [key], {});\n",
              "          if (!dataTable) return;\n",
              "\n",
              "          const docLinkHtml = 'Like what you see? Visit the ' +\n",
              "            '<a target=\"_blank\" href=https://colab.research.google.com/notebooks/data_table.ipynb>data table notebook</a>'\n",
              "            + ' to learn more about interactive tables.';\n",
              "          element.innerHTML = '';\n",
              "          dataTable['output_type'] = 'display_data';\n",
              "          await google.colab.output.renderOutput(dataTable, element);\n",
              "          const docLink = document.createElement('div');\n",
              "          docLink.innerHTML = docLinkHtml;\n",
              "          element.appendChild(docLink);\n",
              "        }\n",
              "      </script>\n",
              "    </div>\n",
              "  </div>\n",
              "  "
            ]
          },
          "metadata": {}
        },
        {
          "output_type": "stream",
          "name": "stdout",
          "text": [
            "Кумулятивная конверсия 12 января 2020 года:\n"
          ]
        },
        {
          "output_type": "display_data",
          "data": {
            "text/plain": [
              "   group  cum_mean_check\n",
              "20     A         81492.0\n",
              "21     B         88352.0"
            ],
            "text/html": [
              "\n",
              "  <div id=\"df-53003a3d-c1e8-4f39-9792-b2710c3abef9\">\n",
              "    <div class=\"colab-df-container\">\n",
              "      <div>\n",
              "<style scoped>\n",
              "    .dataframe tbody tr th:only-of-type {\n",
              "        vertical-align: middle;\n",
              "    }\n",
              "\n",
              "    .dataframe tbody tr th {\n",
              "        vertical-align: top;\n",
              "    }\n",
              "\n",
              "    .dataframe thead th {\n",
              "        text-align: right;\n",
              "    }\n",
              "</style>\n",
              "<table border=\"1\" class=\"dataframe\">\n",
              "  <thead>\n",
              "    <tr style=\"text-align: right;\">\n",
              "      <th></th>\n",
              "      <th>group</th>\n",
              "      <th>cum_mean_check</th>\n",
              "    </tr>\n",
              "  </thead>\n",
              "  <tbody>\n",
              "    <tr>\n",
              "      <th>20</th>\n",
              "      <td>A</td>\n",
              "      <td>81492.0</td>\n",
              "    </tr>\n",
              "    <tr>\n",
              "      <th>21</th>\n",
              "      <td>B</td>\n",
              "      <td>88352.0</td>\n",
              "    </tr>\n",
              "  </tbody>\n",
              "</table>\n",
              "</div>\n",
              "      <button class=\"colab-df-convert\" onclick=\"convertToInteractive('df-53003a3d-c1e8-4f39-9792-b2710c3abef9')\"\n",
              "              title=\"Convert this dataframe to an interactive table.\"\n",
              "              style=\"display:none;\">\n",
              "        \n",
              "  <svg xmlns=\"http://www.w3.org/2000/svg\" height=\"24px\"viewBox=\"0 0 24 24\"\n",
              "       width=\"24px\">\n",
              "    <path d=\"M0 0h24v24H0V0z\" fill=\"none\"/>\n",
              "    <path d=\"M18.56 5.44l.94 2.06.94-2.06 2.06-.94-2.06-.94-.94-2.06-.94 2.06-2.06.94zm-11 1L8.5 8.5l.94-2.06 2.06-.94-2.06-.94L8.5 2.5l-.94 2.06-2.06.94zm10 10l.94 2.06.94-2.06 2.06-.94-2.06-.94-.94-2.06-.94 2.06-2.06.94z\"/><path d=\"M17.41 7.96l-1.37-1.37c-.4-.4-.92-.59-1.43-.59-.52 0-1.04.2-1.43.59L10.3 9.45l-7.72 7.72c-.78.78-.78 2.05 0 2.83L4 21.41c.39.39.9.59 1.41.59.51 0 1.02-.2 1.41-.59l7.78-7.78 2.81-2.81c.8-.78.8-2.07 0-2.86zM5.41 20L4 18.59l7.72-7.72 1.47 1.35L5.41 20z\"/>\n",
              "  </svg>\n",
              "      </button>\n",
              "      \n",
              "  <style>\n",
              "    .colab-df-container {\n",
              "      display:flex;\n",
              "      flex-wrap:wrap;\n",
              "      gap: 12px;\n",
              "    }\n",
              "\n",
              "    .colab-df-convert {\n",
              "      background-color: #E8F0FE;\n",
              "      border: none;\n",
              "      border-radius: 50%;\n",
              "      cursor: pointer;\n",
              "      display: none;\n",
              "      fill: #1967D2;\n",
              "      height: 32px;\n",
              "      padding: 0 0 0 0;\n",
              "      width: 32px;\n",
              "    }\n",
              "\n",
              "    .colab-df-convert:hover {\n",
              "      background-color: #E2EBFA;\n",
              "      box-shadow: 0px 1px 2px rgba(60, 64, 67, 0.3), 0px 1px 3px 1px rgba(60, 64, 67, 0.15);\n",
              "      fill: #174EA6;\n",
              "    }\n",
              "\n",
              "    [theme=dark] .colab-df-convert {\n",
              "      background-color: #3B4455;\n",
              "      fill: #D2E3FC;\n",
              "    }\n",
              "\n",
              "    [theme=dark] .colab-df-convert:hover {\n",
              "      background-color: #434B5C;\n",
              "      box-shadow: 0px 1px 3px 1px rgba(0, 0, 0, 0.15);\n",
              "      filter: drop-shadow(0px 1px 2px rgba(0, 0, 0, 0.3));\n",
              "      fill: #FFFFFF;\n",
              "    }\n",
              "  </style>\n",
              "\n",
              "      <script>\n",
              "        const buttonEl =\n",
              "          document.querySelector('#df-53003a3d-c1e8-4f39-9792-b2710c3abef9 button.colab-df-convert');\n",
              "        buttonEl.style.display =\n",
              "          google.colab.kernel.accessAllowed ? 'block' : 'none';\n",
              "\n",
              "        async function convertToInteractive(key) {\n",
              "          const element = document.querySelector('#df-53003a3d-c1e8-4f39-9792-b2710c3abef9');\n",
              "          const dataTable =\n",
              "            await google.colab.kernel.invokeFunction('convertToInteractive',\n",
              "                                                     [key], {});\n",
              "          if (!dataTable) return;\n",
              "\n",
              "          const docLinkHtml = 'Like what you see? Visit the ' +\n",
              "            '<a target=\"_blank\" href=https://colab.research.google.com/notebooks/data_table.ipynb>data table notebook</a>'\n",
              "            + ' to learn more about interactive tables.';\n",
              "          element.innerHTML = '';\n",
              "          dataTable['output_type'] = 'display_data';\n",
              "          await google.colab.output.renderOutput(dataTable, element);\n",
              "          const docLink = document.createElement('div');\n",
              "          docLink.innerHTML = docLinkHtml;\n",
              "          element.appendChild(docLink);\n",
              "        }\n",
              "      </script>\n",
              "    </div>\n",
              "  </div>\n",
              "  "
            ]
          },
          "metadata": {}
        }
      ],
      "source": [
        "daily_data['cum_count_visits'] = daily_data.groupby('group')['count_visits'].cumsum()\n",
        "daily_data['cum_count_purchases'] = daily_data.groupby('group')['count_purchases'].cumsum()\n",
        "daily_data['cum_sum_price'] = daily_data.groupby('group')['sum_price'].cumsum()\n",
        "daily_data['cum_conversion'] = daily_data['cum_count_purchases']/daily_data['cum_count_visits'] * 100\n",
        "daily_data['cum_mean_check'] = daily_data['cum_sum_price']/daily_data['cum_count_purchases']\n",
        " \n",
        "print('Кумулятивная конверсия 20 января 2020 года:')\n",
        "display(daily_data[daily_data['date'] == pd.to_datetime('2021-01-20')][['group', 'cum_conversion']].round(2))\n",
        "print('Кумулятивная конверсия 12 января 2020 года:')\n",
        "display(daily_data[daily_data['date'] == pd.to_datetime('2021-01-12')][['group', 'cum_mean_check']].round())"
      ]
    },
    {
      "cell_type": "markdown",
      "id": "c252b8ba-371b-4795-8fc3-a62317e9ba39",
      "metadata": {
        "id": "c252b8ba-371b-4795-8fc3-a62317e9ba39"
      },
      "source": [
        "Постройте кумулятивные графики конверсии и среднего чека в каждой группе по дням. Сделайте выводы. Можно ли назвать A/B-тест завершенным - стабилизировались ли значения метрик во времени? Как соотносятся кумулятивные показатели в каждой группе?"
      ]
    },
    {
      "cell_type": "code",
      "execution_count": 56,
      "id": "27e23d20-7ed6-4a26-973d-6d0320b81adb",
      "metadata": {
        "colab": {
          "base_uri": "https://localhost:8080/",
          "height": 377
        },
        "id": "27e23d20-7ed6-4a26-973d-6d0320b81adb",
        "outputId": "d62e0b42-759e-4fb9-ac4f-e2ec080b38a2"
      },
      "outputs": [
        {
          "output_type": "display_data",
          "data": {
            "text/plain": [
              "<Figure size 1080x360 with 2 Axes>"
            ],
            "image/png": "[encoded data removed]"
          },
          "metadata": {
            "needs_background": "light"
          }
        }
      ],
      "source": [
        "fig, axes= plt.subplots(1, 2, figsize=(15, 5))\n",
        "sns.lineplot(x='date', y='cum_conversion', data=daily_data, hue='group', ax=axes[0])\n",
        "sns.lineplot(x='date', y='cum_mean_check', data=daily_data, hue='group', ax=axes[1])\n",
        "axes[0].set_title('График кумулятивной конверсии по дням')\n",
        "axes[1].set_title('График кумулятивного среднего чека по дням')\n",
        "axes[0].xaxis.set_tick_params(rotation = 30)\n",
        "axes[1].xaxis.set_tick_params(rotation = 30)\n",
        "axes[0].grid(True);\n",
        "axes[1].grid(True);"
      ]
    },
    {
      "cell_type": "markdown",
      "id": "f645f8e5-ad16-4b3b-8228-fbdeeb286833",
      "metadata": {
        "id": "f645f8e5-ad16-4b3b-8228-fbdeeb286833"
      },
      "source": [
        "**Вывод**: Исходя из поведения графиков к концу исследования метрики стабилизировались. Кумулятивная конверсия в группе А выше, но кумулятивный средний чек при этом больше в группе В"
      ]
    },
    {
      "cell_type": "markdown",
      "id": "2ecaa382-56e2-47f4-b086-24b4742570a3",
      "metadata": {
        "tags": [],
        "id": "2ecaa382-56e2-47f4-b086-24b4742570a3"
      },
      "source": [
        "## **Задание 7.10.**\n",
        "\n",
        "Настало время переходить к проверке статистической значимости разницы между метриками в группах. Начнем с конверсии.\n",
        "\n",
        "Какой тест вы примените для проверки гипотезы о равенстве конверсий в группах?\n",
        "\n",
        "Проведите тестирование при следующих нулевой и альтернативной гипотезе:\n",
        "* $H_0$: Конверсии в группах А и B равны; \n",
        "* $H_1$: Конверсия в группе А больше чем конверсия в группе B;\n",
        "\n",
        "Вычислите p-value вашего теста для конверсий в группах А и B. Сравните полученное значение p-value с уровнем значимости $\\alpha$=0.05. "
      ]
    },
    {
      "cell_type": "code",
      "execution_count": 57,
      "id": "9dd1f6fd-2fa0-4a2f-8181-dbed4c302bce",
      "metadata": {
        "colab": {
          "base_uri": "https://localhost:8080/"
        },
        "id": "9dd1f6fd-2fa0-4a2f-8181-dbed4c302bce",
        "outputId": "aad46412-de2f-485f-ed6e-5e7b2fd836d0"
      },
      "outputs": [
        {
          "output_type": "stream",
          "name": "stdout",
          "text": [
            "p-value:  0.11\n",
            "Принимаем нулевую гипотезу. Конверсии в группах А и B равны\n"
          ]
        }
      ],
      "source": [
        "converted_piv= data.groupby('group')['purchase'].agg(['sum', 'count'])\n",
        "\n",
        "H0 = 'Конверсии в группах А и B равны'\n",
        "H1 = 'Конверсия в группе А больше чем конверсия в группе B'\n",
        "alpha = 0.05 \n",
        "_, p_value = proportions_ztest(\n",
        "    count=converted_piv['sum'],\n",
        "    nobs=converted_piv['count'], \n",
        "    alternative='larger'\n",
        ")\n",
        "print('p-value: ', round(p_value, 2))\n",
        "if (p_value < alpha): \n",
        "    print(\"Отвергаем нулевую гипотезу. {}\".format(H0))\n",
        "    print(\"Альтернативная гипотеза. H1: {}\".format(H1))\n",
        "else:\n",
        "    print(\"Принимаем нулевую гипотезу. {}\".format(H0))"
      ]
    },
    {
      "cell_type": "markdown",
      "id": "da794b48-80e3-47af-aceb-084a1862c86b",
      "metadata": {
        "id": "da794b48-80e3-47af-aceb-084a1862c86b"
      },
      "source": [
        "Приведите свои выводы по результатам проведенного статистического теста. Есть ли статистическая разница между конверсиями в группах А и B?"
      ]
    },
    {
      "cell_type": "markdown",
      "id": "75dddb06-389d-4d65-92c7-425efa28e51a",
      "metadata": {
        "id": "75dddb06-389d-4d65-92c7-425efa28e51a"
      },
      "source": [
        "**Вывод**: Статистической разницы в конверсиях при заданном уровне значимости нет"
      ]
    },
    {
      "cell_type": "markdown",
      "id": "32c5a1af-8cb2-4f3c-a126-410b70fb3ff3",
      "metadata": {
        "tags": [],
        "id": "32c5a1af-8cb2-4f3c-a126-410b70fb3ff3"
      },
      "source": [
        "## **Задание 7.11.**\n",
        "Убедитесь в своих рассуждениях, построив 95%-ый доверительный интервал для конверсий и разницы между ними. Используйте $z_{крит}$ в своих расчетах\n",
        "\n",
        "Укажите нижнюю и верхнюю границы доверительных интервалов. Границы приведите в процентах и округлите до 2 знака после запятой. Например: нижняя граница 89.24%, верхняя граница 91.25%."
      ]
    },
    {
      "cell_type": "code",
      "execution_count": 59,
      "id": "e9decb7d-ff5e-40a6-8b71-63627c4ef64a",
      "metadata": {
        "colab": {
          "base_uri": "https://localhost:8080/"
        },
        "id": "e9decb7d-ff5e-40a6-8b71-63627c4ef64a",
        "outputId": "b43d69c0-e4c2-436d-a089-583f09bb7e63"
      },
      "outputs": [
        {
          "output_type": "stream",
          "name": "stdout",
          "text": [
            "Доверительный интервал для конверсии группы А: (11.87, 12.2)\n",
            "Доверительный интервал для конверсии группы B: (11.73, 12.06)\n",
            "Доверительный интервал для разности конверсий: (-0.38, 0.09)\n"
          ]
        }
      ],
      "source": [
        "def conversion_conf_interval(n, x_p, gamma=0.95):\n",
        "  alpha = 1 - gamma\n",
        "  z_crit = -norm.ppf(alpha/2)\n",
        "  eps = z_crit * (x_p * (1 - x_p) / n) ** 0.5 \n",
        "  lower_bound = x_p - eps \n",
        "  upper_bound = x_p + eps \n",
        "  return round(lower_bound * 100, 2), round(upper_bound * 100, 2)\n",
        "\n",
        "a_data = updated_data[updated_data['group'] == 'A']\n",
        "b_data = updated_data[updated_data['group'] == 'B']\n",
        "conf_interval_a = conversion_conf_interval(\n",
        "a_data['user_id'].count(),\n",
        "a_data['purchase'].mean())\n",
        "conf_interval_b = conversion_conf_interval(\n",
        "b_data['user_id'].count(), \n",
        "b_data['purchase'].mean())\n",
        "print('Доверительный интервал для конверсии группы А: {}'.format(conf_interval_a))\n",
        "print('Доверительный интервал для конверсии группы B: {}'.format(conf_interval_b))\n",
        "\n",
        "def diff_conversion_conf_interval(n, xp, gamma=0.95):\n",
        "  alpha = 1 - gamma\n",
        "  diff = xp[1] - xp[0] \n",
        "  z_crit = -norm.ppf(alpha/2) \n",
        "  eps = z_crit * (xp[0] * (1 - xp[0])/n[0] + xp[1] * (1 - xp[1])/n[1]) ** 0.5 \n",
        "  lower_bound = diff - eps \n",
        "  upper_bound = diff + eps \n",
        "  return round(lower_bound *100, 2), round(upper_bound * 100, 2)\n",
        "\n",
        "\n",
        "n = [a_data['user_id'].count(), b_data['user_id'].count()]\n",
        "xp = [a_data['purchase'].mean(), b_data['purchase'].mean()]\n",
        "\n",
        "diff_inverval = diff_conversion_conf_interval(n, xp)\n",
        "print('Доверительный интервал для разности конверсий: {}'.format(diff_inverval))"
      ]
    },
    {
      "cell_type": "markdown",
      "id": "9332372d-66b2-45e9-a74c-f5d8b1d44afb",
      "metadata": {
        "id": "9332372d-66b2-45e9-a74c-f5d8b1d44afb"
      },
      "source": [
        "Проинтерпретируйте построенные доверительные интервалы для конверсий в группах. Есть ли перекрытие между доверительными интервалами для групп? Есть ли статистическая разница между конверсиями в группах А и B?"
      ]
    },
    {
      "cell_type": "markdown",
      "source": [
        "**Вывод**: Доверительные интервалы для групп А и В пересекаются. Доверительный интервал для разности конверсий имеет отрицательное значение с левого края и положительное значение с правого конца интервала. Поэтому статистической разницы между группами по исследуемым параметрам нет."
      ],
      "metadata": {
        "id": "XNzTb-h1kG9X"
      },
      "id": "XNzTb-h1kG9X"
    },
    {
      "cell_type": "markdown",
      "id": "73c54883-b919-4889-bbf2-e1bdeb0b7055",
      "metadata": {
        "id": "73c54883-b919-4889-bbf2-e1bdeb0b7055"
      },
      "source": [
        "## **Задание 7.12.**\n",
        "\n",
        "Ранее мы построили таблицу с ежедневными показателями. Теперь она нам снова понадобится, так как нас интересует ежедневный средний чек.\n",
        "\n",
        "Проверьте гипотезу о нормальности распределения ежедневного среднего чека в каждой из групп тестирования. \n",
        "\n",
        "* Какой тест вы примените  для проверки гипотезы о нормальности распределения ежедневного среднего чека?\n",
        "* Как будут звучать нулевая и альтернативная гипотезы?\n",
        "* Каковы результаты статистического теста с уровнем значимости $\\alpha$ =0.05?"
      ]
    },
    {
      "cell_type": "code",
      "execution_count": 60,
      "id": "898041ae-de7e-4b74-975e-111d494fbb82",
      "metadata": {
        "colab": {
          "base_uri": "https://localhost:8080/"
        },
        "id": "898041ae-de7e-4b74-975e-111d494fbb82",
        "outputId": "208664e0-4daa-440c-dd5c-5404bfaba218"
      },
      "outputs": [
        {
          "output_type": "stream",
          "name": "stdout",
          "text": [
            "p-value группы А 0.25\n",
            "p-value группы B 0.09\n",
            "Принимаем нулевую гипотезу. Распределения в обеих группах нормальные\n"
          ]
        }
      ],
      "source": [
        "H0 = 'Распределения в обеих группах нормальные'\n",
        "H1 = 'Распределение в одной или обеих группах отлично от нормального'\n",
        "alpha = 0.05 \n",
        " \n",
        "daily_data_a = daily_data[daily_data['group'] == 'A']\n",
        "daily_data_b = daily_data[daily_data['group'] == 'B']\n",
        " \n",
        "shapiro_result_a = shapiro(daily_data_a['mean_check'])\n",
        "shapiro_result_b = shapiro(daily_data_b['mean_check'])\n",
        "print('p-value группы А', round(shapiro_result_a.pvalue, 2))\n",
        "print('p-value группы B', round(shapiro_result_b.pvalue, 2))\n",
        "if shapiro_result_a.pvalue < alpha or shapiro_result_b.pvalue < alpha:\n",
        "    print(\"Отвергаем нулевую гипотезу. {}\".format(H0))\n",
        "    print(\"Альтернативная гипотеза. H1: {}\".format(H1))\n",
        "else:\n",
        "    print(\"Принимаем нулевую гипотезу. {}\".format(H0))"
      ]
    },
    {
      "cell_type": "markdown",
      "id": "cbddecf9-4d15-4ff1-84e9-46c4d98fc1e0",
      "metadata": {
        "tags": [],
        "id": "cbddecf9-4d15-4ff1-84e9-46c4d98fc1e0"
      },
      "source": [
        "## **Задание 7.13.**\n",
        "Настало время сравнить варианты дизайна страницы по метрике среднего чека. \n",
        "\n",
        "Какой тест вы примените для проверки гипотезы о равенстве средних чеков по дням в группах?\n",
        "\n",
        "Проведите тестирование при следующих нулевой и альтернативной гипотезе:\n",
        "* $H_0$: Ежедневные средние чеки в группах А и B равны; \n",
        "* $H_1$: Ежедневный средний чек в группе А меньше чем в группе B;\n",
        "\n",
        "Вычислите p-value вашего теста для ежедневного среднего чека в группах А и B. Сравните полученное значение p-value с уровнем значимости $\\alpha$ =0.05. "
      ]
    },
    {
      "cell_type": "code",
      "execution_count": 61,
      "id": "05d43f23-2c2d-4795-bb96-1ffbfe81c391",
      "metadata": {
        "colab": {
          "base_uri": "https://localhost:8080/"
        },
        "id": "05d43f23-2c2d-4795-bb96-1ffbfe81c391",
        "outputId": "7ffb4d1d-7368-4711-aa18-71554524e486"
      },
      "outputs": [
        {
          "output_type": "stream",
          "name": "stdout",
          "text": [
            "p-value: 0.0\n",
            "Отвергаем нулевую гипотезу. Ежедневные средние чеки в группах А и B равны\n",
            "Альтернативная гипотеза. H1: Ежедневный средний чек в группе А меньше чем в группе B\n"
          ]
        }
      ],
      "source": [
        "H0 = 'Ежедневные средние чеки в группах А и B равны'\n",
        "H1 = 'Ежедневный средний чек в группе А меньше чем в группе B'\n",
        "alpha = 0.05 \n",
        "daily_data_a = daily_data[daily_data['group'] == 'A']\n",
        "daily_data_b = daily_data[daily_data['group'] == 'B']\n",
        " \n",
        "results = ttest_ind(\n",
        "    daily_data_a['mean_check'],\n",
        "    daily_data_b['mean_check'],\n",
        "    alternative='less'\n",
        ")\n",
        "print('p-value:', round(results.pvalue, 2))\n",
        " \n",
        "if results.pvalue < alpha:\n",
        "    print(\"Отвергаем нулевую гипотезу. {}\".format(H0))\n",
        "    print(\"Альтернативная гипотеза. H1: {}\".format(H1))\n",
        "else:\n",
        "    print(\"Принимаем нулевую гипотезу. {}\".format(H0))"
      ]
    },
    {
      "cell_type": "markdown",
      "id": "8534ab25-68b8-48f7-b2c1-ef1b72d8a767",
      "metadata": {
        "id": "8534ab25-68b8-48f7-b2c1-ef1b72d8a767"
      },
      "source": [
        " Приведите свои выводы по проведенному статистическому тесту. Есть ли статистическая разница между ежедневными средними чеками в группах А и B?"
      ]
    },
    {
      "cell_type": "markdown",
      "source": [
        "**Вывод**: По данной метрике наблюдается статистическая разница между группами А и В"
      ],
      "metadata": {
        "id": "RwJbYQU_lXqo"
      },
      "id": "RwJbYQU_lXqo"
    },
    {
      "cell_type": "markdown",
      "id": "5e46c9a6-a943-48b4-ad72-935337469613",
      "metadata": {
        "tags": [],
        "id": "5e46c9a6-a943-48b4-ad72-935337469613"
      },
      "source": [
        "## **Задание 7.14.**\n",
        "\n",
        "Постройте 95%-ый доверительный интервал для среднего чека в каждой группе. Так как выборка средних чеков небольшая, используйте  $t_{крит}$ в своих расчетах.\n",
        "\n",
        "Укажите нижнюю границу доверительного интервала для истинного среднего чека каждой из групп. Ответ приведите в процентах и округлите до целого."
      ]
    },
    {
      "cell_type": "code",
      "execution_count": 62,
      "id": "480430db-ffae-4aad-8e22-f5c70d4800b8",
      "metadata": {
        "colab": {
          "base_uri": "https://localhost:8080/"
        },
        "id": "480430db-ffae-4aad-8e22-f5c70d4800b8",
        "outputId": "cece0e3f-c13e-410f-b4d0-65aafbe5d6d5"
      },
      "outputs": [
        {
          "output_type": "stream",
          "name": "stdout",
          "text": [
            "Доверительный интервал для среднего чека группы А: (79630, 82308)\n",
            "Доверительный интервал для среднего чека группы B: (87626, 89526)\n"
          ]
        }
      ],
      "source": [
        "def mean_check_conf_interval(n, x_mean, x_std, gamma=0.95):\n",
        "    k = n - 1 \n",
        "    alpha = 1 - gamma \n",
        "    t_crit = -t.ppf(alpha/2, k) \n",
        "    eps = t_crit * x_std / n**0.5 \n",
        "    lower_bound = x_mean - eps\n",
        "    upper_bound = x_mean + eps \n",
        "    return round(lower_bound), round(upper_bound)\n",
        " \n",
        "a_daily_data = daily_data[daily_data['group'] == 'A']\n",
        "b_daily_data = daily_data[daily_data['group'] == 'B']\n",
        " \n",
        "params_a = {\n",
        "    'n': a_daily_data['count_visits'].count(), \n",
        "    'x_mean': a_daily_data['mean_check'].mean(), \n",
        "    'x_std': a_daily_data['mean_check'].std() \n",
        "}\n",
        "params_b = {\n",
        "    'n': b_daily_data['count_visits'].count(),\n",
        "    'x_mean': b_daily_data['mean_check'].mean(), \n",
        "    'x_std': b_daily_data['mean_check'].std() \n",
        "}\n",
        " \n",
        "print('Доверительный интервал для среднего чека группы А: {}'.format(mean_check_conf_interval(**params_a))) \n",
        "print('Доверительный интервал для среднего чека группы B: {}'.format(mean_check_conf_interval(**params_b)))"
      ]
    },
    {
      "cell_type": "markdown",
      "id": "74a78db8-48f7-41d2-94cb-faefb30b8f76",
      "metadata": {
        "id": "74a78db8-48f7-41d2-94cb-faefb30b8f76"
      },
      "source": [
        "Проинтерпретируйте построенные доверительные интервалы для ежедневных средних чеков в группах. Есть ли между ними пересечения?"
      ]
    },
    {
      "cell_type": "markdown",
      "source": [
        "**Вывод**: Доверительные интервалы не пересекаются. Это может служить подтверждением, что между группами существует статистическая разница по метрике ежедневного среднего чека."
      ],
      "metadata": {
        "id": "0GekR149l-1W"
      },
      "id": "0GekR149l-1W"
    },
    {
      "cell_type": "markdown",
      "id": "c078852f-892f-42ed-8d78-73edf8eb1f5e",
      "metadata": {
        "tags": [],
        "id": "c078852f-892f-42ed-8d78-73edf8eb1f5e"
      },
      "source": [
        "## **Сделайте общий вывод по результатам A/B-теста**\n",
        "\n",
        "Какой варианта дизайна посадочной страницы является более эффективным в комплексе по метрикам конверсии и среднего чека и почему? "
      ]
    },
    {
      "cell_type": "markdown",
      "source": [
        "Вывод: Исходя из полученных результатов стат.анализа по двум метрикам можно заключить, что по метрике \"Конверсия\" стат.разницы между двумя дизайнами нет. Однако, если рассматривать метрику \"Средний чек\", то результат для заказчика лучше для нового дизайна."
      ],
      "metadata": {
        "id": "iNLrHCXHmU8W"
      },
      "id": "iNLrHCXHmU8W"
    },
    {
      "cell_type": "code",
      "source": [],
      "metadata": {
        "id": "64wh_EaAmplC"
      },
      "id": "64wh_EaAmplC",
      "execution_count": null,
      "outputs": []
    }
  ],
  "metadata": {
    "kernelspec": {
      "display_name": "Python 3 (ipykernel)",
      "language": "python",
      "name": "python3"
    },
    "language_info": {
      "codemirror_mode": {
        "name": "ipython",
        "version": 3
      },
      "file_extension": ".py",
      "mimetype": "text/x-python",
      "name": "python",
      "nbconvert_exporter": "python",
      "pygments_lexer": "ipython3",
      "version": "3.8.8"
    },
    "colab": {
      "provenance": []
    }
  },
  "nbformat": 4,
  "nbformat_minor": 5
}