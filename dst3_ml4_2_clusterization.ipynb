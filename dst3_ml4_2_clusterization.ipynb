{
  "cells": [
    {
      "cell_type": "markdown",
      "metadata": {
        "id": "view-in-github",
        "colab_type": "text"
      },
      "source": [
        "<a href=\"https://colab.research.google.com/github/TimkaThymineTimiryazevskaya/sf_data_science/blob/main/dst3_ml4_2_clusterization.ipynb\" target=\"_parent\"><img src=\"https://colab.research.google.com/assets/colab-badge.svg\" alt=\"Open In Colab\"/></a>"
      ]
    },
    {
      "cell_type": "code",
      "execution_count": 1,
      "id": "a754472c",
      "metadata": {
        "id": "a754472c"
      },
      "outputs": [],
      "source": [
        "# импортируем библиотеку pandas для работы с датафреймами\n",
        "import pandas as pd\n",
        "# импортируем seaborn для визуализации\n",
        "import seaborn as sns\n",
        "# импортируем sklearn для кластеризации\n",
        "from sklearn.cluster import KMeans "
      ]
    },
    {
      "cell_type": "code",
      "execution_count": 21,
      "id": "f7ad269d",
      "metadata": {
        "colab": {
          "base_uri": "https://localhost:8080/",
          "height": 206
        },
        "id": "f7ad269d",
        "outputId": "db74bd7f-6426-436e-cd0c-c3740c2aa226"
      },
      "outputs": [
        {
          "output_type": "execute_result",
          "data": {
            "text/plain": [
              "                    Name  Total  HP     Attack    Defense  Sp. Atk  Sp. Def  \\\n",
              "0              Bulbasaur    318  45  77.634658  50.854702       65       65   \n",
              "1                Ivysaur    405  60  67.454273  39.202323       80       80   \n",
              "2               Venusaur    525  80  76.007423  47.605846      100      100   \n",
              "3  VenusaurMega Venusaur    625  80  77.828031  50.744911      122      120   \n",
              "4             Charmander    309  39  68.658104  37.890027       60       50   \n",
              "\n",
              "   Speed  RealClusters  \n",
              "0     45             2  \n",
              "1     60             1  \n",
              "2     80             2  \n",
              "3     80             2  \n",
              "4     65             1  "
            ],
            "text/html": [
              "\n",
              "  <div id=\"df-f6f89843-03d5-4faa-b95c-ee00da92a89c\">\n",
              "    <div class=\"colab-df-container\">\n",
              "      <div>\n",
              "<style scoped>\n",
              "    .dataframe tbody tr th:only-of-type {\n",
              "        vertical-align: middle;\n",
              "    }\n",
              "\n",
              "    .dataframe tbody tr th {\n",
              "        vertical-align: top;\n",
              "    }\n",
              "\n",
              "    .dataframe thead th {\n",
              "        text-align: right;\n",
              "    }\n",
              "</style>\n",
              "<table border=\"1\" class=\"dataframe\">\n",
              "  <thead>\n",
              "    <tr style=\"text-align: right;\">\n",
              "      <th></th>\n",
              "      <th>Name</th>\n",
              "      <th>Total</th>\n",
              "      <th>HP</th>\n",
              "      <th>Attack</th>\n",
              "      <th>Defense</th>\n",
              "      <th>Sp. Atk</th>\n",
              "      <th>Sp. Def</th>\n",
              "      <th>Speed</th>\n",
              "      <th>RealClusters</th>\n",
              "    </tr>\n",
              "  </thead>\n",
              "  <tbody>\n",
              "    <tr>\n",
              "      <th>0</th>\n",
              "      <td>Bulbasaur</td>\n",
              "      <td>318</td>\n",
              "      <td>45</td>\n",
              "      <td>77.634658</td>\n",
              "      <td>50.854702</td>\n",
              "      <td>65</td>\n",
              "      <td>65</td>\n",
              "      <td>45</td>\n",
              "      <td>2</td>\n",
              "    </tr>\n",
              "    <tr>\n",
              "      <th>1</th>\n",
              "      <td>Ivysaur</td>\n",
              "      <td>405</td>\n",
              "      <td>60</td>\n",
              "      <td>67.454273</td>\n",
              "      <td>39.202323</td>\n",
              "      <td>80</td>\n",
              "      <td>80</td>\n",
              "      <td>60</td>\n",
              "      <td>1</td>\n",
              "    </tr>\n",
              "    <tr>\n",
              "      <th>2</th>\n",
              "      <td>Venusaur</td>\n",
              "      <td>525</td>\n",
              "      <td>80</td>\n",
              "      <td>76.007423</td>\n",
              "      <td>47.605846</td>\n",
              "      <td>100</td>\n",
              "      <td>100</td>\n",
              "      <td>80</td>\n",
              "      <td>2</td>\n",
              "    </tr>\n",
              "    <tr>\n",
              "      <th>3</th>\n",
              "      <td>VenusaurMega Venusaur</td>\n",
              "      <td>625</td>\n",
              "      <td>80</td>\n",
              "      <td>77.828031</td>\n",
              "      <td>50.744911</td>\n",
              "      <td>122</td>\n",
              "      <td>120</td>\n",
              "      <td>80</td>\n",
              "      <td>2</td>\n",
              "    </tr>\n",
              "    <tr>\n",
              "      <th>4</th>\n",
              "      <td>Charmander</td>\n",
              "      <td>309</td>\n",
              "      <td>39</td>\n",
              "      <td>68.658104</td>\n",
              "      <td>37.890027</td>\n",
              "      <td>60</td>\n",
              "      <td>50</td>\n",
              "      <td>65</td>\n",
              "      <td>1</td>\n",
              "    </tr>\n",
              "  </tbody>\n",
              "</table>\n",
              "</div>\n",
              "      <button class=\"colab-df-convert\" onclick=\"convertToInteractive('df-f6f89843-03d5-4faa-b95c-ee00da92a89c')\"\n",
              "              title=\"Convert this dataframe to an interactive table.\"\n",
              "              style=\"display:none;\">\n",
              "        \n",
              "  <svg xmlns=\"http://www.w3.org/2000/svg\" height=\"24px\"viewBox=\"0 0 24 24\"\n",
              "       width=\"24px\">\n",
              "    <path d=\"M0 0h24v24H0V0z\" fill=\"none\"/>\n",
              "    <path d=\"M18.56 5.44l.94 2.06.94-2.06 2.06-.94-2.06-.94-.94-2.06-.94 2.06-2.06.94zm-11 1L8.5 8.5l.94-2.06 2.06-.94-2.06-.94L8.5 2.5l-.94 2.06-2.06.94zm10 10l.94 2.06.94-2.06 2.06-.94-2.06-.94-.94-2.06-.94 2.06-2.06.94z\"/><path d=\"M17.41 7.96l-1.37-1.37c-.4-.4-.92-.59-1.43-.59-.52 0-1.04.2-1.43.59L10.3 9.45l-7.72 7.72c-.78.78-.78 2.05 0 2.83L4 21.41c.39.39.9.59 1.41.59.51 0 1.02-.2 1.41-.59l7.78-7.78 2.81-2.81c.8-.78.8-2.07 0-2.86zM5.41 20L4 18.59l7.72-7.72 1.47 1.35L5.41 20z\"/>\n",
              "  </svg>\n",
              "      </button>\n",
              "      \n",
              "  <style>\n",
              "    .colab-df-container {\n",
              "      display:flex;\n",
              "      flex-wrap:wrap;\n",
              "      gap: 12px;\n",
              "    }\n",
              "\n",
              "    .colab-df-convert {\n",
              "      background-color: #E8F0FE;\n",
              "      border: none;\n",
              "      border-radius: 50%;\n",
              "      cursor: pointer;\n",
              "      display: none;\n",
              "      fill: #1967D2;\n",
              "      height: 32px;\n",
              "      padding: 0 0 0 0;\n",
              "      width: 32px;\n",
              "    }\n",
              "\n",
              "    .colab-df-convert:hover {\n",
              "      background-color: #E2EBFA;\n",
              "      box-shadow: 0px 1px 2px rgba(60, 64, 67, 0.3), 0px 1px 3px 1px rgba(60, 64, 67, 0.15);\n",
              "      fill: #174EA6;\n",
              "    }\n",
              "\n",
              "    [theme=dark] .colab-df-convert {\n",
              "      background-color: #3B4455;\n",
              "      fill: #D2E3FC;\n",
              "    }\n",
              "\n",
              "    [theme=dark] .colab-df-convert:hover {\n",
              "      background-color: #434B5C;\n",
              "      box-shadow: 0px 1px 3px 1px rgba(0, 0, 0, 0.15);\n",
              "      filter: drop-shadow(0px 1px 2px rgba(0, 0, 0, 0.3));\n",
              "      fill: #FFFFFF;\n",
              "    }\n",
              "  </style>\n",
              "\n",
              "      <script>\n",
              "        const buttonEl =\n",
              "          document.querySelector('#df-f6f89843-03d5-4faa-b95c-ee00da92a89c button.colab-df-convert');\n",
              "        buttonEl.style.display =\n",
              "          google.colab.kernel.accessAllowed ? 'block' : 'none';\n",
              "\n",
              "        async function convertToInteractive(key) {\n",
              "          const element = document.querySelector('#df-f6f89843-03d5-4faa-b95c-ee00da92a89c');\n",
              "          const dataTable =\n",
              "            await google.colab.kernel.invokeFunction('convertToInteractive',\n",
              "                                                     [key], {});\n",
              "          if (!dataTable) return;\n",
              "\n",
              "          const docLinkHtml = 'Like what you see? Visit the ' +\n",
              "            '<a target=\"_blank\" href=https://colab.research.google.com/notebooks/data_table.ipynb>data table notebook</a>'\n",
              "            + ' to learn more about interactive tables.';\n",
              "          element.innerHTML = '';\n",
              "          dataTable['output_type'] = 'display_data';\n",
              "          await google.colab.output.renderOutput(dataTable, element);\n",
              "          const docLink = document.createElement('div');\n",
              "          docLink.innerHTML = docLinkHtml;\n",
              "          element.appendChild(docLink);\n",
              "        }\n",
              "      </script>\n",
              "    </div>\n",
              "  </div>\n",
              "  "
            ]
          },
          "metadata": {},
          "execution_count": 21
        }
      ],
      "source": [
        "# загрузим данные\n",
        "df = pd.read_csv('pokemon.zip')\n",
        "# датасет содержит имя покемона, силу его защиты, атаки и скорость\n",
        "df.head()"
      ]
    },
    {
      "cell_type": "markdown",
      "id": "e649c21f",
      "metadata": {
        "id": "e649c21f"
      },
      "source": [
        "## k-means кластеризация"
      ]
    },
    {
      "cell_type": "code",
      "execution_count": 22,
      "id": "cff5a430",
      "metadata": {
        "colab": {
          "base_uri": "https://localhost:8080/",
          "height": 351
        },
        "id": "cff5a430",
        "outputId": "213016fa-3259-44fd-c64a-2d1b70a2d9a0"
      },
      "outputs": [
        {
          "output_type": "stream",
          "name": "stderr",
          "text": [
            "/usr/local/lib/python3.8/dist-packages/seaborn/_decorators.py:36: FutureWarning: Pass the following variables as keyword args: x, y. From version 0.12, the only valid positional argument will be `data`, and passing other arguments without an explicit keyword will result in an error or misinterpretation.\n",
            "  warnings.warn(\n"
          ]
        },
        {
          "output_type": "execute_result",
          "data": {
            "text/plain": [
              "<matplotlib.axes._subplots.AxesSubplot at 0x7fabffd20f10>"
            ]
          },
          "metadata": {},
          "execution_count": 22
        },
        {
          "output_type": "display_data",
          "data": {
            "text/plain": [
              "<Figure size 432x288 with 1 Axes>"
            ],
            "image/png": "[encoded data removed]"
          },
          "metadata": {}
        }
      ],
      "source": [
        "# попробуем кластеризовать покемонов по их силе атаки и защиты\n",
        "# для этого сохраним в матрицу X 2 интересующих признака: атаку и защиту\n",
        "X = df[['Attack', 'Defense']]\n",
        "\n",
        "#визуализируем\n",
        "sns.scatterplot(df.Attack, df.Defense)"
      ]
    },
    {
      "cell_type": "markdown",
      "id": "4fca2436",
      "metadata": {
        "id": "4fca2436"
      },
      "source": [
        "Теперь инициализируем алгоритм k-means. Для этого зададим:  \n",
        "    - n_clusters - количество кластеров  \n",
        "    - init - стратегию кластеризации  \n",
        "    - n_init - количество запусков алгоритма k-means  \n",
        "    - random_state - для того, чтобы результаты от запуска к запуску воспроизводились  "
      ]
    },
    {
      "cell_type": "code",
      "execution_count": 4,
      "id": "7d85b199",
      "metadata": {
        "colab": {
          "base_uri": "https://localhost:8080/",
          "height": 351
        },
        "id": "7d85b199",
        "outputId": "1db5af53-04d4-407f-cef4-9135ca849433"
      },
      "outputs": [
        {
          "output_type": "stream",
          "name": "stderr",
          "text": [
            "/usr/local/lib/python3.8/dist-packages/seaborn/_decorators.py:36: FutureWarning: Pass the following variables as keyword args: x, y. From version 0.12, the only valid positional argument will be `data`, and passing other arguments without an explicit keyword will result in an error or misinterpretation.\n",
            "  warnings.warn(\n"
          ]
        },
        {
          "output_type": "execute_result",
          "data": {
            "text/plain": [
              "<matplotlib.axes._subplots.AxesSubplot at 0x7fac05a23670>"
            ]
          },
          "metadata": {},
          "execution_count": 4
        },
        {
          "output_type": "display_data",
          "data": {
            "text/plain": [
              "<Figure size 432x288 with 1 Axes>"
            ],
            "image/png": "[encoded data removed]"
          },
          "metadata": {
            "needs_background": "light"
          }
        }
      ],
      "source": [
        "# инициализируем алгоритм k-means, с количеством кластеров 3\n",
        "kmeans = KMeans(n_clusters=3, init='k-means++', n_init=10, random_state=42)\n",
        "\n",
        "# запустим обучение модели\n",
        "kmeans.fit(X)\n",
        "\n",
        "# предскажем, к какому кластеру принадлежат покемоны \n",
        "predictions = kmeans.predict(X)\n",
        "# если мы хотим метки класса для тех же данных, на которых обучили модель, то можно просто попросить labels\n",
        "predictions = kmeans.labels_\n",
        "\n",
        "# сохраним предсказания в датафрейм\n",
        "df['Clusters_k3'] = predictions\n",
        "\n",
        "#визуализируем результаты, параметр c принимает вектор с номерами классов, для группировки объектов по цветам \n",
        "sns.scatterplot(df.Attack, df.Defense, c=predictions)"
      ]
    },
    {
      "cell_type": "markdown",
      "id": "a4dd502e",
      "metadata": {
        "id": "a4dd502e"
      },
      "source": [
        "Вроде неплохо, но давайте посмотрим, может если увеличить количество кластеров станет лучше"
      ]
    },
    {
      "cell_type": "code",
      "execution_count": 5,
      "id": "fa1ff54c",
      "metadata": {
        "colab": {
          "base_uri": "https://localhost:8080/",
          "height": 351
        },
        "id": "fa1ff54c",
        "outputId": "6f4291e0-061a-4f89-dc71-52bca650a7bc"
      },
      "outputs": [
        {
          "output_type": "stream",
          "name": "stderr",
          "text": [
            "/usr/local/lib/python3.8/dist-packages/seaborn/_decorators.py:36: FutureWarning: Pass the following variables as keyword args: x, y. From version 0.12, the only valid positional argument will be `data`, and passing other arguments without an explicit keyword will result in an error or misinterpretation.\n",
            "  warnings.warn(\n"
          ]
        },
        {
          "output_type": "execute_result",
          "data": {
            "text/plain": [
              "<matplotlib.axes._subplots.AxesSubplot at 0x7fac05a59160>"
            ]
          },
          "metadata": {},
          "execution_count": 5
        },
        {
          "output_type": "display_data",
          "data": {
            "text/plain": [
              "<Figure size 432x288 with 1 Axes>"
            ],
            "image/png": "[encoded data removed]"
          },
          "metadata": {
            "needs_background": "light"
          }
        }
      ],
      "source": [
        "# инициализируем алгоритм k-means, с количеством кластеров 4\n",
        "kmeans = KMeans(n_clusters=4, init='k-means++', n_init=10, random_state=42)\n",
        "\n",
        "# запустим обучение модели\n",
        "kmeans.fit(X)\n",
        "\n",
        "# предскажем, к какому кластеру принадлежат покемоны \n",
        "predictions = kmeans.predict(X)\n",
        "# если мы хотим метки класса для тех же данных, на которых обучили модель, то можно просто попросить labels\n",
        "predictions = kmeans.labels_\n",
        "\n",
        "# сохраним предсказания в датафрейм\n",
        "df['Clusters_k4'] = predictions\n",
        "\n",
        "#визуализируем результаты, параметр c принимает вектор с номерами классов, для группировки объектов по цветам \n",
        "sns.scatterplot(df.Attack, df.Defense, c=df.Clusters_k4)"
      ]
    },
    {
      "cell_type": "markdown",
      "id": "32a92187",
      "metadata": {
        "id": "32a92187"
      },
      "source": [
        "Вроде неплохо, но явно есть точки, которые находятся вдалеке от основных кластеров. Например, 2 фиолетовые точки "
      ]
    },
    {
      "cell_type": "code",
      "execution_count": 6,
      "id": "acbf47b7",
      "metadata": {
        "id": "acbf47b7"
      },
      "outputs": [],
      "source": [
        "# добавляем третий признак - скорость покемона, а алгоритм такой же\n",
        "X = df[['Attack', 'Defense', 'Speed']]\n",
        "\n",
        "\n",
        "# инициализируем алгоритм k-means, с количеством кластеров 3\n",
        "kmeans = KMeans(n_clusters=3, init='k-means++', n_init=10, random_state=42)\n",
        "\n",
        "# запустим обучение модели\n",
        "kmeans.fit(X)\n",
        "\n",
        "# предскажем, к какому кластеру принадлежат покемоны \n",
        "predictions = kmeans.predict(X)\n",
        "# если мы хотим метки класса для тех же данных, на которых обучили модель, то можно просто попросить labels\n",
        "predictions = kmeans.labels_\n",
        "\n",
        "# сохраним предсказания в датафрейм\n",
        "df['Clusters_k3_2d'] = predictions"
      ]
    },
    {
      "cell_type": "markdown",
      "id": "be4da624",
      "metadata": {
        "id": "be4da624"
      },
      "source": [
        "## Выбор количества кластеров с помощью метода локтя"
      ]
    },
    {
      "cell_type": "code",
      "execution_count": 7,
      "id": "743ad62c",
      "metadata": {
        "colab": {
          "base_uri": "https://localhost:8080/",
          "height": 296
        },
        "id": "743ad62c",
        "outputId": "d1a63f38-abc9-47b5-d59a-b64239d658fe"
      },
      "outputs": [
        {
          "output_type": "execute_result",
          "data": {
            "text/plain": [
              "<matplotlib.axes._subplots.AxesSubplot at 0x7fac03a04d30>"
            ]
          },
          "metadata": {},
          "execution_count": 7
        },
        {
          "output_type": "display_data",
          "data": {
            "text/plain": [
              "<Figure size 432x288 with 1 Axes>"
            ],
            "image/png": "[encoded data removed]"
          },
          "metadata": {}
        }
      ],
      "source": [
        "# функция, которая принимает количество кластеров для k-means и матрицу с признаками объектов,и возвращает инерцию \n",
        "def get_inertia(cluster_num, X):\n",
        "# инициализируем алгоритм кластеризации\n",
        "    k_means =  KMeans(n_clusters=cluster_num, random_state=42)\n",
        "# запускаем алгоритм k-means\n",
        "    k_means.fit(X)\n",
        "# находим значение инерции\n",
        "    inertia = k_means.inertia_\n",
        "# возвращаем значение инерции\n",
        "    return inertia\n",
        "\n",
        "# создадим пустой словарь, ключами будут инерция и количество кластеров\n",
        "res = {\"inertia\": [], \"cluster\": []}\n",
        "\n",
        "# выберем нужные данные \n",
        "X = df[['Attack', 'Defense']]\n",
        "\n",
        "# итерируемся по разным размерам кластеров (от 1 до 9) и сохраним значение инерции для каждого кластера\n",
        "for cluster_num in range(1, 10):\n",
        "# сохраняем значения\n",
        "    res[\"inertia\"].append(get_inertia(cluster_num, X))\n",
        "    res[\"cluster\"].append(cluster_num)\n",
        "\n",
        "# сохраним в датафрейм значение инерции и количество кластеров\n",
        "res_df = pd.DataFrame(res)\n",
        "\n",
        "# установим стиль для визуализиции\n",
        "sns.set_style(\"darkgrid\")\n",
        "# визуализируем зависимость значения инерции от количества кластеров\n",
        "sns.lineplot(data=res_df, x=\"cluster\", y=\"inertia\", marker= \"o\")"
      ]
    },
    {
      "cell_type": "markdown",
      "id": "f3f6b803",
      "metadata": {
        "id": "f3f6b803"
      },
      "source": [
        "## Выбор количества кластеров с помощью коэффициент силуэта"
      ]
    },
    {
      "cell_type": "code",
      "execution_count": 8,
      "id": "537b3a7a",
      "metadata": {
        "colab": {
          "base_uri": "https://localhost:8080/",
          "height": 296
        },
        "id": "537b3a7a",
        "outputId": "d9f298b7-c388-4597-89a1-0fb9a15ee5e8"
      },
      "outputs": [
        {
          "output_type": "execute_result",
          "data": {
            "text/plain": [
              "<matplotlib.axes._subplots.AxesSubplot at 0x7fac038eb2e0>"
            ]
          },
          "metadata": {},
          "execution_count": 8
        },
        {
          "output_type": "display_data",
          "data": {
            "text/plain": [
              "<Figure size 432x288 with 1 Axes>"
            ],
            "image/png": "[encoded data removed]"
          },
          "metadata": {}
        }
      ],
      "source": [
        "# импортируем метрику силуэт\n",
        "from sklearn.metrics import silhouette_score\n",
        "\n",
        "# напишем функцию, как и при подсчете метода локтя\n",
        "def get_silhouette(cluster_num, X):\n",
        "    k_means =  KMeans(n_clusters=cluster_num, init='k-means++', n_init=10, random_state=42)\n",
        "    k_means.fit(X)\n",
        "# подсчитаем метрику силуэта, передав данные и то, к каким кластерам относятся объекты\n",
        "    silhouette = silhouette_score(X, k_means.predict(X))\n",
        "    return silhouette\n",
        "\n",
        "# создадим пустой словарь, ключами будут инерция и количество кластеров\n",
        "silhouette_res = {\"silhouette\": [], \"cluster\": []}\n",
        "\n",
        "# выберем нужные данные \n",
        "X = df[['Attack', 'Defense']]\n",
        "\n",
        "for cluster_num in range(2, 10):\n",
        "    silhouette_res[\"silhouette\"].append(get_silhouette(cluster_num, X))\n",
        "    silhouette_res[\"cluster\"].append(cluster_num)\n",
        "    \n",
        "# сохраним в датафрейм значение силуэта и количество кластеров\n",
        "silhouette_df = pd.DataFrame(silhouette_res)\n",
        "\n",
        "# установим стиль для визуализиции\n",
        "sns.set_style(\"darkgrid\")\n",
        "# визуализируем зависимость значения инерции от количества кластеров\n",
        "sns.lineplot(data=silhouette_df, x=\"cluster\", y=\"silhouette\", marker= \"o\")"
      ]
    },
    {
      "cell_type": "code",
      "source": [
        "data = pd.read_csv('values_from_the_instrument.zip')\n",
        "data.head()"
      ],
      "metadata": {
        "colab": {
          "base_uri": "https://localhost:8080/",
          "height": 206
        },
        "id": "8synbwSXoq0q",
        "outputId": "24061a4f-2b58-4db0-a00e-d8ab493872c4"
      },
      "id": "8synbwSXoq0q",
      "execution_count": 10,
      "outputs": [
        {
          "output_type": "execute_result",
          "data": {
            "text/plain": [
              "          x1         x2\n",
              "0  48.848600  67.882051\n",
              "1  60.343304  74.215686\n",
              "2  48.155670  68.313920\n",
              "3  48.546786  68.090451\n",
              "4  47.124609  67.132278"
            ],
            "text/html": [
              "\n",
              "  <div id=\"df-53787856-9d20-465f-a07b-48febfce25b0\">\n",
              "    <div class=\"colab-df-container\">\n",
              "      <div>\n",
              "<style scoped>\n",
              "    .dataframe tbody tr th:only-of-type {\n",
              "        vertical-align: middle;\n",
              "    }\n",
              "\n",
              "    .dataframe tbody tr th {\n",
              "        vertical-align: top;\n",
              "    }\n",
              "\n",
              "    .dataframe thead th {\n",
              "        text-align: right;\n",
              "    }\n",
              "</style>\n",
              "<table border=\"1\" class=\"dataframe\">\n",
              "  <thead>\n",
              "    <tr style=\"text-align: right;\">\n",
              "      <th></th>\n",
              "      <th>x1</th>\n",
              "      <th>x2</th>\n",
              "    </tr>\n",
              "  </thead>\n",
              "  <tbody>\n",
              "    <tr>\n",
              "      <th>0</th>\n",
              "      <td>48.848600</td>\n",
              "      <td>67.882051</td>\n",
              "    </tr>\n",
              "    <tr>\n",
              "      <th>1</th>\n",
              "      <td>60.343304</td>\n",
              "      <td>74.215686</td>\n",
              "    </tr>\n",
              "    <tr>\n",
              "      <th>2</th>\n",
              "      <td>48.155670</td>\n",
              "      <td>68.313920</td>\n",
              "    </tr>\n",
              "    <tr>\n",
              "      <th>3</th>\n",
              "      <td>48.546786</td>\n",
              "      <td>68.090451</td>\n",
              "    </tr>\n",
              "    <tr>\n",
              "      <th>4</th>\n",
              "      <td>47.124609</td>\n",
              "      <td>67.132278</td>\n",
              "    </tr>\n",
              "  </tbody>\n",
              "</table>\n",
              "</div>\n",
              "      <button class=\"colab-df-convert\" onclick=\"convertToInteractive('df-53787856-9d20-465f-a07b-48febfce25b0')\"\n",
              "              title=\"Convert this dataframe to an interactive table.\"\n",
              "              style=\"display:none;\">\n",
              "        \n",
              "  <svg xmlns=\"http://www.w3.org/2000/svg\" height=\"24px\"viewBox=\"0 0 24 24\"\n",
              "       width=\"24px\">\n",
              "    <path d=\"M0 0h24v24H0V0z\" fill=\"none\"/>\n",
              "    <path d=\"M18.56 5.44l.94 2.06.94-2.06 2.06-.94-2.06-.94-.94-2.06-.94 2.06-2.06.94zm-11 1L8.5 8.5l.94-2.06 2.06-.94-2.06-.94L8.5 2.5l-.94 2.06-2.06.94zm10 10l.94 2.06.94-2.06 2.06-.94-2.06-.94-.94-2.06-.94 2.06-2.06.94z\"/><path d=\"M17.41 7.96l-1.37-1.37c-.4-.4-.92-.59-1.43-.59-.52 0-1.04.2-1.43.59L10.3 9.45l-7.72 7.72c-.78.78-.78 2.05 0 2.83L4 21.41c.39.39.9.59 1.41.59.51 0 1.02-.2 1.41-.59l7.78-7.78 2.81-2.81c.8-.78.8-2.07 0-2.86zM5.41 20L4 18.59l7.72-7.72 1.47 1.35L5.41 20z\"/>\n",
              "  </svg>\n",
              "      </button>\n",
              "      \n",
              "  <style>\n",
              "    .colab-df-container {\n",
              "      display:flex;\n",
              "      flex-wrap:wrap;\n",
              "      gap: 12px;\n",
              "    }\n",
              "\n",
              "    .colab-df-convert {\n",
              "      background-color: #E8F0FE;\n",
              "      border: none;\n",
              "      border-radius: 50%;\n",
              "      cursor: pointer;\n",
              "      display: none;\n",
              "      fill: #1967D2;\n",
              "      height: 32px;\n",
              "      padding: 0 0 0 0;\n",
              "      width: 32px;\n",
              "    }\n",
              "\n",
              "    .colab-df-convert:hover {\n",
              "      background-color: #E2EBFA;\n",
              "      box-shadow: 0px 1px 2px rgba(60, 64, 67, 0.3), 0px 1px 3px 1px rgba(60, 64, 67, 0.15);\n",
              "      fill: #174EA6;\n",
              "    }\n",
              "\n",
              "    [theme=dark] .colab-df-convert {\n",
              "      background-color: #3B4455;\n",
              "      fill: #D2E3FC;\n",
              "    }\n",
              "\n",
              "    [theme=dark] .colab-df-convert:hover {\n",
              "      background-color: #434B5C;\n",
              "      box-shadow: 0px 1px 3px 1px rgba(0, 0, 0, 0.15);\n",
              "      filter: drop-shadow(0px 1px 2px rgba(0, 0, 0, 0.3));\n",
              "      fill: #FFFFFF;\n",
              "    }\n",
              "  </style>\n",
              "\n",
              "      <script>\n",
              "        const buttonEl =\n",
              "          document.querySelector('#df-53787856-9d20-465f-a07b-48febfce25b0 button.colab-df-convert');\n",
              "        buttonEl.style.display =\n",
              "          google.colab.kernel.accessAllowed ? 'block' : 'none';\n",
              "\n",
              "        async function convertToInteractive(key) {\n",
              "          const element = document.querySelector('#df-53787856-9d20-465f-a07b-48febfce25b0');\n",
              "          const dataTable =\n",
              "            await google.colab.kernel.invokeFunction('convertToInteractive',\n",
              "                                                     [key], {});\n",
              "          if (!dataTable) return;\n",
              "\n",
              "          const docLinkHtml = 'Like what you see? Visit the ' +\n",
              "            '<a target=\"_blank\" href=https://colab.research.google.com/notebooks/data_table.ipynb>data table notebook</a>'\n",
              "            + ' to learn more about interactive tables.';\n",
              "          element.innerHTML = '';\n",
              "          dataTable['output_type'] = 'display_data';\n",
              "          await google.colab.output.renderOutput(dataTable, element);\n",
              "          const docLink = document.createElement('div');\n",
              "          docLink.innerHTML = docLinkHtml;\n",
              "          element.appendChild(docLink);\n",
              "        }\n",
              "      </script>\n",
              "    </div>\n",
              "  </div>\n",
              "  "
            ]
          },
          "metadata": {},
          "execution_count": 10
        }
      ]
    },
    {
      "cell_type": "code",
      "source": [
        "silhouette_res = {\"silhouette\": [], \"cluster\": []}\n",
        "\n",
        "# выберем нужные данные \n",
        "X = data[['x1', 'x2']]\n",
        "\n",
        "for cluster_num in range(2, 10):\n",
        "    silhouette_res[\"silhouette\"].append(get_silhouette(cluster_num, X))\n",
        "    silhouette_res[\"cluster\"].append(cluster_num)\n",
        "    \n",
        "# сохраним в датафрейм значение силуэта и количество кластеров\n",
        "silhouette_df = pd.DataFrame(silhouette_res)\n",
        "\n",
        "# установим стиль для визуализиции\n",
        "sns.set_style(\"darkgrid\")\n",
        "# визуализируем зависимость значения инерции от количества кластеров\n",
        "sns.lineplot(data=silhouette_df, x=\"cluster\", y=\"silhouette\", marker= \"o\")"
      ],
      "metadata": {
        "colab": {
          "base_uri": "https://localhost:8080/",
          "height": 300
        },
        "id": "D2Egy31GorEi",
        "outputId": "420b2995-7e1e-4876-c3fd-64d8f3941e81"
      },
      "id": "D2Egy31GorEi",
      "execution_count": 11,
      "outputs": [
        {
          "output_type": "execute_result",
          "data": {
            "text/plain": [
              "<matplotlib.axes._subplots.AxesSubplot at 0x7fac08ebd0d0>"
            ]
          },
          "metadata": {},
          "execution_count": 11
        },
        {
          "output_type": "display_data",
          "data": {
            "text/plain": [
              "<Figure size 432x288 with 1 Axes>"
            ],
            "image/png": "[encoded data removed]"
          },
          "metadata": {}
        }
      ]
    },
    {
      "cell_type": "markdown",
      "id": "1cd8417b",
      "metadata": {
        "id": "1cd8417b"
      },
      "source": [
        "## Метрики"
      ]
    },
    {
      "cell_type": "code",
      "execution_count": 12,
      "id": "d7c442e8",
      "metadata": {
        "colab": {
          "base_uri": "https://localhost:8080/"
        },
        "id": "d7c442e8",
        "outputId": "92289674-55f0-4475-a5b0-6296d1f602f2"
      },
      "outputs": [
        {
          "output_type": "stream",
          "name": "stdout",
          "text": [
            "1.0\n",
            "1.0\n",
            "1.0\n"
          ]
        }
      ],
      "source": [
        "# импортируем подсчет метрики однородности кластеров\n",
        "from sklearn.metrics.cluster import homogeneity_score\n",
        "\n",
        "# передаем предсказанную информацию к какому кластеру относятся объекты датасета и правильные ответы\n",
        "print(homogeneity_score(labels_true=[0, 0, 1, 1], labels_pred=[0, 0, 1, 1]))\n",
        "\n",
        "# теперь посчитаем насколько однородными получились кластеры с покемонами\n",
        "print(homogeneity_score(labels_true=df.RealClusters, labels_pred=df.Clusters_k3))\n",
        "\n",
        "print(homogeneity_score(labels_true=df.RealClusters, labels_pred=df.Clusters_k4))"
      ]
    },
    {
      "cell_type": "code",
      "execution_count": 13,
      "id": "d1709209",
      "metadata": {
        "colab": {
          "base_uri": "https://localhost:8080/"
        },
        "id": "d1709209",
        "outputId": "2728a386-9735-4fbb-ce86-5dcb8387dc12"
      },
      "outputs": [
        {
          "output_type": "stream",
          "name": "stdout",
          "text": [
            "1.0\n",
            "1.0\n",
            "0.829867483307009\n"
          ]
        }
      ],
      "source": [
        "# импортируем метрику полноты\n",
        "from sklearn.metrics.cluster import completeness_score\n",
        "\n",
        "# передаем предсказанную информацию к какому кластеру относятся объекты датасета и правильные ответы, подсчитываем метрику\n",
        "print(completeness_score(labels_true=[0, 0, 1, 1], labels_pred=[0, 0, 1, 1]))\n",
        "\n",
        "# посчитаем насколько полными получились кластеры с покемонами\n",
        "print(completeness_score(labels_true=df.RealClusters, labels_pred=df.Clusters_k3))\n",
        "\n",
        "# посчитаем насколько полными получились кластеры с покемонами\n",
        "print(completeness_score(labels_true=df.RealClusters, labels_pred=df.Clusters_k4))"
      ]
    },
    {
      "cell_type": "code",
      "execution_count": 14,
      "id": "bb634651",
      "metadata": {
        "colab": {
          "base_uri": "https://localhost:8080/"
        },
        "id": "bb634651",
        "outputId": "f794a9ea-a944-47e9-84a4-045aacee20a6"
      },
      "outputs": [
        {
          "output_type": "stream",
          "name": "stdout",
          "text": [
            "1.0\n",
            "0.9070246789753754\n"
          ]
        }
      ],
      "source": [
        "# импортируем из библиотеки sklearn подсчет v-меры\n",
        "from sklearn.metrics import v_measure_score\n",
        "\n",
        "\n",
        "# теперь посчитаем v-меру для кластеров с покемонами\n",
        "print(v_measure_score(labels_true=df.RealClusters, labels_pred=df.Clusters_k3))\n",
        "\n",
        "print(v_measure_score(labels_true=df.RealClusters, labels_pred=df.Clusters_k4))"
      ]
    },
    {
      "cell_type": "code",
      "execution_count": 15,
      "id": "273aca71",
      "metadata": {
        "colab": {
          "base_uri": "https://localhost:8080/"
        },
        "id": "273aca71",
        "outputId": "a166495d-91f6-4329-b3e7-0a19941eb4a3"
      },
      "outputs": [
        {
          "output_type": "stream",
          "name": "stdout",
          "text": [
            "1.0\n",
            "0.94643618280843\n"
          ]
        }
      ],
      "source": [
        "# импортируем из библиотеки sklearn подсчет индекса Рэнда\n",
        "from sklearn.metrics.cluster import rand_score\n",
        "\n",
        "# теперь посчитаем насколько полными получились кластеры с покемонами\n",
        "print(rand_score(labels_true=df.RealClusters, labels_pred=df.Clusters_k3))\n",
        "\n",
        "print(rand_score(labels_true=df.RealClusters, labels_pred=df.Clusters_k4))"
      ]
    },
    {
      "cell_type": "code",
      "source": [
        "print(homogeneity_score(labels_true=[1, 2, 2, 1, 0], labels_pred=[1, 0, 2, 1, 2]))"
      ],
      "metadata": {
        "colab": {
          "base_uri": "https://localhost:8080/"
        },
        "id": "wNPMlvwdsjX5",
        "outputId": "52109848-ba3b-45a5-896f-bf65ec2c5ebd"
      },
      "id": "wNPMlvwdsjX5",
      "execution_count": 16,
      "outputs": [
        {
          "output_type": "stream",
          "name": "stdout",
          "text": [
            "0.737175493807016\n"
          ]
        }
      ]
    },
    {
      "cell_type": "markdown",
      "id": "eac83855",
      "metadata": {
        "id": "eac83855"
      },
      "source": [
        "## Юнит 2. Другие методы кластеризации"
      ]
    },
    {
      "cell_type": "code",
      "execution_count": 17,
      "id": "0d0d2ecf",
      "metadata": {
        "colab": {
          "base_uri": "https://localhost:8080/"
        },
        "id": "0d0d2ecf",
        "outputId": "917c0e3c-02ca-424e-aaed-82705d25de29"
      },
      "outputs": [
        {
          "output_type": "execute_result",
          "data": {
            "text/plain": [
              "array([0, 0, 0, 0, 0, 1, 0, 0, 1, 0, 1, 0, 0, 0, 0, 1, 0, 1, 0, 0, 0, 1,\n",
              "       0, 0, 0, 0, 0, 0, 1, 1, 0, 0, 0, 0, 0, 1, 1, 0, 1, 1, 1, 1, 0, 1,\n",
              "       1, 1, 1, 0, 0, 1, 0, 0, 1, 0, 0, 1, 1, 0, 0, 1, 0, 0, 0, 0, 0, 0,\n",
              "       1, 1, 0, 0, 0, 0, 0, 0, 0, 0, 1, 0, 0, 0, 0, 0, 0, 0, 0, 0, 0, 1,\n",
              "       0, 1, 0, 1, 1, 0, 1, 0, 0, 1, 0, 0, 0, 0, 0, 1, 0, 0, 0, 0, 1, 1,\n",
              "       0, 0, 0, 0, 0, 0, 0, 0, 0, 1, 0, 1, 0, 0, 0, 1, 0, 0, 0, 0, 0, 0,\n",
              "       0, 0, 0, 0, 0, 1, 0, 0, 0, 0, 0, 0, 0, 0, 0, 0, 0, 0, 0, 0, 0, 0,\n",
              "       0, 0, 0, 1, 1, 0, 0, 0, 0, 0, 0, 0, 0, 0, 1, 1, 1, 0, 0, 0, 0, 0,\n",
              "       1, 0, 0, 0, 0, 0, 0, 1, 1, 0, 0, 1, 0, 0, 1, 0, 1, 0, 0, 0, 0, 0,\n",
              "       1, 1, 0, 0, 1, 0, 0, 0, 0, 0, 1, 0, 0, 0, 0, 0, 1, 0, 0, 0, 0, 0,\n",
              "       0, 0, 0, 0, 0, 1, 0, 0, 0, 0, 0, 1, 0, 1, 0, 1, 0, 1, 0, 0, 0, 0,\n",
              "       0, 0, 0, 0, 0, 0, 1, 1, 1, 1, 0, 0, 1, 0, 1, 0, 0, 1, 0, 1, 1, 1,\n",
              "       0, 1, 0, 0, 0, 0, 0, 1, 0, 0, 0, 0, 0, 0, 0, 0, 1, 0, 1, 1, 1, 0,\n",
              "       0, 0, 1, 0, 0, 0, 1, 1, 1, 0, 0, 1, 0, 1, 1, 1, 1, 0, 0, 0, 1, 0,\n",
              "       0, 0, 0, 0, 0, 0, 0, 1, 0, 1, 0, 1, 0, 1, 0, 0, 1, 0, 1, 0, 0, 1,\n",
              "       1, 0, 0, 0, 0, 0, 0, 0, 0, 1, 0, 1, 1, 0, 1, 1, 0, 1, 0, 1, 0, 0,\n",
              "       0, 0, 1, 0, 0, 0, 0, 0, 1, 0, 1, 1, 0, 0, 0, 0, 0, 1, 1, 1, 1, 0,\n",
              "       0, 1, 0, 0, 0, 0, 0, 0, 0, 1, 1, 0, 0, 1, 0, 1, 0, 0, 1, 0, 0, 0,\n",
              "       1, 0, 1, 1, 1, 0, 0, 0, 1, 0, 0, 1, 1, 0, 0, 0, 0, 0, 0, 0, 1, 1,\n",
              "       1, 0, 0, 0, 1, 0, 0, 1, 0, 1, 1, 0, 0, 0, 0, 0, 0, 1, 0, 0, 1, 1,\n",
              "       0, 1, 0, 0, 0, 0, 1, 0, 1, 0, 0, 1, 0, 1, 0, 0, 1, 0, 0, 1, 0, 0,\n",
              "       0, 1, 0, 0, 0, 0, 0, 0, 0, 0, 1, 0, 1, 0, 0, 0, 0, 0, 1, 0, 0, 0,\n",
              "       1, 1, 1, 1, 0, 0, 1, 0, 0, 0, 1, 1, 1, 0, 0, 0, 0, 0, 0, 1, 1, 1,\n",
              "       1, 0, 0, 0, 1, 0, 1, 1, 1, 0, 1, 0, 0, 0, 0, 0, 0, 1, 0, 1, 0, 1,\n",
              "       1, 0, 1, 0, 1, 0, 0, 0, 0, 1, 1, 0, 0, 0, 1, 0, 0, 0, 0, 0, 1, 0,\n",
              "       0, 1, 0, 0, 0, 1, 0, 0, 0, 0, 1, 1, 0, 0, 1, 1, 1, 1, 0, 0, 0, 1,\n",
              "       0, 1, 1, 1, 0, 1, 0, 0, 1, 0, 0, 1, 0, 0, 0, 0, 1, 0, 0, 0, 0, 0,\n",
              "       1, 0, 0, 0, 0, 0, 1, 1, 0, 1, 0, 0, 0, 0, 1, 0, 0, 0, 0, 1, 1, 1,\n",
              "       0, 0, 0, 1, 0, 0, 1, 0, 0, 0, 1, 0, 0, 0, 0, 0, 0, 0, 0, 1, 1, 1,\n",
              "       0, 1, 1, 0, 0, 0, 0, 0, 0, 0, 0, 0, 1, 0, 0, 0, 0, 1, 0, 0, 0, 0,\n",
              "       0, 0, 1, 1, 1, 0, 1, 1, 0, 0, 0, 1, 1, 0, 1, 0, 1, 0, 0, 1, 0, 0,\n",
              "       0, 0, 1, 1, 0, 0, 0, 0, 0, 0, 0, 1, 1, 0, 0, 1, 0, 1, 0, 0, 0, 1,\n",
              "       0, 0, 1, 0, 1, 0, 0, 0, 0, 0, 1, 1, 0, 0, 1, 0, 0, 1, 1, 0, 1, 0,\n",
              "       1, 0, 0, 0, 1, 1, 0, 0, 0, 0, 0, 0, 1, 1, 0, 0, 0, 1, 1, 0, 0, 1,\n",
              "       0, 1, 0, 0, 1, 1, 1, 0, 1, 1, 1, 0, 1, 0, 0, 0, 1, 1, 0, 0, 0, 1,\n",
              "       1, 1, 0, 0, 1, 0, 1, 0, 0, 0, 1, 1, 0, 0, 0, 0, 1, 0, 0, 0, 1, 0,\n",
              "       0, 0, 0, 0, 0, 0, 0, 0, 0, 1, 1, 1, 1, 0, 0, 0, 0, 0, 0, 0, 0, 1,\n",
              "       0, 1, 0, 0, 1, 0, 0, 0, 0, 0, 1, 0, 1, 0, 1, 0, 0, 0, 1, 0, 0, 1,\n",
              "       1, 0, 1, 1, 1, 1, 1, 1, 1, 0, 1, 0, 1, 0, 0, 1, 0, 1, 0, 0, 0, 0,\n",
              "       0, 0, 0, 1, 0, 0, 0, 0, 0, 0, 0, 1, 0, 1, 1, 1, 0, 0, 1, 1, 0, 0,\n",
              "       1, 1, 0, 0, 0, 1, 0, 1, 0, 0, 1, 0, 0, 0, 0, 0, 0, 1, 0, 0, 0, 1,\n",
              "       1, 0, 1, 0, 0, 0, 0, 0, 1, 0, 1, 0, 0, 0, 1, 0, 0, 1, 0, 1, 0, 0,\n",
              "       0, 0, 1, 0, 0, 1, 0, 0, 1, 0, 1, 1, 1, 1, 1, 0, 0, 0, 0, 0, 1, 1,\n",
              "       1, 0, 0, 1, 0, 0, 0, 0, 1, 0, 1, 0, 0, 0, 0, 0, 0, 1, 0, 0, 1, 1,\n",
              "       1, 1, 1, 1, 0, 1, 1, 1, 1, 0, 1, 0, 0, 0, 0, 0, 0, 1, 0, 0, 0, 1,\n",
              "       1, 0, 0, 0, 0, 1, 0, 1, 0, 1])"
            ]
          },
          "metadata": {},
          "execution_count": 17
        }
      ],
      "source": [
        "# импортируем алгомеративную кластеризацию из sklearn\n",
        "from sklearn.cluster import AgglomerativeClustering\n",
        "\n",
        "\n",
        "# запускаем агломеративную кластеризацию\n",
        "agglomerative_clustering = AgglomerativeClustering(n_clusters=2)\n",
        "\n",
        "# обучаем модель\n",
        "agglomerative_clustering.fit(X)\n",
        "\n",
        "# получаем метки c информацией, к какому кластеру относятся объекты\n",
        "agglomerative_clustering.labels_"
      ]
    },
    {
      "cell_type": "code",
      "execution_count": 18,
      "id": "0f15a16a",
      "metadata": {
        "colab": {
          "base_uri": "https://localhost:8080/",
          "height": 422
        },
        "id": "0f15a16a",
        "outputId": "0e523ae2-21b3-4619-d55a-2e43a9f8af05"
      },
      "outputs": [
        {
          "output_type": "display_data",
          "data": {
            "text/plain": [
              "<Figure size 720x504 with 1 Axes>"
            ],
            "image/png": "[encoded data removed]"
          },
          "metadata": {}
        }
      ],
      "source": [
        "from scipy.cluster.hierarchy import dendrogram, linkage\n",
        "from matplotlib import pyplot as plt\n",
        "\n",
        "linked = linkage(X, 'single')\n",
        "\n",
        "\n",
        "plt.figure(figsize=(10, 7))\n",
        "\n",
        "dendrogram(linked,\n",
        "            orientation='top',\n",
        "            labels=agglomerative_clustering.labels_,\n",
        "            distance_sort='descending',\n",
        "            show_leaf_counts=True)\n",
        "\n",
        "plt.show()"
      ]
    },
    {
      "cell_type": "markdown",
      "id": "8c549040",
      "metadata": {
        "id": "8c549040"
      },
      "source": [
        "## GMM кластеризация"
      ]
    },
    {
      "cell_type": "code",
      "execution_count": 23,
      "id": "7925ed4d",
      "metadata": {
        "id": "7925ed4d"
      },
      "outputs": [],
      "source": [
        "# импортируем библиотеки numpy и sklearn\n",
        "import numpy as np\n",
        "from sklearn.mixture import GaussianMixture\n",
        "\n",
        "\n",
        "gm_clustering = GaussianMixture(n_components=3, random_state=42)\n",
        "\n",
        "# обучаем модель \n",
        "gm_clustering.fit(X)\n",
        "\n",
        "# для матрицы X получаем предсказания к какому кластеру принадлежат объекты\n",
        "gm_prediction = gm_clustering.predict(X)"
      ]
    },
    {
      "cell_type": "code",
      "execution_count": 24,
      "id": "4a8d7e2d",
      "metadata": {
        "colab": {
          "base_uri": "https://localhost:8080/",
          "height": 351
        },
        "id": "4a8d7e2d",
        "outputId": "54d615b3-eeba-46d1-dfeb-62eebb8152ee"
      },
      "outputs": [
        {
          "output_type": "stream",
          "name": "stderr",
          "text": [
            "/usr/local/lib/python3.8/dist-packages/seaborn/_decorators.py:36: FutureWarning: Pass the following variables as keyword args: x, y. From version 0.12, the only valid positional argument will be `data`, and passing other arguments without an explicit keyword will result in an error or misinterpretation.\n",
            "  warnings.warn(\n"
          ]
        },
        {
          "output_type": "execute_result",
          "data": {
            "text/plain": [
              "<matplotlib.axes._subplots.AxesSubplot at 0x7fac0901b070>"
            ]
          },
          "metadata": {},
          "execution_count": 24
        },
        {
          "output_type": "display_data",
          "data": {
            "text/plain": [
              "<Figure size 432x288 with 1 Axes>"
            ],
            "image/png": "[encoded data removed]"
          },
          "metadata": {}
        }
      ],
      "source": [
        "# sns.set_style(\"white\")\n",
        "sns.scatterplot(df.Attack, df.Defense, c=gm_prediction)"
      ]
    },
    {
      "cell_type": "markdown",
      "id": "a7cd6d30",
      "metadata": {
        "id": "a7cd6d30"
      },
      "source": [
        "## Спектральная кластеризация"
      ]
    },
    {
      "cell_type": "code",
      "execution_count": 29,
      "id": "7b747abb",
      "metadata": {
        "colab": {
          "base_uri": "https://localhost:8080/",
          "height": 424
        },
        "id": "7b747abb",
        "outputId": "9b6547d9-3d04-42f2-c651-d5533c9f2d63"
      },
      "outputs": [
        {
          "output_type": "execute_result",
          "data": {
            "text/plain": [
              "                      Name  Total   HP     Attack    Defense  Sp. Atk  \\\n",
              "0                Bulbasaur    318   45  77.634658  50.854702       65   \n",
              "1                  Ivysaur    405   60  67.454273  39.202323       80   \n",
              "2                 Venusaur    525   80  76.007423  47.605846      100   \n",
              "3    VenusaurMega Venusaur    625   80  77.828031  50.744911      122   \n",
              "4               Charmander    309   39  68.658104  37.890027       60   \n",
              "..                     ...    ...  ...        ...        ...      ...   \n",
              "201                 Skiddo    350   66  75.932190  50.498392       62   \n",
              "202                 Gogoat    531  123  76.919520  50.361511       97   \n",
              "203              Clauncher    330   50  76.038055  49.515184       58   \n",
              "204              Clawitzer    500   71  66.854449  40.217467      120   \n",
              "205              Volcanion    600   80  54.522347  33.504734      130   \n",
              "\n",
              "     Sp. Def  Speed  RealClusters  \n",
              "0         65     45             2  \n",
              "1         80     60             1  \n",
              "2        100     80             2  \n",
              "3        120     80             2  \n",
              "4         50     65             1  \n",
              "..       ...    ...           ...  \n",
              "201       57     52             2  \n",
              "202       81     68             2  \n",
              "203       63     44             2  \n",
              "204       89     59             1  \n",
              "205       90     70             0  \n",
              "\n",
              "[206 rows x 9 columns]"
            ],
            "text/html": [
              "\n",
              "  <div id=\"df-d313dec0-76ab-4416-9409-d69a3574c7fe\">\n",
              "    <div class=\"colab-df-container\">\n",
              "      <div>\n",
              "<style scoped>\n",
              "    .dataframe tbody tr th:only-of-type {\n",
              "        vertical-align: middle;\n",
              "    }\n",
              "\n",
              "    .dataframe tbody tr th {\n",
              "        vertical-align: top;\n",
              "    }\n",
              "\n",
              "    .dataframe thead th {\n",
              "        text-align: right;\n",
              "    }\n",
              "</style>\n",
              "<table border=\"1\" class=\"dataframe\">\n",
              "  <thead>\n",
              "    <tr style=\"text-align: right;\">\n",
              "      <th></th>\n",
              "      <th>Name</th>\n",
              "      <th>Total</th>\n",
              "      <th>HP</th>\n",
              "      <th>Attack</th>\n",
              "      <th>Defense</th>\n",
              "      <th>Sp. Atk</th>\n",
              "      <th>Sp. Def</th>\n",
              "      <th>Speed</th>\n",
              "      <th>RealClusters</th>\n",
              "    </tr>\n",
              "  </thead>\n",
              "  <tbody>\n",
              "    <tr>\n",
              "      <th>0</th>\n",
              "      <td>Bulbasaur</td>\n",
              "      <td>318</td>\n",
              "      <td>45</td>\n",
              "      <td>77.634658</td>\n",
              "      <td>50.854702</td>\n",
              "      <td>65</td>\n",
              "      <td>65</td>\n",
              "      <td>45</td>\n",
              "      <td>2</td>\n",
              "    </tr>\n",
              "    <tr>\n",
              "      <th>1</th>\n",
              "      <td>Ivysaur</td>\n",
              "      <td>405</td>\n",
              "      <td>60</td>\n",
              "      <td>67.454273</td>\n",
              "      <td>39.202323</td>\n",
              "      <td>80</td>\n",
              "      <td>80</td>\n",
              "      <td>60</td>\n",
              "      <td>1</td>\n",
              "    </tr>\n",
              "    <tr>\n",
              "      <th>2</th>\n",
              "      <td>Venusaur</td>\n",
              "      <td>525</td>\n",
              "      <td>80</td>\n",
              "      <td>76.007423</td>\n",
              "      <td>47.605846</td>\n",
              "      <td>100</td>\n",
              "      <td>100</td>\n",
              "      <td>80</td>\n",
              "      <td>2</td>\n",
              "    </tr>\n",
              "    <tr>\n",
              "      <th>3</th>\n",
              "      <td>VenusaurMega Venusaur</td>\n",
              "      <td>625</td>\n",
              "      <td>80</td>\n",
              "      <td>77.828031</td>\n",
              "      <td>50.744911</td>\n",
              "      <td>122</td>\n",
              "      <td>120</td>\n",
              "      <td>80</td>\n",
              "      <td>2</td>\n",
              "    </tr>\n",
              "    <tr>\n",
              "      <th>4</th>\n",
              "      <td>Charmander</td>\n",
              "      <td>309</td>\n",
              "      <td>39</td>\n",
              "      <td>68.658104</td>\n",
              "      <td>37.890027</td>\n",
              "      <td>60</td>\n",
              "      <td>50</td>\n",
              "      <td>65</td>\n",
              "      <td>1</td>\n",
              "    </tr>\n",
              "    <tr>\n",
              "      <th>...</th>\n",
              "      <td>...</td>\n",
              "      <td>...</td>\n",
              "      <td>...</td>\n",
              "      <td>...</td>\n",
              "      <td>...</td>\n",
              "      <td>...</td>\n",
              "      <td>...</td>\n",
              "      <td>...</td>\n",
              "      <td>...</td>\n",
              "    </tr>\n",
              "    <tr>\n",
              "      <th>201</th>\n",
              "      <td>Skiddo</td>\n",
              "      <td>350</td>\n",
              "      <td>66</td>\n",
              "      <td>75.932190</td>\n",
              "      <td>50.498392</td>\n",
              "      <td>62</td>\n",
              "      <td>57</td>\n",
              "      <td>52</td>\n",
              "      <td>2</td>\n",
              "    </tr>\n",
              "    <tr>\n",
              "      <th>202</th>\n",
              "      <td>Gogoat</td>\n",
              "      <td>531</td>\n",
              "      <td>123</td>\n",
              "      <td>76.919520</td>\n",
              "      <td>50.361511</td>\n",
              "      <td>97</td>\n",
              "      <td>81</td>\n",
              "      <td>68</td>\n",
              "      <td>2</td>\n",
              "    </tr>\n",
              "    <tr>\n",
              "      <th>203</th>\n",
              "      <td>Clauncher</td>\n",
              "      <td>330</td>\n",
              "      <td>50</td>\n",
              "      <td>76.038055</td>\n",
              "      <td>49.515184</td>\n",
              "      <td>58</td>\n",
              "      <td>63</td>\n",
              "      <td>44</td>\n",
              "      <td>2</td>\n",
              "    </tr>\n",
              "    <tr>\n",
              "      <th>204</th>\n",
              "      <td>Clawitzer</td>\n",
              "      <td>500</td>\n",
              "      <td>71</td>\n",
              "      <td>66.854449</td>\n",
              "      <td>40.217467</td>\n",
              "      <td>120</td>\n",
              "      <td>89</td>\n",
              "      <td>59</td>\n",
              "      <td>1</td>\n",
              "    </tr>\n",
              "    <tr>\n",
              "      <th>205</th>\n",
              "      <td>Volcanion</td>\n",
              "      <td>600</td>\n",
              "      <td>80</td>\n",
              "      <td>54.522347</td>\n",
              "      <td>33.504734</td>\n",
              "      <td>130</td>\n",
              "      <td>90</td>\n",
              "      <td>70</td>\n",
              "      <td>0</td>\n",
              "    </tr>\n",
              "  </tbody>\n",
              "</table>\n",
              "<p>206 rows × 9 columns</p>\n",
              "</div>\n",
              "      <button class=\"colab-df-convert\" onclick=\"convertToInteractive('df-d313dec0-76ab-4416-9409-d69a3574c7fe')\"\n",
              "              title=\"Convert this dataframe to an interactive table.\"\n",
              "              style=\"display:none;\">\n",
              "        \n",
              "  <svg xmlns=\"http://www.w3.org/2000/svg\" height=\"24px\"viewBox=\"0 0 24 24\"\n",
              "       width=\"24px\">\n",
              "    <path d=\"M0 0h24v24H0V0z\" fill=\"none\"/>\n",
              "    <path d=\"M18.56 5.44l.94 2.06.94-2.06 2.06-.94-2.06-.94-.94-2.06-.94 2.06-2.06.94zm-11 1L8.5 8.5l.94-2.06 2.06-.94-2.06-.94L8.5 2.5l-.94 2.06-2.06.94zm10 10l.94 2.06.94-2.06 2.06-.94-2.06-.94-.94-2.06-.94 2.06-2.06.94z\"/><path d=\"M17.41 7.96l-1.37-1.37c-.4-.4-.92-.59-1.43-.59-.52 0-1.04.2-1.43.59L10.3 9.45l-7.72 7.72c-.78.78-.78 2.05 0 2.83L4 21.41c.39.39.9.59 1.41.59.51 0 1.02-.2 1.41-.59l7.78-7.78 2.81-2.81c.8-.78.8-2.07 0-2.86zM5.41 20L4 18.59l7.72-7.72 1.47 1.35L5.41 20z\"/>\n",
              "  </svg>\n",
              "      </button>\n",
              "      \n",
              "  <style>\n",
              "    .colab-df-container {\n",
              "      display:flex;\n",
              "      flex-wrap:wrap;\n",
              "      gap: 12px;\n",
              "    }\n",
              "\n",
              "    .colab-df-convert {\n",
              "      background-color: #E8F0FE;\n",
              "      border: none;\n",
              "      border-radius: 50%;\n",
              "      cursor: pointer;\n",
              "      display: none;\n",
              "      fill: #1967D2;\n",
              "      height: 32px;\n",
              "      padding: 0 0 0 0;\n",
              "      width: 32px;\n",
              "    }\n",
              "\n",
              "    .colab-df-convert:hover {\n",
              "      background-color: #E2EBFA;\n",
              "      box-shadow: 0px 1px 2px rgba(60, 64, 67, 0.3), 0px 1px 3px 1px rgba(60, 64, 67, 0.15);\n",
              "      fill: #174EA6;\n",
              "    }\n",
              "\n",
              "    [theme=dark] .colab-df-convert {\n",
              "      background-color: #3B4455;\n",
              "      fill: #D2E3FC;\n",
              "    }\n",
              "\n",
              "    [theme=dark] .colab-df-convert:hover {\n",
              "      background-color: #434B5C;\n",
              "      box-shadow: 0px 1px 3px 1px rgba(0, 0, 0, 0.15);\n",
              "      filter: drop-shadow(0px 1px 2px rgba(0, 0, 0, 0.3));\n",
              "      fill: #FFFFFF;\n",
              "    }\n",
              "  </style>\n",
              "\n",
              "      <script>\n",
              "        const buttonEl =\n",
              "          document.querySelector('#df-d313dec0-76ab-4416-9409-d69a3574c7fe button.colab-df-convert');\n",
              "        buttonEl.style.display =\n",
              "          google.colab.kernel.accessAllowed ? 'block' : 'none';\n",
              "\n",
              "        async function convertToInteractive(key) {\n",
              "          const element = document.querySelector('#df-d313dec0-76ab-4416-9409-d69a3574c7fe');\n",
              "          const dataTable =\n",
              "            await google.colab.kernel.invokeFunction('convertToInteractive',\n",
              "                                                     [key], {});\n",
              "          if (!dataTable) return;\n",
              "\n",
              "          const docLinkHtml = 'Like what you see? Visit the ' +\n",
              "            '<a target=\"_blank\" href=https://colab.research.google.com/notebooks/data_table.ipynb>data table notebook</a>'\n",
              "            + ' to learn more about interactive tables.';\n",
              "          element.innerHTML = '';\n",
              "          dataTable['output_type'] = 'display_data';\n",
              "          await google.colab.output.renderOutput(dataTable, element);\n",
              "          const docLink = document.createElement('div');\n",
              "          docLink.innerHTML = docLinkHtml;\n",
              "          element.appendChild(docLink);\n",
              "        }\n",
              "      </script>\n",
              "    </div>\n",
              "  </div>\n",
              "  "
            ]
          },
          "metadata": {},
          "execution_count": 29
        }
      ],
      "source": [
        "df"
      ]
    },
    {
      "cell_type": "code",
      "execution_count": 32,
      "id": "85ad4cf0",
      "metadata": {
        "id": "85ad4cf0"
      },
      "outputs": [],
      "source": [
        "# вызываем из sklearn SpectralClustering \n",
        "from sklearn.cluster import SpectralClustering\n",
        "\n",
        "\n",
        "# запускаем кластеризацию \n",
        "spectral_clustering = SpectralClustering(n_clusters=4, n_init=1500, random_state=42)\n",
        "\n",
        "spectral_clustering.fit(df[['Attack', 'Defense']])\n",
        "# получаем результаты кластеризации\n",
        "spectral_predictions = spectral_clustering.labels_"
      ]
    },
    {
      "cell_type": "code",
      "execution_count": 33,
      "id": "b3e9acf7",
      "metadata": {
        "colab": {
          "base_uri": "https://localhost:8080/",
          "height": 351
        },
        "id": "b3e9acf7",
        "outputId": "dd915add-6696-43d2-f5db-b3500cc4a34a"
      },
      "outputs": [
        {
          "output_type": "stream",
          "name": "stderr",
          "text": [
            "/usr/local/lib/python3.8/dist-packages/seaborn/_decorators.py:36: FutureWarning: Pass the following variables as keyword args: x, y. From version 0.12, the only valid positional argument will be `data`, and passing other arguments without an explicit keyword will result in an error or misinterpretation.\n",
            "  warnings.warn(\n"
          ]
        },
        {
          "output_type": "execute_result",
          "data": {
            "text/plain": [
              "<matplotlib.axes._subplots.AxesSubplot at 0x7fabff88ba60>"
            ]
          },
          "metadata": {},
          "execution_count": 33
        },
        {
          "output_type": "display_data",
          "data": {
            "text/plain": [
              "<Figure size 432x288 with 1 Axes>"
            ],
            "image/png": "[encoded data removed]"
          },
          "metadata": {}
        }
      ],
      "source": [
        "sns.scatterplot( df.Attack, df.Defense, c=spectral_predictions)"
      ]
    },
    {
      "cell_type": "code",
      "source": [
        "data = pd.read_csv('housing.zip')\n",
        "data.head()"
      ],
      "metadata": {
        "colab": {
          "base_uri": "https://localhost:8080/",
          "height": 206
        },
        "id": "-vZXG7ZbFZNv",
        "outputId": "38633134-1a3c-4ec3-d3db-2315658f1713"
      },
      "id": "-vZXG7ZbFZNv",
      "execution_count": 25,
      "outputs": [
        {
          "output_type": "execute_result",
          "data": {
            "text/plain": [
              "       year      price\n",
              "0  0.081091  23.790515\n",
              "1  9.483270  10.784598\n",
              "2  9.901805  10.003782\n",
              "3  1.930438  21.879849\n",
              "4  1.618601  21.851806"
            ],
            "text/html": [
              "\n",
              "  <div id=\"df-d5394f35-b9ed-4b07-bbff-c7d3f092f0aa\">\n",
              "    <div class=\"colab-df-container\">\n",
              "      <div>\n",
              "<style scoped>\n",
              "    .dataframe tbody tr th:only-of-type {\n",
              "        vertical-align: middle;\n",
              "    }\n",
              "\n",
              "    .dataframe tbody tr th {\n",
              "        vertical-align: top;\n",
              "    }\n",
              "\n",
              "    .dataframe thead th {\n",
              "        text-align: right;\n",
              "    }\n",
              "</style>\n",
              "<table border=\"1\" class=\"dataframe\">\n",
              "  <thead>\n",
              "    <tr style=\"text-align: right;\">\n",
              "      <th></th>\n",
              "      <th>year</th>\n",
              "      <th>price</th>\n",
              "    </tr>\n",
              "  </thead>\n",
              "  <tbody>\n",
              "    <tr>\n",
              "      <th>0</th>\n",
              "      <td>0.081091</td>\n",
              "      <td>23.790515</td>\n",
              "    </tr>\n",
              "    <tr>\n",
              "      <th>1</th>\n",
              "      <td>9.483270</td>\n",
              "      <td>10.784598</td>\n",
              "    </tr>\n",
              "    <tr>\n",
              "      <th>2</th>\n",
              "      <td>9.901805</td>\n",
              "      <td>10.003782</td>\n",
              "    </tr>\n",
              "    <tr>\n",
              "      <th>3</th>\n",
              "      <td>1.930438</td>\n",
              "      <td>21.879849</td>\n",
              "    </tr>\n",
              "    <tr>\n",
              "      <th>4</th>\n",
              "      <td>1.618601</td>\n",
              "      <td>21.851806</td>\n",
              "    </tr>\n",
              "  </tbody>\n",
              "</table>\n",
              "</div>\n",
              "      <button class=\"colab-df-convert\" onclick=\"convertToInteractive('df-d5394f35-b9ed-4b07-bbff-c7d3f092f0aa')\"\n",
              "              title=\"Convert this dataframe to an interactive table.\"\n",
              "              style=\"display:none;\">\n",
              "        \n",
              "  <svg xmlns=\"http://www.w3.org/2000/svg\" height=\"24px\"viewBox=\"0 0 24 24\"\n",
              "       width=\"24px\">\n",
              "    <path d=\"M0 0h24v24H0V0z\" fill=\"none\"/>\n",
              "    <path d=\"M18.56 5.44l.94 2.06.94-2.06 2.06-.94-2.06-.94-.94-2.06-.94 2.06-2.06.94zm-11 1L8.5 8.5l.94-2.06 2.06-.94-2.06-.94L8.5 2.5l-.94 2.06-2.06.94zm10 10l.94 2.06.94-2.06 2.06-.94-2.06-.94-.94-2.06-.94 2.06-2.06.94z\"/><path d=\"M17.41 7.96l-1.37-1.37c-.4-.4-.92-.59-1.43-.59-.52 0-1.04.2-1.43.59L10.3 9.45l-7.72 7.72c-.78.78-.78 2.05 0 2.83L4 21.41c.39.39.9.59 1.41.59.51 0 1.02-.2 1.41-.59l7.78-7.78 2.81-2.81c.8-.78.8-2.07 0-2.86zM5.41 20L4 18.59l7.72-7.72 1.47 1.35L5.41 20z\"/>\n",
              "  </svg>\n",
              "      </button>\n",
              "      \n",
              "  <style>\n",
              "    .colab-df-container {\n",
              "      display:flex;\n",
              "      flex-wrap:wrap;\n",
              "      gap: 12px;\n",
              "    }\n",
              "\n",
              "    .colab-df-convert {\n",
              "      background-color: #E8F0FE;\n",
              "      border: none;\n",
              "      border-radius: 50%;\n",
              "      cursor: pointer;\n",
              "      display: none;\n",
              "      fill: #1967D2;\n",
              "      height: 32px;\n",
              "      padding: 0 0 0 0;\n",
              "      width: 32px;\n",
              "    }\n",
              "\n",
              "    .colab-df-convert:hover {\n",
              "      background-color: #E2EBFA;\n",
              "      box-shadow: 0px 1px 2px rgba(60, 64, 67, 0.3), 0px 1px 3px 1px rgba(60, 64, 67, 0.15);\n",
              "      fill: #174EA6;\n",
              "    }\n",
              "\n",
              "    [theme=dark] .colab-df-convert {\n",
              "      background-color: #3B4455;\n",
              "      fill: #D2E3FC;\n",
              "    }\n",
              "\n",
              "    [theme=dark] .colab-df-convert:hover {\n",
              "      background-color: #434B5C;\n",
              "      box-shadow: 0px 1px 3px 1px rgba(0, 0, 0, 0.15);\n",
              "      filter: drop-shadow(0px 1px 2px rgba(0, 0, 0, 0.3));\n",
              "      fill: #FFFFFF;\n",
              "    }\n",
              "  </style>\n",
              "\n",
              "      <script>\n",
              "        const buttonEl =\n",
              "          document.querySelector('#df-d5394f35-b9ed-4b07-bbff-c7d3f092f0aa button.colab-df-convert');\n",
              "        buttonEl.style.display =\n",
              "          google.colab.kernel.accessAllowed ? 'block' : 'none';\n",
              "\n",
              "        async function convertToInteractive(key) {\n",
              "          const element = document.querySelector('#df-d5394f35-b9ed-4b07-bbff-c7d3f092f0aa');\n",
              "          const dataTable =\n",
              "            await google.colab.kernel.invokeFunction('convertToInteractive',\n",
              "                                                     [key], {});\n",
              "          if (!dataTable) return;\n",
              "\n",
              "          const docLinkHtml = 'Like what you see? Visit the ' +\n",
              "            '<a target=\"_blank\" href=https://colab.research.google.com/notebooks/data_table.ipynb>data table notebook</a>'\n",
              "            + ' to learn more about interactive tables.';\n",
              "          element.innerHTML = '';\n",
              "          dataTable['output_type'] = 'display_data';\n",
              "          await google.colab.output.renderOutput(dataTable, element);\n",
              "          const docLink = document.createElement('div');\n",
              "          docLink.innerHTML = docLinkHtml;\n",
              "          element.appendChild(docLink);\n",
              "        }\n",
              "      </script>\n",
              "    </div>\n",
              "  </div>\n",
              "  "
            ]
          },
          "metadata": {},
          "execution_count": 25
        }
      ]
    },
    {
      "cell_type": "code",
      "source": [
        "gm_clustering = GaussianMixture(n_components=3, random_state=42)\n",
        "X = data[['year', 'price']]\n",
        "# обучаем модель \n",
        "gm_clustering.fit(X)\n",
        "\n",
        "# для матрицы X получаем предсказания к какому кластеру принадлежат объекты\n",
        "gm_prediction = gm_clustering.predict(X)\n",
        "# sns.set_style(\"white\")\n",
        "sns.scatterplot(data.year, data.price, c=gm_prediction)"
      ],
      "metadata": {
        "colab": {
          "base_uri": "https://localhost:8080/",
          "height": 351
        },
        "id": "SVf3IJ9eFhMD",
        "outputId": "311fabec-486a-4633-d903-6aaae1b8de65"
      },
      "id": "SVf3IJ9eFhMD",
      "execution_count": 28,
      "outputs": [
        {
          "output_type": "stream",
          "name": "stderr",
          "text": [
            "/usr/local/lib/python3.8/dist-packages/seaborn/_decorators.py:36: FutureWarning: Pass the following variables as keyword args: x, y. From version 0.12, the only valid positional argument will be `data`, and passing other arguments without an explicit keyword will result in an error or misinterpretation.\n",
            "  warnings.warn(\n"
          ]
        },
        {
          "output_type": "execute_result",
          "data": {
            "text/plain": [
              "<matplotlib.axes._subplots.AxesSubplot at 0x7fabff9f1f70>"
            ]
          },
          "metadata": {},
          "execution_count": 28
        },
        {
          "output_type": "display_data",
          "data": {
            "text/plain": [
              "<Figure size 432x288 with 1 Axes>"
            ],
            "image/png": "[encoded data removed]"
          },
          "metadata": {}
        }
      ]
    },
    {
      "cell_type": "markdown",
      "id": "068b6910",
      "metadata": {
        "id": "068b6910"
      },
      "source": [
        "## DBSCAN"
      ]
    },
    {
      "cell_type": "code",
      "execution_count": 34,
      "id": "038b346f",
      "metadata": {
        "colab": {
          "base_uri": "https://localhost:8080/",
          "height": 424
        },
        "id": "038b346f",
        "outputId": "3113ab68-8a23-4de7-bc73-6f894b2e30b9"
      },
      "outputs": [
        {
          "output_type": "execute_result",
          "data": {
            "text/plain": [
              "                      Name  Total   HP     Attack    Defense  Sp. Atk  \\\n",
              "0                Bulbasaur    318   45  77.634658  50.854702       65   \n",
              "1                  Ivysaur    405   60  67.454273  39.202323       80   \n",
              "2                 Venusaur    525   80  76.007423  47.605846      100   \n",
              "3    VenusaurMega Venusaur    625   80  77.828031  50.744911      122   \n",
              "4               Charmander    309   39  68.658104  37.890027       60   \n",
              "..                     ...    ...  ...        ...        ...      ...   \n",
              "201                 Skiddo    350   66  75.932190  50.498392       62   \n",
              "202                 Gogoat    531  123  76.919520  50.361511       97   \n",
              "203              Clauncher    330   50  76.038055  49.515184       58   \n",
              "204              Clawitzer    500   71  66.854449  40.217467      120   \n",
              "205              Volcanion    600   80  54.522347  33.504734      130   \n",
              "\n",
              "     Sp. Def  Speed  RealClusters  \n",
              "0         65     45             2  \n",
              "1         80     60             1  \n",
              "2        100     80             2  \n",
              "3        120     80             2  \n",
              "4         50     65             1  \n",
              "..       ...    ...           ...  \n",
              "201       57     52             2  \n",
              "202       81     68             2  \n",
              "203       63     44             2  \n",
              "204       89     59             1  \n",
              "205       90     70             0  \n",
              "\n",
              "[206 rows x 9 columns]"
            ],
            "text/html": [
              "\n",
              "  <div id=\"df-3fd8c4b3-cbdd-43f1-92bd-cb5251e45361\">\n",
              "    <div class=\"colab-df-container\">\n",
              "      <div>\n",
              "<style scoped>\n",
              "    .dataframe tbody tr th:only-of-type {\n",
              "        vertical-align: middle;\n",
              "    }\n",
              "\n",
              "    .dataframe tbody tr th {\n",
              "        vertical-align: top;\n",
              "    }\n",
              "\n",
              "    .dataframe thead th {\n",
              "        text-align: right;\n",
              "    }\n",
              "</style>\n",
              "<table border=\"1\" class=\"dataframe\">\n",
              "  <thead>\n",
              "    <tr style=\"text-align: right;\">\n",
              "      <th></th>\n",
              "      <th>Name</th>\n",
              "      <th>Total</th>\n",
              "      <th>HP</th>\n",
              "      <th>Attack</th>\n",
              "      <th>Defense</th>\n",
              "      <th>Sp. Atk</th>\n",
              "      <th>Sp. Def</th>\n",
              "      <th>Speed</th>\n",
              "      <th>RealClusters</th>\n",
              "    </tr>\n",
              "  </thead>\n",
              "  <tbody>\n",
              "    <tr>\n",
              "      <th>0</th>\n",
              "      <td>Bulbasaur</td>\n",
              "      <td>318</td>\n",
              "      <td>45</td>\n",
              "      <td>77.634658</td>\n",
              "      <td>50.854702</td>\n",
              "      <td>65</td>\n",
              "      <td>65</td>\n",
              "      <td>45</td>\n",
              "      <td>2</td>\n",
              "    </tr>\n",
              "    <tr>\n",
              "      <th>1</th>\n",
              "      <td>Ivysaur</td>\n",
              "      <td>405</td>\n",
              "      <td>60</td>\n",
              "      <td>67.454273</td>\n",
              "      <td>39.202323</td>\n",
              "      <td>80</td>\n",
              "      <td>80</td>\n",
              "      <td>60</td>\n",
              "      <td>1</td>\n",
              "    </tr>\n",
              "    <tr>\n",
              "      <th>2</th>\n",
              "      <td>Venusaur</td>\n",
              "      <td>525</td>\n",
              "      <td>80</td>\n",
              "      <td>76.007423</td>\n",
              "      <td>47.605846</td>\n",
              "      <td>100</td>\n",
              "      <td>100</td>\n",
              "      <td>80</td>\n",
              "      <td>2</td>\n",
              "    </tr>\n",
              "    <tr>\n",
              "      <th>3</th>\n",
              "      <td>VenusaurMega Venusaur</td>\n",
              "      <td>625</td>\n",
              "      <td>80</td>\n",
              "      <td>77.828031</td>\n",
              "      <td>50.744911</td>\n",
              "      <td>122</td>\n",
              "      <td>120</td>\n",
              "      <td>80</td>\n",
              "      <td>2</td>\n",
              "    </tr>\n",
              "    <tr>\n",
              "      <th>4</th>\n",
              "      <td>Charmander</td>\n",
              "      <td>309</td>\n",
              "      <td>39</td>\n",
              "      <td>68.658104</td>\n",
              "      <td>37.890027</td>\n",
              "      <td>60</td>\n",
              "      <td>50</td>\n",
              "      <td>65</td>\n",
              "      <td>1</td>\n",
              "    </tr>\n",
              "    <tr>\n",
              "      <th>...</th>\n",
              "      <td>...</td>\n",
              "      <td>...</td>\n",
              "      <td>...</td>\n",
              "      <td>...</td>\n",
              "      <td>...</td>\n",
              "      <td>...</td>\n",
              "      <td>...</td>\n",
              "      <td>...</td>\n",
              "      <td>...</td>\n",
              "    </tr>\n",
              "    <tr>\n",
              "      <th>201</th>\n",
              "      <td>Skiddo</td>\n",
              "      <td>350</td>\n",
              "      <td>66</td>\n",
              "      <td>75.932190</td>\n",
              "      <td>50.498392</td>\n",
              "      <td>62</td>\n",
              "      <td>57</td>\n",
              "      <td>52</td>\n",
              "      <td>2</td>\n",
              "    </tr>\n",
              "    <tr>\n",
              "      <th>202</th>\n",
              "      <td>Gogoat</td>\n",
              "      <td>531</td>\n",
              "      <td>123</td>\n",
              "      <td>76.919520</td>\n",
              "      <td>50.361511</td>\n",
              "      <td>97</td>\n",
              "      <td>81</td>\n",
              "      <td>68</td>\n",
              "      <td>2</td>\n",
              "    </tr>\n",
              "    <tr>\n",
              "      <th>203</th>\n",
              "      <td>Clauncher</td>\n",
              "      <td>330</td>\n",
              "      <td>50</td>\n",
              "      <td>76.038055</td>\n",
              "      <td>49.515184</td>\n",
              "      <td>58</td>\n",
              "      <td>63</td>\n",
              "      <td>44</td>\n",
              "      <td>2</td>\n",
              "    </tr>\n",
              "    <tr>\n",
              "      <th>204</th>\n",
              "      <td>Clawitzer</td>\n",
              "      <td>500</td>\n",
              "      <td>71</td>\n",
              "      <td>66.854449</td>\n",
              "      <td>40.217467</td>\n",
              "      <td>120</td>\n",
              "      <td>89</td>\n",
              "      <td>59</td>\n",
              "      <td>1</td>\n",
              "    </tr>\n",
              "    <tr>\n",
              "      <th>205</th>\n",
              "      <td>Volcanion</td>\n",
              "      <td>600</td>\n",
              "      <td>80</td>\n",
              "      <td>54.522347</td>\n",
              "      <td>33.504734</td>\n",
              "      <td>130</td>\n",
              "      <td>90</td>\n",
              "      <td>70</td>\n",
              "      <td>0</td>\n",
              "    </tr>\n",
              "  </tbody>\n",
              "</table>\n",
              "<p>206 rows × 9 columns</p>\n",
              "</div>\n",
              "      <button class=\"colab-df-convert\" onclick=\"convertToInteractive('df-3fd8c4b3-cbdd-43f1-92bd-cb5251e45361')\"\n",
              "              title=\"Convert this dataframe to an interactive table.\"\n",
              "              style=\"display:none;\">\n",
              "        \n",
              "  <svg xmlns=\"http://www.w3.org/2000/svg\" height=\"24px\"viewBox=\"0 0 24 24\"\n",
              "       width=\"24px\">\n",
              "    <path d=\"M0 0h24v24H0V0z\" fill=\"none\"/>\n",
              "    <path d=\"M18.56 5.44l.94 2.06.94-2.06 2.06-.94-2.06-.94-.94-2.06-.94 2.06-2.06.94zm-11 1L8.5 8.5l.94-2.06 2.06-.94-2.06-.94L8.5 2.5l-.94 2.06-2.06.94zm10 10l.94 2.06.94-2.06 2.06-.94-2.06-.94-.94-2.06-.94 2.06-2.06.94z\"/><path d=\"M17.41 7.96l-1.37-1.37c-.4-.4-.92-.59-1.43-.59-.52 0-1.04.2-1.43.59L10.3 9.45l-7.72 7.72c-.78.78-.78 2.05 0 2.83L4 21.41c.39.39.9.59 1.41.59.51 0 1.02-.2 1.41-.59l7.78-7.78 2.81-2.81c.8-.78.8-2.07 0-2.86zM5.41 20L4 18.59l7.72-7.72 1.47 1.35L5.41 20z\"/>\n",
              "  </svg>\n",
              "      </button>\n",
              "      \n",
              "  <style>\n",
              "    .colab-df-container {\n",
              "      display:flex;\n",
              "      flex-wrap:wrap;\n",
              "      gap: 12px;\n",
              "    }\n",
              "\n",
              "    .colab-df-convert {\n",
              "      background-color: #E8F0FE;\n",
              "      border: none;\n",
              "      border-radius: 50%;\n",
              "      cursor: pointer;\n",
              "      display: none;\n",
              "      fill: #1967D2;\n",
              "      height: 32px;\n",
              "      padding: 0 0 0 0;\n",
              "      width: 32px;\n",
              "    }\n",
              "\n",
              "    .colab-df-convert:hover {\n",
              "      background-color: #E2EBFA;\n",
              "      box-shadow: 0px 1px 2px rgba(60, 64, 67, 0.3), 0px 1px 3px 1px rgba(60, 64, 67, 0.15);\n",
              "      fill: #174EA6;\n",
              "    }\n",
              "\n",
              "    [theme=dark] .colab-df-convert {\n",
              "      background-color: #3B4455;\n",
              "      fill: #D2E3FC;\n",
              "    }\n",
              "\n",
              "    [theme=dark] .colab-df-convert:hover {\n",
              "      background-color: #434B5C;\n",
              "      box-shadow: 0px 1px 3px 1px rgba(0, 0, 0, 0.15);\n",
              "      filter: drop-shadow(0px 1px 2px rgba(0, 0, 0, 0.3));\n",
              "      fill: #FFFFFF;\n",
              "    }\n",
              "  </style>\n",
              "\n",
              "      <script>\n",
              "        const buttonEl =\n",
              "          document.querySelector('#df-3fd8c4b3-cbdd-43f1-92bd-cb5251e45361 button.colab-df-convert');\n",
              "        buttonEl.style.display =\n",
              "          google.colab.kernel.accessAllowed ? 'block' : 'none';\n",
              "\n",
              "        async function convertToInteractive(key) {\n",
              "          const element = document.querySelector('#df-3fd8c4b3-cbdd-43f1-92bd-cb5251e45361');\n",
              "          const dataTable =\n",
              "            await google.colab.kernel.invokeFunction('convertToInteractive',\n",
              "                                                     [key], {});\n",
              "          if (!dataTable) return;\n",
              "\n",
              "          const docLinkHtml = 'Like what you see? Visit the ' +\n",
              "            '<a target=\"_blank\" href=https://colab.research.google.com/notebooks/data_table.ipynb>data table notebook</a>'\n",
              "            + ' to learn more about interactive tables.';\n",
              "          element.innerHTML = '';\n",
              "          dataTable['output_type'] = 'display_data';\n",
              "          await google.colab.output.renderOutput(dataTable, element);\n",
              "          const docLink = document.createElement('div');\n",
              "          docLink.innerHTML = docLinkHtml;\n",
              "          element.appendChild(docLink);\n",
              "        }\n",
              "      </script>\n",
              "    </div>\n",
              "  </div>\n",
              "  "
            ]
          },
          "metadata": {},
          "execution_count": 34
        }
      ],
      "source": [
        "df"
      ]
    },
    {
      "cell_type": "code",
      "execution_count": 35,
      "id": "fe3902e0",
      "metadata": {
        "colab": {
          "base_uri": "https://localhost:8080/",
          "height": 351
        },
        "id": "fe3902e0",
        "outputId": "eccdd30a-5d91-4647-c1e7-a7deaa6f3ade"
      },
      "outputs": [
        {
          "output_type": "stream",
          "name": "stderr",
          "text": [
            "/usr/local/lib/python3.8/dist-packages/seaborn/_decorators.py:36: FutureWarning: Pass the following variables as keyword args: x, y. From version 0.12, the only valid positional argument will be `data`, and passing other arguments without an explicit keyword will result in an error or misinterpretation.\n",
            "  warnings.warn(\n"
          ]
        },
        {
          "output_type": "execute_result",
          "data": {
            "text/plain": [
              "<matplotlib.axes._subplots.AxesSubplot at 0x7fabff7e3ee0>"
            ]
          },
          "metadata": {},
          "execution_count": 35
        },
        {
          "output_type": "display_data",
          "data": {
            "text/plain": [
              "<Figure size 432x288 with 1 Axes>"
            ],
            "image/png": "[encoded data removed]"
          },
          "metadata": {}
        }
      ],
      "source": [
        "# импортируем DBSCAN кластеризацию\n",
        "from sklearn.cluster import DBSCAN\n",
        "\n",
        "#запускаем кластеризацию на наших данных\n",
        "clustering = DBSCAN(eps=3, min_samples=3).fit(df[['Attack', 'Defense']])\n",
        "\n",
        "# Далее можно визуализировать результаты, как мы делали с алгоритмом k-means\n",
        "sns.scatterplot(df.Attack, df.Defense, c=clustering.labels_)"
      ]
    },
    {
      "cell_type": "code",
      "source": [
        "gm_clustering = GaussianMixture(n_components=3, random_state=42)\n",
        "X = data[['year', 'price']]\n",
        "# обучаем модель \n",
        "clustering = DBSCAN(eps = 0.7, min_samples = 6).fit(X)\n",
        "\n",
        "\n",
        "# sns.set_style(\"white\")\n",
        "sns.scatterplot(data.year, data.price, c=clustering.labels_)"
      ],
      "metadata": {
        "colab": {
          "base_uri": "https://localhost:8080/",
          "height": 351
        },
        "id": "4w6qP2WqJC13",
        "outputId": "65bf60ff-28c5-4f1f-e7ac-5fd1ab40b74a"
      },
      "id": "4w6qP2WqJC13",
      "execution_count": 44,
      "outputs": [
        {
          "output_type": "stream",
          "name": "stderr",
          "text": [
            "/usr/local/lib/python3.8/dist-packages/seaborn/_decorators.py:36: FutureWarning: Pass the following variables as keyword args: x, y. From version 0.12, the only valid positional argument will be `data`, and passing other arguments without an explicit keyword will result in an error or misinterpretation.\n",
            "  warnings.warn(\n"
          ]
        },
        {
          "output_type": "execute_result",
          "data": {
            "text/plain": [
              "<matplotlib.axes._subplots.AxesSubplot at 0x7fabffea8a00>"
            ]
          },
          "metadata": {},
          "execution_count": 44
        },
        {
          "output_type": "display_data",
          "data": {
            "text/plain": [
              "<Figure size 432x288 with 1 Axes>"
            ],
            "image/png": "[encoded data removed]"
          },
          "metadata": {}
        }
      ]
    },
    {
      "cell_type": "code",
      "execution_count": null,
      "id": "a6a09faa",
      "metadata": {
        "id": "a6a09faa"
      },
      "outputs": [],
      "source": []
    }
  ],
  "metadata": {
    "kernelspec": {
      "display_name": "Python 3 (ipykernel)",
      "language": "python",
      "name": "python3"
    },
    "language_info": {
      "codemirror_mode": {
        "name": "ipython",
        "version": 3
      },
      "file_extension": ".py",
      "mimetype": "text/x-python",
      "name": "python",
      "nbconvert_exporter": "python",
      "pygments_lexer": "ipython3",
      "version": "3.10.0"
    },
    "colab": {
      "provenance": [],
      "include_colab_link": true
    }
  },
  "nbformat": 4,
  "nbformat_minor": 5
}