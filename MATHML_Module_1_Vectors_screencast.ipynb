{
  "nbformat": 4,
  "nbformat_minor": 0,
  "metadata": {
    "colab": {
      "provenance": [],
      "include_colab_link": true
    },
    "kernelspec": {
      "display_name": "Python 3",
      "language": "python",
      "name": "python3"
    },
    "language_info": {
      "codemirror_mode": {
        "name": "ipython",
        "version": 3
      },
      "file_extension": ".py",
      "mimetype": "text/x-python",
      "name": "python",
      "nbconvert_exporter": "python",
      "pygments_lexer": "ipython3",
      "version": "3.7.3"
    }
  },
  "cells": [
    {
      "cell_type": "markdown",
      "metadata": {
        "id": "view-in-github",
        "colab_type": "text"
      },
      "source": [
        "<a href=\"https://colab.research.google.com/github/TimkaThymineTimiryazevskaya/sf_data_science/blob/main/MATHML_Module_1_Vectors_screencast.ipynb\" target=\"_parent\"><img src=\"https://colab.research.google.com/assets/colab-badge.svg\" alt=\"Open In Colab\"/></a>"
      ]
    },
    {
      "cell_type": "code",
      "metadata": {
        "id": "Tc7xkEvkymVV"
      },
      "source": [
        "\n",
        "import numpy as np"
      ],
      "execution_count": 1,
      "outputs": []
    },
    {
      "cell_type": "code",
      "metadata": {
        "id": "vJHPEH0xymVm"
      },
      "source": [
        "# как создать вектор?\n"
      ],
      "execution_count": null,
      "outputs": []
    },
    {
      "cell_type": "code",
      "metadata": {
        "id": "Cnl8HEfuymVq",
        "colab": {
          "base_uri": "https://localhost:8080/"
        },
        "outputId": "a729aed6-4051-4395-9ba8-f306e2c48a00"
      },
      "source": [
        "# как одномерный массив numpy\n",
        "a=np.array([1,2,3])\n",
        "print(a, type(a))"
      ],
      "execution_count": 2,
      "outputs": [
        {
          "output_type": "stream",
          "name": "stdout",
          "text": [
            "[1 2 3] <class 'numpy.ndarray'>\n"
          ]
        }
      ]
    },
    {
      "cell_type": "code",
      "metadata": {
        "id": "Z_4zzU8rymVw",
        "colab": {
          "base_uri": "https://localhost:8080/"
        },
        "outputId": "1ab69d47-2e4d-40fa-bd9a-be2a74f7e0e5"
      },
      "source": [
        "np.array([1,2,3], dtype='float')"
      ],
      "execution_count": 3,
      "outputs": [
        {
          "output_type": "execute_result",
          "data": {
            "text/plain": [
              "array([1., 2., 3.])"
            ]
          },
          "metadata": {},
          "execution_count": 3
        }
      ]
    },
    {
      "cell_type": "code",
      "metadata": {
        "id": "FLn74OREymVz",
        "colab": {
          "base_uri": "https://localhost:8080/"
        },
        "outputId": "eaeae81d-d7c9-4b2f-ef40-6871fafaac92"
      },
      "source": [
        "# преобразовать из списка (list)\n",
        "x=[1,2,3]\n",
        "x_arr=np.array(x)\n",
        "print(x, type(x))\n",
        "print(x_arr, type(x_arr))"
      ],
      "execution_count": 4,
      "outputs": [
        {
          "output_type": "stream",
          "name": "stdout",
          "text": [
            "[1, 2, 3] <class 'list'>\n",
            "[1 2 3] <class 'numpy.ndarray'>\n"
          ]
        }
      ]
    },
    {
      "cell_type": "code",
      "metadata": {
        "id": "nGkg5GBwymV3",
        "colab": {
          "base_uri": "https://localhost:8080/"
        },
        "outputId": "3cfc0633-70ff-45ff-fe56-46c48a8ee5d2"
      },
      "source": [
        "# нулевой вектор\n",
        "np.zeros(5) "
      ],
      "execution_count": 5,
      "outputs": [
        {
          "output_type": "execute_result",
          "data": {
            "text/plain": [
              "array([0., 0., 0., 0., 0.])"
            ]
          },
          "metadata": {},
          "execution_count": 5
        }
      ]
    },
    {
      "cell_type": "code",
      "metadata": {
        "id": "LUDaxkcJymV6",
        "colab": {
          "base_uri": "https://localhost:8080/"
        },
        "outputId": "c7d0bfa9-ff52-4d9d-dc13-1e8d604d56c0"
      },
      "source": [
        "# вектор из единиц\n",
        "np.ones(8)"
      ],
      "execution_count": 6,
      "outputs": [
        {
          "output_type": "execute_result",
          "data": {
            "text/plain": [
              "array([1., 1., 1., 1., 1., 1., 1., 1.])"
            ]
          },
          "metadata": {},
          "execution_count": 6
        }
      ]
    },
    {
      "cell_type": "code",
      "metadata": {
        "id": "4JJrxHdLymWB",
        "colab": {
          "base_uri": "https://localhost:8080/"
        },
        "outputId": "fd4d2fdf-2999-4dd8-d3de-b501cf0f6164"
      },
      "source": [
        "# массив чисел по порядку\n",
        "np.arange(10,50, 5)"
      ],
      "execution_count": 7,
      "outputs": [
        {
          "output_type": "execute_result",
          "data": {
            "text/plain": [
              "array([10, 15, 20, 25, 30, 35, 40, 45])"
            ]
          },
          "metadata": {},
          "execution_count": 7
        }
      ]
    },
    {
      "cell_type": "code",
      "metadata": {
        "id": "ul4_CKIkymWF",
        "colab": {
          "base_uri": "https://localhost:8080/"
        },
        "outputId": "4945ae06-7bd9-413a-97f5-91bda1f57bb2"
      },
      "source": [
        "# случайный вектор\n",
        "np.random.randint(-4, 2, 10) # dim=10, случаные целые числа от -4 до 2"
      ],
      "execution_count": 8,
      "outputs": [
        {
          "output_type": "execute_result",
          "data": {
            "text/plain": [
              "array([-3, -3,  1,  0, -1,  0, -4,  0, -1,  0])"
            ]
          },
          "metadata": {},
          "execution_count": 8
        }
      ]
    },
    {
      "cell_type": "code",
      "metadata": {
        "id": "xSF7nv58ymWJ",
        "colab": {
          "base_uri": "https://localhost:8080/"
        },
        "outputId": "fd7ba32b-0ec6-4820-ea90-1d969926c5dd"
      },
      "source": [
        "# преобразовать из Pandas Series\n",
        "import pandas as pd\n",
        "data = [65, 70, 120, 35]\n",
        "s = pd.Series(data)\n",
        "print('Series:\\n',s)"
      ],
      "execution_count": 9,
      "outputs": [
        {
          "output_type": "stream",
          "name": "stdout",
          "text": [
            "Series:\n",
            " 0     65\n",
            "1     70\n",
            "2    120\n",
            "3     35\n",
            "dtype: int64\n"
          ]
        }
      ]
    },
    {
      "cell_type": "code",
      "metadata": {
        "id": "znujxj8aymWO",
        "colab": {
          "base_uri": "https://localhost:8080/"
        },
        "outputId": "916782ea-56c2-46df-bd57-4af2704d4fae"
      },
      "source": [
        "x = s.values # возвращает значения s\n",
        "print('vector:\\n',x)\n",
        "print('type of x:',type(x))"
      ],
      "execution_count": 10,
      "outputs": [
        {
          "output_type": "stream",
          "name": "stdout",
          "text": [
            "vector:\n",
            " [ 65  70 120  35]\n",
            "type of x: <class 'numpy.ndarray'>\n"
          ]
        }
      ]
    },
    {
      "cell_type": "code",
      "metadata": {
        "id": "0ZYwt1ilymWU",
        "colab": {
          "base_uri": "https://localhost:8080/"
        },
        "outputId": "dfd020ba-fddd-4a9a-b19f-460272e95992"
      },
      "source": [
        "# преобразовать из Pandas DataFrame\n",
        "d = {'$$': [65, 70, 120, 35], '2.Area': [50, 52, 80, 33],'3.Rooms':[3,2,1,1], \n",
        "     '4.Floor':[5,12,10,3], '5.Demo':[8,4,5,10]}\n",
        "df = pd.DataFrame(d)\n",
        "print('Data Frame:\\n',df)"
      ],
      "execution_count": 11,
      "outputs": [
        {
          "output_type": "stream",
          "name": "stdout",
          "text": [
            "Data Frame:\n",
            "     $$  2.Area  3.Rooms  4.Floor  5.Demo\n",
            "0   65      50        3        5       8\n",
            "1   70      52        2       12       4\n",
            "2  120      80        1       10       5\n",
            "3   35      33        1        3      10\n"
          ]
        }
      ]
    },
    {
      "cell_type": "code",
      "metadata": {
        "id": "mnUU7al2ymWa",
        "colab": {
          "base_uri": "https://localhost:8080/"
        },
        "outputId": "0e366947-2008-4b1f-c284-10b828b47e3b"
      },
      "source": [
        "A = df.values # возвращает значения df\n",
        "print('Matrix:\\n',A)"
      ],
      "execution_count": 12,
      "outputs": [
        {
          "output_type": "stream",
          "name": "stdout",
          "text": [
            "Matrix:\n",
            " [[ 65  50   3   5   8]\n",
            " [ 70  52   2  12   4]\n",
            " [120  80   1  10   5]\n",
            " [ 35  33   1   3  10]]\n"
          ]
        }
      ]
    },
    {
      "cell_type": "code",
      "metadata": {
        "id": "w-4RhmRvymWf",
        "colab": {
          "base_uri": "https://localhost:8080/"
        },
        "outputId": "ba6183ed-3207-4788-df49-123ddd7ec50d"
      },
      "source": [
        "x=A[1] # вторая строка матрицы А\n",
        "print('Second apartment vector:\\n',x)\n",
        "print('type of x:',type(x))"
      ],
      "execution_count": 13,
      "outputs": [
        {
          "output_type": "stream",
          "name": "stdout",
          "text": [
            "Second apartment vector:\n",
            " [70 52  2 12  4]\n",
            "type of x: <class 'numpy.ndarray'>\n"
          ]
        }
      ]
    },
    {
      "cell_type": "code",
      "metadata": {
        "id": "W6_SwmjNymWj",
        "colab": {
          "base_uri": "https://localhost:8080/"
        },
        "outputId": "14b0e05e-d007-4bcc-f48d-a982b4aa6def"
      },
      "source": [
        "y=A[:,0] # первый столбец матрицы А\n",
        "print('$$ vector:\\n',y)"
      ],
      "execution_count": 14,
      "outputs": [
        {
          "output_type": "stream",
          "name": "stdout",
          "text": [
            "$$ vector:\n",
            " [ 65  70 120  35]\n"
          ]
        }
      ]
    },
    {
      "cell_type": "code",
      "metadata": {
        "id": "xBlKUENeymWn",
        "colab": {
          "base_uri": "https://localhost:8080/"
        },
        "outputId": "73ab2d0f-649f-4272-96fd-84a38c59958f"
      },
      "source": [
        "# индексация векторов - поиск нужной координаты\n",
        "print('$$ of 3 apartment:',y[2]) # третья координата"
      ],
      "execution_count": 15,
      "outputs": [
        {
          "output_type": "stream",
          "name": "stdout",
          "text": [
            "$$ of 3 apartment: 120\n"
          ]
        }
      ]
    },
    {
      "cell_type": "code",
      "metadata": {
        "id": "NOi0XzfMymWr",
        "colab": {
          "base_uri": "https://localhost:8080/"
        },
        "outputId": "0a1de196-b2e8-4166-e05d-536ea4e82323"
      },
      "source": [
        "# размерность вектора\n",
        "print('Number of apartments = dim(y):', len(y))"
      ],
      "execution_count": 16,
      "outputs": [
        {
          "output_type": "stream",
          "name": "stdout",
          "text": [
            "Number of apartments = dim(y): 4\n"
          ]
        }
      ]
    },
    {
      "cell_type": "code",
      "metadata": {
        "id": "Rhk38HtvymWy",
        "colab": {
          "base_uri": "https://localhost:8080/"
        },
        "outputId": "7a182dab-02f2-41f3-bd57-0ccd14785184"
      },
      "source": [
        "# сумма векторов и умножение на число\n",
        "a=np.array([1,2,3])\n",
        "b=np.array([6,7,8])\n",
        "print('a+b:',a+b)\n",
        "print('2a:',2*a)"
      ],
      "execution_count": 17,
      "outputs": [
        {
          "output_type": "stream",
          "name": "stdout",
          "text": [
            "a+b: [ 7  9 11]\n",
            "2a: [2 4 6]\n"
          ]
        }
      ]
    },
    {
      "cell_type": "code",
      "metadata": {
        "id": "GB9jEZniymW6",
        "colab": {
          "base_uri": "https://localhost:8080/"
        },
        "outputId": "9c49bba2-4529-41c8-c821-d62d6acb5b3f"
      },
      "source": [
        "# сумма списков и умножение на число не является векторной операцией!\n",
        "a_list=[1,2,3]\n",
        "b_list=[6,7,8]\n",
        "print('a+b:',a_list+b_list)\n",
        "print('2a:',2*a_list)"
      ],
      "execution_count": 18,
      "outputs": [
        {
          "output_type": "stream",
          "name": "stdout",
          "text": [
            "a+b: [1, 2, 3, 6, 7, 8]\n",
            "2a: [1, 2, 3, 1, 2, 3]\n"
          ]
        }
      ]
    },
    {
      "cell_type": "code",
      "metadata": {
        "id": "Uhem8xWDymXE",
        "colab": {
          "base_uri": "https://localhost:8080/"
        },
        "outputId": "879f3eb3-c22c-469d-b9f9-4c2edd86f257"
      },
      "source": [
        "# линейная комбинация с коэффициентами 2, 2, 3\n",
        "a=np.array([1,2,3])\n",
        "b=np.array([6,7,8])\n",
        "c=np.array([1,0,1])\n",
        "\n",
        "d=2*a+2*b+3*c\n",
        "print('linear combination:',d)"
      ],
      "execution_count": 19,
      "outputs": [
        {
          "output_type": "stream",
          "name": "stdout",
          "text": [
            "linear combination: [17 18 25]\n"
          ]
        }
      ]
    },
    {
      "cell_type": "code",
      "metadata": {
        "id": "5nG5tKovymXK",
        "colab": {
          "base_uri": "https://localhost:8080/"
        },
        "outputId": "9a9e8447-af7c-46ed-f012-7b39437a3008"
      },
      "source": [
        "# скалярное произведение\n",
        "\n",
        "s=np.dot(a,b)\n",
        "print('scalar product:',s)\n",
        "\n",
        "# покоординатное умножение\n",
        "print('coordinate product:',a*b)"
      ],
      "execution_count": 20,
      "outputs": [
        {
          "output_type": "stream",
          "name": "stdout",
          "text": [
            "scalar product: 44\n",
            "coordinate product: [ 6 14 24]\n"
          ]
        }
      ]
    },
    {
      "cell_type": "code",
      "metadata": {
        "id": "J9PPebk7ymXW",
        "colab": {
          "base_uri": "https://localhost:8080/"
        },
        "outputId": "4ab4e314-7027-4772-bbe9-442c9e24f078"
      },
      "source": [
        "# скалярное произведение - еще один способ\n",
        "s1=a@b\n",
        "print('scalar product:',s1)"
      ],
      "execution_count": 21,
      "outputs": [
        {
          "output_type": "stream",
          "name": "stdout",
          "text": [
            "scalar product: 44\n"
          ]
        }
      ]
    },
    {
      "cell_type": "code",
      "metadata": {
        "id": "Hpgi94aRymXa",
        "colab": {
          "base_uri": "https://localhost:8080/"
        },
        "outputId": "4ac686e6-8876-4636-a795-23acd45f8489"
      },
      "source": [
        "# длина вектора\n",
        "l=np.linalg.norm(a)\n",
        "print('length of a:',l)"
      ],
      "execution_count": 22,
      "outputs": [
        {
          "output_type": "stream",
          "name": "stdout",
          "text": [
            "length of a: 3.7416573867739413\n"
          ]
        }
      ]
    },
    {
      "cell_type": "code",
      "metadata": {
        "id": "-0HZq_wUymXi",
        "colab": {
          "base_uri": "https://localhost:8080/"
        },
        "outputId": "5d91f94b-ea80-4013-8c60-82cfe9823620"
      },
      "source": [
        "# нормировка\n",
        "a_norm=a/np.linalg.norm(a)\n",
        "print('a_norm:',a_norm)\n",
        "print('length of a_norm:',np.linalg.norm(a_norm))"
      ],
      "execution_count": 23,
      "outputs": [
        {
          "output_type": "stream",
          "name": "stdout",
          "text": [
            "a_norm: [0.26726124 0.53452248 0.80178373]\n",
            "length of a_norm: 1.0\n"
          ]
        }
      ]
    },
    {
      "cell_type": "code",
      "metadata": {
        "id": "RXKe-abRymXo",
        "colab": {
          "base_uri": "https://localhost:8080/"
        },
        "outputId": "f600b374-f30d-411b-e1ec-3a717ff33cbe"
      },
      "source": [
        "#пропорциональность и ортогональность\n",
        "a=np.array([1,2,1])\n",
        "b=a*2\n",
        "c=np.array([-1,1,-1])\n",
        "print('a:',a)\n",
        "print('b:',b)\n",
        "print('c:',c)"
      ],
      "execution_count": 24,
      "outputs": [
        {
          "output_type": "stream",
          "name": "stdout",
          "text": [
            "a: [1 2 1]\n",
            "b: [2 4 2]\n",
            "c: [-1  1 -1]\n"
          ]
        }
      ]
    },
    {
      "cell_type": "code",
      "metadata": {
        "id": "ze2-yWVDymXq",
        "colab": {
          "base_uri": "https://localhost:8080/"
        },
        "outputId": "518a08fd-1d9c-4ede-f68a-3a8001865ef3"
      },
      "source": [
        "#пропорциональность и ортогональность\n",
        "print(\"(a,b):\",np.dot(a,b))\n",
        "print(\"(a,c):\",np.dot(a,c))\n",
        "print(\"(b,c):\",np.dot(b,c))"
      ],
      "execution_count": 25,
      "outputs": [
        {
          "output_type": "stream",
          "name": "stdout",
          "text": [
            "(a,b): 12\n",
            "(a,c): 0\n",
            "(b,c): 0\n"
          ]
        }
      ]
    },
    {
      "cell_type": "code",
      "metadata": {
        "id": "AF7Z9P9WymXy",
        "colab": {
          "base_uri": "https://localhost:8080/"
        },
        "outputId": "05711a6c-7543-4714-dcbe-8484cfbe8a88"
      },
      "source": [
        "# попарная ортогональность - да\n",
        "a=np.array([1,0,1])\n",
        "b=np.array([0,1,0])\n",
        "c=np.array([1,0,-1])\n",
        "print('a:',a)\n",
        "print('b:',b)\n",
        "print('c:',c)"
      ],
      "execution_count": 26,
      "outputs": [
        {
          "output_type": "stream",
          "name": "stdout",
          "text": [
            "a: [1 0 1]\n",
            "b: [0 1 0]\n",
            "c: [ 1  0 -1]\n"
          ]
        }
      ]
    },
    {
      "cell_type": "code",
      "metadata": {
        "id": "F9Xi-O17ymX4",
        "colab": {
          "base_uri": "https://localhost:8080/"
        },
        "outputId": "7c0e0b2b-8222-4787-e03a-0fa89a98d1e5"
      },
      "source": [
        "# попарная ортогональность - да\n",
        "print('(a,b):',np.dot(a,b))\n",
        "print('(b,c):',np.dot(b,c))\n",
        "print('(a,c):',np.dot(a,c))"
      ],
      "execution_count": 27,
      "outputs": [
        {
          "output_type": "stream",
          "name": "stdout",
          "text": [
            "(a,b): 0\n",
            "(b,c): 0\n",
            "(a,c): 0\n"
          ]
        }
      ]
    },
    {
      "cell_type": "code",
      "metadata": {
        "id": "0JhrwPvPymX7",
        "colab": {
          "base_uri": "https://localhost:8080/"
        },
        "outputId": "cf21f47b-01ef-4fa7-e132-d294cdfcbbad"
      },
      "source": [
        "# попарная ортогональность - нет\n",
        "c1=np.array([1,0,4])\n",
        "print('a:',a)\n",
        "print('b:',b)\n",
        "print('с1:',c1)"
      ],
      "execution_count": 28,
      "outputs": [
        {
          "output_type": "stream",
          "name": "stdout",
          "text": [
            "a: [1 0 1]\n",
            "b: [0 1 0]\n",
            "с1: [1 0 4]\n"
          ]
        }
      ]
    },
    {
      "cell_type": "code",
      "metadata": {
        "id": "ZmeF_7G2ymX-",
        "colab": {
          "base_uri": "https://localhost:8080/"
        },
        "outputId": "e96e1499-7912-4ac2-af1f-d8952744d17d"
      },
      "source": [
        "# попарная ортогональность - нет\n",
        "print('(a,b):',a@b)\n",
        "print('(b,c1):',b@c1)\n",
        "print('(a,c1):',a@c1)"
      ],
      "execution_count": 29,
      "outputs": [
        {
          "output_type": "stream",
          "name": "stdout",
          "text": [
            "(a,b): 0\n",
            "(b,c1): 0\n",
            "(a,c1): 5\n"
          ]
        }
      ]
    },
    {
      "cell_type": "code",
      "metadata": {
        "id": "2djqzK80ymYE",
        "colab": {
          "base_uri": "https://localhost:8080/",
          "height": 206
        },
        "outputId": "9517a2bd-5833-47d7-b3cb-54f2daa01340"
      },
      "source": [
        "import pandas as pd\n",
        "\n",
        "Hut_Paradise_DF = pd.DataFrame({\n",
        "    '1.Rent': [65, 70, 120, 35, 40, 50, 100, 90, 85], \n",
        "    '2.Area': [50, 52, 80, 33, 33, 44, 80, 65, 65], \n",
        "    '3.Rooms':[3, 2, 1, 1, 1, 2, 4, 3, 2],\n",
        "    '4.Floor':[5, 12, 10, 3, 6, 13, 8, 21, 5], \n",
        "    '5.Demo two weeks':[8, 4, 5, 10, 20, 12, 5, 1, 10], \n",
        "    '6.Liv.Area': [37, 40, 65, 20, 16, 35, 60, 50, 40]\n",
        "})\n",
        "Hut_Paradise_DF.head()"
      ],
      "execution_count": 31,
      "outputs": [
        {
          "output_type": "execute_result",
          "data": {
            "text/plain": [
              "   1.Rent  2.Area  3.Rooms  4.Floor  5.Demo two weeks  6.Liv.Area\n",
              "0      65      50        3        5                 8          37\n",
              "1      70      52        2       12                 4          40\n",
              "2     120      80        1       10                 5          65\n",
              "3      35      33        1        3                10          20\n",
              "4      40      33        1        6                20          16"
            ],
            "text/html": [
              "\n",
              "  <div id=\"df-abebba30-e70e-4186-9762-9b96bd25e4a5\">\n",
              "    <div class=\"colab-df-container\">\n",
              "      <div>\n",
              "<style scoped>\n",
              "    .dataframe tbody tr th:only-of-type {\n",
              "        vertical-align: middle;\n",
              "    }\n",
              "\n",
              "    .dataframe tbody tr th {\n",
              "        vertical-align: top;\n",
              "    }\n",
              "\n",
              "    .dataframe thead th {\n",
              "        text-align: right;\n",
              "    }\n",
              "</style>\n",
              "<table border=\"1\" class=\"dataframe\">\n",
              "  <thead>\n",
              "    <tr style=\"text-align: right;\">\n",
              "      <th></th>\n",
              "      <th>1.Rent</th>\n",
              "      <th>2.Area</th>\n",
              "      <th>3.Rooms</th>\n",
              "      <th>4.Floor</th>\n",
              "      <th>5.Demo two weeks</th>\n",
              "      <th>6.Liv.Area</th>\n",
              "    </tr>\n",
              "  </thead>\n",
              "  <tbody>\n",
              "    <tr>\n",
              "      <th>0</th>\n",
              "      <td>65</td>\n",
              "      <td>50</td>\n",
              "      <td>3</td>\n",
              "      <td>5</td>\n",
              "      <td>8</td>\n",
              "      <td>37</td>\n",
              "    </tr>\n",
              "    <tr>\n",
              "      <th>1</th>\n",
              "      <td>70</td>\n",
              "      <td>52</td>\n",
              "      <td>2</td>\n",
              "      <td>12</td>\n",
              "      <td>4</td>\n",
              "      <td>40</td>\n",
              "    </tr>\n",
              "    <tr>\n",
              "      <th>2</th>\n",
              "      <td>120</td>\n",
              "      <td>80</td>\n",
              "      <td>1</td>\n",
              "      <td>10</td>\n",
              "      <td>5</td>\n",
              "      <td>65</td>\n",
              "    </tr>\n",
              "    <tr>\n",
              "      <th>3</th>\n",
              "      <td>35</td>\n",
              "      <td>33</td>\n",
              "      <td>1</td>\n",
              "      <td>3</td>\n",
              "      <td>10</td>\n",
              "      <td>20</td>\n",
              "    </tr>\n",
              "    <tr>\n",
              "      <th>4</th>\n",
              "      <td>40</td>\n",
              "      <td>33</td>\n",
              "      <td>1</td>\n",
              "      <td>6</td>\n",
              "      <td>20</td>\n",
              "      <td>16</td>\n",
              "    </tr>\n",
              "  </tbody>\n",
              "</table>\n",
              "</div>\n",
              "      <button class=\"colab-df-convert\" onclick=\"convertToInteractive('df-abebba30-e70e-4186-9762-9b96bd25e4a5')\"\n",
              "              title=\"Convert this dataframe to an interactive table.\"\n",
              "              style=\"display:none;\">\n",
              "        \n",
              "  <svg xmlns=\"http://www.w3.org/2000/svg\" height=\"24px\"viewBox=\"0 0 24 24\"\n",
              "       width=\"24px\">\n",
              "    <path d=\"M0 0h24v24H0V0z\" fill=\"none\"/>\n",
              "    <path d=\"M18.56 5.44l.94 2.06.94-2.06 2.06-.94-2.06-.94-.94-2.06-.94 2.06-2.06.94zm-11 1L8.5 8.5l.94-2.06 2.06-.94-2.06-.94L8.5 2.5l-.94 2.06-2.06.94zm10 10l.94 2.06.94-2.06 2.06-.94-2.06-.94-.94-2.06-.94 2.06-2.06.94z\"/><path d=\"M17.41 7.96l-1.37-1.37c-.4-.4-.92-.59-1.43-.59-.52 0-1.04.2-1.43.59L10.3 9.45l-7.72 7.72c-.78.78-.78 2.05 0 2.83L4 21.41c.39.39.9.59 1.41.59.51 0 1.02-.2 1.41-.59l7.78-7.78 2.81-2.81c.8-.78.8-2.07 0-2.86zM5.41 20L4 18.59l7.72-7.72 1.47 1.35L5.41 20z\"/>\n",
              "  </svg>\n",
              "      </button>\n",
              "      \n",
              "  <style>\n",
              "    .colab-df-container {\n",
              "      display:flex;\n",
              "      flex-wrap:wrap;\n",
              "      gap: 12px;\n",
              "    }\n",
              "\n",
              "    .colab-df-convert {\n",
              "      background-color: #E8F0FE;\n",
              "      border: none;\n",
              "      border-radius: 50%;\n",
              "      cursor: pointer;\n",
              "      display: none;\n",
              "      fill: #1967D2;\n",
              "      height: 32px;\n",
              "      padding: 0 0 0 0;\n",
              "      width: 32px;\n",
              "    }\n",
              "\n",
              "    .colab-df-convert:hover {\n",
              "      background-color: #E2EBFA;\n",
              "      box-shadow: 0px 1px 2px rgba(60, 64, 67, 0.3), 0px 1px 3px 1px rgba(60, 64, 67, 0.15);\n",
              "      fill: #174EA6;\n",
              "    }\n",
              "\n",
              "    [theme=dark] .colab-df-convert {\n",
              "      background-color: #3B4455;\n",
              "      fill: #D2E3FC;\n",
              "    }\n",
              "\n",
              "    [theme=dark] .colab-df-convert:hover {\n",
              "      background-color: #434B5C;\n",
              "      box-shadow: 0px 1px 3px 1px rgba(0, 0, 0, 0.15);\n",
              "      filter: drop-shadow(0px 1px 2px rgba(0, 0, 0, 0.3));\n",
              "      fill: #FFFFFF;\n",
              "    }\n",
              "  </style>\n",
              "\n",
              "      <script>\n",
              "        const buttonEl =\n",
              "          document.querySelector('#df-abebba30-e70e-4186-9762-9b96bd25e4a5 button.colab-df-convert');\n",
              "        buttonEl.style.display =\n",
              "          google.colab.kernel.accessAllowed ? 'block' : 'none';\n",
              "\n",
              "        async function convertToInteractive(key) {\n",
              "          const element = document.querySelector('#df-abebba30-e70e-4186-9762-9b96bd25e4a5');\n",
              "          const dataTable =\n",
              "            await google.colab.kernel.invokeFunction('convertToInteractive',\n",
              "                                                     [key], {});\n",
              "          if (!dataTable) return;\n",
              "\n",
              "          const docLinkHtml = 'Like what you see? Visit the ' +\n",
              "            '<a target=\"_blank\" href=https://colab.research.google.com/notebooks/data_table.ipynb>data table notebook</a>'\n",
              "            + ' to learn more about interactive tables.';\n",
              "          element.innerHTML = '';\n",
              "          dataTable['output_type'] = 'display_data';\n",
              "          await google.colab.output.renderOutput(dataTable, element);\n",
              "          const docLink = document.createElement('div');\n",
              "          docLink.innerHTML = docLinkHtml;\n",
              "          element.appendChild(docLink);\n",
              "        }\n",
              "      </script>\n",
              "    </div>\n",
              "  </div>\n",
              "  "
            ]
          },
          "metadata": {},
          "execution_count": 31
        }
      ]
    },
    {
      "cell_type": "code",
      "source": [
        "Hut_Paradise_values = Hut_Paradise_DF.values\n",
        "print(Hut_Paradise_values[4])"
      ],
      "metadata": {
        "colab": {
          "base_uri": "https://localhost:8080/"
        },
        "id": "byLWYNqTUN7q",
        "outputId": "754a21ca-aaad-4921-fdb5-460db2d85c5e"
      },
      "execution_count": 34,
      "outputs": [
        {
          "output_type": "stream",
          "name": "stdout",
          "text": [
            "[40 33  1  6 20 16]\n"
          ]
        }
      ]
    },
    {
      "cell_type": "code",
      "source": [
        "y = Hut_Paradise_values[:,3]\n",
        "print(y)"
      ],
      "metadata": {
        "colab": {
          "base_uri": "https://localhost:8080/"
        },
        "id": "Q9PULGz0UVZ_",
        "outputId": "2319cd54-9ae7-42e2-890a-23e3c496b70a"
      },
      "execution_count": 35,
      "outputs": [
        {
          "output_type": "stream",
          "name": "stdout",
          "text": [
            "[ 5 12 10  3  6 13  8 21  5]\n"
          ]
        }
      ]
    },
    {
      "cell_type": "code",
      "source": [
        "x = Hut_Paradise_values[:,1]-Hut_Paradise_values[:,5]\n",
        "print(x)"
      ],
      "metadata": {
        "colab": {
          "base_uri": "https://localhost:8080/"
        },
        "id": "cbvJ46keUzzL",
        "outputId": "4d531f44-4b71-45b9-baf4-d92eeeb93e90"
      },
      "execution_count": 36,
      "outputs": [
        {
          "output_type": "stream",
          "name": "stdout",
          "text": [
            "[13 12 15 13 17  9 20 15 25]\n"
          ]
        }
      ]
    },
    {
      "cell_type": "code",
      "source": [
        "a = np.array([10,20,30,15,5,40,20,8,20])\n",
        "a = a"
      ],
      "metadata": {
        "id": "NHx7XIxdVAxl"
      },
      "execution_count": 59,
      "outputs": []
    },
    {
      "cell_type": "code",
      "source": [
        "\n",
        "print(np.dot(a,Hut_Paradise_values[:,4]))"
      ],
      "metadata": {
        "colab": {
          "base_uri": "https://localhost:8080/"
        },
        "id": "DXk7i5TkVdBi",
        "outputId": "17065ec4-f3da-4bc6-be9f-90e4dd73591b"
      },
      "execution_count": 62,
      "outputs": [
        {
          "output_type": "stream",
          "name": "stdout",
          "text": [
            "1348\n"
          ]
        }
      ]
    },
    {
      "cell_type": "code",
      "source": [
        "time=np.array([10,20,30,15,5,40,20,8,20])\n",
        "print(Hut_Paradise_values[:,4] @ time)"
      ],
      "metadata": {
        "colab": {
          "base_uri": "https://localhost:8080/"
        },
        "id": "APgbUwnIVgPK",
        "outputId": "9a472820-20ed-427c-fa70-049588fac8ad"
      },
      "execution_count": 61,
      "outputs": [
        {
          "output_type": "stream",
          "name": "stdout",
          "text": [
            "1348\n"
          ]
        }
      ]
    },
    {
      "cell_type": "code",
      "source": [
        "u=np.array([3,0,1,1,1])\n",
        "v=np.array([0,1,0,2,-2])\n",
        "w=np.array([1,-4,-1,0,-2])"
      ],
      "metadata": {
        "id": "GNX0vsZgWQ6G"
      },
      "execution_count": 63,
      "outputs": []
    },
    {
      "cell_type": "code",
      "source": [
        "print(2*v-3*w)"
      ],
      "metadata": {
        "colab": {
          "base_uri": "https://localhost:8080/"
        },
        "id": "KoZ2W2biWd4i",
        "outputId": "72a1803a-e83f-4e92-82c4-ca08abcb5a1b"
      },
      "execution_count": 64,
      "outputs": [
        {
          "output_type": "stream",
          "name": "stdout",
          "text": [
            "[-3 14  3  4  2]\n"
          ]
        }
      ]
    },
    {
      "cell_type": "code",
      "source": [
        "print(np.dot(u, 2*v-3*w))"
      ],
      "metadata": {
        "colab": {
          "base_uri": "https://localhost:8080/"
        },
        "id": "IzWZVxsvWilK",
        "outputId": "e07d64ab-0be2-4d0e-c5f7-156b7c50e841"
      },
      "execution_count": 65,
      "outputs": [
        {
          "output_type": "stream",
          "name": "stdout",
          "text": [
            "0\n"
          ]
        }
      ]
    },
    {
      "cell_type": "code",
      "source": [],
      "metadata": {
        "id": "VSVck1Z2Wp6U"
      },
      "execution_count": null,
      "outputs": []
    }
  ]
}