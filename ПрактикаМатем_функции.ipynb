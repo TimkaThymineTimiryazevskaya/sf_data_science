{
  "cells": [
    {
      "cell_type": "markdown",
      "metadata": {
        "id": "view-in-github",
        "colab_type": "text"
      },
      "source": [
        "<a href=\"https://colab.research.google.com/github/TimkaThymineTimiryazevskaya/sf_data_science/blob/main/%D0%9F%D1%80%D0%B0%D0%BA%D1%82%D0%B8%D0%BA%D0%B0%D0%9C%D0%B0%D1%82%D0%B5%D0%BC_%D1%84%D1%83%D0%BD%D0%BA%D1%86%D0%B8%D0%B8.ipynb\" target=\"_parent\"><img src=\"https://colab.research.google.com/assets/colab-badge.svg\" alt=\"Open In Colab\"/></a>"
      ]
    },
    {
      "cell_type": "markdown",
      "id": "f468bf1e",
      "metadata": {
        "id": "f468bf1e"
      },
      "source": [
        "## Область определения"
      ]
    },
    {
      "cell_type": "code",
      "execution_count": 1,
      "id": "c95eac41",
      "metadata": {
        "colab": {
          "base_uri": "https://localhost:8080/",
          "height": 37
        },
        "id": "c95eac41",
        "outputId": "52558e73-9bbc-4f15-b87e-f3d42e4a6363"
      },
      "outputs": [
        {
          "output_type": "execute_result",
          "data": {
            "text/plain": [
              "Union(Interval.open(-oo, -1), Interval.open(-1, 1), Interval.open(1, oo))"
            ],
            "text/latex": "$\\displaystyle \\left(-\\infty, -1\\right) \\cup \\left(-1, 1\\right) \\cup \\left(1, \\infty\\right)$"
          },
          "metadata": {},
          "execution_count": 1
        }
      ],
      "source": [
        "from sympy import Symbol, S\n",
        "from sympy.calculus.util import continuous_domain \n",
        "x = Symbol(\"x\") \n",
        "f = (x**3)/(x**2-1) \n",
        "continuous_domain(f, x, S.Reals)\n"
      ]
    },
    {
      "cell_type": "markdown",
      "id": "3def5ae7",
      "metadata": {
        "id": "3def5ae7"
      },
      "source": [
        "## Область значений функции"
      ]
    },
    {
      "cell_type": "code",
      "execution_count": 2,
      "id": "84f388ff",
      "metadata": {
        "colab": {
          "base_uri": "https://localhost:8080/",
          "height": 37
        },
        "id": "84f388ff",
        "outputId": "885f5851-e556-423b-c9af-2ebbf23b8eac"
      },
      "outputs": [
        {
          "output_type": "execute_result",
          "data": {
            "text/plain": [
              "Interval(-oo, oo)"
            ],
            "text/latex": "$\\displaystyle \\left(-\\infty, \\infty\\right)$"
          },
          "metadata": {},
          "execution_count": 2
        }
      ],
      "source": [
        "from sympy import Symbol, S\n",
        "from sympy.calculus.util import function_range\n",
        "x = Symbol(\"x\") \n",
        "f = (x**3)/(x**2-1) \n"
      ]
    },
    {
      "cell_type": "markdown",
      "id": "39726364",
      "metadata": {
        "id": "39726364"
      },
      "source": [
        "## Нахождение точек пересечения с осями координат"
      ]
    },
    {
      "cell_type": "code",
      "execution_count": 3,
      "id": "c484f33f",
      "metadata": {
        "colab": {
          "base_uri": "https://localhost:8080/",
          "height": 37
        },
        "id": "c484f33f",
        "outputId": "eb9ed57d-5c56-421b-b651-48cf87b8fd14"
      },
      "outputs": [
        {
          "output_type": "execute_result",
          "data": {
            "text/plain": [
              "{0}"
            ],
            "text/latex": "$\\displaystyle \\left\\{0\\right\\}$"
          },
          "metadata": {},
          "execution_count": 3
        }
      ],
      "source": [
        "from sympy import solveset, Eq\n",
        "f = (x**3)/(x**2-1) \n",
        "solveset(Eq(f, 0), x)"
      ]
    },
    {
      "cell_type": "code",
      "execution_count": 4,
      "id": "a11f173f",
      "metadata": {
        "colab": {
          "base_uri": "https://localhost:8080/",
          "height": 37
        },
        "id": "a11f173f",
        "outputId": "0a2d4964-fff4-4f6c-fdcd-d2d9cb183b3f"
      },
      "outputs": [
        {
          "output_type": "execute_result",
          "data": {
            "text/plain": [
              "0"
            ],
            "text/latex": "$\\displaystyle 0$"
          },
          "metadata": {},
          "execution_count": 4
        }
      ],
      "source": [
        "x = Symbol(\"x\")\n",
        "f = (x**3)/(x**2-1)\n",
        "f.subs(x, 0)"
      ]
    },
    {
      "cell_type": "markdown",
      "id": "14d60350",
      "metadata": {
        "id": "14d60350"
      },
      "source": [
        "## Нахождение производной"
      ]
    },
    {
      "cell_type": "code",
      "execution_count": 5,
      "id": "749f70c3",
      "metadata": {
        "colab": {
          "base_uri": "https://localhost:8080/",
          "height": 61
        },
        "id": "749f70c3",
        "outputId": "ebf1cb5b-7e33-4f03-86a0-7542080c6854"
      },
      "outputs": [
        {
          "output_type": "execute_result",
          "data": {
            "text/plain": [
              "-2*x**4/(x**2 - 1)**2 + 3*x**2/(x**2 - 1)"
            ],
            "text/latex": "$\\displaystyle - \\frac{2 x^{4}}{\\left(x^{2} - 1\\right)^{2}} + \\frac{3 x^{2}}{x^{2} - 1}$"
          },
          "metadata": {},
          "execution_count": 5
        }
      ],
      "source": [
        "import sympy\n",
        "from sympy import diff\n",
        "x = sympy.Symbol(\"x\")\n",
        "expr = (x**3)/(x**2-1)\n",
        "expr.diff(x)\n"
      ]
    },
    {
      "cell_type": "code",
      "execution_count": 6,
      "id": "7d1093f9",
      "metadata": {
        "colab": {
          "base_uri": "https://localhost:8080/",
          "height": 47
        },
        "id": "7d1093f9",
        "outputId": "244fbe8b-5e52-4572-c986-0749ddfed0fa"
      },
      "outputs": [
        {
          "output_type": "execute_result",
          "data": {
            "text/plain": [
              "{0, -sqrt(3), sqrt(3)}"
            ],
            "text/latex": "$\\displaystyle \\left\\{0, - \\sqrt{3}, \\sqrt{3}\\right\\}$"
          },
          "metadata": {},
          "execution_count": 6
        }
      ],
      "source": [
        "\n",
        "y = expr.diff(x)\n",
        "solveset(Eq(y, 0), x)"
      ]
    },
    {
      "cell_type": "markdown",
      "id": "10d568f8",
      "metadata": {
        "id": "10d568f8"
      },
      "source": [
        "## Нахождение второй производной"
      ]
    },
    {
      "cell_type": "code",
      "execution_count": 7,
      "id": "cfebc61b",
      "metadata": {
        "colab": {
          "base_uri": "https://localhost:8080/",
          "height": 78
        },
        "id": "cfebc61b",
        "outputId": "1b7b7f18-e17d-4bef-b094-a7c85d4b9ceb"
      },
      "outputs": [
        {
          "output_type": "execute_result",
          "data": {
            "text/plain": [
              "2*x*(x**2*(4*x**2/(x**2 - 1) - 1)/(x**2 - 1) - 6*x**2/(x**2 - 1) + 3)/(x**2 - 1)"
            ],
            "text/latex": "$\\displaystyle \\frac{2 x \\left(\\frac{x^{2} \\cdot \\left(\\frac{4 x^{2}}{x^{2} - 1} - 1\\right)}{x^{2} - 1} - \\frac{6 x^{2}}{x^{2} - 1} + 3\\right)}{x^{2} - 1}$"
          },
          "metadata": {},
          "execution_count": 7
        }
      ],
      "source": [
        "import sympy\n",
        "from sympy import diff\n",
        "x = sympy.Symbol(\"x\")\n",
        "expr = (x**3)/(x**2-1)\n",
        "expr.diff(x,2)"
      ]
    },
    {
      "cell_type": "code",
      "execution_count": 8,
      "id": "31d8a7c8",
      "metadata": {
        "colab": {
          "base_uri": "https://localhost:8080/",
          "height": 47
        },
        "id": "31d8a7c8",
        "outputId": "aec51b0b-91af-484e-a0ea-51786bc7ea34"
      },
      "outputs": [
        {
          "output_type": "execute_result",
          "data": {
            "text/plain": [
              "{0, -sqrt(3)*I, sqrt(3)*I}"
            ],
            "text/latex": "$\\displaystyle \\left\\{0, - \\sqrt{3} i, \\sqrt{3} i\\right\\}$"
          },
          "metadata": {},
          "execution_count": 8
        }
      ],
      "source": [
        "y = expr.diff(x,2)\n",
        "solveset(Eq(y, 0), x)"
      ]
    },
    {
      "cell_type": "markdown",
      "id": "fc9a293e",
      "metadata": {
        "id": "fc9a293e"
      },
      "source": [
        "## Нахождение асимптот"
      ]
    },
    {
      "cell_type": "code",
      "execution_count": 9,
      "id": "9015fba6",
      "metadata": {
        "colab": {
          "base_uri": "https://localhost:8080/",
          "height": 37
        },
        "id": "9015fba6",
        "outputId": "667c8907-d5b9-4c3a-f677-238c8502f1d1"
      },
      "outputs": [
        {
          "output_type": "execute_result",
          "data": {
            "text/plain": [
              "oo"
            ],
            "text/latex": "$\\displaystyle \\infty$"
          },
          "metadata": {},
          "execution_count": 9
        }
      ],
      "source": [
        "from sympy import Symbol, limit, oo\n",
        "x = Symbol(\"x\")\n",
        "f = (x**3)/(x**2-1)\n",
        "limit(f,x,oo)\n"
      ]
    },
    {
      "cell_type": "code",
      "execution_count": 10,
      "id": "ad626e7c",
      "metadata": {
        "colab": {
          "base_uri": "https://localhost:8080/",
          "height": 37
        },
        "id": "ad626e7c",
        "outputId": "eff93376-ac24-4ff2-e3c3-467905fc0260"
      },
      "outputs": [
        {
          "output_type": "execute_result",
          "data": {
            "text/plain": [
              "oo"
            ],
            "text/latex": "$\\displaystyle \\infty$"
          },
          "metadata": {},
          "execution_count": 10
        }
      ],
      "source": [
        "from sympy import Symbol, limit, oo\n",
        "x = Symbol(\"x\")\n",
        "f = (x**3)/(x**2-1)\n",
        "limit(f,x,1)\n"
      ]
    },
    {
      "cell_type": "code",
      "execution_count": 11,
      "id": "13913fbf",
      "metadata": {
        "colab": {
          "base_uri": "https://localhost:8080/",
          "height": 37
        },
        "id": "13913fbf",
        "outputId": "4c9f2713-8e10-41b7-b627-5d40a0a0b985"
      },
      "outputs": [
        {
          "output_type": "execute_result",
          "data": {
            "text/plain": [
              "oo"
            ],
            "text/latex": "$\\displaystyle \\infty$"
          },
          "metadata": {},
          "execution_count": 11
        }
      ],
      "source": [
        "from sympy import Symbol, limit, oo\n",
        "x = Symbol(\"x\")\n",
        "f = (x**3)/(x**2-1)\n",
        "limit(f,x,-1)\n"
      ]
    },
    {
      "cell_type": "code",
      "execution_count": 12,
      "id": "dfb2adc9",
      "metadata": {
        "colab": {
          "base_uri": "https://localhost:8080/",
          "height": 37
        },
        "id": "dfb2adc9",
        "outputId": "7b74d21b-725a-4ecf-bcff-69123f8bbedc"
      },
      "outputs": [
        {
          "output_type": "execute_result",
          "data": {
            "text/plain": [
              "1"
            ],
            "text/latex": "$\\displaystyle 1$"
          },
          "metadata": {},
          "execution_count": 12
        }
      ],
      "source": [
        "from sympy import Symbol, limit, oo\n",
        "x = Symbol(\"x\")\n",
        "f = (x**3)/((x**2-1)*x)\n",
        "limit(f,x,oo)\n"
      ]
    },
    {
      "cell_type": "code",
      "execution_count": 13,
      "id": "1ed7d557",
      "metadata": {
        "colab": {
          "base_uri": "https://localhost:8080/",
          "height": 37
        },
        "id": "1ed7d557",
        "outputId": "2c3512fd-8390-4d50-dc22-bea38dd07b76"
      },
      "outputs": [
        {
          "output_type": "execute_result",
          "data": {
            "text/plain": [
              "0"
            ],
            "text/latex": "$\\displaystyle 0$"
          },
          "metadata": {},
          "execution_count": 13
        }
      ],
      "source": [
        "from sympy import Symbol, limit, oo\n",
        "x = Symbol(\"x\")\n",
        "f = (x**3)/((x**2-1)) - 1*x\n",
        "limit(f,x,oo)\n"
      ]
    },
    {
      "cell_type": "code",
      "execution_count": 16,
      "id": "23f4c70f",
      "metadata": {
        "colab": {
          "base_uri": "https://localhost:8080/",
          "height": 37
        },
        "id": "23f4c70f",
        "outputId": "3f4ccb14-431e-4147-a574-335b7157260e"
      },
      "outputs": [
        {
          "output_type": "execute_result",
          "data": {
            "text/plain": [
              "Union(Interval.open(-oo, -5), Interval.open(-5, oo))"
            ],
            "text/latex": "$\\displaystyle \\left(-\\infty, -5\\right) \\cup \\left(-5, \\infty\\right)$"
          },
          "metadata": {},
          "execution_count": 16
        }
      ],
      "source": [
        "f = x**3/(2*(x+5)**2)\n",
        "continuous_domain(f, x, S.Reals)"
      ]
    },
    {
      "cell_type": "code",
      "source": [
        "function_range(f,x,S.Reals)"
      ],
      "metadata": {
        "colab": {
          "base_uri": "https://localhost:8080/",
          "height": 37
        },
        "id": "v6MZ7ci5jsQf",
        "outputId": "a517c06e-8e7c-4678-b055-40f5e6609a02"
      },
      "id": "v6MZ7ci5jsQf",
      "execution_count": 17,
      "outputs": [
        {
          "output_type": "execute_result",
          "data": {
            "text/plain": [
              "Interval(-oo, oo)"
            ],
            "text/latex": "$\\displaystyle \\left(-\\infty, \\infty\\right)$"
          },
          "metadata": {},
          "execution_count": 17
        }
      ]
    },
    {
      "cell_type": "code",
      "source": [
        "solveset(Eq(f, 0), x)"
      ],
      "metadata": {
        "colab": {
          "base_uri": "https://localhost:8080/",
          "height": 37
        },
        "id": "ZycVDIpyj0bC",
        "outputId": "1b9e4c87-67e3-4992-b472-6452e26284b5"
      },
      "id": "ZycVDIpyj0bC",
      "execution_count": 18,
      "outputs": [
        {
          "output_type": "execute_result",
          "data": {
            "text/plain": [
              "{0}"
            ],
            "text/latex": "$\\displaystyle \\left\\{0\\right\\}$"
          },
          "metadata": {},
          "execution_count": 18
        }
      ]
    },
    {
      "cell_type": "code",
      "source": [
        "f.subs(x, 0)"
      ],
      "metadata": {
        "colab": {
          "base_uri": "https://localhost:8080/",
          "height": 37
        },
        "id": "rxwS5aKOkDO6",
        "outputId": "5f2b09d7-78cb-4fc2-ed90-b88d992b77dc"
      },
      "id": "rxwS5aKOkDO6",
      "execution_count": 19,
      "outputs": [
        {
          "output_type": "execute_result",
          "data": {
            "text/plain": [
              "0"
            ],
            "text/latex": "$\\displaystyle 0$"
          },
          "metadata": {},
          "execution_count": 19
        }
      ]
    },
    {
      "cell_type": "code",
      "source": [
        "f.diff(x)"
      ],
      "metadata": {
        "colab": {
          "base_uri": "https://localhost:8080/",
          "height": 61
        },
        "id": "wSdS7NnUkJax",
        "outputId": "24ff4778-4660-4a44-b415-bbbfc9bb3a11"
      },
      "id": "wSdS7NnUkJax",
      "execution_count": 20,
      "outputs": [
        {
          "output_type": "execute_result",
          "data": {
            "text/plain": [
              "-x**3/(x + 5)**3 + 3*x**2/(2*(x + 5)**2)"
            ],
            "text/latex": "$\\displaystyle - \\frac{x^{3}}{\\left(x + 5\\right)^{3}} + \\frac{3 x^{2}}{2 \\left(x + 5\\right)^{2}}$"
          },
          "metadata": {},
          "execution_count": 20
        }
      ]
    },
    {
      "cell_type": "code",
      "source": [
        "y = x**2*(x+15)/(2*(x+5)**3)\n",
        "solveset(Eq(y, 0), x)"
      ],
      "metadata": {
        "colab": {
          "base_uri": "https://localhost:8080/",
          "height": 37
        },
        "id": "x0tRR2T7kKmv",
        "outputId": "79617ef0-f0b8-49ca-a73a-feb373d8d597"
      },
      "id": "x0tRR2T7kKmv",
      "execution_count": 24,
      "outputs": [
        {
          "output_type": "execute_result",
          "data": {
            "text/plain": [
              "{-15, 0}"
            ],
            "text/latex": "$\\displaystyle \\left\\{-15, 0\\right\\}$"
          },
          "metadata": {},
          "execution_count": 24
        }
      ]
    },
    {
      "cell_type": "code",
      "source": [
        "y.diff(x)"
      ],
      "metadata": {
        "colab": {
          "base_uri": "https://localhost:8080/",
          "height": 61
        },
        "id": "C1J17r2klCgK",
        "outputId": "e8d5a245-f38f-4fca-8f0b-5b733c0567c3"
      },
      "id": "C1J17r2klCgK",
      "execution_count": 25,
      "outputs": [
        {
          "output_type": "execute_result",
          "data": {
            "text/plain": [
              "x**2/(2*(x + 5)**3) - 3*x**2*(x + 15)/(2*(x + 5)**4) + x*(x + 15)/(x + 5)**3"
            ],
            "text/latex": "$\\displaystyle \\frac{x^{2}}{2 \\left(x + 5\\right)^{3}} - \\frac{3 x^{2} \\left(x + 15\\right)}{2 \\left(x + 5\\right)^{4}} + \\frac{x \\left(x + 15\\right)}{\\left(x + 5\\right)^{3}}$"
          },
          "metadata": {},
          "execution_count": 25
        }
      ]
    },
    {
      "cell_type": "code",
      "source": [
        "y = f.diff(x,2)\n",
        "solveset(Eq(y, 0), x)"
      ],
      "metadata": {
        "colab": {
          "base_uri": "https://localhost:8080/",
          "height": 37
        },
        "id": "nHVK3rufke2c",
        "outputId": "bd1aaa47-175f-4c11-8adf-9704be2beb20"
      },
      "id": "nHVK3rufke2c",
      "execution_count": 22,
      "outputs": [
        {
          "output_type": "execute_result",
          "data": {
            "text/plain": [
              "{0}"
            ],
            "text/latex": "$\\displaystyle \\left\\{0\\right\\}$"
          },
          "metadata": {},
          "execution_count": 22
        }
      ]
    }
  ],
  "metadata": {
    "kernelspec": {
      "display_name": "Python 3 (ipykernel)",
      "language": "python",
      "name": "python3"
    },
    "language_info": {
      "codemirror_mode": {
        "name": "ipython",
        "version": 3
      },
      "file_extension": ".py",
      "mimetype": "text/x-python",
      "name": "python",
      "nbconvert_exporter": "python",
      "pygments_lexer": "ipython3",
      "version": "3.9.12"
    },
    "colab": {
      "provenance": [],
      "include_colab_link": true
    }
  },
  "nbformat": 4,
  "nbformat_minor": 5
}