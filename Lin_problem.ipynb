{
  "nbformat": 4,
  "nbformat_minor": 0,
  "metadata": {
    "colab": {
      "provenance": [],
      "authorship_tag": "ABX9TyNZJADA4v0A9FN4f9ifLehD",
      "include_colab_link": true
    },
    "kernelspec": {
      "name": "python3",
      "display_name": "Python 3"
    },
    "language_info": {
      "name": "python"
    }
  },
  "cells": [
    {
      "cell_type": "markdown",
      "metadata": {
        "id": "view-in-github",
        "colab_type": "text"
      },
      "source": [
        "<a href=\"https://colab.research.google.com/github/TimkaThymineTimiryazevskaya/sf_data_science/blob/main/Lin_problem.ipynb\" target=\"_parent\"><img src=\"https://colab.research.google.com/assets/colab-badge.svg\" alt=\"Open In Colab\"/></a>"
      ]
    },
    {
      "cell_type": "code",
      "execution_count": 1,
      "metadata": {
        "id": "G-x5dIa_dIqB"
      },
      "outputs": [],
      "source": [
        "import seaborn as sns\n",
        "import pandas as pd\n",
        "import numpy as np\n",
        "df = sns.load_dataset('diamonds')"
      ]
    },
    {
      "cell_type": "code",
      "source": [
        "df.drop(['depth', 'table', 'x', 'y', 'z'], axis=1, inplace=True)"
      ],
      "metadata": {
        "id": "eU_3gNVZdLmQ"
      },
      "execution_count": 10,
      "outputs": []
    },
    {
      "cell_type": "code",
      "source": [
        "df = pd.get_dummies(df, drop_first=True)"
      ],
      "metadata": {
        "id": "Rcp71byNdNYi"
      },
      "execution_count": 11,
      "outputs": []
    },
    {
      "cell_type": "code",
      "source": [
        "df['carat'] = np.log(1+df['carat'])\n",
        "df['price'] = np.log(1+df['price'])"
      ],
      "metadata": {
        "id": "XftQM1jxdOqk"
      },
      "execution_count": 12,
      "outputs": []
    },
    {
      "cell_type": "code",
      "source": [
        "X = df.drop(columns=\"price\")\n",
        "y = df[\"price\"]"
      ],
      "metadata": {
        "id": "CopSpIFpdVwd"
      },
      "execution_count": 13,
      "outputs": []
    },
    {
      "cell_type": "code",
      "source": [
        "from sklearn.linear_model import SGDRegressor\n",
        "from sklearn.model_selection import GridSearchCV\n",
        "from sklearn.model_selection import train_test_split\n",
        "from sklearn.metrics import mean_squared_error\n",
        "import seaborn as sns\n",
        "import pandas as pd\n",
        "import numpy as np\n",
        "X_cols = [col for col in df.columns if col!='price']\n",
        "X = df[X_cols]\n",
        "y = df['price']\n",
        "\n",
        "X_train, X_test, y_train, y_test = train_test_split(X, y, test_size=0.33, random_state=42)\n",
        "\n",
        "parameters = {\n",
        "    \"loss\": [\"squared_error\", \"epsilon_insensitive\"],\n",
        "    \"penalty\": [\"elasticnet\"],\n",
        "    \"alpha\": np.logspace(-3, 3, 15),\n",
        "    \"l1_ratio\": np.linspace(0, 1, 11),\n",
        "    \"max_iter\": np.logspace(0, 3, 10).astype(int),\n",
        "    \"random_state\": [42],\n",
        "    \"learning_rate\": [\"constant\"],\n",
        "    \"eta0\": np.logspace(-4, -1, 4)\n",
        "}\n",
        "\n",
        "sgd = SGDRegressor(random_state=42)\n",
        "sgd_cv = GridSearchCV(estimator=sgd, param_grid=parameters, n_jobs=-1)\n",
        "sgd_cv.fit(X_train, y_train)\n",
        "\n",
        "print(sgd_cv.best_params_)\n",
        "\n",
        "sgd = SGDRegressor(**sgd_cv.best_params_, random_state = 42)\n",
        "\n",
        "sgd.fit(X_train, y_train)\n",
        "sgd.score(X_train, y_train) # r2\n",
        "ls = sgd.predict(X_test)\n",
        "\n",
        "round(mean_squared_error(y_test, ls), 3)"
      ],
      "metadata": {
        "colab": {
          "base_uri": "https://localhost:8080/",
          "height": 380
        },
        "id": "1mRGkACNdae5",
        "outputId": "e8579cef-e9d2-4a70-ab7a-349bd2bc925f"
      },
      "execution_count": 16,
      "outputs": [
        {
          "output_type": "error",
          "ename": "KeyboardInterrupt",
          "evalue": "ignored",
          "traceback": [
            "\u001b[0;31m---------------------------------------------------------------------------\u001b[0m",
            "\u001b[0;31mKeyboardInterrupt\u001b[0m                         Traceback (most recent call last)",
            "\u001b[0;32m<ipython-input-16-8eb7241259c5>\u001b[0m in \u001b[0;36m<cell line: 27>\u001b[0;34m()\u001b[0m\n\u001b[1;32m     25\u001b[0m \u001b[0msgd\u001b[0m \u001b[0;34m=\u001b[0m \u001b[0mSGDRegressor\u001b[0m\u001b[0;34m(\u001b[0m\u001b[0mrandom_state\u001b[0m\u001b[0;34m=\u001b[0m\u001b[0;36m42\u001b[0m\u001b[0;34m)\u001b[0m\u001b[0;34m\u001b[0m\u001b[0;34m\u001b[0m\u001b[0m\n\u001b[1;32m     26\u001b[0m \u001b[0msgd_cv\u001b[0m \u001b[0;34m=\u001b[0m \u001b[0mGridSearchCV\u001b[0m\u001b[0;34m(\u001b[0m\u001b[0mestimator\u001b[0m\u001b[0;34m=\u001b[0m\u001b[0msgd\u001b[0m\u001b[0;34m,\u001b[0m \u001b[0mparam_grid\u001b[0m\u001b[0;34m=\u001b[0m\u001b[0mparameters\u001b[0m\u001b[0;34m,\u001b[0m \u001b[0mn_jobs\u001b[0m\u001b[0;34m=\u001b[0m\u001b[0;34m-\u001b[0m\u001b[0;36m1\u001b[0m\u001b[0;34m)\u001b[0m\u001b[0;34m\u001b[0m\u001b[0;34m\u001b[0m\u001b[0m\n\u001b[0;32m---> 27\u001b[0;31m \u001b[0msgd_cv\u001b[0m\u001b[0;34m.\u001b[0m\u001b[0mfit\u001b[0m\u001b[0;34m(\u001b[0m\u001b[0mX_train\u001b[0m\u001b[0;34m,\u001b[0m \u001b[0my_train\u001b[0m\u001b[0;34m)\u001b[0m\u001b[0;34m\u001b[0m\u001b[0;34m\u001b[0m\u001b[0m\n\u001b[0m\u001b[1;32m     28\u001b[0m \u001b[0;34m\u001b[0m\u001b[0m\n\u001b[1;32m     29\u001b[0m \u001b[0mprint\u001b[0m\u001b[0;34m(\u001b[0m\u001b[0msgd_cv\u001b[0m\u001b[0;34m.\u001b[0m\u001b[0mbest_params_\u001b[0m\u001b[0;34m)\u001b[0m\u001b[0;34m\u001b[0m\u001b[0;34m\u001b[0m\u001b[0m\n",
            "\u001b[0;32m/usr/local/lib/python3.9/dist-packages/sklearn/model_selection/_search.py\u001b[0m in \u001b[0;36mfit\u001b[0;34m(self, X, y, groups, **fit_params)\u001b[0m\n\u001b[1;32m    872\u001b[0m                 \u001b[0;32mreturn\u001b[0m \u001b[0mresults\u001b[0m\u001b[0;34m\u001b[0m\u001b[0;34m\u001b[0m\u001b[0m\n\u001b[1;32m    873\u001b[0m \u001b[0;34m\u001b[0m\u001b[0m\n\u001b[0;32m--> 874\u001b[0;31m             \u001b[0mself\u001b[0m\u001b[0;34m.\u001b[0m\u001b[0m_run_search\u001b[0m\u001b[0;34m(\u001b[0m\u001b[0mevaluate_candidates\u001b[0m\u001b[0;34m)\u001b[0m\u001b[0;34m\u001b[0m\u001b[0;34m\u001b[0m\u001b[0m\n\u001b[0m\u001b[1;32m    875\u001b[0m \u001b[0;34m\u001b[0m\u001b[0m\n\u001b[1;32m    876\u001b[0m             \u001b[0;31m# multimetric is determined here because in the case of a callable\u001b[0m\u001b[0;34m\u001b[0m\u001b[0;34m\u001b[0m\u001b[0m\n",
            "\u001b[0;32m/usr/local/lib/python3.9/dist-packages/sklearn/model_selection/_search.py\u001b[0m in \u001b[0;36m_run_search\u001b[0;34m(self, evaluate_candidates)\u001b[0m\n\u001b[1;32m   1386\u001b[0m     \u001b[0;32mdef\u001b[0m \u001b[0m_run_search\u001b[0m\u001b[0;34m(\u001b[0m\u001b[0mself\u001b[0m\u001b[0;34m,\u001b[0m \u001b[0mevaluate_candidates\u001b[0m\u001b[0;34m)\u001b[0m\u001b[0;34m:\u001b[0m\u001b[0;34m\u001b[0m\u001b[0;34m\u001b[0m\u001b[0m\n\u001b[1;32m   1387\u001b[0m         \u001b[0;34m\"\"\"Search all candidates in param_grid\"\"\"\u001b[0m\u001b[0;34m\u001b[0m\u001b[0;34m\u001b[0m\u001b[0m\n\u001b[0;32m-> 1388\u001b[0;31m         \u001b[0mevaluate_candidates\u001b[0m\u001b[0;34m(\u001b[0m\u001b[0mParameterGrid\u001b[0m\u001b[0;34m(\u001b[0m\u001b[0mself\u001b[0m\u001b[0;34m.\u001b[0m\u001b[0mparam_grid\u001b[0m\u001b[0;34m)\u001b[0m\u001b[0;34m)\u001b[0m\u001b[0;34m\u001b[0m\u001b[0;34m\u001b[0m\u001b[0m\n\u001b[0m\u001b[1;32m   1389\u001b[0m \u001b[0;34m\u001b[0m\u001b[0m\n\u001b[1;32m   1390\u001b[0m \u001b[0;34m\u001b[0m\u001b[0m\n",
            "\u001b[0;32m/usr/local/lib/python3.9/dist-packages/sklearn/model_selection/_search.py\u001b[0m in \u001b[0;36mevaluate_candidates\u001b[0;34m(candidate_params, cv, more_results)\u001b[0m\n\u001b[1;32m    819\u001b[0m                     )\n\u001b[1;32m    820\u001b[0m \u001b[0;34m\u001b[0m\u001b[0m\n\u001b[0;32m--> 821\u001b[0;31m                 out = parallel(\n\u001b[0m\u001b[1;32m    822\u001b[0m                     delayed(_fit_and_score)(\n\u001b[1;32m    823\u001b[0m                         \u001b[0mclone\u001b[0m\u001b[0;34m(\u001b[0m\u001b[0mbase_estimator\u001b[0m\u001b[0;34m)\u001b[0m\u001b[0;34m,\u001b[0m\u001b[0;34m\u001b[0m\u001b[0;34m\u001b[0m\u001b[0m\n",
            "\u001b[0;32m/usr/local/lib/python3.9/dist-packages/sklearn/utils/parallel.py\u001b[0m in \u001b[0;36m__call__\u001b[0;34m(self, iterable)\u001b[0m\n\u001b[1;32m     61\u001b[0m             \u001b[0;32mfor\u001b[0m \u001b[0mdelayed_func\u001b[0m\u001b[0;34m,\u001b[0m \u001b[0margs\u001b[0m\u001b[0;34m,\u001b[0m \u001b[0mkwargs\u001b[0m \u001b[0;32min\u001b[0m \u001b[0miterable\u001b[0m\u001b[0;34m\u001b[0m\u001b[0;34m\u001b[0m\u001b[0m\n\u001b[1;32m     62\u001b[0m         )\n\u001b[0;32m---> 63\u001b[0;31m         \u001b[0;32mreturn\u001b[0m \u001b[0msuper\u001b[0m\u001b[0;34m(\u001b[0m\u001b[0;34m)\u001b[0m\u001b[0;34m.\u001b[0m\u001b[0m__call__\u001b[0m\u001b[0;34m(\u001b[0m\u001b[0miterable_with_config\u001b[0m\u001b[0;34m)\u001b[0m\u001b[0;34m\u001b[0m\u001b[0;34m\u001b[0m\u001b[0m\n\u001b[0m\u001b[1;32m     64\u001b[0m \u001b[0;34m\u001b[0m\u001b[0m\n\u001b[1;32m     65\u001b[0m \u001b[0;34m\u001b[0m\u001b[0m\n",
            "\u001b[0;32m/usr/local/lib/python3.9/dist-packages/joblib/parallel.py\u001b[0m in \u001b[0;36m__call__\u001b[0;34m(self, iterable)\u001b[0m\n\u001b[1;32m   1059\u001b[0m \u001b[0;34m\u001b[0m\u001b[0m\n\u001b[1;32m   1060\u001b[0m             \u001b[0;32mwith\u001b[0m \u001b[0mself\u001b[0m\u001b[0;34m.\u001b[0m\u001b[0m_backend\u001b[0m\u001b[0;34m.\u001b[0m\u001b[0mretrieval_context\u001b[0m\u001b[0;34m(\u001b[0m\u001b[0;34m)\u001b[0m\u001b[0;34m:\u001b[0m\u001b[0;34m\u001b[0m\u001b[0;34m\u001b[0m\u001b[0m\n\u001b[0;32m-> 1061\u001b[0;31m                 \u001b[0mself\u001b[0m\u001b[0;34m.\u001b[0m\u001b[0mretrieve\u001b[0m\u001b[0;34m(\u001b[0m\u001b[0;34m)\u001b[0m\u001b[0;34m\u001b[0m\u001b[0;34m\u001b[0m\u001b[0m\n\u001b[0m\u001b[1;32m   1062\u001b[0m             \u001b[0;31m# Make sure that we get a last message telling us we are done\u001b[0m\u001b[0;34m\u001b[0m\u001b[0;34m\u001b[0m\u001b[0m\n\u001b[1;32m   1063\u001b[0m             \u001b[0melapsed_time\u001b[0m \u001b[0;34m=\u001b[0m \u001b[0mtime\u001b[0m\u001b[0;34m.\u001b[0m\u001b[0mtime\u001b[0m\u001b[0;34m(\u001b[0m\u001b[0;34m)\u001b[0m \u001b[0;34m-\u001b[0m \u001b[0mself\u001b[0m\u001b[0;34m.\u001b[0m\u001b[0m_start_time\u001b[0m\u001b[0;34m\u001b[0m\u001b[0;34m\u001b[0m\u001b[0m\n",
            "\u001b[0;32m/usr/local/lib/python3.9/dist-packages/joblib/parallel.py\u001b[0m in \u001b[0;36mretrieve\u001b[0;34m(self)\u001b[0m\n\u001b[1;32m    936\u001b[0m             \u001b[0;32mtry\u001b[0m\u001b[0;34m:\u001b[0m\u001b[0;34m\u001b[0m\u001b[0;34m\u001b[0m\u001b[0m\n\u001b[1;32m    937\u001b[0m                 \u001b[0;32mif\u001b[0m \u001b[0mgetattr\u001b[0m\u001b[0;34m(\u001b[0m\u001b[0mself\u001b[0m\u001b[0;34m.\u001b[0m\u001b[0m_backend\u001b[0m\u001b[0;34m,\u001b[0m \u001b[0;34m'supports_timeout'\u001b[0m\u001b[0;34m,\u001b[0m \u001b[0;32mFalse\u001b[0m\u001b[0;34m)\u001b[0m\u001b[0;34m:\u001b[0m\u001b[0;34m\u001b[0m\u001b[0;34m\u001b[0m\u001b[0m\n\u001b[0;32m--> 938\u001b[0;31m                     \u001b[0mself\u001b[0m\u001b[0;34m.\u001b[0m\u001b[0m_output\u001b[0m\u001b[0;34m.\u001b[0m\u001b[0mextend\u001b[0m\u001b[0;34m(\u001b[0m\u001b[0mjob\u001b[0m\u001b[0;34m.\u001b[0m\u001b[0mget\u001b[0m\u001b[0;34m(\u001b[0m\u001b[0mtimeout\u001b[0m\u001b[0;34m=\u001b[0m\u001b[0mself\u001b[0m\u001b[0;34m.\u001b[0m\u001b[0mtimeout\u001b[0m\u001b[0;34m)\u001b[0m\u001b[0;34m)\u001b[0m\u001b[0;34m\u001b[0m\u001b[0;34m\u001b[0m\u001b[0m\n\u001b[0m\u001b[1;32m    939\u001b[0m                 \u001b[0;32melse\u001b[0m\u001b[0;34m:\u001b[0m\u001b[0;34m\u001b[0m\u001b[0;34m\u001b[0m\u001b[0m\n\u001b[1;32m    940\u001b[0m                     \u001b[0mself\u001b[0m\u001b[0;34m.\u001b[0m\u001b[0m_output\u001b[0m\u001b[0;34m.\u001b[0m\u001b[0mextend\u001b[0m\u001b[0;34m(\u001b[0m\u001b[0mjob\u001b[0m\u001b[0;34m.\u001b[0m\u001b[0mget\u001b[0m\u001b[0;34m(\u001b[0m\u001b[0;34m)\u001b[0m\u001b[0;34m)\u001b[0m\u001b[0;34m\u001b[0m\u001b[0;34m\u001b[0m\u001b[0m\n",
            "\u001b[0;32m/usr/local/lib/python3.9/dist-packages/joblib/_parallel_backends.py\u001b[0m in \u001b[0;36mwrap_future_result\u001b[0;34m(future, timeout)\u001b[0m\n\u001b[1;32m    540\u001b[0m         AsyncResults.get from multiprocessing.\"\"\"\n\u001b[1;32m    541\u001b[0m         \u001b[0;32mtry\u001b[0m\u001b[0;34m:\u001b[0m\u001b[0;34m\u001b[0m\u001b[0;34m\u001b[0m\u001b[0m\n\u001b[0;32m--> 542\u001b[0;31m             \u001b[0;32mreturn\u001b[0m \u001b[0mfuture\u001b[0m\u001b[0;34m.\u001b[0m\u001b[0mresult\u001b[0m\u001b[0;34m(\u001b[0m\u001b[0mtimeout\u001b[0m\u001b[0;34m=\u001b[0m\u001b[0mtimeout\u001b[0m\u001b[0;34m)\u001b[0m\u001b[0;34m\u001b[0m\u001b[0;34m\u001b[0m\u001b[0m\n\u001b[0m\u001b[1;32m    543\u001b[0m         \u001b[0;32mexcept\u001b[0m \u001b[0mCfTimeoutError\u001b[0m \u001b[0;32mas\u001b[0m \u001b[0me\u001b[0m\u001b[0;34m:\u001b[0m\u001b[0;34m\u001b[0m\u001b[0;34m\u001b[0m\u001b[0m\n\u001b[1;32m    544\u001b[0m             \u001b[0;32mraise\u001b[0m \u001b[0mTimeoutError\u001b[0m \u001b[0;32mfrom\u001b[0m \u001b[0me\u001b[0m\u001b[0;34m\u001b[0m\u001b[0;34m\u001b[0m\u001b[0m\n",
            "\u001b[0;32m/usr/lib/python3.9/concurrent/futures/_base.py\u001b[0m in \u001b[0;36mresult\u001b[0;34m(self, timeout)\u001b[0m\n\u001b[1;32m    439\u001b[0m                     \u001b[0;32mreturn\u001b[0m \u001b[0mself\u001b[0m\u001b[0;34m.\u001b[0m\u001b[0m__get_result\u001b[0m\u001b[0;34m(\u001b[0m\u001b[0;34m)\u001b[0m\u001b[0;34m\u001b[0m\u001b[0;34m\u001b[0m\u001b[0m\n\u001b[1;32m    440\u001b[0m \u001b[0;34m\u001b[0m\u001b[0m\n\u001b[0;32m--> 441\u001b[0;31m                 \u001b[0mself\u001b[0m\u001b[0;34m.\u001b[0m\u001b[0m_condition\u001b[0m\u001b[0;34m.\u001b[0m\u001b[0mwait\u001b[0m\u001b[0;34m(\u001b[0m\u001b[0mtimeout\u001b[0m\u001b[0;34m)\u001b[0m\u001b[0;34m\u001b[0m\u001b[0;34m\u001b[0m\u001b[0m\n\u001b[0m\u001b[1;32m    442\u001b[0m \u001b[0;34m\u001b[0m\u001b[0m\n\u001b[1;32m    443\u001b[0m                 \u001b[0;32mif\u001b[0m \u001b[0mself\u001b[0m\u001b[0;34m.\u001b[0m\u001b[0m_state\u001b[0m \u001b[0;32min\u001b[0m \u001b[0;34m[\u001b[0m\u001b[0mCANCELLED\u001b[0m\u001b[0;34m,\u001b[0m \u001b[0mCANCELLED_AND_NOTIFIED\u001b[0m\u001b[0;34m]\u001b[0m\u001b[0;34m:\u001b[0m\u001b[0;34m\u001b[0m\u001b[0;34m\u001b[0m\u001b[0m\n",
            "\u001b[0;32m/usr/lib/python3.9/threading.py\u001b[0m in \u001b[0;36mwait\u001b[0;34m(self, timeout)\u001b[0m\n\u001b[1;32m    310\u001b[0m         \u001b[0;32mtry\u001b[0m\u001b[0;34m:\u001b[0m    \u001b[0;31m# restore state no matter what (e.g., KeyboardInterrupt)\u001b[0m\u001b[0;34m\u001b[0m\u001b[0;34m\u001b[0m\u001b[0m\n\u001b[1;32m    311\u001b[0m             \u001b[0;32mif\u001b[0m \u001b[0mtimeout\u001b[0m \u001b[0;32mis\u001b[0m \u001b[0;32mNone\u001b[0m\u001b[0;34m:\u001b[0m\u001b[0;34m\u001b[0m\u001b[0;34m\u001b[0m\u001b[0m\n\u001b[0;32m--> 312\u001b[0;31m                 \u001b[0mwaiter\u001b[0m\u001b[0;34m.\u001b[0m\u001b[0macquire\u001b[0m\u001b[0;34m(\u001b[0m\u001b[0;34m)\u001b[0m\u001b[0;34m\u001b[0m\u001b[0;34m\u001b[0m\u001b[0m\n\u001b[0m\u001b[1;32m    313\u001b[0m                 \u001b[0mgotit\u001b[0m \u001b[0;34m=\u001b[0m \u001b[0;32mTrue\u001b[0m\u001b[0;34m\u001b[0m\u001b[0;34m\u001b[0m\u001b[0m\n\u001b[1;32m    314\u001b[0m             \u001b[0;32melse\u001b[0m\u001b[0;34m:\u001b[0m\u001b[0;34m\u001b[0m\u001b[0;34m\u001b[0m\u001b[0m\n",
            "\u001b[0;31mKeyboardInterrupt\u001b[0m: "
          ]
        }
      ]
    },
    {
      "cell_type": "code",
      "source": [
        "def func1(x):\n",
        "    return 6*x**5-5*x**4-4*x**3+3*x**2\n",
        " \n",
        "def func2(x):\n",
        "    return 30*x**4-20*x**3-12*x**2+6*x\n",
        "init_value = 0.7\n",
        "iter_count = 0\n",
        "x_curr = init_value\n",
        "epsilon = 0.000001\n",
        "f = func1(x_curr)\n",
        " \n",
        "while (abs(f) > epsilon):\n",
        "    f = func1(x_curr)\n",
        "    f_prime = func2(x_curr)\n",
        "    x_curr = x_curr - (f)/(f_prime)\n",
        "    iter_count += 1\n",
        "    print(x_curr)\n",
        "print(iter_count)"
      ],
      "metadata": {
        "colab": {
          "base_uri": "https://localhost:8080/"
        },
        "id": "yKQKHKJhdb-L",
        "outputId": "bfff1203-73d8-483a-f865-0965b3ca081d"
      },
      "execution_count": 19,
      "outputs": [
        {
          "output_type": "stream",
          "name": "stdout",
          "text": [
            "0.6296335078534031\n",
            "0.6286680781673306\n",
            "0.6286669787778999\n",
            "0.6286669787764609\n",
            "4\n"
          ]
        }
      ]
    },
    {
      "cell_type": "code",
      "source": [
        "def func1(x):\n",
        "    return 3*x**2 - 6*x -45\n",
        "def func2(x):\n",
        "    return 6*x - 6\n",
        "initial_value = 42\n",
        "iter_count = 0\n",
        "x_curr = initial_value\n",
        "epsilon = 0.0001\n",
        "f = func1(x_curr)\n",
        "\n",
        "while (abs(f) > epsilon):\n",
        "    f = func1(x_curr)\n",
        "    f_prime = func2(x_curr)\n",
        "    x_curr = x_curr - (f)/(f_prime)\n",
        "    iter_count += 1\n",
        "    print(x_curr)"
      ],
      "metadata": {
        "colab": {
          "base_uri": "https://localhost:8080/"
        },
        "id": "dR9K5rtZAGae",
        "outputId": "47dcaa8e-02bb-4c8d-fc17-0166a60d6d8a"
      },
      "execution_count": 20,
      "outputs": [
        {
          "output_type": "stream",
          "name": "stdout",
          "text": [
            "21.695121951219512\n",
            "11.734125501243229\n",
            "7.1123493600499685\n",
            "5.365000391507974\n",
            "5.015260627016227\n",
            "5.000029000201801\n",
            "5.000000000105126\n",
            "5.0\n"
          ]
        }
      ]
    },
    {
      "cell_type": "code",
      "source": [
        "def newtons_method(f, der, eps, init):\n",
        "    iter_count = 0\n",
        "    x_curr = init\n",
        "    f = f(x_curr)\n",
        "    while (abs(f) > eps):\n",
        "        f = f(x_curr)\n",
        "        f_der = der(x_curr)\n",
        "        x_curr = x_curr - (f)/(f_prime)\n",
        "        iter_count += 1\n",
        "    return x_curr\n",
        " \n",
        "from scipy.optimize import newton\n",
        "newton(func=func1,x0=50,fprime=func2, tol=0.0001)"
      ],
      "metadata": {
        "colab": {
          "base_uri": "https://localhost:8080/"
        },
        "id": "zHjrVav5AN3G",
        "outputId": "6d2e2dc6-f92d-4553-8a48-72415b59adf7"
      },
      "execution_count": 21,
      "outputs": [
        {
          "output_type": "execute_result",
          "data": {
            "text/plain": [
              "5.0"
            ]
          },
          "metadata": {},
          "execution_count": 21
        }
      ]
    },
    {
      "cell_type": "code",
      "source": [
        "def func1(x):\n",
        "  return x**3-72*x-220\n",
        "def func2(x):\n",
        "  return 3*x**2-72\n",
        "newton(func=func1,x0=12,fprime=func2, tol=0.0001)"
      ],
      "metadata": {
        "colab": {
          "base_uri": "https://localhost:8080/"
        },
        "id": "QbKMeKcKAjED",
        "outputId": "dfa70749-ce94-4725-fdfe-785ca09cdc60"
      },
      "execution_count": 22,
      "outputs": [
        {
          "output_type": "execute_result",
          "data": {
            "text/plain": [
              "9.727134419408875"
            ]
          },
          "metadata": {},
          "execution_count": 22
        }
      ]
    },
    {
      "cell_type": "code",
      "source": [
        "def func1(x):\n",
        "  return x**2+9*x-5\n",
        "def func2(x):\n",
        "  return 2*x+9\n",
        "newton(func=func1,x0=2.2,fprime=func2, tol=0.0001)"
      ],
      "metadata": {
        "colab": {
          "base_uri": "https://localhost:8080/"
        },
        "id": "p7BgNwpyBKga",
        "outputId": "1bb0741c-a948-4e2f-ca6d-dddbb55f1cf4"
      },
      "execution_count": 24,
      "outputs": [
        {
          "output_type": "execute_result",
          "data": {
            "text/plain": [
              "0.5249378105607477"
            ]
          },
          "metadata": {},
          "execution_count": 24
        }
      ]
    },
    {
      "cell_type": "code",
      "source": [
        "def func1(x):\n",
        "  return 8*x**3-2*x**2-450\n",
        "def func2(x):\n",
        "  return 24*x**2-4*x\n",
        "newton(func=func1,x0=42,fprime=func2, tol=0.0001)"
      ],
      "metadata": {
        "colab": {
          "base_uri": "https://localhost:8080/"
        },
        "id": "bd6z_-UvBil-",
        "outputId": "f322df18-5f46-4cbc-da3f-1a585a49dd34"
      },
      "execution_count": 31,
      "outputs": [
        {
          "output_type": "execute_result",
          "data": {
            "text/plain": [
              "3.916719200750909"
            ]
          },
          "metadata": {},
          "execution_count": 31
        }
      ]
    },
    {
      "cell_type": "code",
      "source": [
        "import numpy as np\n",
        "from scipy.optimize import minimize"
      ],
      "metadata": {
        "id": "zVWR4vIQCBt7"
      },
      "execution_count": 2,
      "outputs": []
    },
    {
      "cell_type": "code",
      "source": [
        "def func(x):\n",
        "    return x[0]**2.0 + x[1]**2.0"
      ],
      "metadata": {
        "id": "lws_qu85cEm-"
      },
      "execution_count": 3,
      "outputs": []
    },
    {
      "cell_type": "code",
      "source": [
        "def grad_func(x):\n",
        "    return np.array([x[0] * 2, x[1] * 2])"
      ],
      "metadata": {
        "id": "hlQo9JJzcIyt"
      },
      "execution_count": 4,
      "outputs": []
    },
    {
      "cell_type": "code",
      "source": [
        "x_0 = [1.0, 1.0]"
      ],
      "metadata": {
        "id": "_a3W7IeTcK4v"
      },
      "execution_count": 5,
      "outputs": []
    },
    {
      "cell_type": "code",
      "source": [
        "result = minimize(func, x_0, method='BFGS', jac=grad_func)"
      ],
      "metadata": {
        "id": "9ueKl_KrcM6K"
      },
      "execution_count": 6,
      "outputs": []
    },
    {
      "cell_type": "code",
      "source": [
        "print('Статус оптимизации %s' % result['message'])\n",
        "print('Количество оценок: %d' % result['nfev'])\n",
        "solution = result['x']\n",
        "evaluation = func(solution)\n",
        "print('Решение: f(%s) = %.5f' % (solution, evaluation))\n",
        " "
      ],
      "metadata": {
        "colab": {
          "base_uri": "https://localhost:8080/"
        },
        "id": "nVYvtuKKcPIp",
        "outputId": "91ccefd1-ad9d-4b7d-b876-30531c13d274"
      },
      "execution_count": 7,
      "outputs": [
        {
          "output_type": "stream",
          "name": "stdout",
          "text": [
            "Статус оптимизации Optimization terminated successfully.\n",
            "Количество оценок: 3\n",
            "Решение: f([0. 0.]) = 0.00000\n"
          ]
        }
      ]
    },
    {
      "cell_type": "code",
      "source": [
        "def func(x):\n",
        "    return x[0]**2.0 + x[1]**2.0\n",
        " \n",
        "#  определяем градиент функции\n",
        "def grad_func(x):\n",
        "    return np.array([x[0] * 2, x[1] * 2])\n",
        " \n",
        "# определяем начальную точку\n",
        "x_0 = [1, 1]\n",
        "# реализуем алгоритм L-BFGS-B\n",
        "result = minimize(func, x_0, method='L-BFGS-B', jac=grad_func)\n",
        "# получаем результат\n",
        "print('Статус оптимизации %s' % result['message'])\n",
        "print('Количество оценок: %d' % result['nfev'])\n",
        "solution = result['x']\n",
        "evaluation = func(solution)\n",
        "print('Решение: f(%s) = %.5f' % (solution, evaluation))"
      ],
      "metadata": {
        "colab": {
          "base_uri": "https://localhost:8080/"
        },
        "id": "tKqgmSeAcRvc",
        "outputId": "7ce6f563-6a98-41d3-c11e-bf0755bb9a17"
      },
      "execution_count": 8,
      "outputs": [
        {
          "output_type": "stream",
          "name": "stdout",
          "text": [
            "Статус оптимизации CONVERGENCE: NORM_OF_PROJECTED_GRADIENT_<=_PGTOL\n",
            "Количество оценок: 3\n",
            "Решение: f([0. 0.]) = 0.00000\n"
          ]
        }
      ]
    },
    {
      "cell_type": "code",
      "source": [
        "def func(x):\n",
        "    return x[0]**2.0- x[0]*x[1] + x[1]**2.0 +9*x[0]-6*x[1]+20 \n",
        " \n",
        "#  определяем градиент функции\n",
        "def grad_func(x):\n",
        "    return np.array([x[0] * 2-x[1]+9, x[1] * 2-x[0]-6])\n",
        " \n",
        "# определяем начальную точку\n",
        "x_0 = [-400, -400]\n",
        "# реализуем алгоритм L-BFGS-B\n",
        "result = minimize(func, x_0, method='L-BFGS-B', jac=grad_func)\n",
        "# получаем результат\n",
        "print('Статус оптимизации %s' % result['message'])\n",
        "print('Количество оценок: %d' % result['nfev'])\n",
        "solution = result['x']\n",
        "evaluation = func(solution)\n",
        "print('Решение: f(%s) = %.5f' % (solution, evaluation))"
      ],
      "metadata": {
        "colab": {
          "base_uri": "https://localhost:8080/"
        },
        "id": "HpLxO9VocX7Z",
        "outputId": "4e60b7dd-08a3-4db9-85d5-8da84394e96a"
      },
      "execution_count": 9,
      "outputs": [
        {
          "output_type": "stream",
          "name": "stdout",
          "text": [
            "Статус оптимизации CONVERGENCE: NORM_OF_PROJECTED_GRADIENT_<=_PGTOL\n",
            "Количество оценок: 9\n",
            "Решение: f([-3.99999972  1.00000028]) = -1.00000\n"
          ]
        }
      ]
    },
    {
      "cell_type": "code",
      "source": [
        "def func(x):\n",
        "    return x**2-3*x+45\n",
        " \n",
        "#  определяем градиент функции\n",
        "def grad_func(x):\n",
        "    return 2*x-3\n",
        " \n",
        "# определяем начальную точку\n",
        "x_0 = 10\n",
        "# реализуем алгоритм L-BFGS-B\n",
        "result = minimize(func, x_0, method='L-BFGS-B', jac=grad_func)\n",
        "# получаем результат\n",
        "print('Статус оптимизации %s' % result['message'])\n",
        "print('Количество оценок: %d' % result['nfev'])\n",
        "solution = result['x']\n",
        "evaluation = func(solution)\n",
        "print('Решение: f(%s) = %.5f' % (solution, evaluation))"
      ],
      "metadata": {
        "colab": {
          "base_uri": "https://localhost:8080/"
        },
        "id": "alQne0Gjc0BI",
        "outputId": "383c07aa-c668-47a7-f5e6-39bda6e6c931"
      },
      "execution_count": 10,
      "outputs": [
        {
          "output_type": "stream",
          "name": "stdout",
          "text": [
            "Статус оптимизации CONVERGENCE: NORM_OF_PROJECTED_GRADIENT_<=_PGTOL\n",
            "Количество оценок: 3\n",
            "Решение: f([1.5]) = 42.75000\n"
          ]
        }
      ]
    },
    {
      "cell_type": "code",
      "source": [
        "def func(x):\n",
        "    return x[0]**4 + 6*x[1]**2.0 +10 \n",
        " \n",
        "#  определяем градиент функции\n",
        "def grad_func(x):\n",
        "    return np.array([4*x[0]**3, 12*x[1]])\n",
        " \n",
        "# определяем начальную точку\n",
        "x_0 = [-100, -100]\n",
        "# реализуем алгоритм L-BFGS-B\n",
        "result = minimize(func, x_0, method='BFGS', jac=grad_func)\n",
        "# получаем результат\n",
        "print('Статус оптимизации %s' % result['message'])\n",
        "print('Количество оценок: %d' % result['nfev'])\n",
        "solution = result['x']\n",
        "evaluation = func(solution)\n",
        "print('Решение: f(%s) = %.5f' % (solution, evaluation))"
      ],
      "metadata": {
        "colab": {
          "base_uri": "https://localhost:8080/"
        },
        "id": "cvM-jm_bdMB4",
        "outputId": "0b121818-56d8-4bf4-a155-7f6f1e0757d0"
      },
      "execution_count": 13,
      "outputs": [
        {
          "output_type": "stream",
          "name": "stdout",
          "text": [
            "Статус оптимизации Optimization terminated successfully.\n",
            "Количество оценок: 37\n",
            "Решение: f([-1.31617159e-02 -6.65344582e-14]) = 10.00000\n"
          ]
        }
      ]
    },
    {
      "cell_type": "code",
      "source": [
        "values = [4, 2, 1, 7, 3, 6] #стоимости товаров\n",
        "weights = [5, 9, 8, 2, 6, 5] #вес товаров\n",
        "C = 15 #вместимость сумки\n",
        "n = 6 #количество товаров"
      ],
      "metadata": {
        "id": "F49_A8fmdqt_"
      },
      "execution_count": 14,
      "outputs": []
    },
    {
      "cell_type": "code",
      "source": [
        "c = - np.array(values) #изменяем знак, чтобы перейти от задачи максимизации к задаче минимизации\n",
        "A = np.array(weights)  #конвертируем список с весами в массив\n",
        "A = np.expand_dims(A, 0) #преобразуем размерность массива\n",
        "b = np.array([C]) #конвертируем вместимость в массив"
      ],
      "metadata": {
        "id": "7fkuVHUyhgyC"
      },
      "execution_count": 15,
      "outputs": []
    },
    {
      "cell_type": "code",
      "source": [
        "from scipy.optimize import linprog\n",
        "linprog(c=c, A_ub=A, b_ub=b)"
      ],
      "metadata": {
        "colab": {
          "base_uri": "https://localhost:8080/"
        },
        "id": "Dwwuyf8lhjjO",
        "outputId": "594a3e18-af0b-4a3e-a159-9658abeebe99"
      },
      "execution_count": 16,
      "outputs": [
        {
          "output_type": "execute_result",
          "data": {
            "text/plain": [
              "        message: Optimization terminated successfully. (HiGHS Status 7: Optimal)\n",
              "        success: True\n",
              "         status: 0\n",
              "            fun: -52.5\n",
              "              x: [ 0.000e+00  0.000e+00  0.000e+00  7.500e+00  0.000e+00\n",
              "                   0.000e+00]\n",
              "            nit: 0\n",
              "          lower:  residual: [ 0.000e+00  0.000e+00  0.000e+00  7.500e+00\n",
              "                              0.000e+00  0.000e+00]\n",
              "                 marginals: [ 1.350e+01  2.950e+01  2.700e+01  0.000e+00\n",
              "                              1.800e+01  1.150e+01]\n",
              "          upper:  residual: [       inf        inf        inf        inf\n",
              "                                    inf        inf]\n",
              "                 marginals: [ 0.000e+00  0.000e+00  0.000e+00  0.000e+00\n",
              "                              0.000e+00  0.000e+00]\n",
              "          eqlin:  residual: []\n",
              "                 marginals: []\n",
              "        ineqlin:  residual: [ 0.000e+00]\n",
              "                 marginals: [-3.500e+00]\n",
              " mip_node_count: 0\n",
              " mip_dual_bound: 0.0\n",
              "        mip_gap: 0.0"
            ]
          },
          "metadata": {},
          "execution_count": 16
        }
      ]
    },
    {
      "cell_type": "code",
      "source": [
        "import cvxpy\n",
        "x = cvxpy.Variable(shape=n, integer = True)"
      ],
      "metadata": {
        "id": "81yNgtKlhnWU"
      },
      "execution_count": 18,
      "outputs": []
    },
    {
      "cell_type": "code",
      "source": [
        "A = A.flatten() # Преобразуем размерность массива\n",
        "constraint = cvxpy.sum(cvxpy.multiply(A, x)) <= C\n",
        "total_value = cvxpy.sum(cvxpy.multiply(x, c))"
      ],
      "metadata": {
        "id": "bMWWibAdh3kc"
      },
      "execution_count": 19,
      "outputs": []
    },
    {
      "cell_type": "code",
      "source": [
        "problem = cvxpy.Problem(cvxpy.Minimize(total_value), constraints=[constraint])"
      ],
      "metadata": {
        "id": "itIQbJPTiFv3"
      },
      "execution_count": 20,
      "outputs": []
    },
    {
      "cell_type": "code",
      "source": [
        "problem.solve()"
      ],
      "metadata": {
        "colab": {
          "base_uri": "https://localhost:8080/"
        },
        "id": "0I7Zh7euiJ6U",
        "outputId": "5c5af580-7de8-4425-998d-9ad1d630e443"
      },
      "execution_count": 21,
      "outputs": [
        {
          "output_type": "execute_result",
          "data": {
            "text/plain": [
              "-inf"
            ]
          },
          "metadata": {},
          "execution_count": 21
        }
      ]
    },
    {
      "cell_type": "code",
      "source": [
        "x = cvxpy.Variable(shape=n, integer=True)\n",
        "constraint = cvxpy.sum(cvxpy.multiply(A, x)) <= C\n",
        "x_positive = x >= 0\n",
        "total_value = cvxpy.sum(cvxpy.multiply(x, c))\n",
        "\n",
        "problem = cvxpy.Problem(\n",
        "    cvxpy.Minimize(total_value), constraints=[constraint, x_positive]\n",
        ")\n",
        "\n",
        "problem.solve()\n",
        "x.value\n"
      ],
      "metadata": {
        "colab": {
          "base_uri": "https://localhost:8080/"
        },
        "id": "GfmuHgAbiLYq",
        "outputId": "1111cb4b-4bea-4805-916e-1ff6041b303d"
      },
      "execution_count": 22,
      "outputs": [
        {
          "output_type": "execute_result",
          "data": {
            "text/plain": [
              "array([0., 0., 0., 7., 0., 0.])"
            ]
          },
          "metadata": {},
          "execution_count": 22
        }
      ]
    },
    {
      "cell_type": "code",
      "source": [
        "x = cvxpy.Variable(shape=n, boolean=True)\n",
        "constraint = cvxpy.sum(cvxpy.multiply(A, x)) <= C\n",
        "x_positive = x >= 0\n",
        "total_value = cvxpy.sum(cvxpy.multiply(x, c))\n",
        "\n",
        "problem = cvxpy.Problem(\n",
        "    cvxpy.Minimize(total_value), constraints=[constraint, x_positive]\n",
        ")\n",
        "\n",
        "problem.solve()\n",
        "x.value"
      ],
      "metadata": {
        "colab": {
          "base_uri": "https://localhost:8080/"
        },
        "id": "G8QaErLziS_r",
        "outputId": "7f6e1fd9-2941-440d-f364-8e11d3e5e927"
      },
      "execution_count": 23,
      "outputs": [
        {
          "output_type": "execute_result",
          "data": {
            "text/plain": [
              "array([1., 0., 0., 1., 0., 1.])"
            ]
          },
          "metadata": {},
          "execution_count": 23
        }
      ]
    },
    {
      "cell_type": "code",
      "source": [
        "!pip install pulp\n",
        "from pulp import *\n",
        "problem = LpProblem('Производство машин', LpMaximize)\n",
        "A = LpVariable('Автомобиль A', lowBound=0 , cat=LpInteger)\n",
        "B = LpVariable('Автомобиль B', lowBound=0 , cat=LpInteger)\n",
        "#Целевая функция\n",
        "problem += 20000*A + 45000*B \n",
        "#Ограничения\n",
        "problem += 4*A + 5*B <= 30 \n",
        "problem += 3*A + 6*B <=30\n",
        "problem += 2*A + 7*B <=30\n",
        "problem.solve()\n",
        "print(\"Количество автомобилей модели А: \", A.varValue)\n",
        "print(\"Количество автомобилей модели В: \", B.varValue)\n",
        "print(\"Суммарный доход: \", value(problem.objective))\n",
        "#Количество автомобилей модели А:  1.0\n",
        "#Количество автомобилей модели В:  4.0\n",
        "#Суммарный доход:  200000.0\n"
      ],
      "metadata": {
        "colab": {
          "base_uri": "https://localhost:8080/"
        },
        "id": "otKY2XKaiVkR",
        "outputId": "af7fd82f-4857-4871-d26b-efe30cba3a8c"
      },
      "execution_count": 27,
      "outputs": [
        {
          "output_type": "stream",
          "name": "stdout",
          "text": [
            "Looking in indexes: https://pypi.org/simple, https://us-python.pkg.dev/colab-wheels/public/simple/\n",
            "Collecting pulp\n",
            "  Downloading PuLP-2.7.0-py3-none-any.whl (14.3 MB)\n",
            "\u001b[2K     \u001b[90m━━━━━━━━━━━━━━━━━━━━━━━━━━━━━━━━━━━━━━━━\u001b[0m \u001b[32m14.3/14.3 MB\u001b[0m \u001b[31m29.6 MB/s\u001b[0m eta \u001b[36m0:00:00\u001b[0m\n",
            "\u001b[?25hInstalling collected packages: pulp\n",
            "Successfully installed pulp-2.7.0\n",
            "Количество автомобилей модели А:  1.0\n",
            "Количество автомобилей модели В:  4.0\n",
            "Суммарный доход:  200000.0\n"
          ]
        },
        {
          "output_type": "stream",
          "name": "stderr",
          "text": [
            "/usr/local/lib/python3.9/dist-packages/pulp/pulp.py:1352: UserWarning: Spaces are not permitted in the name. Converted to '_'\n",
            "  warnings.warn(\"Spaces are not permitted in the name. Converted to '_'\")\n"
          ]
        }
      ]
    },
    {
      "cell_type": "code",
      "source": [
        "cost = np.array([\n",
        "    [2, 5, 3],\n",
        "    [7, 7, 6]\n",
        "])\n",
        "stock = np.array([180, 220])\n",
        "demand = np.array([110, 150, 140])\n",
        "num_warehouse = 2\n",
        "num_clients = 3"
      ],
      "metadata": {
        "id": "DL2H4HHCim8F"
      },
      "execution_count": 28,
      "outputs": []
    },
    {
      "cell_type": "code",
      "source": [
        "c = cost.flatten()\n",
        "print(c) "
      ],
      "metadata": {
        "colab": {
          "base_uri": "https://localhost:8080/"
        },
        "id": "d64QKW4Ljc7B",
        "outputId": "33cb6d15-0f26-470a-c7be-2e2dc996e169"
      },
      "execution_count": 29,
      "outputs": [
        {
          "output_type": "stream",
          "name": "stdout",
          "text": [
            "[2 5 3 7 7 6]\n"
          ]
        }
      ]
    },
    {
      "cell_type": "code",
      "source": [
        "A = []\n",
        "b = []\n",
        "for i in range(0, num_warehouse):\n",
        "    A.append([0] * (num_clients * i) + [1] * num_clients + [0] * (num_clients * (num_warehouse - i - 1)))\n",
        "    b.append(stock[i])\n",
        "A = np.asarray(A)\n",
        "b = np.asarray(b)\n",
        "print(A)\n",
        "print(b)"
      ],
      "metadata": {
        "colab": {
          "base_uri": "https://localhost:8080/"
        },
        "id": "ycA2LCsJjelh",
        "outputId": "5ce218c9-ca3e-4751-c1ca-f7c453a36d2c"
      },
      "execution_count": 30,
      "outputs": [
        {
          "output_type": "stream",
          "name": "stdout",
          "text": [
            "[[1 1 1 0 0 0]\n",
            " [0 0 0 1 1 1]]\n",
            "[180 220]\n"
          ]
        }
      ]
    },
    {
      "cell_type": "code",
      "source": [
        "A = A.tolist()\n",
        "b = b.tolist()\n",
        "for j in range(0, num_clients):\n",
        "    A.append(([0] * j + [-1] + [0] * (num_clients - j - 1)) * num_warehouse)\n",
        "    b.append(-demand[j])\n",
        "A = np.asarray(A)\n",
        "b = np.asarray(b)\n",
        "print(A)\n",
        "print(b)"
      ],
      "metadata": {
        "colab": {
          "base_uri": "https://localhost:8080/"
        },
        "id": "jd7iQ6mGjqi3",
        "outputId": "1937ddfd-963c-4109-83a5-f2fb597aa211"
      },
      "execution_count": 31,
      "outputs": [
        {
          "output_type": "stream",
          "name": "stdout",
          "text": [
            "[[ 1  1  1  0  0  0]\n",
            " [ 0  0  0  1  1  1]\n",
            " [-1  0  0 -1  0  0]\n",
            " [ 0 -1  0  0 -1  0]\n",
            " [ 0  0 -1  0  0 -1]]\n",
            "[ 180  220 -110 -150 -140]\n"
          ]
        }
      ]
    },
    {
      "cell_type": "code",
      "source": [
        "linprog(c=c, A_ub=A, b_ub=b)"
      ],
      "metadata": {
        "colab": {
          "base_uri": "https://localhost:8080/"
        },
        "id": "zDiD4ripj4KJ",
        "outputId": "11c37593-7d13-4759-efa1-8edc61aef423"
      },
      "execution_count": 32,
      "outputs": [
        {
          "output_type": "execute_result",
          "data": {
            "text/plain": [
              "        message: Optimization terminated successfully. (HiGHS Status 7: Optimal)\n",
              "        success: True\n",
              "         status: 0\n",
              "            fun: 1900.0\n",
              "              x: [ 1.100e+02  0.000e+00  7.000e+01  0.000e+00  1.500e+02\n",
              "                   7.000e+01]\n",
              "            nit: 5\n",
              "          lower:  residual: [ 1.100e+02  0.000e+00  7.000e+01  0.000e+00\n",
              "                              1.500e+02  7.000e+01]\n",
              "                 marginals: [ 0.000e+00  1.000e+00  0.000e+00  2.000e+00\n",
              "                              0.000e+00  0.000e+00]\n",
              "          upper:  residual: [       inf        inf        inf        inf\n",
              "                                    inf        inf]\n",
              "                 marginals: [ 0.000e+00  0.000e+00  0.000e+00  0.000e+00\n",
              "                              0.000e+00  0.000e+00]\n",
              "          eqlin:  residual: []\n",
              "                 marginals: []\n",
              "        ineqlin:  residual: [ 0.000e+00  0.000e+00  0.000e+00  0.000e+00\n",
              "                              0.000e+00]\n",
              "                 marginals: [-3.000e+00 -0.000e+00 -5.000e+00 -7.000e+00\n",
              "                             -6.000e+00]\n",
              " mip_node_count: 0\n",
              " mip_dual_bound: 0.0\n",
              "        mip_gap: 0.0"
            ]
          },
          "metadata": {},
          "execution_count": 32
        }
      ]
    },
    {
      "cell_type": "code",
      "source": [
        "import cvxpy as cvx\n",
        "c = np.array([[1000, 12, 10, 19, 8],\n",
        "    [12, 1000, 3, 7, 2], \n",
        "    [10, 3, 1000, 6, 20], \n",
        "    [19, 7, 6, 1000, 4], \n",
        "    [8, 2, 20, 4, 1000]])"
      ],
      "metadata": {
        "id": "CGSLwxXZj6Am"
      },
      "execution_count": 33,
      "outputs": []
    },
    {
      "cell_type": "code",
      "source": [
        "x = cvx.Variable(shape=(5,5), boolean=True)"
      ],
      "metadata": {
        "id": "aYi3KYIpkQOW"
      },
      "execution_count": 34,
      "outputs": []
    },
    {
      "cell_type": "code",
      "source": [
        "constraints = [\n",
        "    cvx.sum(x, axis=0) == np.ones(5),\n",
        "    cvx.sum(x, axis=1) == np.ones(5)\n",
        "]\n",
        "    "
      ],
      "metadata": {
        "id": "ILiTcpinkRxm"
      },
      "execution_count": 35,
      "outputs": []
    },
    {
      "cell_type": "code",
      "source": [
        "func = cvx.sum(cvx.multiply(x, c))\n",
        "problem = cvx.Problem(cvx.Minimize(func), constraints=constraints)"
      ],
      "metadata": {
        "id": "hbq8knMYkTFj"
      },
      "execution_count": 36,
      "outputs": []
    },
    {
      "cell_type": "code",
      "source": [
        "problem.solve()"
      ],
      "metadata": {
        "colab": {
          "base_uri": "https://localhost:8080/"
        },
        "id": "8OH_PwjBkV8f",
        "outputId": "97c24f4c-010a-4538-f042-ef508df324b0"
      },
      "execution_count": 37,
      "outputs": [
        {
          "output_type": "execute_result",
          "data": {
            "text/plain": [
              "32.0"
            ]
          },
          "metadata": {},
          "execution_count": 37
        }
      ]
    },
    {
      "cell_type": "code",
      "source": [
        "c = np.array(\n",
        "    [\n",
        "        [0, 12, 10, 19, 8],\n",
        "        [12, 0, 3, 7, 2],\n",
        "        [10, 3, 0, 6, 20],\n",
        "        [19, 7, 6, 0, 4],\n",
        "        [8, 2, 20, 4, 0],\n",
        "    ]\n",
        ")"
      ],
      "metadata": {
        "id": "U9L4ra16kass"
      },
      "execution_count": 38,
      "outputs": []
    },
    {
      "cell_type": "code",
      "source": [
        "constraints = [\n",
        "    cvx.sum(x, axis=0) == np.ones(5),\n",
        "    cvx.sum(x, axis=1) == np.ones(5),\n",
        "]"
      ],
      "metadata": {
        "id": "oGXllii-knSh"
      },
      "execution_count": 39,
      "outputs": []
    },
    {
      "cell_type": "code",
      "source": [
        "for i in range(5):\n",
        "    constraints.append(x[i, i] == 0)"
      ],
      "metadata": {
        "id": "OMk5lIb6ko5n"
      },
      "execution_count": 40,
      "outputs": []
    },
    {
      "cell_type": "code",
      "source": [
        "func = cvx.sum(cvx.multiply(x, c))\n",
        "problem = cvx.Problem(cvx.Minimize(func), constraints=constraints)"
      ],
      "metadata": {
        "id": "xGzxmIpokw8P"
      },
      "execution_count": 41,
      "outputs": []
    },
    {
      "cell_type": "code",
      "source": [
        "problem.solve()"
      ],
      "metadata": {
        "colab": {
          "base_uri": "https://localhost:8080/"
        },
        "id": "T9Dcd6QIk5Fr",
        "outputId": "0ba7657b-3b3f-42a0-98c6-3038336cdf4e"
      },
      "execution_count": 42,
      "outputs": [
        {
          "output_type": "execute_result",
          "data": {
            "text/plain": [
              "32.0"
            ]
          },
          "metadata": {},
          "execution_count": 42
        }
      ]
    },
    {
      "cell_type": "code",
      "source": [],
      "metadata": {
        "id": "aXcfIVhnk7w3"
      },
      "execution_count": null,
      "outputs": []
    }
  ]
}