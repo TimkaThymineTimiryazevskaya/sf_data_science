{
  "nbformat": 4,
  "nbformat_minor": 0,
  "metadata": {
    "colab": {
      "name": "Cleaning_of_data.ipynb",
      "provenance": [],
      "authorship_tag": "ABX9TyNYBSHzLLHDELDISJCcJJSM",
      "include_colab_link": true
    },
    "kernelspec": {
      "name": "python3",
      "display_name": "Python 3"
    },
    "language_info": {
      "name": "python"
    }
  },
  "cells": [
    {
      "cell_type": "markdown",
      "metadata": {
        "id": "view-in-github",
        "colab_type": "text"
      },
      "source": [
        "<a href=\"https://colab.research.google.com/github/TimkaThymineTimiryazevskaya/sf_data_science/blob/main/Cleaning_of_data.ipynb\" target=\"_parent\"><img src=\"https://colab.research.google.com/assets/colab-badge.svg\" alt=\"Open In Colab\"/></a>"
      ]
    },
    {
      "cell_type": "code",
      "execution_count": null,
      "metadata": {
        "id": "IiVVfmKN75PF"
      },
      "outputs": [],
      "source": [
        "import pandas as pd\n",
        "import numpy as np\n",
        "import matplotlib.pyplot as plt\n",
        "import seaborn as sns"
      ]
    },
    {
      "cell_type": "code",
      "source": [
        "sber_data = pd.read_csv('sber_data.csv')\n",
        "sber_data.head()"
      ],
      "metadata": {
        "colab": {
          "base_uri": "https://localhost:8080/",
          "height": 317
        },
        "id": "C1S6BvQ08EXb",
        "outputId": "69d00ac6-dcc9-45fb-f79a-492f3c23e879"
      },
      "execution_count": null,
      "outputs": [
        {
          "output_type": "execute_result",
          "data": {
            "text/plain": [
              "   id  full_sq  life_sq  floor           sub_area  preschool_quota  \\\n",
              "0   1       43     27.0    4.0           Bibirevo           5001.0   \n",
              "1   2       34     19.0    3.0  Nagatinskij Zaton           3119.0   \n",
              "2   3       43     29.0    2.0     Tekstil'shhiki           1463.0   \n",
              "3   4       89     50.0    9.0             Mitino           6839.0   \n",
              "4   5       77     77.0    4.0          Basmannoe           3240.0   \n",
              "\n",
              "   preschool_education_centers_raion  school_quota  \\\n",
              "0                                  5       11065.0   \n",
              "1                                  5        6237.0   \n",
              "2                                  4        5580.0   \n",
              "3                                  9       17063.0   \n",
              "4                                  7        7770.0   \n",
              "\n",
              "   school_education_centers_raion  school_education_centers_top_20_raion  ...  \\\n",
              "0                               5                                      0  ...   \n",
              "1                               8                                      0  ...   \n",
              "2                               7                                      0  ...   \n",
              "3                              10                                      0  ...   \n",
              "4                               9                                      0  ...   \n",
              "\n",
              "   office_km  additional_education_km  preschool_km  big_church_km  \\\n",
              "0   0.637189                 0.947962      0.177975       0.625783   \n",
              "1   0.688796                 1.072315      0.273345       0.967821   \n",
              "2   1.543049                 0.391957      0.158072       3.178751   \n",
              "3   0.934273                 0.892674      0.236455       1.031777   \n",
              "4   0.077901                 0.810801      0.376838       0.378756   \n",
              "\n",
              "   church_synagogue_km  theater_km  museum_km    ecology mosque_count_1000  \\\n",
              "0             0.628187   14.053047   7.389498       good                 0   \n",
              "1             0.471447    6.829889   0.709260  excellent                 0   \n",
              "2             0.755946    4.273200   3.156423       poor                 0   \n",
              "3             1.561505   16.990677  16.041521       good                 0   \n",
              "4             0.121681    1.112486   1.800125  excellent                 0   \n",
              "\n",
              "  price_doc  \n",
              "0   5850000  \n",
              "1   6000000  \n",
              "2   5700000  \n",
              "3  13100000  \n",
              "4  16331452  \n",
              "\n",
              "[5 rows x 61 columns]"
            ],
            "text/html": [
              "\n",
              "  <div id=\"df-0b57d6ea-eac8-4029-98bb-758d9e89bb6e\">\n",
              "    <div class=\"colab-df-container\">\n",
              "      <div>\n",
              "<style scoped>\n",
              "    .dataframe tbody tr th:only-of-type {\n",
              "        vertical-align: middle;\n",
              "    }\n",
              "\n",
              "    .dataframe tbody tr th {\n",
              "        vertical-align: top;\n",
              "    }\n",
              "\n",
              "    .dataframe thead th {\n",
              "        text-align: right;\n",
              "    }\n",
              "</style>\n",
              "<table border=\"1\" class=\"dataframe\">\n",
              "  <thead>\n",
              "    <tr style=\"text-align: right;\">\n",
              "      <th></th>\n",
              "      <th>id</th>\n",
              "      <th>full_sq</th>\n",
              "      <th>life_sq</th>\n",
              "      <th>floor</th>\n",
              "      <th>sub_area</th>\n",
              "      <th>preschool_quota</th>\n",
              "      <th>preschool_education_centers_raion</th>\n",
              "      <th>school_quota</th>\n",
              "      <th>school_education_centers_raion</th>\n",
              "      <th>school_education_centers_top_20_raion</th>\n",
              "      <th>...</th>\n",
              "      <th>office_km</th>\n",
              "      <th>additional_education_km</th>\n",
              "      <th>preschool_km</th>\n",
              "      <th>big_church_km</th>\n",
              "      <th>church_synagogue_km</th>\n",
              "      <th>theater_km</th>\n",
              "      <th>museum_km</th>\n",
              "      <th>ecology</th>\n",
              "      <th>mosque_count_1000</th>\n",
              "      <th>price_doc</th>\n",
              "    </tr>\n",
              "  </thead>\n",
              "  <tbody>\n",
              "    <tr>\n",
              "      <th>0</th>\n",
              "      <td>1</td>\n",
              "      <td>43</td>\n",
              "      <td>27.0</td>\n",
              "      <td>4.0</td>\n",
              "      <td>Bibirevo</td>\n",
              "      <td>5001.0</td>\n",
              "      <td>5</td>\n",
              "      <td>11065.0</td>\n",
              "      <td>5</td>\n",
              "      <td>0</td>\n",
              "      <td>...</td>\n",
              "      <td>0.637189</td>\n",
              "      <td>0.947962</td>\n",
              "      <td>0.177975</td>\n",
              "      <td>0.625783</td>\n",
              "      <td>0.628187</td>\n",
              "      <td>14.053047</td>\n",
              "      <td>7.389498</td>\n",
              "      <td>good</td>\n",
              "      <td>0</td>\n",
              "      <td>5850000</td>\n",
              "    </tr>\n",
              "    <tr>\n",
              "      <th>1</th>\n",
              "      <td>2</td>\n",
              "      <td>34</td>\n",
              "      <td>19.0</td>\n",
              "      <td>3.0</td>\n",
              "      <td>Nagatinskij Zaton</td>\n",
              "      <td>3119.0</td>\n",
              "      <td>5</td>\n",
              "      <td>6237.0</td>\n",
              "      <td>8</td>\n",
              "      <td>0</td>\n",
              "      <td>...</td>\n",
              "      <td>0.688796</td>\n",
              "      <td>1.072315</td>\n",
              "      <td>0.273345</td>\n",
              "      <td>0.967821</td>\n",
              "      <td>0.471447</td>\n",
              "      <td>6.829889</td>\n",
              "      <td>0.709260</td>\n",
              "      <td>excellent</td>\n",
              "      <td>0</td>\n",
              "      <td>6000000</td>\n",
              "    </tr>\n",
              "    <tr>\n",
              "      <th>2</th>\n",
              "      <td>3</td>\n",
              "      <td>43</td>\n",
              "      <td>29.0</td>\n",
              "      <td>2.0</td>\n",
              "      <td>Tekstil'shhiki</td>\n",
              "      <td>1463.0</td>\n",
              "      <td>4</td>\n",
              "      <td>5580.0</td>\n",
              "      <td>7</td>\n",
              "      <td>0</td>\n",
              "      <td>...</td>\n",
              "      <td>1.543049</td>\n",
              "      <td>0.391957</td>\n",
              "      <td>0.158072</td>\n",
              "      <td>3.178751</td>\n",
              "      <td>0.755946</td>\n",
              "      <td>4.273200</td>\n",
              "      <td>3.156423</td>\n",
              "      <td>poor</td>\n",
              "      <td>0</td>\n",
              "      <td>5700000</td>\n",
              "    </tr>\n",
              "    <tr>\n",
              "      <th>3</th>\n",
              "      <td>4</td>\n",
              "      <td>89</td>\n",
              "      <td>50.0</td>\n",
              "      <td>9.0</td>\n",
              "      <td>Mitino</td>\n",
              "      <td>6839.0</td>\n",
              "      <td>9</td>\n",
              "      <td>17063.0</td>\n",
              "      <td>10</td>\n",
              "      <td>0</td>\n",
              "      <td>...</td>\n",
              "      <td>0.934273</td>\n",
              "      <td>0.892674</td>\n",
              "      <td>0.236455</td>\n",
              "      <td>1.031777</td>\n",
              "      <td>1.561505</td>\n",
              "      <td>16.990677</td>\n",
              "      <td>16.041521</td>\n",
              "      <td>good</td>\n",
              "      <td>0</td>\n",
              "      <td>13100000</td>\n",
              "    </tr>\n",
              "    <tr>\n",
              "      <th>4</th>\n",
              "      <td>5</td>\n",
              "      <td>77</td>\n",
              "      <td>77.0</td>\n",
              "      <td>4.0</td>\n",
              "      <td>Basmannoe</td>\n",
              "      <td>3240.0</td>\n",
              "      <td>7</td>\n",
              "      <td>7770.0</td>\n",
              "      <td>9</td>\n",
              "      <td>0</td>\n",
              "      <td>...</td>\n",
              "      <td>0.077901</td>\n",
              "      <td>0.810801</td>\n",
              "      <td>0.376838</td>\n",
              "      <td>0.378756</td>\n",
              "      <td>0.121681</td>\n",
              "      <td>1.112486</td>\n",
              "      <td>1.800125</td>\n",
              "      <td>excellent</td>\n",
              "      <td>0</td>\n",
              "      <td>16331452</td>\n",
              "    </tr>\n",
              "  </tbody>\n",
              "</table>\n",
              "<p>5 rows × 61 columns</p>\n",
              "</div>\n",
              "      <button class=\"colab-df-convert\" onclick=\"convertToInteractive('df-0b57d6ea-eac8-4029-98bb-758d9e89bb6e')\"\n",
              "              title=\"Convert this dataframe to an interactive table.\"\n",
              "              style=\"display:none;\">\n",
              "        \n",
              "  <svg xmlns=\"http://www.w3.org/2000/svg\" height=\"24px\"viewBox=\"0 0 24 24\"\n",
              "       width=\"24px\">\n",
              "    <path d=\"M0 0h24v24H0V0z\" fill=\"none\"/>\n",
              "    <path d=\"M18.56 5.44l.94 2.06.94-2.06 2.06-.94-2.06-.94-.94-2.06-.94 2.06-2.06.94zm-11 1L8.5 8.5l.94-2.06 2.06-.94-2.06-.94L8.5 2.5l-.94 2.06-2.06.94zm10 10l.94 2.06.94-2.06 2.06-.94-2.06-.94-.94-2.06-.94 2.06-2.06.94z\"/><path d=\"M17.41 7.96l-1.37-1.37c-.4-.4-.92-.59-1.43-.59-.52 0-1.04.2-1.43.59L10.3 9.45l-7.72 7.72c-.78.78-.78 2.05 0 2.83L4 21.41c.39.39.9.59 1.41.59.51 0 1.02-.2 1.41-.59l7.78-7.78 2.81-2.81c.8-.78.8-2.07 0-2.86zM5.41 20L4 18.59l7.72-7.72 1.47 1.35L5.41 20z\"/>\n",
              "  </svg>\n",
              "      </button>\n",
              "      \n",
              "  <style>\n",
              "    .colab-df-container {\n",
              "      display:flex;\n",
              "      flex-wrap:wrap;\n",
              "      gap: 12px;\n",
              "    }\n",
              "\n",
              "    .colab-df-convert {\n",
              "      background-color: #E8F0FE;\n",
              "      border: none;\n",
              "      border-radius: 50%;\n",
              "      cursor: pointer;\n",
              "      display: none;\n",
              "      fill: #1967D2;\n",
              "      height: 32px;\n",
              "      padding: 0 0 0 0;\n",
              "      width: 32px;\n",
              "    }\n",
              "\n",
              "    .colab-df-convert:hover {\n",
              "      background-color: #E2EBFA;\n",
              "      box-shadow: 0px 1px 2px rgba(60, 64, 67, 0.3), 0px 1px 3px 1px rgba(60, 64, 67, 0.15);\n",
              "      fill: #174EA6;\n",
              "    }\n",
              "\n",
              "    [theme=dark] .colab-df-convert {\n",
              "      background-color: #3B4455;\n",
              "      fill: #D2E3FC;\n",
              "    }\n",
              "\n",
              "    [theme=dark] .colab-df-convert:hover {\n",
              "      background-color: #434B5C;\n",
              "      box-shadow: 0px 1px 3px 1px rgba(0, 0, 0, 0.15);\n",
              "      filter: drop-shadow(0px 1px 2px rgba(0, 0, 0, 0.3));\n",
              "      fill: #FFFFFF;\n",
              "    }\n",
              "  </style>\n",
              "\n",
              "      <script>\n",
              "        const buttonEl =\n",
              "          document.querySelector('#df-0b57d6ea-eac8-4029-98bb-758d9e89bb6e button.colab-df-convert');\n",
              "        buttonEl.style.display =\n",
              "          google.colab.kernel.accessAllowed ? 'block' : 'none';\n",
              "\n",
              "        async function convertToInteractive(key) {\n",
              "          const element = document.querySelector('#df-0b57d6ea-eac8-4029-98bb-758d9e89bb6e');\n",
              "          const dataTable =\n",
              "            await google.colab.kernel.invokeFunction('convertToInteractive',\n",
              "                                                     [key], {});\n",
              "          if (!dataTable) return;\n",
              "\n",
              "          const docLinkHtml = 'Like what you see? Visit the ' +\n",
              "            '<a target=\"_blank\" href=https://colab.research.google.com/notebooks/data_table.ipynb>data table notebook</a>'\n",
              "            + ' to learn more about interactive tables.';\n",
              "          element.innerHTML = '';\n",
              "          dataTable['output_type'] = 'display_data';\n",
              "          await google.colab.output.renderOutput(dataTable, element);\n",
              "          const docLink = document.createElement('div');\n",
              "          docLink.innerHTML = docLinkHtml;\n",
              "          element.appendChild(docLink);\n",
              "        }\n",
              "      </script>\n",
              "    </div>\n",
              "  </div>\n",
              "  "
            ]
          },
          "metadata": {},
          "execution_count": 8
        }
      ]
    },
    {
      "cell_type": "code",
      "source": [
        "display(sber_data.tail())"
      ],
      "metadata": {
        "colab": {
          "base_uri": "https://localhost:8080/",
          "height": 317
        },
        "id": "GtmJp7ST8f2w",
        "outputId": "4db7ed0a-28bb-4b50-c7ea-9888852a5acc"
      },
      "execution_count": null,
      "outputs": [
        {
          "output_type": "display_data",
          "data": {
            "text/plain": [
              "          id  full_sq  life_sq  floor              sub_area  preschool_quota  \\\n",
              "30466  30469       44     27.0    7.0              Otradnoe           5088.0   \n",
              "30467  30470       86     59.0    3.0              Tverskoe           1874.0   \n",
              "30468  30471       45      NaN   10.0  Poselenie Vnukovskoe              NaN   \n",
              "30469  30472       64     32.0    5.0          Obruchevskoe           2372.0   \n",
              "30470  30473       43     28.0    1.0           Novogireevo           2215.0   \n",
              "\n",
              "       preschool_education_centers_raion  school_quota  \\\n",
              "30466                                  4       12721.0   \n",
              "30467                                  4        6772.0   \n",
              "30468                                  0           NaN   \n",
              "30469                                  6        6083.0   \n",
              "30470                                  4        5824.0   \n",
              "\n",
              "       school_education_centers_raion  school_education_centers_top_20_raion  \\\n",
              "30466                               4                                      0   \n",
              "30467                               4                                      1   \n",
              "30468                               0                                      0   \n",
              "30469                               8                                      0   \n",
              "30470                               4                                      0   \n",
              "\n",
              "       ...  office_km  additional_education_km  preschool_km  big_church_km  \\\n",
              "30466  ...   1.103579                 0.167718      0.349899       1.235066   \n",
              "30467  ...   0.069986                 0.086552      0.362681       0.850385   \n",
              "30468  ...   4.338453                 1.339078      1.234235       1.192543   \n",
              "30469  ...   1.204798                 1.340017      0.130667       1.644053   \n",
              "30470  ...   2.108265                 0.825811      0.378950       0.480531   \n",
              "\n",
              "       church_synagogue_km  theater_km  museum_km       ecology  \\\n",
              "30466             0.612359    7.482165   4.836787          good   \n",
              "30467             0.310021    0.778428   1.450108          poor   \n",
              "30468             1.186621   13.459593   9.890758       no data   \n",
              "30469             0.476021    2.088193   4.119706  satisfactory   \n",
              "30470             0.867332    0.688707   0.127867          poor   \n",
              "\n",
              "      mosque_count_1000 price_doc  \n",
              "30466                 0   7400000  \n",
              "30467                 0  25000000  \n",
              "30468                 0   6970959  \n",
              "30469                 0  13500000  \n",
              "30470                 0   5600000  \n",
              "\n",
              "[5 rows x 61 columns]"
            ],
            "text/html": [
              "\n",
              "  <div id=\"df-750dcece-56ca-4ff2-b6b4-450d59479bdf\">\n",
              "    <div class=\"colab-df-container\">\n",
              "      <div>\n",
              "<style scoped>\n",
              "    .dataframe tbody tr th:only-of-type {\n",
              "        vertical-align: middle;\n",
              "    }\n",
              "\n",
              "    .dataframe tbody tr th {\n",
              "        vertical-align: top;\n",
              "    }\n",
              "\n",
              "    .dataframe thead th {\n",
              "        text-align: right;\n",
              "    }\n",
              "</style>\n",
              "<table border=\"1\" class=\"dataframe\">\n",
              "  <thead>\n",
              "    <tr style=\"text-align: right;\">\n",
              "      <th></th>\n",
              "      <th>id</th>\n",
              "      <th>full_sq</th>\n",
              "      <th>life_sq</th>\n",
              "      <th>floor</th>\n",
              "      <th>sub_area</th>\n",
              "      <th>preschool_quota</th>\n",
              "      <th>preschool_education_centers_raion</th>\n",
              "      <th>school_quota</th>\n",
              "      <th>school_education_centers_raion</th>\n",
              "      <th>school_education_centers_top_20_raion</th>\n",
              "      <th>...</th>\n",
              "      <th>office_km</th>\n",
              "      <th>additional_education_km</th>\n",
              "      <th>preschool_km</th>\n",
              "      <th>big_church_km</th>\n",
              "      <th>church_synagogue_km</th>\n",
              "      <th>theater_km</th>\n",
              "      <th>museum_km</th>\n",
              "      <th>ecology</th>\n",
              "      <th>mosque_count_1000</th>\n",
              "      <th>price_doc</th>\n",
              "    </tr>\n",
              "  </thead>\n",
              "  <tbody>\n",
              "    <tr>\n",
              "      <th>30466</th>\n",
              "      <td>30469</td>\n",
              "      <td>44</td>\n",
              "      <td>27.0</td>\n",
              "      <td>7.0</td>\n",
              "      <td>Otradnoe</td>\n",
              "      <td>5088.0</td>\n",
              "      <td>4</td>\n",
              "      <td>12721.0</td>\n",
              "      <td>4</td>\n",
              "      <td>0</td>\n",
              "      <td>...</td>\n",
              "      <td>1.103579</td>\n",
              "      <td>0.167718</td>\n",
              "      <td>0.349899</td>\n",
              "      <td>1.235066</td>\n",
              "      <td>0.612359</td>\n",
              "      <td>7.482165</td>\n",
              "      <td>4.836787</td>\n",
              "      <td>good</td>\n",
              "      <td>0</td>\n",
              "      <td>7400000</td>\n",
              "    </tr>\n",
              "    <tr>\n",
              "      <th>30467</th>\n",
              "      <td>30470</td>\n",
              "      <td>86</td>\n",
              "      <td>59.0</td>\n",
              "      <td>3.0</td>\n",
              "      <td>Tverskoe</td>\n",
              "      <td>1874.0</td>\n",
              "      <td>4</td>\n",
              "      <td>6772.0</td>\n",
              "      <td>4</td>\n",
              "      <td>1</td>\n",
              "      <td>...</td>\n",
              "      <td>0.069986</td>\n",
              "      <td>0.086552</td>\n",
              "      <td>0.362681</td>\n",
              "      <td>0.850385</td>\n",
              "      <td>0.310021</td>\n",
              "      <td>0.778428</td>\n",
              "      <td>1.450108</td>\n",
              "      <td>poor</td>\n",
              "      <td>0</td>\n",
              "      <td>25000000</td>\n",
              "    </tr>\n",
              "    <tr>\n",
              "      <th>30468</th>\n",
              "      <td>30471</td>\n",
              "      <td>45</td>\n",
              "      <td>NaN</td>\n",
              "      <td>10.0</td>\n",
              "      <td>Poselenie Vnukovskoe</td>\n",
              "      <td>NaN</td>\n",
              "      <td>0</td>\n",
              "      <td>NaN</td>\n",
              "      <td>0</td>\n",
              "      <td>0</td>\n",
              "      <td>...</td>\n",
              "      <td>4.338453</td>\n",
              "      <td>1.339078</td>\n",
              "      <td>1.234235</td>\n",
              "      <td>1.192543</td>\n",
              "      <td>1.186621</td>\n",
              "      <td>13.459593</td>\n",
              "      <td>9.890758</td>\n",
              "      <td>no data</td>\n",
              "      <td>0</td>\n",
              "      <td>6970959</td>\n",
              "    </tr>\n",
              "    <tr>\n",
              "      <th>30469</th>\n",
              "      <td>30472</td>\n",
              "      <td>64</td>\n",
              "      <td>32.0</td>\n",
              "      <td>5.0</td>\n",
              "      <td>Obruchevskoe</td>\n",
              "      <td>2372.0</td>\n",
              "      <td>6</td>\n",
              "      <td>6083.0</td>\n",
              "      <td>8</td>\n",
              "      <td>0</td>\n",
              "      <td>...</td>\n",
              "      <td>1.204798</td>\n",
              "      <td>1.340017</td>\n",
              "      <td>0.130667</td>\n",
              "      <td>1.644053</td>\n",
              "      <td>0.476021</td>\n",
              "      <td>2.088193</td>\n",
              "      <td>4.119706</td>\n",
              "      <td>satisfactory</td>\n",
              "      <td>0</td>\n",
              "      <td>13500000</td>\n",
              "    </tr>\n",
              "    <tr>\n",
              "      <th>30470</th>\n",
              "      <td>30473</td>\n",
              "      <td>43</td>\n",
              "      <td>28.0</td>\n",
              "      <td>1.0</td>\n",
              "      <td>Novogireevo</td>\n",
              "      <td>2215.0</td>\n",
              "      <td>4</td>\n",
              "      <td>5824.0</td>\n",
              "      <td>4</td>\n",
              "      <td>0</td>\n",
              "      <td>...</td>\n",
              "      <td>2.108265</td>\n",
              "      <td>0.825811</td>\n",
              "      <td>0.378950</td>\n",
              "      <td>0.480531</td>\n",
              "      <td>0.867332</td>\n",
              "      <td>0.688707</td>\n",
              "      <td>0.127867</td>\n",
              "      <td>poor</td>\n",
              "      <td>0</td>\n",
              "      <td>5600000</td>\n",
              "    </tr>\n",
              "  </tbody>\n",
              "</table>\n",
              "<p>5 rows × 61 columns</p>\n",
              "</div>\n",
              "      <button class=\"colab-df-convert\" onclick=\"convertToInteractive('df-750dcece-56ca-4ff2-b6b4-450d59479bdf')\"\n",
              "              title=\"Convert this dataframe to an interactive table.\"\n",
              "              style=\"display:none;\">\n",
              "        \n",
              "  <svg xmlns=\"http://www.w3.org/2000/svg\" height=\"24px\"viewBox=\"0 0 24 24\"\n",
              "       width=\"24px\">\n",
              "    <path d=\"M0 0h24v24H0V0z\" fill=\"none\"/>\n",
              "    <path d=\"M18.56 5.44l.94 2.06.94-2.06 2.06-.94-2.06-.94-.94-2.06-.94 2.06-2.06.94zm-11 1L8.5 8.5l.94-2.06 2.06-.94-2.06-.94L8.5 2.5l-.94 2.06-2.06.94zm10 10l.94 2.06.94-2.06 2.06-.94-2.06-.94-.94-2.06-.94 2.06-2.06.94z\"/><path d=\"M17.41 7.96l-1.37-1.37c-.4-.4-.92-.59-1.43-.59-.52 0-1.04.2-1.43.59L10.3 9.45l-7.72 7.72c-.78.78-.78 2.05 0 2.83L4 21.41c.39.39.9.59 1.41.59.51 0 1.02-.2 1.41-.59l7.78-7.78 2.81-2.81c.8-.78.8-2.07 0-2.86zM5.41 20L4 18.59l7.72-7.72 1.47 1.35L5.41 20z\"/>\n",
              "  </svg>\n",
              "      </button>\n",
              "      \n",
              "  <style>\n",
              "    .colab-df-container {\n",
              "      display:flex;\n",
              "      flex-wrap:wrap;\n",
              "      gap: 12px;\n",
              "    }\n",
              "\n",
              "    .colab-df-convert {\n",
              "      background-color: #E8F0FE;\n",
              "      border: none;\n",
              "      border-radius: 50%;\n",
              "      cursor: pointer;\n",
              "      display: none;\n",
              "      fill: #1967D2;\n",
              "      height: 32px;\n",
              "      padding: 0 0 0 0;\n",
              "      width: 32px;\n",
              "    }\n",
              "\n",
              "    .colab-df-convert:hover {\n",
              "      background-color: #E2EBFA;\n",
              "      box-shadow: 0px 1px 2px rgba(60, 64, 67, 0.3), 0px 1px 3px 1px rgba(60, 64, 67, 0.15);\n",
              "      fill: #174EA6;\n",
              "    }\n",
              "\n",
              "    [theme=dark] .colab-df-convert {\n",
              "      background-color: #3B4455;\n",
              "      fill: #D2E3FC;\n",
              "    }\n",
              "\n",
              "    [theme=dark] .colab-df-convert:hover {\n",
              "      background-color: #434B5C;\n",
              "      box-shadow: 0px 1px 3px 1px rgba(0, 0, 0, 0.15);\n",
              "      filter: drop-shadow(0px 1px 2px rgba(0, 0, 0, 0.3));\n",
              "      fill: #FFFFFF;\n",
              "    }\n",
              "  </style>\n",
              "\n",
              "      <script>\n",
              "        const buttonEl =\n",
              "          document.querySelector('#df-750dcece-56ca-4ff2-b6b4-450d59479bdf button.colab-df-convert');\n",
              "        buttonEl.style.display =\n",
              "          google.colab.kernel.accessAllowed ? 'block' : 'none';\n",
              "\n",
              "        async function convertToInteractive(key) {\n",
              "          const element = document.querySelector('#df-750dcece-56ca-4ff2-b6b4-450d59479bdf');\n",
              "          const dataTable =\n",
              "            await google.colab.kernel.invokeFunction('convertToInteractive',\n",
              "                                                     [key], {});\n",
              "          if (!dataTable) return;\n",
              "\n",
              "          const docLinkHtml = 'Like what you see? Visit the ' +\n",
              "            '<a target=\"_blank\" href=https://colab.research.google.com/notebooks/data_table.ipynb>data table notebook</a>'\n",
              "            + ' to learn more about interactive tables.';\n",
              "          element.innerHTML = '';\n",
              "          dataTable['output_type'] = 'display_data';\n",
              "          await google.colab.output.renderOutput(dataTable, element);\n",
              "          const docLink = document.createElement('div');\n",
              "          docLink.innerHTML = docLinkHtml;\n",
              "          element.appendChild(docLink);\n",
              "        }\n",
              "      </script>\n",
              "    </div>\n",
              "  </div>\n",
              "  "
            ]
          },
          "metadata": {}
        }
      ]
    },
    {
      "cell_type": "code",
      "source": [
        "sber_data['sub_area'].nunique()"
      ],
      "metadata": {
        "colab": {
          "base_uri": "https://localhost:8080/"
        },
        "id": "mMJi26NA8jLI",
        "outputId": "a1c8e53b-f3c9-4604-ff85-889afbad299f"
      },
      "execution_count": null,
      "outputs": [
        {
          "output_type": "execute_result",
          "data": {
            "text/plain": [
              "146"
            ]
          },
          "metadata": {},
          "execution_count": 11
        }
      ]
    },
    {
      "cell_type": "code",
      "source": [
        "sber_data['price_doc'].max()"
      ],
      "metadata": {
        "colab": {
          "base_uri": "https://localhost:8080/"
        },
        "id": "GRLAjd628-Yv",
        "outputId": "69b54411-cb6e-4f8e-845d-36a4bebaa30c"
      },
      "execution_count": null,
      "outputs": [
        {
          "output_type": "execute_result",
          "data": {
            "text/plain": [
              "111111112"
            ]
          },
          "metadata": {},
          "execution_count": 12
        }
      ]
    },
    {
      "cell_type": "code",
      "source": [
        "sns.boxplot(data=sber_data, x ='ecology', y = 'price_doc')\n",
        "plt.show()"
      ],
      "metadata": {
        "colab": {
          "base_uri": "https://localhost:8080/",
          "height": 290
        },
        "id": "zcTtlNKA9IlR",
        "outputId": "78736bf1-7a58-45ad-9f25-8269c3713cfa"
      },
      "execution_count": null,
      "outputs": [
        {
          "output_type": "display_data",
          "data": {
            "text/plain": [
              "<Figure size 432x288 with 1 Axes>"
            ],
            "image/png": "[encoded data removed]"
          },
          "metadata": {
            "needs_background": "light"
          }
        }
      ]
    },
    {
      "cell_type": "code",
      "source": [
        "sns.scatterplot(data=sber_data, x ='kremlin_km', y = 'price_doc')\n",
        "plt.show()"
      ],
      "metadata": {
        "colab": {
          "base_uri": "https://localhost:8080/",
          "height": 291
        },
        "id": "CntbTS7O9-LB",
        "outputId": "ea100cab-cb90-41af-e940-0e9996cf2cdc"
      },
      "execution_count": null,
      "outputs": [
        {
          "output_type": "display_data",
          "data": {
            "text/plain": [
              "<Figure size 432x288 with 1 Axes>"
            ],
            "image/png": "[encoded data removed]"
          },
          "metadata": {
            "needs_background": "light"
          }
        }
      ]
    },
    {
      "cell_type": "code",
      "source": [
        "display(sber_data.isnull().tail())"
      ],
      "metadata": {
        "colab": {
          "base_uri": "https://localhost:8080/",
          "height": 299
        },
        "id": "Ynw2EvZV-XnZ",
        "outputId": "de789a4a-fd55-4baf-8b7d-aca44eae1912"
      },
      "execution_count": null,
      "outputs": [
        {
          "output_type": "display_data",
          "data": {
            "text/plain": [
              "          id  full_sq  life_sq  floor  sub_area  preschool_quota  \\\n",
              "30466  False    False    False  False     False            False   \n",
              "30467  False    False    False  False     False            False   \n",
              "30468  False    False     True  False     False             True   \n",
              "30469  False    False    False  False     False            False   \n",
              "30470  False    False    False  False     False            False   \n",
              "\n",
              "       preschool_education_centers_raion  school_quota  \\\n",
              "30466                              False         False   \n",
              "30467                              False         False   \n",
              "30468                              False          True   \n",
              "30469                              False         False   \n",
              "30470                              False         False   \n",
              "\n",
              "       school_education_centers_raion  school_education_centers_top_20_raion  \\\n",
              "30466                           False                                  False   \n",
              "30467                           False                                  False   \n",
              "30468                           False                                  False   \n",
              "30469                           False                                  False   \n",
              "30470                           False                                  False   \n",
              "\n",
              "       ...  office_km  additional_education_km  preschool_km  big_church_km  \\\n",
              "30466  ...      False                    False         False          False   \n",
              "30467  ...      False                    False         False          False   \n",
              "30468  ...      False                    False         False          False   \n",
              "30469  ...      False                    False         False          False   \n",
              "30470  ...      False                    False         False          False   \n",
              "\n",
              "       church_synagogue_km  theater_km  museum_km  ecology  mosque_count_1000  \\\n",
              "30466                False       False      False    False              False   \n",
              "30467                False       False      False    False              False   \n",
              "30468                False       False      False    False              False   \n",
              "30469                False       False      False    False              False   \n",
              "30470                False       False      False    False              False   \n",
              "\n",
              "       price_doc  \n",
              "30466      False  \n",
              "30467      False  \n",
              "30468      False  \n",
              "30469      False  \n",
              "30470      False  \n",
              "\n",
              "[5 rows x 61 columns]"
            ],
            "text/html": [
              "\n",
              "  <div id=\"df-b95a7d9c-e027-4083-8832-8b758f62d691\">\n",
              "    <div class=\"colab-df-container\">\n",
              "      <div>\n",
              "<style scoped>\n",
              "    .dataframe tbody tr th:only-of-type {\n",
              "        vertical-align: middle;\n",
              "    }\n",
              "\n",
              "    .dataframe tbody tr th {\n",
              "        vertical-align: top;\n",
              "    }\n",
              "\n",
              "    .dataframe thead th {\n",
              "        text-align: right;\n",
              "    }\n",
              "</style>\n",
              "<table border=\"1\" class=\"dataframe\">\n",
              "  <thead>\n",
              "    <tr style=\"text-align: right;\">\n",
              "      <th></th>\n",
              "      <th>id</th>\n",
              "      <th>full_sq</th>\n",
              "      <th>life_sq</th>\n",
              "      <th>floor</th>\n",
              "      <th>sub_area</th>\n",
              "      <th>preschool_quota</th>\n",
              "      <th>preschool_education_centers_raion</th>\n",
              "      <th>school_quota</th>\n",
              "      <th>school_education_centers_raion</th>\n",
              "      <th>school_education_centers_top_20_raion</th>\n",
              "      <th>...</th>\n",
              "      <th>office_km</th>\n",
              "      <th>additional_education_km</th>\n",
              "      <th>preschool_km</th>\n",
              "      <th>big_church_km</th>\n",
              "      <th>church_synagogue_km</th>\n",
              "      <th>theater_km</th>\n",
              "      <th>museum_km</th>\n",
              "      <th>ecology</th>\n",
              "      <th>mosque_count_1000</th>\n",
              "      <th>price_doc</th>\n",
              "    </tr>\n",
              "  </thead>\n",
              "  <tbody>\n",
              "    <tr>\n",
              "      <th>30466</th>\n",
              "      <td>False</td>\n",
              "      <td>False</td>\n",
              "      <td>False</td>\n",
              "      <td>False</td>\n",
              "      <td>False</td>\n",
              "      <td>False</td>\n",
              "      <td>False</td>\n",
              "      <td>False</td>\n",
              "      <td>False</td>\n",
              "      <td>False</td>\n",
              "      <td>...</td>\n",
              "      <td>False</td>\n",
              "      <td>False</td>\n",
              "      <td>False</td>\n",
              "      <td>False</td>\n",
              "      <td>False</td>\n",
              "      <td>False</td>\n",
              "      <td>False</td>\n",
              "      <td>False</td>\n",
              "      <td>False</td>\n",
              "      <td>False</td>\n",
              "    </tr>\n",
              "    <tr>\n",
              "      <th>30467</th>\n",
              "      <td>False</td>\n",
              "      <td>False</td>\n",
              "      <td>False</td>\n",
              "      <td>False</td>\n",
              "      <td>False</td>\n",
              "      <td>False</td>\n",
              "      <td>False</td>\n",
              "      <td>False</td>\n",
              "      <td>False</td>\n",
              "      <td>False</td>\n",
              "      <td>...</td>\n",
              "      <td>False</td>\n",
              "      <td>False</td>\n",
              "      <td>False</td>\n",
              "      <td>False</td>\n",
              "      <td>False</td>\n",
              "      <td>False</td>\n",
              "      <td>False</td>\n",
              "      <td>False</td>\n",
              "      <td>False</td>\n",
              "      <td>False</td>\n",
              "    </tr>\n",
              "    <tr>\n",
              "      <th>30468</th>\n",
              "      <td>False</td>\n",
              "      <td>False</td>\n",
              "      <td>True</td>\n",
              "      <td>False</td>\n",
              "      <td>False</td>\n",
              "      <td>True</td>\n",
              "      <td>False</td>\n",
              "      <td>True</td>\n",
              "      <td>False</td>\n",
              "      <td>False</td>\n",
              "      <td>...</td>\n",
              "      <td>False</td>\n",
              "      <td>False</td>\n",
              "      <td>False</td>\n",
              "      <td>False</td>\n",
              "      <td>False</td>\n",
              "      <td>False</td>\n",
              "      <td>False</td>\n",
              "      <td>False</td>\n",
              "      <td>False</td>\n",
              "      <td>False</td>\n",
              "    </tr>\n",
              "    <tr>\n",
              "      <th>30469</th>\n",
              "      <td>False</td>\n",
              "      <td>False</td>\n",
              "      <td>False</td>\n",
              "      <td>False</td>\n",
              "      <td>False</td>\n",
              "      <td>False</td>\n",
              "      <td>False</td>\n",
              "      <td>False</td>\n",
              "      <td>False</td>\n",
              "      <td>False</td>\n",
              "      <td>...</td>\n",
              "      <td>False</td>\n",
              "      <td>False</td>\n",
              "      <td>False</td>\n",
              "      <td>False</td>\n",
              "      <td>False</td>\n",
              "      <td>False</td>\n",
              "      <td>False</td>\n",
              "      <td>False</td>\n",
              "      <td>False</td>\n",
              "      <td>False</td>\n",
              "    </tr>\n",
              "    <tr>\n",
              "      <th>30470</th>\n",
              "      <td>False</td>\n",
              "      <td>False</td>\n",
              "      <td>False</td>\n",
              "      <td>False</td>\n",
              "      <td>False</td>\n",
              "      <td>False</td>\n",
              "      <td>False</td>\n",
              "      <td>False</td>\n",
              "      <td>False</td>\n",
              "      <td>False</td>\n",
              "      <td>...</td>\n",
              "      <td>False</td>\n",
              "      <td>False</td>\n",
              "      <td>False</td>\n",
              "      <td>False</td>\n",
              "      <td>False</td>\n",
              "      <td>False</td>\n",
              "      <td>False</td>\n",
              "      <td>False</td>\n",
              "      <td>False</td>\n",
              "      <td>False</td>\n",
              "    </tr>\n",
              "  </tbody>\n",
              "</table>\n",
              "<p>5 rows × 61 columns</p>\n",
              "</div>\n",
              "      <button class=\"colab-df-convert\" onclick=\"convertToInteractive('df-b95a7d9c-e027-4083-8832-8b758f62d691')\"\n",
              "              title=\"Convert this dataframe to an interactive table.\"\n",
              "              style=\"display:none;\">\n",
              "        \n",
              "  <svg xmlns=\"http://www.w3.org/2000/svg\" height=\"24px\"viewBox=\"0 0 24 24\"\n",
              "       width=\"24px\">\n",
              "    <path d=\"M0 0h24v24H0V0z\" fill=\"none\"/>\n",
              "    <path d=\"M18.56 5.44l.94 2.06.94-2.06 2.06-.94-2.06-.94-.94-2.06-.94 2.06-2.06.94zm-11 1L8.5 8.5l.94-2.06 2.06-.94-2.06-.94L8.5 2.5l-.94 2.06-2.06.94zm10 10l.94 2.06.94-2.06 2.06-.94-2.06-.94-.94-2.06-.94 2.06-2.06.94z\"/><path d=\"M17.41 7.96l-1.37-1.37c-.4-.4-.92-.59-1.43-.59-.52 0-1.04.2-1.43.59L10.3 9.45l-7.72 7.72c-.78.78-.78 2.05 0 2.83L4 21.41c.39.39.9.59 1.41.59.51 0 1.02-.2 1.41-.59l7.78-7.78 2.81-2.81c.8-.78.8-2.07 0-2.86zM5.41 20L4 18.59l7.72-7.72 1.47 1.35L5.41 20z\"/>\n",
              "  </svg>\n",
              "      </button>\n",
              "      \n",
              "  <style>\n",
              "    .colab-df-container {\n",
              "      display:flex;\n",
              "      flex-wrap:wrap;\n",
              "      gap: 12px;\n",
              "    }\n",
              "\n",
              "    .colab-df-convert {\n",
              "      background-color: #E8F0FE;\n",
              "      border: none;\n",
              "      border-radius: 50%;\n",
              "      cursor: pointer;\n",
              "      display: none;\n",
              "      fill: #1967D2;\n",
              "      height: 32px;\n",
              "      padding: 0 0 0 0;\n",
              "      width: 32px;\n",
              "    }\n",
              "\n",
              "    .colab-df-convert:hover {\n",
              "      background-color: #E2EBFA;\n",
              "      box-shadow: 0px 1px 2px rgba(60, 64, 67, 0.3), 0px 1px 3px 1px rgba(60, 64, 67, 0.15);\n",
              "      fill: #174EA6;\n",
              "    }\n",
              "\n",
              "    [theme=dark] .colab-df-convert {\n",
              "      background-color: #3B4455;\n",
              "      fill: #D2E3FC;\n",
              "    }\n",
              "\n",
              "    [theme=dark] .colab-df-convert:hover {\n",
              "      background-color: #434B5C;\n",
              "      box-shadow: 0px 1px 3px 1px rgba(0, 0, 0, 0.15);\n",
              "      filter: drop-shadow(0px 1px 2px rgba(0, 0, 0, 0.3));\n",
              "      fill: #FFFFFF;\n",
              "    }\n",
              "  </style>\n",
              "\n",
              "      <script>\n",
              "        const buttonEl =\n",
              "          document.querySelector('#df-b95a7d9c-e027-4083-8832-8b758f62d691 button.colab-df-convert');\n",
              "        buttonEl.style.display =\n",
              "          google.colab.kernel.accessAllowed ? 'block' : 'none';\n",
              "\n",
              "        async function convertToInteractive(key) {\n",
              "          const element = document.querySelector('#df-b95a7d9c-e027-4083-8832-8b758f62d691');\n",
              "          const dataTable =\n",
              "            await google.colab.kernel.invokeFunction('convertToInteractive',\n",
              "                                                     [key], {});\n",
              "          if (!dataTable) return;\n",
              "\n",
              "          const docLinkHtml = 'Like what you see? Visit the ' +\n",
              "            '<a target=\"_blank\" href=https://colab.research.google.com/notebooks/data_table.ipynb>data table notebook</a>'\n",
              "            + ' to learn more about interactive tables.';\n",
              "          element.innerHTML = '';\n",
              "          dataTable['output_type'] = 'display_data';\n",
              "          await google.colab.output.renderOutput(dataTable, element);\n",
              "          const docLink = document.createElement('div');\n",
              "          docLink.innerHTML = docLinkHtml;\n",
              "          element.appendChild(docLink);\n",
              "        }\n",
              "      </script>\n",
              "    </div>\n",
              "  </div>\n",
              "  "
            ]
          },
          "metadata": {}
        }
      ]
    },
    {
      "cell_type": "code",
      "source": [
        "cols_null_percent = sber_data.isnull().mean() * 100\n",
        "cols_with_null = cols_null_percent[cols_null_percent>0].sort_values(ascending=False)\n",
        "display(cols_with_null)"
      ],
      "metadata": {
        "colab": {
          "base_uri": "https://localhost:8080/",
          "height": 191
        },
        "id": "K8OcCI7W-5aD",
        "outputId": "82aafeb0-4507-4472-d1f0-696ce2b83c38"
      },
      "execution_count": null,
      "outputs": [
        {
          "output_type": "display_data",
          "data": {
            "text/plain": [
              "hospital_beds_raion          47.392603\n",
              "preschool_quota              21.948738\n",
              "school_quota                 21.938893\n",
              "life_sq                      20.947786\n",
              "floor                         0.548062\n",
              "metro_min_walk                0.082045\n",
              "metro_km_walk                 0.082045\n",
              "railroad_station_walk_km      0.082045\n",
              "railroad_station_walk_min     0.082045\n",
              "dtype: float64"
            ]
          },
          "metadata": {}
        }
      ]
    },
    {
      "cell_type": "code",
      "source": [
        "cols_with_null.plot(\n",
        "    kind='bar',\n",
        "    figsize=(10, 4),\n",
        "    title='Распределение пропусков в данных'\n",
        ");"
      ],
      "metadata": {
        "colab": {
          "base_uri": "https://localhost:8080/",
          "height": 401
        },
        "id": "12SA4eoS_EOU",
        "outputId": "c97bff61-91f0-4375-fa0e-fb6857b075de"
      },
      "execution_count": null,
      "outputs": [
        {
          "output_type": "display_data",
          "data": {
            "text/plain": [
              "<Figure size 720x288 with 1 Axes>"
            ],
            "image/png": "[encoded data removed]"
          },
          "metadata": {
            "needs_background": "light"
          }
        }
      ]
    },
    {
      "cell_type": "code",
      "source": [
        "colors = ['blue', 'yellow'] \n",
        "fig = plt.figure(figsize=(10, 4))\n",
        "cols = cols_with_null.index\n",
        "ax = sns.heatmap(\n",
        "    sber_data[cols].isnull(),\n",
        "    cmap=sns.color_palette(colors),\n",
        ")"
      ],
      "metadata": {
        "colab": {
          "base_uri": "https://localhost:8080/",
          "height": 390
        },
        "id": "o3Ak5-U1_Sul",
        "outputId": "fabd5d9b-6628-4cf2-e9b8-622800ace02e"
      },
      "execution_count": null,
      "outputs": [
        {
          "output_type": "display_data",
          "data": {
            "text/plain": [
              "<Figure size 720x288 with 2 Axes>"
            ],
            "image/png": "[encoded data removed]"
          },
          "metadata": {
            "needs_background": "light"
          }
        }
      ]
    },
    {
      "cell_type": "code",
      "source": [
        "#создаем копию исходной таблицы\n",
        "drop_data = sber_data.copy()\n",
        "#задаем минимальный порог: вычисляем 70% от числа строк\n",
        "thresh = drop_data.shape[0]*0.7\n",
        "#удаляем столбцы, в которых более 30% (100-70) пропусков\n",
        "drop_data = drop_data.dropna(how='any', thresh=thresh, axis=1)\n",
        "#удаляем записи, в которых есть хотя бы 1 пропуск\n",
        "drop_data = drop_data.dropna(how='any', axis=0)\n",
        "#отображаем результирующую долю пропусков\n",
        "drop_data.isnull().mean()"
      ],
      "metadata": {
        "colab": {
          "base_uri": "https://localhost:8080/"
        },
        "id": "BX338d06_dY-",
        "outputId": "d869f51c-b81f-46d5-cfab-ac9c32a303cb"
      },
      "execution_count": null,
      "outputs": [
        {
          "output_type": "execute_result",
          "data": {
            "text/plain": [
              "id                                       0.0\n",
              "full_sq                                  0.0\n",
              "life_sq                                  0.0\n",
              "floor                                    0.0\n",
              "sub_area                                 0.0\n",
              "preschool_quota                          0.0\n",
              "preschool_education_centers_raion        0.0\n",
              "school_quota                             0.0\n",
              "school_education_centers_raion           0.0\n",
              "school_education_centers_top_20_raion    0.0\n",
              "healthcare_centers_raion                 0.0\n",
              "university_top_20_raion                  0.0\n",
              "sport_objects_raion                      0.0\n",
              "additional_education_raion               0.0\n",
              "culture_objects_top_25_raion             0.0\n",
              "shopping_centers_raion                   0.0\n",
              "office_raion                             0.0\n",
              "oil_chemistry_raion                      0.0\n",
              "railroad_terminal_raion                  0.0\n",
              "nuclear_reactor_raion                    0.0\n",
              "metro_min_avto                           0.0\n",
              "metro_km_avto                            0.0\n",
              "metro_min_walk                           0.0\n",
              "metro_km_walk                            0.0\n",
              "kindergarten_km                          0.0\n",
              "school_km                                0.0\n",
              "park_km                                  0.0\n",
              "green_zone_km                            0.0\n",
              "industrial_km                            0.0\n",
              "railroad_station_walk_km                 0.0\n",
              "railroad_station_walk_min                0.0\n",
              "public_transport_station_km              0.0\n",
              "public_transport_station_min_walk        0.0\n",
              "mkad_km                                  0.0\n",
              "ttk_km                                   0.0\n",
              "sadovoe_km                               0.0\n",
              "bulvar_ring_km                           0.0\n",
              "kremlin_km                               0.0\n",
              "big_road1_1line                          0.0\n",
              "big_market_km                            0.0\n",
              "market_shop_km                           0.0\n",
              "fitness_km                               0.0\n",
              "swim_pool_km                             0.0\n",
              "ice_rink_km                              0.0\n",
              "stadium_km                               0.0\n",
              "basketball_km                            0.0\n",
              "hospice_morgue_km                        0.0\n",
              "university_km                            0.0\n",
              "workplaces_km                            0.0\n",
              "shopping_centers_km                      0.0\n",
              "office_km                                0.0\n",
              "additional_education_km                  0.0\n",
              "preschool_km                             0.0\n",
              "big_church_km                            0.0\n",
              "church_synagogue_km                      0.0\n",
              "theater_km                               0.0\n",
              "museum_km                                0.0\n",
              "ecology                                  0.0\n",
              "mosque_count_1000                        0.0\n",
              "price_doc                                0.0\n",
              "dtype: float64"
            ]
          },
          "metadata": {},
          "execution_count": 20
        }
      ]
    },
    {
      "cell_type": "code",
      "source": [
        "print(drop_data.shape)"
      ],
      "metadata": {
        "colab": {
          "base_uri": "https://localhost:8080/"
        },
        "id": "sh1yV2PZAItm",
        "outputId": "709368a3-5f44-43b7-fac5-842d26816efb"
      },
      "execution_count": null,
      "outputs": [
        {
          "output_type": "stream",
          "name": "stdout",
          "text": [
            "(20888, 60)\n"
          ]
        }
      ]
    },
    {
      "cell_type": "code",
      "source": [
        "cols = cols_with_null.index\n",
        "sber_data[cols].hist(figsize=(20, 8));"
      ],
      "metadata": {
        "colab": {
          "base_uri": "https://localhost:8080/",
          "height": 455
        },
        "id": "U9PyBSaxAOR_",
        "outputId": "5d862a5a-8186-448b-f037-e025d1142363"
      },
      "execution_count": null,
      "outputs": [
        {
          "output_type": "display_data",
          "data": {
            "text/plain": [
              "<Figure size 1440x576 with 9 Axes>"
            ],
            "image/png": "[encoded data removed]"
          },
          "metadata": {
            "needs_background": "light"
          }
        }
      ]
    },
    {
      "cell_type": "code",
      "source": [
        "#создаем копию исходной таблицы\n",
        "fill_data = sber_data.copy()\n",
        "#создаем словарь имя столбца: число(признак) на который надо заменить пропуски\n",
        "values = {\n",
        "    'life_sq': fill_data['full_sq'],\n",
        "    'metro_min_walk': fill_data['metro_min_walk'].median(),\n",
        "    'metro_km_walk': fill_data['metro_km_walk'].median(),\n",
        "    'railroad_station_walk_km': fill_data['railroad_station_walk_km'].median(),\n",
        "    'railroad_station_walk_min': fill_data['railroad_station_walk_min'].median(),\n",
        "    'hospital_beds_raion': fill_data['hospital_beds_raion'].mode()[0],\n",
        "    'preschool_quota': fill_data['preschool_quota'].mode()[0],\n",
        "    'school_quota': fill_data['school_quota'].mode()[0],\n",
        "    'floor': fill_data['floor'].mode()[0]\n",
        "}\n",
        "#заполняем пропуски в соответствии с заявленным словарем\n",
        "fill_data = fill_data.fillna(values)\n",
        "#выводим результирующую долю пропусков\n",
        "fill_data.isnull().mean()"
      ],
      "metadata": {
        "colab": {
          "base_uri": "https://localhost:8080/"
        },
        "id": "P1ZfGhxKAT94",
        "outputId": "2058aa71-4a41-435f-e049-a1a9fda2c7ea"
      },
      "execution_count": null,
      "outputs": [
        {
          "output_type": "execute_result",
          "data": {
            "text/plain": [
              "id                   0.0\n",
              "full_sq              0.0\n",
              "life_sq              0.0\n",
              "floor                0.0\n",
              "sub_area             0.0\n",
              "                    ... \n",
              "theater_km           0.0\n",
              "museum_km            0.0\n",
              "ecology              0.0\n",
              "mosque_count_1000    0.0\n",
              "price_doc            0.0\n",
              "Length: 61, dtype: float64"
            ]
          },
          "metadata": {},
          "execution_count": 23
        }
      ]
    },
    {
      "cell_type": "code",
      "source": [
        "cols = cols_with_null.index\n",
        "fill_data[cols].hist(figsize=(20, 8));"
      ],
      "metadata": {
        "colab": {
          "base_uri": "https://localhost:8080/",
          "height": 455
        },
        "id": "QFWi-TnaAtPr",
        "outputId": "456e5911-8c4d-429e-f93d-ad207fbbe1c3"
      },
      "execution_count": null,
      "outputs": [
        {
          "output_type": "display_data",
          "data": {
            "text/plain": [
              "<Figure size 1440x576 with 9 Axes>"
            ],
            "image/png": "[encoded data removed]"
          },
          "metadata": {
            "needs_background": "light"
          }
        }
      ]
    },
    {
      "cell_type": "code",
      "source": [
        "#создаем копию исходной таблицы\n",
        "indicator_data = sber_data.copy()\n",
        "#в цикле пробегаемся по названиям столбцов с пропусками\n",
        "for col in cols_with_null.index:\n",
        "    #создаем новый признак-индикатор как col_was_null\n",
        "    indicator_data[col + '_was_null'] = indicator_data[col].isnull()\n",
        "#создаем словарь имя столбца: число(признак) на который надо заменить пропуски   \n",
        "values = {\n",
        "    'life_sq': indicator_data['full_sq'],\n",
        "    'metro_min_walk': indicator_data['metro_min_walk'].median(),\n",
        "    'metro_km_walk': indicator_data['metro_km_walk'].median(),\n",
        "    'railroad_station_walk_km': indicator_data['railroad_station_walk_km'].median(),\n",
        "    'railroad_station_walk_min': indicator_data['railroad_station_walk_min'].median(),\n",
        "    'hospital_beds_raion': indicator_data['hospital_beds_raion'].mode()[0],\n",
        "    'preschool_quota': indicator_data['preschool_quota'].mode()[0],\n",
        "    'school_quota': indicator_data['school_quota'].mode()[0],\n",
        "    'floor': indicator_data['floor'].mode()[0]\n",
        "}\n",
        "#заполняем пропуски в соответствии с заявленным словарем\n",
        "indicator_data = indicator_data.fillna(values)\n",
        "#выводим результирующую долю пропусков\n",
        "indicator_data.isnull().mean()"
      ],
      "metadata": {
        "colab": {
          "base_uri": "https://localhost:8080/"
        },
        "id": "PR7LlTezAxuJ",
        "outputId": "b8659f7c-a4ee-4b4f-9d7f-42ba823f0cd7"
      },
      "execution_count": null,
      "outputs": [
        {
          "output_type": "execute_result",
          "data": {
            "text/plain": [
              "id                                    0.0\n",
              "full_sq                               0.0\n",
              "life_sq                               0.0\n",
              "floor                                 0.0\n",
              "sub_area                              0.0\n",
              "                                     ... \n",
              "floor_was_null                        0.0\n",
              "metro_min_walk_was_null               0.0\n",
              "metro_km_walk_was_null                0.0\n",
              "railroad_station_walk_km_was_null     0.0\n",
              "railroad_station_walk_min_was_null    0.0\n",
              "Length: 70, dtype: float64"
            ]
          },
          "metadata": {},
          "execution_count": 25
        }
      ]
    },
    {
      "cell_type": "code",
      "source": [
        "#создаём копию исходной таблицы\n",
        "combine_data = sber_data.copy()\n",
        "\n",
        "#отбрасываем столбцы с числом пропусков более 30% (100-70)\n",
        "n = combine_data.shape[0] #число строк в таблице\n",
        "thresh = n*0.7\n",
        "combine_data = combine_data.dropna(how='any', thresh=thresh, axis=1)\n",
        "\n",
        "#отбрасываем строки с числом пропусков более 2 в строке\n",
        "m = combine_data.shape[1] #число признаков после удаления столбцов\n",
        "combine_data = combine_data.dropna(how='any', thresh=m-2, axis=0)\n",
        "\n",
        "#создаём словарь 'имя_столбца': число (признак), на который надо заменить пропуски \n",
        "values = {\n",
        "    'life_sq': combine_data['full_sq'],\n",
        "    'metro_min_walk': combine_data['metro_min_walk'].median(),\n",
        "    'metro_km_walk': combine_data['metro_km_walk'].median(),\n",
        "    'railroad_station_walk_km': combine_data['railroad_station_walk_km'].median(),\n",
        "    'railroad_station_walk_min': combine_data['railroad_station_walk_min'].median(),\n",
        "    'preschool_quota': combine_data['preschool_quota'].mode()[0],\n",
        "    'school_quota': combine_data['school_quota'].mode()[0],\n",
        "    'floor': combine_data['floor'].mode()[0]\n",
        "}\n",
        "#заполняем оставшиеся записи константами в соответствии со словарем values\n",
        "combine_data = combine_data.fillna(values)\n",
        "#выводим результирующую долю пропусков\n",
        "display(combine_data.isnull().mean())"
      ],
      "metadata": {
        "colab": {
          "base_uri": "https://localhost:8080/",
          "height": 1000
        },
        "id": "xSFgEbOlBEUQ",
        "outputId": "de0d6aa9-805c-4ad9-a817-06037ceabcca"
      },
      "execution_count": null,
      "outputs": [
        {
          "output_type": "display_data",
          "data": {
            "text/plain": [
              "id                                       0.0\n",
              "full_sq                                  0.0\n",
              "life_sq                                  0.0\n",
              "floor                                    0.0\n",
              "sub_area                                 0.0\n",
              "preschool_quota                          0.0\n",
              "preschool_education_centers_raion        0.0\n",
              "school_quota                             0.0\n",
              "school_education_centers_raion           0.0\n",
              "school_education_centers_top_20_raion    0.0\n",
              "healthcare_centers_raion                 0.0\n",
              "university_top_20_raion                  0.0\n",
              "sport_objects_raion                      0.0\n",
              "additional_education_raion               0.0\n",
              "culture_objects_top_25_raion             0.0\n",
              "shopping_centers_raion                   0.0\n",
              "office_raion                             0.0\n",
              "oil_chemistry_raion                      0.0\n",
              "railroad_terminal_raion                  0.0\n",
              "nuclear_reactor_raion                    0.0\n",
              "metro_min_avto                           0.0\n",
              "metro_km_avto                            0.0\n",
              "metro_min_walk                           0.0\n",
              "metro_km_walk                            0.0\n",
              "kindergarten_km                          0.0\n",
              "school_km                                0.0\n",
              "park_km                                  0.0\n",
              "green_zone_km                            0.0\n",
              "industrial_km                            0.0\n",
              "railroad_station_walk_km                 0.0\n",
              "railroad_station_walk_min                0.0\n",
              "public_transport_station_km              0.0\n",
              "public_transport_station_min_walk        0.0\n",
              "mkad_km                                  0.0\n",
              "ttk_km                                   0.0\n",
              "sadovoe_km                               0.0\n",
              "bulvar_ring_km                           0.0\n",
              "kremlin_km                               0.0\n",
              "big_road1_1line                          0.0\n",
              "big_market_km                            0.0\n",
              "market_shop_km                           0.0\n",
              "fitness_km                               0.0\n",
              "swim_pool_km                             0.0\n",
              "ice_rink_km                              0.0\n",
              "stadium_km                               0.0\n",
              "basketball_km                            0.0\n",
              "hospice_morgue_km                        0.0\n",
              "university_km                            0.0\n",
              "workplaces_km                            0.0\n",
              "shopping_centers_km                      0.0\n",
              "office_km                                0.0\n",
              "additional_education_km                  0.0\n",
              "preschool_km                             0.0\n",
              "big_church_km                            0.0\n",
              "church_synagogue_km                      0.0\n",
              "theater_km                               0.0\n",
              "museum_km                                0.0\n",
              "ecology                                  0.0\n",
              "mosque_count_1000                        0.0\n",
              "price_doc                                0.0\n",
              "dtype: float64"
            ]
          },
          "metadata": {}
        }
      ]
    },
    {
      "cell_type": "code",
      "source": [
        "print(combine_data.shape)"
      ],
      "metadata": {
        "colab": {
          "base_uri": "https://localhost:8080/"
        },
        "id": "QFZOde6YBfFO",
        "outputId": "a68e6915-3203-4def-8f89-9305c0726d6c"
      },
      "execution_count": null,
      "outputs": [
        {
          "output_type": "stream",
          "name": "stdout",
          "text": [
            "(26800, 60)\n"
          ]
        }
      ]
    },
    {
      "cell_type": "code",
      "source": [
        "sber_data['life_sq'].describe()"
      ],
      "metadata": {
        "colab": {
          "base_uri": "https://localhost:8080/"
        },
        "id": "eF4Hs4-gBhtj",
        "outputId": "698cf149-759d-407c-e0a9-83b9fb12a983"
      },
      "execution_count": null,
      "outputs": [
        {
          "output_type": "execute_result",
          "data": {
            "text/plain": [
              "count    24088.000000\n",
              "mean        34.403271\n",
              "std         52.285733\n",
              "min          0.000000\n",
              "25%         20.000000\n",
              "50%         30.000000\n",
              "75%         43.000000\n",
              "max       7478.000000\n",
              "Name: life_sq, dtype: float64"
            ]
          },
          "metadata": {},
          "execution_count": 28
        }
      ]
    },
    {
      "cell_type": "code",
      "source": [
        "print(sber_data[sber_data['life_sq'] == 0].shape[0])"
      ],
      "metadata": {
        "colab": {
          "base_uri": "https://localhost:8080/"
        },
        "id": "szCVuDs5Lho1",
        "outputId": "fafa05a2-37aa-49b1-9e59-80a7e217c92f"
      },
      "execution_count": null,
      "outputs": [
        {
          "output_type": "stream",
          "name": "stdout",
          "text": [
            "45\n"
          ]
        }
      ]
    },
    {
      "cell_type": "code",
      "source": [
        "display(sber_data[sber_data['life_sq'] > 7000])"
      ],
      "metadata": {
        "colab": {
          "base_uri": "https://localhost:8080/",
          "height": 191
        },
        "id": "ril32ZhRLoXX",
        "outputId": "07b6e6a3-775f-4c33-ae10-01acad527daa"
      },
      "execution_count": null,
      "outputs": [
        {
          "output_type": "display_data",
          "data": {
            "text/plain": [
              "          id  full_sq  life_sq  floor                 sub_area  \\\n",
              "13546  13549       79   7478.0    8.0  Poselenie Voskresenskoe   \n",
              "\n",
              "       preschool_quota  preschool_education_centers_raion  school_quota  \\\n",
              "13546              NaN                                  0           NaN   \n",
              "\n",
              "       school_education_centers_raion  school_education_centers_top_20_raion  \\\n",
              "13546                               0                                      0   \n",
              "\n",
              "       ...  office_km  additional_education_km  preschool_km  big_church_km  \\\n",
              "13546  ...   5.072389                 1.210613      0.826052       1.582378   \n",
              "\n",
              "       church_synagogue_km  theater_km  museum_km  ecology mosque_count_1000  \\\n",
              "13546             0.756119   21.472421  14.917332  no data                 0   \n",
              "\n",
              "      price_doc  \n",
              "13546   7705000  \n",
              "\n",
              "[1 rows x 61 columns]"
            ],
            "text/html": [
              "\n",
              "  <div id=\"df-d53690ba-63a3-4cb3-85dd-baf472034be9\">\n",
              "    <div class=\"colab-df-container\">\n",
              "      <div>\n",
              "<style scoped>\n",
              "    .dataframe tbody tr th:only-of-type {\n",
              "        vertical-align: middle;\n",
              "    }\n",
              "\n",
              "    .dataframe tbody tr th {\n",
              "        vertical-align: top;\n",
              "    }\n",
              "\n",
              "    .dataframe thead th {\n",
              "        text-align: right;\n",
              "    }\n",
              "</style>\n",
              "<table border=\"1\" class=\"dataframe\">\n",
              "  <thead>\n",
              "    <tr style=\"text-align: right;\">\n",
              "      <th></th>\n",
              "      <th>id</th>\n",
              "      <th>full_sq</th>\n",
              "      <th>life_sq</th>\n",
              "      <th>floor</th>\n",
              "      <th>sub_area</th>\n",
              "      <th>preschool_quota</th>\n",
              "      <th>preschool_education_centers_raion</th>\n",
              "      <th>school_quota</th>\n",
              "      <th>school_education_centers_raion</th>\n",
              "      <th>school_education_centers_top_20_raion</th>\n",
              "      <th>...</th>\n",
              "      <th>office_km</th>\n",
              "      <th>additional_education_km</th>\n",
              "      <th>preschool_km</th>\n",
              "      <th>big_church_km</th>\n",
              "      <th>church_synagogue_km</th>\n",
              "      <th>theater_km</th>\n",
              "      <th>museum_km</th>\n",
              "      <th>ecology</th>\n",
              "      <th>mosque_count_1000</th>\n",
              "      <th>price_doc</th>\n",
              "    </tr>\n",
              "  </thead>\n",
              "  <tbody>\n",
              "    <tr>\n",
              "      <th>13546</th>\n",
              "      <td>13549</td>\n",
              "      <td>79</td>\n",
              "      <td>7478.0</td>\n",
              "      <td>8.0</td>\n",
              "      <td>Poselenie Voskresenskoe</td>\n",
              "      <td>NaN</td>\n",
              "      <td>0</td>\n",
              "      <td>NaN</td>\n",
              "      <td>0</td>\n",
              "      <td>0</td>\n",
              "      <td>...</td>\n",
              "      <td>5.072389</td>\n",
              "      <td>1.210613</td>\n",
              "      <td>0.826052</td>\n",
              "      <td>1.582378</td>\n",
              "      <td>0.756119</td>\n",
              "      <td>21.472421</td>\n",
              "      <td>14.917332</td>\n",
              "      <td>no data</td>\n",
              "      <td>0</td>\n",
              "      <td>7705000</td>\n",
              "    </tr>\n",
              "  </tbody>\n",
              "</table>\n",
              "<p>1 rows × 61 columns</p>\n",
              "</div>\n",
              "      <button class=\"colab-df-convert\" onclick=\"convertToInteractive('df-d53690ba-63a3-4cb3-85dd-baf472034be9')\"\n",
              "              title=\"Convert this dataframe to an interactive table.\"\n",
              "              style=\"display:none;\">\n",
              "        \n",
              "  <svg xmlns=\"http://www.w3.org/2000/svg\" height=\"24px\"viewBox=\"0 0 24 24\"\n",
              "       width=\"24px\">\n",
              "    <path d=\"M0 0h24v24H0V0z\" fill=\"none\"/>\n",
              "    <path d=\"M18.56 5.44l.94 2.06.94-2.06 2.06-.94-2.06-.94-.94-2.06-.94 2.06-2.06.94zm-11 1L8.5 8.5l.94-2.06 2.06-.94-2.06-.94L8.5 2.5l-.94 2.06-2.06.94zm10 10l.94 2.06.94-2.06 2.06-.94-2.06-.94-.94-2.06-.94 2.06-2.06.94z\"/><path d=\"M17.41 7.96l-1.37-1.37c-.4-.4-.92-.59-1.43-.59-.52 0-1.04.2-1.43.59L10.3 9.45l-7.72 7.72c-.78.78-.78 2.05 0 2.83L4 21.41c.39.39.9.59 1.41.59.51 0 1.02-.2 1.41-.59l7.78-7.78 2.81-2.81c.8-.78.8-2.07 0-2.86zM5.41 20L4 18.59l7.72-7.72 1.47 1.35L5.41 20z\"/>\n",
              "  </svg>\n",
              "      </button>\n",
              "      \n",
              "  <style>\n",
              "    .colab-df-container {\n",
              "      display:flex;\n",
              "      flex-wrap:wrap;\n",
              "      gap: 12px;\n",
              "    }\n",
              "\n",
              "    .colab-df-convert {\n",
              "      background-color: #E8F0FE;\n",
              "      border: none;\n",
              "      border-radius: 50%;\n",
              "      cursor: pointer;\n",
              "      display: none;\n",
              "      fill: #1967D2;\n",
              "      height: 32px;\n",
              "      padding: 0 0 0 0;\n",
              "      width: 32px;\n",
              "    }\n",
              "\n",
              "    .colab-df-convert:hover {\n",
              "      background-color: #E2EBFA;\n",
              "      box-shadow: 0px 1px 2px rgba(60, 64, 67, 0.3), 0px 1px 3px 1px rgba(60, 64, 67, 0.15);\n",
              "      fill: #174EA6;\n",
              "    }\n",
              "\n",
              "    [theme=dark] .colab-df-convert {\n",
              "      background-color: #3B4455;\n",
              "      fill: #D2E3FC;\n",
              "    }\n",
              "\n",
              "    [theme=dark] .colab-df-convert:hover {\n",
              "      background-color: #434B5C;\n",
              "      box-shadow: 0px 1px 3px 1px rgba(0, 0, 0, 0.15);\n",
              "      filter: drop-shadow(0px 1px 2px rgba(0, 0, 0, 0.3));\n",
              "      fill: #FFFFFF;\n",
              "    }\n",
              "  </style>\n",
              "\n",
              "      <script>\n",
              "        const buttonEl =\n",
              "          document.querySelector('#df-d53690ba-63a3-4cb3-85dd-baf472034be9 button.colab-df-convert');\n",
              "        buttonEl.style.display =\n",
              "          google.colab.kernel.accessAllowed ? 'block' : 'none';\n",
              "\n",
              "        async function convertToInteractive(key) {\n",
              "          const element = document.querySelector('#df-d53690ba-63a3-4cb3-85dd-baf472034be9');\n",
              "          const dataTable =\n",
              "            await google.colab.kernel.invokeFunction('convertToInteractive',\n",
              "                                                     [key], {});\n",
              "          if (!dataTable) return;\n",
              "\n",
              "          const docLinkHtml = 'Like what you see? Visit the ' +\n",
              "            '<a target=\"_blank\" href=https://colab.research.google.com/notebooks/data_table.ipynb>data table notebook</a>'\n",
              "            + ' to learn more about interactive tables.';\n",
              "          element.innerHTML = '';\n",
              "          dataTable['output_type'] = 'display_data';\n",
              "          await google.colab.output.renderOutput(dataTable, element);\n",
              "          const docLink = document.createElement('div');\n",
              "          docLink.innerHTML = docLinkHtml;\n",
              "          element.appendChild(docLink);\n",
              "        }\n",
              "      </script>\n",
              "    </div>\n",
              "  </div>\n",
              "  "
            ]
          },
          "metadata": {}
        }
      ]
    },
    {
      "cell_type": "code",
      "source": [
        "outliers = sber_data[sber_data['life_sq'] > sber_data['full_sq']]\n",
        "print(outliers.shape[0])"
      ],
      "metadata": {
        "colab": {
          "base_uri": "https://localhost:8080/"
        },
        "id": "IRwTcDoILsXZ",
        "outputId": "e8e348a0-4e98-40cc-f360-23a2554f7e08"
      },
      "execution_count": null,
      "outputs": [
        {
          "output_type": "stream",
          "name": "stdout",
          "text": [
            "37\n"
          ]
        }
      ]
    },
    {
      "cell_type": "code",
      "source": [
        "cleaned = sber_data.drop(outliers.index, axis=0)\n",
        "print(f'Результирующее число записей: {cleaned.shape[0]}')"
      ],
      "metadata": {
        "colab": {
          "base_uri": "https://localhost:8080/"
        },
        "id": "cPLTdo2_Lym8",
        "outputId": "abb63bfe-dbf3-4c22-ebb2-8960c013c53b"
      },
      "execution_count": null,
      "outputs": [
        {
          "output_type": "stream",
          "name": "stdout",
          "text": [
            "Результирующее число записей: 30434\n"
          ]
        }
      ]
    },
    {
      "cell_type": "code",
      "source": [
        "display(sber_data['floor'].describe())"
      ],
      "metadata": {
        "colab": {
          "base_uri": "https://localhost:8080/",
          "height": 173
        },
        "id": "Y5SkuuA8L3Aj",
        "outputId": "725bbe09-6d72-46d2-f395-b34ff09ffad2"
      },
      "execution_count": null,
      "outputs": [
        {
          "output_type": "display_data",
          "data": {
            "text/plain": [
              "count    30304.000000\n",
              "mean         7.670803\n",
              "std          5.319989\n",
              "min          0.000000\n",
              "25%          3.000000\n",
              "50%          6.500000\n",
              "75%         11.000000\n",
              "max         77.000000\n",
              "Name: floor, dtype: float64"
            ]
          },
          "metadata": {}
        }
      ]
    },
    {
      "cell_type": "code",
      "source": [
        "display(sber_data[sber_data['floor']> 50])"
      ],
      "metadata": {
        "colab": {
          "base_uri": "https://localhost:8080/",
          "height": 174
        },
        "id": "GdxsFia1L5cs",
        "outputId": "63bbcac5-097a-4d7e-c55a-0a09caf44194"
      },
      "execution_count": null,
      "outputs": [
        {
          "output_type": "display_data",
          "data": {
            "text/plain": [
              "          id  full_sq  life_sq  floor       sub_area  preschool_quota  \\\n",
              "23584  23587       57     33.0   77.0  Lomonosovskoe           3091.0   \n",
              "\n",
              "       preschool_education_centers_raion  school_quota  \\\n",
              "23584                                  5        8359.0   \n",
              "\n",
              "       school_education_centers_raion  school_education_centers_top_20_raion  \\\n",
              "23584                               7                                      1   \n",
              "\n",
              "       ...  office_km  additional_education_km  preschool_km  big_church_km  \\\n",
              "23584  ...   0.310557                 0.731683      0.489763        0.86354   \n",
              "\n",
              "       church_synagogue_km  theater_km  museum_km       ecology  \\\n",
              "23584             0.863266    2.920671   2.757058  satisfactory   \n",
              "\n",
              "      mosque_count_1000 price_doc  \n",
              "23584                 0  13700000  \n",
              "\n",
              "[1 rows x 61 columns]"
            ],
            "text/html": [
              "\n",
              "  <div id=\"df-83c41c34-3ddd-4d96-acac-4bf5b6aad5e8\">\n",
              "    <div class=\"colab-df-container\">\n",
              "      <div>\n",
              "<style scoped>\n",
              "    .dataframe tbody tr th:only-of-type {\n",
              "        vertical-align: middle;\n",
              "    }\n",
              "\n",
              "    .dataframe tbody tr th {\n",
              "        vertical-align: top;\n",
              "    }\n",
              "\n",
              "    .dataframe thead th {\n",
              "        text-align: right;\n",
              "    }\n",
              "</style>\n",
              "<table border=\"1\" class=\"dataframe\">\n",
              "  <thead>\n",
              "    <tr style=\"text-align: right;\">\n",
              "      <th></th>\n",
              "      <th>id</th>\n",
              "      <th>full_sq</th>\n",
              "      <th>life_sq</th>\n",
              "      <th>floor</th>\n",
              "      <th>sub_area</th>\n",
              "      <th>preschool_quota</th>\n",
              "      <th>preschool_education_centers_raion</th>\n",
              "      <th>school_quota</th>\n",
              "      <th>school_education_centers_raion</th>\n",
              "      <th>school_education_centers_top_20_raion</th>\n",
              "      <th>...</th>\n",
              "      <th>office_km</th>\n",
              "      <th>additional_education_km</th>\n",
              "      <th>preschool_km</th>\n",
              "      <th>big_church_km</th>\n",
              "      <th>church_synagogue_km</th>\n",
              "      <th>theater_km</th>\n",
              "      <th>museum_km</th>\n",
              "      <th>ecology</th>\n",
              "      <th>mosque_count_1000</th>\n",
              "      <th>price_doc</th>\n",
              "    </tr>\n",
              "  </thead>\n",
              "  <tbody>\n",
              "    <tr>\n",
              "      <th>23584</th>\n",
              "      <td>23587</td>\n",
              "      <td>57</td>\n",
              "      <td>33.0</td>\n",
              "      <td>77.0</td>\n",
              "      <td>Lomonosovskoe</td>\n",
              "      <td>3091.0</td>\n",
              "      <td>5</td>\n",
              "      <td>8359.0</td>\n",
              "      <td>7</td>\n",
              "      <td>1</td>\n",
              "      <td>...</td>\n",
              "      <td>0.310557</td>\n",
              "      <td>0.731683</td>\n",
              "      <td>0.489763</td>\n",
              "      <td>0.86354</td>\n",
              "      <td>0.863266</td>\n",
              "      <td>2.920671</td>\n",
              "      <td>2.757058</td>\n",
              "      <td>satisfactory</td>\n",
              "      <td>0</td>\n",
              "      <td>13700000</td>\n",
              "    </tr>\n",
              "  </tbody>\n",
              "</table>\n",
              "<p>1 rows × 61 columns</p>\n",
              "</div>\n",
              "      <button class=\"colab-df-convert\" onclick=\"convertToInteractive('df-83c41c34-3ddd-4d96-acac-4bf5b6aad5e8')\"\n",
              "              title=\"Convert this dataframe to an interactive table.\"\n",
              "              style=\"display:none;\">\n",
              "        \n",
              "  <svg xmlns=\"http://www.w3.org/2000/svg\" height=\"24px\"viewBox=\"0 0 24 24\"\n",
              "       width=\"24px\">\n",
              "    <path d=\"M0 0h24v24H0V0z\" fill=\"none\"/>\n",
              "    <path d=\"M18.56 5.44l.94 2.06.94-2.06 2.06-.94-2.06-.94-.94-2.06-.94 2.06-2.06.94zm-11 1L8.5 8.5l.94-2.06 2.06-.94-2.06-.94L8.5 2.5l-.94 2.06-2.06.94zm10 10l.94 2.06.94-2.06 2.06-.94-2.06-.94-.94-2.06-.94 2.06-2.06.94z\"/><path d=\"M17.41 7.96l-1.37-1.37c-.4-.4-.92-.59-1.43-.59-.52 0-1.04.2-1.43.59L10.3 9.45l-7.72 7.72c-.78.78-.78 2.05 0 2.83L4 21.41c.39.39.9.59 1.41.59.51 0 1.02-.2 1.41-.59l7.78-7.78 2.81-2.81c.8-.78.8-2.07 0-2.86zM5.41 20L4 18.59l7.72-7.72 1.47 1.35L5.41 20z\"/>\n",
              "  </svg>\n",
              "      </button>\n",
              "      \n",
              "  <style>\n",
              "    .colab-df-container {\n",
              "      display:flex;\n",
              "      flex-wrap:wrap;\n",
              "      gap: 12px;\n",
              "    }\n",
              "\n",
              "    .colab-df-convert {\n",
              "      background-color: #E8F0FE;\n",
              "      border: none;\n",
              "      border-radius: 50%;\n",
              "      cursor: pointer;\n",
              "      display: none;\n",
              "      fill: #1967D2;\n",
              "      height: 32px;\n",
              "      padding: 0 0 0 0;\n",
              "      width: 32px;\n",
              "    }\n",
              "\n",
              "    .colab-df-convert:hover {\n",
              "      background-color: #E2EBFA;\n",
              "      box-shadow: 0px 1px 2px rgba(60, 64, 67, 0.3), 0px 1px 3px 1px rgba(60, 64, 67, 0.15);\n",
              "      fill: #174EA6;\n",
              "    }\n",
              "\n",
              "    [theme=dark] .colab-df-convert {\n",
              "      background-color: #3B4455;\n",
              "      fill: #D2E3FC;\n",
              "    }\n",
              "\n",
              "    [theme=dark] .colab-df-convert:hover {\n",
              "      background-color: #434B5C;\n",
              "      box-shadow: 0px 1px 3px 1px rgba(0, 0, 0, 0.15);\n",
              "      filter: drop-shadow(0px 1px 2px rgba(0, 0, 0, 0.3));\n",
              "      fill: #FFFFFF;\n",
              "    }\n",
              "  </style>\n",
              "\n",
              "      <script>\n",
              "        const buttonEl =\n",
              "          document.querySelector('#df-83c41c34-3ddd-4d96-acac-4bf5b6aad5e8 button.colab-df-convert');\n",
              "        buttonEl.style.display =\n",
              "          google.colab.kernel.accessAllowed ? 'block' : 'none';\n",
              "\n",
              "        async function convertToInteractive(key) {\n",
              "          const element = document.querySelector('#df-83c41c34-3ddd-4d96-acac-4bf5b6aad5e8');\n",
              "          const dataTable =\n",
              "            await google.colab.kernel.invokeFunction('convertToInteractive',\n",
              "                                                     [key], {});\n",
              "          if (!dataTable) return;\n",
              "\n",
              "          const docLinkHtml = 'Like what you see? Visit the ' +\n",
              "            '<a target=\"_blank\" href=https://colab.research.google.com/notebooks/data_table.ipynb>data table notebook</a>'\n",
              "            + ' to learn more about interactive tables.';\n",
              "          element.innerHTML = '';\n",
              "          dataTable['output_type'] = 'display_data';\n",
              "          await google.colab.output.renderOutput(dataTable, element);\n",
              "          const docLink = document.createElement('div');\n",
              "          docLink.innerHTML = docLinkHtml;\n",
              "          element.appendChild(docLink);\n",
              "        }\n",
              "      </script>\n",
              "    </div>\n",
              "  </div>\n",
              "  "
            ]
          },
          "metadata": {}
        }
      ]
    },
    {
      "cell_type": "code",
      "source": [
        "fig, axes = plt.subplots(nrows=1, ncols=2, figsize=(15, 4))\n",
        "histplot = sns.histplot(data=sber_data, x='full_sq', ax=axes[0]);\n",
        "histplot.set_title('Full Square Distribution');\n",
        "boxplot = sns.boxplot(data=sber_data, x='full_sq', ax=axes[1]);\n",
        "boxplot.set_title('Full Square Boxplot');"
      ],
      "metadata": {
        "colab": {
          "base_uri": "https://localhost:8080/",
          "height": 296
        },
        "id": "vlz6iR1xL-ie",
        "outputId": "24902049-145f-4c34-a290-71bf17bf61c0"
      },
      "execution_count": null,
      "outputs": [
        {
          "output_type": "display_data",
          "data": {
            "text/plain": [
              "<Figure size 1080x288 with 2 Axes>"
            ],
            "image/png": "[encoded data removed]"
          },
          "metadata": {
            "needs_background": "light"
          }
        }
      ]
    },
    {
      "cell_type": "markdown",
      "source": [
        "Метод Тюьки"
      ],
      "metadata": {
        "id": "QFAzxru7Mb0u"
      }
    },
    {
      "cell_type": "code",
      "source": [
        "def outliers_iqr(data, feature):\n",
        "    x = data[feature]\n",
        "    quartile_1, quartile_3 = x.quantile(0.25), x.quantile(0.75),\n",
        "    iqr = quartile_3 - quartile_1\n",
        "    lower_bound = quartile_1 - (iqr * 1.5)\n",
        "    upper_bound = quartile_3 + (iqr * 1.5)\n",
        "    outliers = data[(x<lower_bound) | (x > upper_bound)]\n",
        "    cleaned = data[(x>lower_bound) & (x < upper_bound)]\n",
        "    return outliers, cleaned"
      ],
      "metadata": {
        "id": "RTNRGxX8MJEL"
      },
      "execution_count": null,
      "outputs": []
    },
    {
      "cell_type": "code",
      "source": [
        "outliers, cleaned = outliers_iqr(sber_data, 'full_sq')\n",
        "print(f'Число выбросов по методу Тьюки: {outliers.shape[0]}')\n",
        "print(f'Результирующее число записей: {cleaned.shape[0]}')"
      ],
      "metadata": {
        "colab": {
          "base_uri": "https://localhost:8080/"
        },
        "id": "Wn_BjQuDMaiz",
        "outputId": "ee04e7e9-df5a-43c8-9442-99ce37398b72"
      },
      "execution_count": null,
      "outputs": [
        {
          "output_type": "stream",
          "name": "stdout",
          "text": [
            "Число выбросов по методу Тьюки: 963\n",
            "Результирующее число записей: 29508\n"
          ]
        }
      ]
    },
    {
      "cell_type": "code",
      "source": [
        "fig, axes = plt.subplots(nrows=1, ncols=2, figsize=(15, 4))\n",
        "histplot = sns.histplot(data=cleaned, x='full_sq', ax=axes[0]);\n",
        "histplot.set_title('Cleaned Full Square Distribution');\n",
        "boxplot = sns.boxplot(data=cleaned, x='full_sq', ax=axes[1]);\n",
        "boxplot.set_title('Cleaned Full Square Boxplot');"
      ],
      "metadata": {
        "colab": {
          "base_uri": "https://localhost:8080/",
          "height": 296
        },
        "id": "iWjlDmBoMlND",
        "outputId": "2a671bdd-d3c8-48de-9974-9627ae0e09e8"
      },
      "execution_count": null,
      "outputs": [
        {
          "output_type": "display_data",
          "data": {
            "text/plain": [
              "<Figure size 1080x288 with 2 Axes>"
            ],
            "image/png": "[encoded data removed]"
          },
          "metadata": {
            "needs_background": "light"
          }
        }
      ]
    },
    {
      "cell_type": "code",
      "source": [
        "def outliers_iqr_mod(data, feature, left=1.5, right=1.5):\n",
        "    \"\"\"\n",
        "    Давайте немного модифицируем нашу функцию outliers_iqr(). \n",
        "    Добавьте в нее параметры left и right, которые задают число IQR влево и вправо от границ ящика (пусть по умолчанию они равны 1.5).\n",
        "    Функция, как и раньше должна возвращать потенциальные выбросы и очищенный DataFrame.\n",
        "    \"\"\"\n",
        "    x = data[feature]\n",
        "    quartile_1, quartile_3 = x.quantile(0.25), x.quantile(0.75),\n",
        "    iqr = quartile_3 - quartile_1\n",
        "    lower_bound = quartile_1 - (iqr * left)\n",
        "    upper_bound = quartile_3 + (iqr * right)\n",
        "    outliers = data[(x<lower_bound) | (x > upper_bound)]\n",
        "    cleaned = data[(x>lower_bound) & (x < upper_bound)]\n",
        "    return outliers, cleaned"
      ],
      "metadata": {
        "id": "U7RNxphhMtNM"
      },
      "execution_count": null,
      "outputs": []
    },
    {
      "cell_type": "code",
      "source": [
        "outliers, cleaned = outliers_iqr_mod(sber_data, 'full_sq', left = 1, right =6)\n",
        "print(outliers.shape[0])\n",
        "print(cleaned.shape[0])"
      ],
      "metadata": {
        "colab": {
          "base_uri": "https://localhost:8080/"
        },
        "id": "fZ8HQ2ntNiGA",
        "outputId": "8d610801-c866-4a46-b97c-c32fdc97538e"
      },
      "execution_count": null,
      "outputs": [
        {
          "output_type": "stream",
          "name": "stdout",
          "text": [
            "59\n",
            "30403\n"
          ]
        }
      ]
    },
    {
      "cell_type": "code",
      "source": [
        "fig, axes = plt.subplots(nrows=1, ncols=2, figsize=(15, 4))\n",
        "histplot = sns.histplot(data=cleaned, x='full_sq', ax=axes[0]);\n",
        "histplot.set_title('Cleaned Full Square Distribution');\n",
        "boxplot = sns.boxplot(data=cleaned, x='full_sq', ax=axes[1]);\n",
        "boxplot.set_title('Cleaned Full Square Boxplot');"
      ],
      "metadata": {
        "colab": {
          "base_uri": "https://localhost:8080/",
          "height": 296
        },
        "id": "0MJsxAZkN23H",
        "outputId": "d643c4d7-328d-42db-cb8f-466ed2d86ba2"
      },
      "execution_count": null,
      "outputs": [
        {
          "output_type": "display_data",
          "data": {
            "text/plain": [
              "<Figure size 1080x288 with 2 Axes>"
            ],
            "image/png": "[encoded data removed]"
          },
          "metadata": {
            "needs_background": "light"
          }
        }
      ]
    },
    {
      "cell_type": "code",
      "source": [
        "fig, axes = plt.subplots(1, 2, figsize=(15, 4))\n",
        "\n",
        "#гистограмма исходного признака\n",
        "histplot = sns.histplot(sber_data['mkad_km'], bins=30, ax=axes[0])\n",
        "histplot.set_title('MKAD Km Distribution');\n",
        "\n",
        "#гистограмма в логарифмическом масштабе\n",
        "log_mkad_km= np.log(sber_data['mkad_km'] + 1)\n",
        "histplot = sns.histplot(log_mkad_km , bins=30, ax=axes[1])\n",
        "histplot.set_title('Log MKAD Km Distribution');"
      ],
      "metadata": {
        "colab": {
          "base_uri": "https://localhost:8080/",
          "height": 296
        },
        "id": "syEbCq-ROCYa",
        "outputId": "3a7c72ef-fdbc-4951-e39c-0dd446b2b692"
      },
      "execution_count": null,
      "outputs": [
        {
          "output_type": "display_data",
          "data": {
            "text/plain": [
              "<Figure size 1080x288 with 2 Axes>"
            ],
            "image/png": "[encoded data removed]"
          },
          "metadata": {
            "needs_background": "light"
          }
        }
      ]
    },
    {
      "cell_type": "code",
      "source": [
        "\n",
        "print(log_mkad_km.skew())\n",
        "# -0.14263612203024953"
      ],
      "metadata": {
        "colab": {
          "base_uri": "https://localhost:8080/"
        },
        "id": "GEKRUYWbOUz9",
        "outputId": "83499c96-a163-46d2-f24d-e7c4747d0573"
      },
      "execution_count": null,
      "outputs": [
        {
          "output_type": "stream",
          "name": "stdout",
          "text": [
            "-0.14263612203024953\n"
          ]
        }
      ]
    },
    {
      "cell_type": "code",
      "source": [
        "def outliers_z_score(data, feature, log_scale=False):\n",
        "    if log_scale:\n",
        "        x = np.log(data[feature]+1)\n",
        "    else:\n",
        "        x = data[feature]\n",
        "    mu = x.mean()\n",
        "    sigma = x.std()\n",
        "    lower_bound = mu - 3 * sigma\n",
        "    upper_bound = mu + 3 * sigma\n",
        "    outliers = data[(x < lower_bound) | (x > upper_bound)]\n",
        "    cleaned = data[(x > lower_bound) & (x < upper_bound)]\n",
        "    return outliers, cleaned"
      ],
      "metadata": {
        "id": "wS_qEDJVObcD"
      },
      "execution_count": null,
      "outputs": []
    },
    {
      "cell_type": "code",
      "source": [
        "outliers, cleaned = outliers_z_score(sber_data, 'mkad_km', log_scale=True)\n",
        "print(f'Число выбросов по методу z-отклонения: {outliers.shape[0]}')\n",
        "print(f'Результирующее число записей: {cleaned.shape[0]}')"
      ],
      "metadata": {
        "colab": {
          "base_uri": "https://localhost:8080/"
        },
        "id": "63Srx4l0Onf2",
        "outputId": "d47b14b1-d0f0-433d-9939-5a2931cbb9fb"
      },
      "execution_count": null,
      "outputs": [
        {
          "output_type": "stream",
          "name": "stdout",
          "text": [
            "Число выбросов по методу z-отклонения: 33\n",
            "Результирующее число записей: 30438\n"
          ]
        }
      ]
    },
    {
      "cell_type": "code",
      "source": [
        "print(outliers['sub_area'].unique())"
      ],
      "metadata": {
        "colab": {
          "base_uri": "https://localhost:8080/"
        },
        "id": "suzEpll5Opvk",
        "outputId": "8144c9d7-e742-4d35-f9b2-f7228169dc94"
      },
      "execution_count": null,
      "outputs": [
        {
          "output_type": "stream",
          "name": "stdout",
          "text": [
            "['Poselenie Rogovskoe' 'Poselenie Kievskij']\n"
          ]
        }
      ]
    },
    {
      "cell_type": "code",
      "source": [
        "fig, ax = plt.subplots(1, 1, figsize=(8, 4))\n",
        "log_mkad_km = np.log(sber_data['mkad_km'] + 1)\n",
        "histplot = sns.histplot(log_mkad_km, bins=30, ax=ax)\n",
        "histplot.axvline(log_mkad_km.mean(), color='k', lw=2)\n",
        "histplot.axvline(log_mkad_km.mean()+ 3 * log_mkad_km.std(), color='k', ls='--', lw=2)\n",
        "histplot.axvline(log_mkad_km.mean()- 3 * log_mkad_km.std(), color='k', ls='--', lw=2)\n",
        "histplot.set_title('Log MKAD Km Distribution');"
      ],
      "metadata": {
        "colab": {
          "base_uri": "https://localhost:8080/",
          "height": 296
        },
        "id": "Vm_mpxfxOsSg",
        "outputId": "087ce1c2-7957-4809-eb51-96aeec5ccea5"
      },
      "execution_count": null,
      "outputs": [
        {
          "output_type": "display_data",
          "data": {
            "text/plain": [
              "<Figure size 576x288 with 1 Axes>"
            ],
            "image/png": "[encoded data removed]"
          },
          "metadata": {
            "needs_background": "light"
          }
        }
      ]
    },
    {
      "cell_type": "code",
      "source": [
        "def outliers_z_score_mod(data, feature, log_scale=False, left =3, right =3):\n",
        "    \"\"\"\n",
        "    Давайте расширим правило 3ех сигм, чтобы иметь возможность учитывать особенности данных.\n",
        "    Добавьте в функцию outliers_z_score() параметры left и right, которые будут задавать число сигм (стандартных отклонений) \n",
        "    влево и вправо соответственно, которые определяют границы метода z-отклонения. \n",
        "    По умолчанию оба параметры равны 3\n",
        "    \"\"\"\n",
        "    if log_scale:\n",
        "        x = np.log(data[feature]+1)\n",
        "    else:\n",
        "        x = data[feature]\n",
        "    mu = x.mean()\n",
        "    sigma = x.std()\n",
        "    lower_bound = mu - left * sigma\n",
        "    upper_bound = mu + right * sigma\n",
        "    outliers = data[(x < lower_bound) | (x > upper_bound)]\n",
        "    cleaned = data[(x > lower_bound) & (x < upper_bound)]\n",
        "    return outliers, cleaned"
      ],
      "metadata": {
        "id": "bM1Eg4ksOxxu"
      },
      "execution_count": null,
      "outputs": []
    },
    {
      "cell_type": "code",
      "source": [
        "outliers, cleaned = outliers_z_score_mod(sber_data, 'mkad_km', log_scale=True, left =3, right =3.5)\n",
        "print(outliers.shape[0])"
      ],
      "metadata": {
        "colab": {
          "base_uri": "https://localhost:8080/",
          "height": 182
        },
        "id": "AgrOLH-DPLIV",
        "outputId": "ffc9e57f-ab3c-44ae-f597-bb2186ad645f"
      },
      "execution_count": null,
      "outputs": [
        {
          "output_type": "error",
          "ename": "NameError",
          "evalue": "ignored",
          "traceback": [
            "\u001b[0;31m---------------------------------------------------------------------------\u001b[0m",
            "\u001b[0;31mNameError\u001b[0m                                 Traceback (most recent call last)",
            "\u001b[0;32m<ipython-input-32-7d174b4e78de>\u001b[0m in \u001b[0;36m<module>\u001b[0;34m()\u001b[0m\n\u001b[0;32m----> 1\u001b[0;31m \u001b[0moutliers\u001b[0m\u001b[0;34m,\u001b[0m \u001b[0mcleaned\u001b[0m \u001b[0;34m=\u001b[0m \u001b[0moutliers_z_score_mod\u001b[0m\u001b[0;34m(\u001b[0m\u001b[0msber_data\u001b[0m\u001b[0;34m,\u001b[0m \u001b[0;34m'mkad_km'\u001b[0m\u001b[0;34m,\u001b[0m \u001b[0mlog_scale\u001b[0m\u001b[0;34m=\u001b[0m\u001b[0;32mTrue\u001b[0m\u001b[0;34m,\u001b[0m \u001b[0mleft\u001b[0m \u001b[0;34m=\u001b[0m\u001b[0;36m3\u001b[0m\u001b[0;34m,\u001b[0m \u001b[0mright\u001b[0m \u001b[0;34m=\u001b[0m\u001b[0;36m3.5\u001b[0m\u001b[0;34m)\u001b[0m\u001b[0;34m\u001b[0m\u001b[0;34m\u001b[0m\u001b[0m\n\u001b[0m\u001b[1;32m      2\u001b[0m \u001b[0mprint\u001b[0m\u001b[0;34m(\u001b[0m\u001b[0moutliers\u001b[0m\u001b[0;34m.\u001b[0m\u001b[0mshape\u001b[0m\u001b[0;34m[\u001b[0m\u001b[0;36m0\u001b[0m\u001b[0;34m]\u001b[0m\u001b[0;34m)\u001b[0m\u001b[0;34m\u001b[0m\u001b[0;34m\u001b[0m\u001b[0m\n",
            "\u001b[0;31mNameError\u001b[0m: name 'outliers_z_score_mod' is not defined"
          ]
        }
      ]
    },
    {
      "cell_type": "code",
      "source": [
        "fig, ax = plt.subplots(1, 1, figsize=(8, 4))\n",
        "log_price = np.log(sber_data['price_doc'] + 1)\n",
        "histplot = sns.histplot(log_price, bins=30, ax=ax)\n",
        "histplot.axvline(log_price.mean(), color='k', lw=2)\n",
        "histplot.axvline(log_price.mean()+ 3 * log_price.std(), color='k', ls='--', lw=2)\n",
        "histplot.axvline(log_price.mean()- 3 * log_price.std(), color='k', ls='--', lw=2)\n",
        "histplot.set_title('Log Price Distribution');"
      ],
      "metadata": {
        "colab": {
          "base_uri": "https://localhost:8080/",
          "height": 296
        },
        "id": "6jhjfyYGPZqR",
        "outputId": "92dabc38-2580-403c-806b-0ac1b92a6b57"
      },
      "execution_count": null,
      "outputs": [
        {
          "output_type": "display_data",
          "data": {
            "text/plain": [
              "<Figure size 576x288 with 1 Axes>"
            ],
            "image/png": "[encoded data removed]"
          },
          "metadata": {
            "needs_background": "light"
          }
        }
      ]
    },
    {
      "cell_type": "code",
      "source": [
        "outliers, cleaned = outliers_z_score_mod(sber_data, 'price_doc', log_scale=True, left =3.7, right =3.7)\n",
        "print(outliers.shape[0])"
      ],
      "metadata": {
        "colab": {
          "base_uri": "https://localhost:8080/"
        },
        "id": "PhT4sNLFQMzx",
        "outputId": "c375ac0c-5f44-4634-d379-e089ededf655"
      },
      "execution_count": null,
      "outputs": [
        {
          "output_type": "stream",
          "name": "stdout",
          "text": [
            "52\n"
          ]
        }
      ]
    },
    {
      "cell_type": "code",
      "source": [
        "def outliers_iqr_mod(data, feature, log_scale=False, left=1.5, right=1.5):\n",
        "    if log_scale:\n",
        "        x = np.log(data[feature])\n",
        "    else:\n",
        "        x = data[feature]\n",
        "    quartile_1, quartile_3 = x.quantile(0.25), x.quantile(0.75),\n",
        "    iqr = quartile_3 - quartile_1\n",
        "    lower_bound = quartile_1 - (iqr * left)\n",
        "    upper_bound = quartile_3 + (iqr * right)\n",
        "    outliers = data[(x<lower_bound) | (x > upper_bound)]\n",
        "    cleaned = data[(x>lower_bound) & (x < upper_bound)]\n",
        "    return outliers, cleaned"
      ],
      "metadata": {
        "id": "NarpZmQKQgBL"
      },
      "execution_count": null,
      "outputs": []
    },
    {
      "cell_type": "code",
      "source": [
        "outliers, cleaned = outliers_iqr_mod(sber_data, 'price_doc', log_scale=True, left =3, right =3)\n",
        "print(outliers.shape[0])"
      ],
      "metadata": {
        "colab": {
          "base_uri": "https://localhost:8080/"
        },
        "id": "q2IYPPraRQBR",
        "outputId": "b2cc9d7b-779b-4351-de7e-324806fd0095"
      },
      "execution_count": null,
      "outputs": [
        {
          "output_type": "stream",
          "name": "stdout",
          "text": [
            "92\n"
          ]
        }
      ]
    },
    {
      "cell_type": "code",
      "source": [
        "sber_data['id'].nunique() == sber_data.shape[0]"
      ],
      "metadata": {
        "colab": {
          "base_uri": "https://localhost:8080/"
        },
        "id": "1_1RobYARV7X",
        "outputId": "b17364ff-1928-455e-a0d3-27cc34c742d1"
      },
      "execution_count": null,
      "outputs": [
        {
          "output_type": "execute_result",
          "data": {
            "text/plain": [
              "True"
            ]
          },
          "metadata": {},
          "execution_count": 71
        }
      ]
    },
    {
      "cell_type": "code",
      "source": [
        "dupl_columns = list(sber_data.columns)\n",
        "dupl_columns.remove('id')\n",
        "\n",
        "mask = sber_data.duplicated(subset=dupl_columns)\n",
        "sber_duplicates = sber_data[mask]\n",
        "print(f'Число найденных дубликатов: {sber_duplicates.shape[0]}')"
      ],
      "metadata": {
        "colab": {
          "base_uri": "https://localhost:8080/"
        },
        "id": "lt1JAWmwRtoc",
        "outputId": "15017f69-98d4-4c4d-908d-1204f1bdcdd7"
      },
      "execution_count": null,
      "outputs": [
        {
          "output_type": "stream",
          "name": "stdout",
          "text": [
            "Число найденных дубликатов: 562\n"
          ]
        }
      ]
    },
    {
      "cell_type": "code",
      "source": [
        "sber_dedupped = sber_data.drop_duplicates(subset=dupl_columns)\n",
        "print(f'Результирующее число записей: {sber_dedupped.shape[0]}')"
      ],
      "metadata": {
        "colab": {
          "base_uri": "https://localhost:8080/"
        },
        "id": "z6Y_W0Y_R1wC",
        "outputId": "d0497752-f0e0-4a49-ecee-294ecdfb7ff3"
      },
      "execution_count": null,
      "outputs": [
        {
          "output_type": "stream",
          "name": "stdout",
          "text": [
            "Результирующее число записей: 29909\n"
          ]
        }
      ]
    },
    {
      "cell_type": "code",
      "source": [
        "low_information_cols = [] \n",
        "\n",
        "#цикл по всем столбцам\n",
        "for col in sber_data.columns:\n",
        "    #наибольшая относительная частота в признаке\n",
        "    top_freq = sber_data[col].value_counts(normalize=True).max()\n",
        "    #доля уникальных значений от размера признака\n",
        "    nunique_ratio = sber_data[col].nunique() / sber_data[col].count()\n",
        "    # сравниваем наибольшую частоту с порогом\n",
        "    if top_freq > 0.95:\n",
        "        low_information_cols.append(col)\n",
        "        print(f'{col}: {round(top_freq*100, 2)}% одинаковых значений')\n",
        "    # сравниваем долю уникальных значений с порогом\n",
        "    if nunique_ratio > 0.95:\n",
        "        low_information_cols.append(col)\n",
        "        print(f'{col}: {round(nunique_ratio*100, 2)}% уникальных значений')"
      ],
      "metadata": {
        "colab": {
          "base_uri": "https://localhost:8080/"
        },
        "id": "XSjjtcVTR-_6",
        "outputId": "ae898076-a56d-4c78-ce06-1836738870f3"
      },
      "execution_count": null,
      "outputs": [
        {
          "output_type": "stream",
          "name": "stdout",
          "text": [
            "id: 100.0% уникальных значений\n",
            "oil_chemistry_raion: 99.03% одинаковых значений\n",
            "railroad_terminal_raion: 96.27% одинаковых значений\n",
            "nuclear_reactor_raion: 97.17% одинаковых значений\n",
            "big_road1_1line: 97.44% одинаковых значений\n",
            "mosque_count_1000: 98.08% одинаковых значений\n"
          ]
        }
      ]
    },
    {
      "cell_type": "code",
      "source": [
        "information_sber_data = sber_data.drop(low_information_cols, axis=1)\n",
        "print(f'Результирующее число признаков: {information_sber_data.shape[1]}')"
      ],
      "metadata": {
        "colab": {
          "base_uri": "https://localhost:8080/"
        },
        "id": "D6fBQh56SR6A",
        "outputId": "41cb29ea-f4bc-4e50-a58f-273c2fd4ffba"
      },
      "execution_count": null,
      "outputs": [
        {
          "output_type": "stream",
          "name": "stdout",
          "text": [
            "Результирующее число признаков: 55\n"
          ]
        }
      ]
    },
    {
      "cell_type": "code",
      "source": [
        "diabetes = pd.read_csv('diabetes_data.csv')\n",
        "diabetes.head()"
      ],
      "metadata": {
        "colab": {
          "base_uri": "https://localhost:8080/",
          "height": 206
        },
        "id": "RVZSncb0SlC_",
        "outputId": "8e514ece-8459-4334-d6fa-5389bbe8d497"
      },
      "execution_count": null,
      "outputs": [
        {
          "output_type": "execute_result",
          "data": {
            "text/plain": [
              "   Pregnancies  Glucose  BloodPressure  SkinThickness  Insulin   BMI  \\\n",
              "0            6       98             58             33      190  34.0   \n",
              "1            2      112             75             32        0  35.7   \n",
              "2            2      108             64              0        0  30.8   \n",
              "3            8      107             80              0        0  24.6   \n",
              "4            7      136             90              0        0  29.9   \n",
              "\n",
              "   DiabetesPedigreeFunction  Age  Outcome  Gender  \n",
              "0                     0.430   43        0  Female  \n",
              "1                     0.148   21        0  Female  \n",
              "2                     0.158   21        0  Female  \n",
              "3                     0.856   34        0  Female  \n",
              "4                     0.210   50        0  Female  "
            ],
            "text/html": [
              "\n",
              "  <div id=\"df-b8e5eaf3-4929-49b7-bae1-a607c36301a1\">\n",
              "    <div class=\"colab-df-container\">\n",
              "      <div>\n",
              "<style scoped>\n",
              "    .dataframe tbody tr th:only-of-type {\n",
              "        vertical-align: middle;\n",
              "    }\n",
              "\n",
              "    .dataframe tbody tr th {\n",
              "        vertical-align: top;\n",
              "    }\n",
              "\n",
              "    .dataframe thead th {\n",
              "        text-align: right;\n",
              "    }\n",
              "</style>\n",
              "<table border=\"1\" class=\"dataframe\">\n",
              "  <thead>\n",
              "    <tr style=\"text-align: right;\">\n",
              "      <th></th>\n",
              "      <th>Pregnancies</th>\n",
              "      <th>Glucose</th>\n",
              "      <th>BloodPressure</th>\n",
              "      <th>SkinThickness</th>\n",
              "      <th>Insulin</th>\n",
              "      <th>BMI</th>\n",
              "      <th>DiabetesPedigreeFunction</th>\n",
              "      <th>Age</th>\n",
              "      <th>Outcome</th>\n",
              "      <th>Gender</th>\n",
              "    </tr>\n",
              "  </thead>\n",
              "  <tbody>\n",
              "    <tr>\n",
              "      <th>0</th>\n",
              "      <td>6</td>\n",
              "      <td>98</td>\n",
              "      <td>58</td>\n",
              "      <td>33</td>\n",
              "      <td>190</td>\n",
              "      <td>34.0</td>\n",
              "      <td>0.430</td>\n",
              "      <td>43</td>\n",
              "      <td>0</td>\n",
              "      <td>Female</td>\n",
              "    </tr>\n",
              "    <tr>\n",
              "      <th>1</th>\n",
              "      <td>2</td>\n",
              "      <td>112</td>\n",
              "      <td>75</td>\n",
              "      <td>32</td>\n",
              "      <td>0</td>\n",
              "      <td>35.7</td>\n",
              "      <td>0.148</td>\n",
              "      <td>21</td>\n",
              "      <td>0</td>\n",
              "      <td>Female</td>\n",
              "    </tr>\n",
              "    <tr>\n",
              "      <th>2</th>\n",
              "      <td>2</td>\n",
              "      <td>108</td>\n",
              "      <td>64</td>\n",
              "      <td>0</td>\n",
              "      <td>0</td>\n",
              "      <td>30.8</td>\n",
              "      <td>0.158</td>\n",
              "      <td>21</td>\n",
              "      <td>0</td>\n",
              "      <td>Female</td>\n",
              "    </tr>\n",
              "    <tr>\n",
              "      <th>3</th>\n",
              "      <td>8</td>\n",
              "      <td>107</td>\n",
              "      <td>80</td>\n",
              "      <td>0</td>\n",
              "      <td>0</td>\n",
              "      <td>24.6</td>\n",
              "      <td>0.856</td>\n",
              "      <td>34</td>\n",
              "      <td>0</td>\n",
              "      <td>Female</td>\n",
              "    </tr>\n",
              "    <tr>\n",
              "      <th>4</th>\n",
              "      <td>7</td>\n",
              "      <td>136</td>\n",
              "      <td>90</td>\n",
              "      <td>0</td>\n",
              "      <td>0</td>\n",
              "      <td>29.9</td>\n",
              "      <td>0.210</td>\n",
              "      <td>50</td>\n",
              "      <td>0</td>\n",
              "      <td>Female</td>\n",
              "    </tr>\n",
              "  </tbody>\n",
              "</table>\n",
              "</div>\n",
              "      <button class=\"colab-df-convert\" onclick=\"convertToInteractive('df-b8e5eaf3-4929-49b7-bae1-a607c36301a1')\"\n",
              "              title=\"Convert this dataframe to an interactive table.\"\n",
              "              style=\"display:none;\">\n",
              "        \n",
              "  <svg xmlns=\"http://www.w3.org/2000/svg\" height=\"24px\"viewBox=\"0 0 24 24\"\n",
              "       width=\"24px\">\n",
              "    <path d=\"M0 0h24v24H0V0z\" fill=\"none\"/>\n",
              "    <path d=\"M18.56 5.44l.94 2.06.94-2.06 2.06-.94-2.06-.94-.94-2.06-.94 2.06-2.06.94zm-11 1L8.5 8.5l.94-2.06 2.06-.94-2.06-.94L8.5 2.5l-.94 2.06-2.06.94zm10 10l.94 2.06.94-2.06 2.06-.94-2.06-.94-.94-2.06-.94 2.06-2.06.94z\"/><path d=\"M17.41 7.96l-1.37-1.37c-.4-.4-.92-.59-1.43-.59-.52 0-1.04.2-1.43.59L10.3 9.45l-7.72 7.72c-.78.78-.78 2.05 0 2.83L4 21.41c.39.39.9.59 1.41.59.51 0 1.02-.2 1.41-.59l7.78-7.78 2.81-2.81c.8-.78.8-2.07 0-2.86zM5.41 20L4 18.59l7.72-7.72 1.47 1.35L5.41 20z\"/>\n",
              "  </svg>\n",
              "      </button>\n",
              "      \n",
              "  <style>\n",
              "    .colab-df-container {\n",
              "      display:flex;\n",
              "      flex-wrap:wrap;\n",
              "      gap: 12px;\n",
              "    }\n",
              "\n",
              "    .colab-df-convert {\n",
              "      background-color: #E8F0FE;\n",
              "      border: none;\n",
              "      border-radius: 50%;\n",
              "      cursor: pointer;\n",
              "      display: none;\n",
              "      fill: #1967D2;\n",
              "      height: 32px;\n",
              "      padding: 0 0 0 0;\n",
              "      width: 32px;\n",
              "    }\n",
              "\n",
              "    .colab-df-convert:hover {\n",
              "      background-color: #E2EBFA;\n",
              "      box-shadow: 0px 1px 2px rgba(60, 64, 67, 0.3), 0px 1px 3px 1px rgba(60, 64, 67, 0.15);\n",
              "      fill: #174EA6;\n",
              "    }\n",
              "\n",
              "    [theme=dark] .colab-df-convert {\n",
              "      background-color: #3B4455;\n",
              "      fill: #D2E3FC;\n",
              "    }\n",
              "\n",
              "    [theme=dark] .colab-df-convert:hover {\n",
              "      background-color: #434B5C;\n",
              "      box-shadow: 0px 1px 3px 1px rgba(0, 0, 0, 0.15);\n",
              "      filter: drop-shadow(0px 1px 2px rgba(0, 0, 0, 0.3));\n",
              "      fill: #FFFFFF;\n",
              "    }\n",
              "  </style>\n",
              "\n",
              "      <script>\n",
              "        const buttonEl =\n",
              "          document.querySelector('#df-b8e5eaf3-4929-49b7-bae1-a607c36301a1 button.colab-df-convert');\n",
              "        buttonEl.style.display =\n",
              "          google.colab.kernel.accessAllowed ? 'block' : 'none';\n",
              "\n",
              "        async function convertToInteractive(key) {\n",
              "          const element = document.querySelector('#df-b8e5eaf3-4929-49b7-bae1-a607c36301a1');\n",
              "          const dataTable =\n",
              "            await google.colab.kernel.invokeFunction('convertToInteractive',\n",
              "                                                     [key], {});\n",
              "          if (!dataTable) return;\n",
              "\n",
              "          const docLinkHtml = 'Like what you see? Visit the ' +\n",
              "            '<a target=\"_blank\" href=https://colab.research.google.com/notebooks/data_table.ipynb>data table notebook</a>'\n",
              "            + ' to learn more about interactive tables.';\n",
              "          element.innerHTML = '';\n",
              "          dataTable['output_type'] = 'display_data';\n",
              "          await google.colab.output.renderOutput(dataTable, element);\n",
              "          const docLink = document.createElement('div');\n",
              "          docLink.innerHTML = docLinkHtml;\n",
              "          element.appendChild(docLink);\n",
              "        }\n",
              "      </script>\n",
              "    </div>\n",
              "  </div>\n",
              "  "
            ]
          },
          "metadata": {},
          "execution_count": 3
        }
      ]
    },
    {
      "cell_type": "code",
      "source": [
        "dupl_columns = list(diabetes.columns)\n",
        "\n",
        "mask = diabetes.duplicated(subset=dupl_columns)\n",
        "dia_duplicates = diabetes[mask]\n",
        "print(f'Число найденных дубликатов: {dia_duplicates.shape[0]}')\n",
        "\n",
        "dia_dedupped = diabetes.drop_duplicates(subset=dupl_columns)\n",
        "print(f'Результирующее число записей: {dia_dedupped.shape[0]}')"
      ],
      "metadata": {
        "colab": {
          "base_uri": "https://localhost:8080/"
        },
        "id": "4vC_8TctKmUc",
        "outputId": "8fbed790-8fef-4229-8ce5-b43da0c157a8"
      },
      "execution_count": null,
      "outputs": [
        {
          "output_type": "stream",
          "name": "stdout",
          "text": [
            "Число найденных дубликатов: 10\n",
            "Результирующее число записей: 768\n"
          ]
        }
      ]
    },
    {
      "cell_type": "code",
      "source": [
        "low_info =[]\n",
        "for col in diabetes.columns:\n",
        "    top_freq = diabetes[col].value_counts(normalize=True).max()\n",
        "    #доля уникальных значений от размера признака\n",
        "    nunique_ratio = diabetes[col].nunique() / diabetes[col].count()\n",
        "    # сравниваем наибольшую частоту с порогом\n",
        "    if top_freq > 0.95:\n",
        "        low_info.append(col)\n",
        "        print(f'{col}: {round(top_freq*100, 2)}% одинаковых значений')\n",
        "    # сравниваем долю уникальных значений с порогом\n",
        "    if nunique_ratio > 0.95:\n",
        "        low_info.append(col)\n",
        "        print(f'{col}: {round(nunique_ratio*100, 2)}% уникальных значений')"
      ],
      "metadata": {
        "colab": {
          "base_uri": "https://localhost:8080/"
        },
        "id": "VZcIy5BpLQKN",
        "outputId": "dea6c0ea-1afe-45f5-f92b-2751defbdc24"
      },
      "execution_count": null,
      "outputs": [
        {
          "output_type": "stream",
          "name": "stdout",
          "text": [
            "Gender: 100.0% одинаковых значений\n"
          ]
        }
      ]
    },
    {
      "cell_type": "code",
      "source": [
        "diabetes.head()"
      ],
      "metadata": {
        "colab": {
          "base_uri": "https://localhost:8080/",
          "height": 206
        },
        "id": "QQQgHYdQMDlj",
        "outputId": "9c31a5f0-f5c0-4072-9c66-e58d6a9000d5"
      },
      "execution_count": null,
      "outputs": [
        {
          "output_type": "execute_result",
          "data": {
            "text/plain": [
              "   Pregnancies  Glucose  BloodPressure  SkinThickness  Insulin   BMI  \\\n",
              "0            6       98             58             33      190  34.0   \n",
              "1            2      112             75             32        0  35.7   \n",
              "2            2      108             64              0        0  30.8   \n",
              "3            8      107             80              0        0  24.6   \n",
              "4            7      136             90              0        0  29.9   \n",
              "\n",
              "   DiabetesPedigreeFunction  Age  Outcome  Gender  \n",
              "0                     0.430   43        0  Female  \n",
              "1                     0.148   21        0  Female  \n",
              "2                     0.158   21        0  Female  \n",
              "3                     0.856   34        0  Female  \n",
              "4                     0.210   50        0  Female  "
            ],
            "text/html": [
              "\n",
              "  <div id=\"df-58a9db64-b32c-4c5d-9125-ce58680f6d10\">\n",
              "    <div class=\"colab-df-container\">\n",
              "      <div>\n",
              "<style scoped>\n",
              "    .dataframe tbody tr th:only-of-type {\n",
              "        vertical-align: middle;\n",
              "    }\n",
              "\n",
              "    .dataframe tbody tr th {\n",
              "        vertical-align: top;\n",
              "    }\n",
              "\n",
              "    .dataframe thead th {\n",
              "        text-align: right;\n",
              "    }\n",
              "</style>\n",
              "<table border=\"1\" class=\"dataframe\">\n",
              "  <thead>\n",
              "    <tr style=\"text-align: right;\">\n",
              "      <th></th>\n",
              "      <th>Pregnancies</th>\n",
              "      <th>Glucose</th>\n",
              "      <th>BloodPressure</th>\n",
              "      <th>SkinThickness</th>\n",
              "      <th>Insulin</th>\n",
              "      <th>BMI</th>\n",
              "      <th>DiabetesPedigreeFunction</th>\n",
              "      <th>Age</th>\n",
              "      <th>Outcome</th>\n",
              "      <th>Gender</th>\n",
              "    </tr>\n",
              "  </thead>\n",
              "  <tbody>\n",
              "    <tr>\n",
              "      <th>0</th>\n",
              "      <td>6</td>\n",
              "      <td>98</td>\n",
              "      <td>58</td>\n",
              "      <td>33</td>\n",
              "      <td>190</td>\n",
              "      <td>34.0</td>\n",
              "      <td>0.430</td>\n",
              "      <td>43</td>\n",
              "      <td>0</td>\n",
              "      <td>Female</td>\n",
              "    </tr>\n",
              "    <tr>\n",
              "      <th>1</th>\n",
              "      <td>2</td>\n",
              "      <td>112</td>\n",
              "      <td>75</td>\n",
              "      <td>32</td>\n",
              "      <td>0</td>\n",
              "      <td>35.7</td>\n",
              "      <td>0.148</td>\n",
              "      <td>21</td>\n",
              "      <td>0</td>\n",
              "      <td>Female</td>\n",
              "    </tr>\n",
              "    <tr>\n",
              "      <th>2</th>\n",
              "      <td>2</td>\n",
              "      <td>108</td>\n",
              "      <td>64</td>\n",
              "      <td>0</td>\n",
              "      <td>0</td>\n",
              "      <td>30.8</td>\n",
              "      <td>0.158</td>\n",
              "      <td>21</td>\n",
              "      <td>0</td>\n",
              "      <td>Female</td>\n",
              "    </tr>\n",
              "    <tr>\n",
              "      <th>3</th>\n",
              "      <td>8</td>\n",
              "      <td>107</td>\n",
              "      <td>80</td>\n",
              "      <td>0</td>\n",
              "      <td>0</td>\n",
              "      <td>24.6</td>\n",
              "      <td>0.856</td>\n",
              "      <td>34</td>\n",
              "      <td>0</td>\n",
              "      <td>Female</td>\n",
              "    </tr>\n",
              "    <tr>\n",
              "      <th>4</th>\n",
              "      <td>7</td>\n",
              "      <td>136</td>\n",
              "      <td>90</td>\n",
              "      <td>0</td>\n",
              "      <td>0</td>\n",
              "      <td>29.9</td>\n",
              "      <td>0.210</td>\n",
              "      <td>50</td>\n",
              "      <td>0</td>\n",
              "      <td>Female</td>\n",
              "    </tr>\n",
              "  </tbody>\n",
              "</table>\n",
              "</div>\n",
              "      <button class=\"colab-df-convert\" onclick=\"convertToInteractive('df-58a9db64-b32c-4c5d-9125-ce58680f6d10')\"\n",
              "              title=\"Convert this dataframe to an interactive table.\"\n",
              "              style=\"display:none;\">\n",
              "        \n",
              "  <svg xmlns=\"http://www.w3.org/2000/svg\" height=\"24px\"viewBox=\"0 0 24 24\"\n",
              "       width=\"24px\">\n",
              "    <path d=\"M0 0h24v24H0V0z\" fill=\"none\"/>\n",
              "    <path d=\"M18.56 5.44l.94 2.06.94-2.06 2.06-.94-2.06-.94-.94-2.06-.94 2.06-2.06.94zm-11 1L8.5 8.5l.94-2.06 2.06-.94-2.06-.94L8.5 2.5l-.94 2.06-2.06.94zm10 10l.94 2.06.94-2.06 2.06-.94-2.06-.94-.94-2.06-.94 2.06-2.06.94z\"/><path d=\"M17.41 7.96l-1.37-1.37c-.4-.4-.92-.59-1.43-.59-.52 0-1.04.2-1.43.59L10.3 9.45l-7.72 7.72c-.78.78-.78 2.05 0 2.83L4 21.41c.39.39.9.59 1.41.59.51 0 1.02-.2 1.41-.59l7.78-7.78 2.81-2.81c.8-.78.8-2.07 0-2.86zM5.41 20L4 18.59l7.72-7.72 1.47 1.35L5.41 20z\"/>\n",
              "  </svg>\n",
              "      </button>\n",
              "      \n",
              "  <style>\n",
              "    .colab-df-container {\n",
              "      display:flex;\n",
              "      flex-wrap:wrap;\n",
              "      gap: 12px;\n",
              "    }\n",
              "\n",
              "    .colab-df-convert {\n",
              "      background-color: #E8F0FE;\n",
              "      border: none;\n",
              "      border-radius: 50%;\n",
              "      cursor: pointer;\n",
              "      display: none;\n",
              "      fill: #1967D2;\n",
              "      height: 32px;\n",
              "      padding: 0 0 0 0;\n",
              "      width: 32px;\n",
              "    }\n",
              "\n",
              "    .colab-df-convert:hover {\n",
              "      background-color: #E2EBFA;\n",
              "      box-shadow: 0px 1px 2px rgba(60, 64, 67, 0.3), 0px 1px 3px 1px rgba(60, 64, 67, 0.15);\n",
              "      fill: #174EA6;\n",
              "    }\n",
              "\n",
              "    [theme=dark] .colab-df-convert {\n",
              "      background-color: #3B4455;\n",
              "      fill: #D2E3FC;\n",
              "    }\n",
              "\n",
              "    [theme=dark] .colab-df-convert:hover {\n",
              "      background-color: #434B5C;\n",
              "      box-shadow: 0px 1px 3px 1px rgba(0, 0, 0, 0.15);\n",
              "      filter: drop-shadow(0px 1px 2px rgba(0, 0, 0, 0.3));\n",
              "      fill: #FFFFFF;\n",
              "    }\n",
              "  </style>\n",
              "\n",
              "      <script>\n",
              "        const buttonEl =\n",
              "          document.querySelector('#df-58a9db64-b32c-4c5d-9125-ce58680f6d10 button.colab-df-convert');\n",
              "        buttonEl.style.display =\n",
              "          google.colab.kernel.accessAllowed ? 'block' : 'none';\n",
              "\n",
              "        async function convertToInteractive(key) {\n",
              "          const element = document.querySelector('#df-58a9db64-b32c-4c5d-9125-ce58680f6d10');\n",
              "          const dataTable =\n",
              "            await google.colab.kernel.invokeFunction('convertToInteractive',\n",
              "                                                     [key], {});\n",
              "          if (!dataTable) return;\n",
              "\n",
              "          const docLinkHtml = 'Like what you see? Visit the ' +\n",
              "            '<a target=\"_blank\" href=https://colab.research.google.com/notebooks/data_table.ipynb>data table notebook</a>'\n",
              "            + ' to learn more about interactive tables.';\n",
              "          element.innerHTML = '';\n",
              "          dataTable['output_type'] = 'display_data';\n",
              "          await google.colab.output.renderOutput(dataTable, element);\n",
              "          const docLink = document.createElement('div');\n",
              "          docLink.innerHTML = docLinkHtml;\n",
              "          element.appendChild(docLink);\n",
              "        }\n",
              "      </script>\n",
              "    </div>\n",
              "  </div>\n",
              "  "
            ]
          },
          "metadata": {},
          "execution_count": 12
        }
      ]
    },
    {
      "cell_type": "code",
      "source": [
        "diabetes = diabetes.drop(low_info, axis =1)"
      ],
      "metadata": {
        "id": "lKV8cOOlMcW_"
      },
      "execution_count": null,
      "outputs": []
    },
    {
      "cell_type": "code",
      "source": [
        "list_of = ['Glucose', 'BloodPressure', 'SkinThickness', 'Insulin', 'BMI\t']\n",
        "for col in list_of:\n",
        "  diabetes.loc[0, col] = np.nan\n",
        "\n",
        "diabetes.head()"
      ],
      "metadata": {
        "colab": {
          "base_uri": "https://localhost:8080/",
          "height": 206
        },
        "id": "uZE92uKONF4w",
        "outputId": "ba8337ab-e3e9-4f86-e1c5-5c3b1ac609c8"
      },
      "execution_count": null,
      "outputs": [
        {
          "output_type": "execute_result",
          "data": {
            "text/plain": [
              "   Pregnancies  Glucose  BloodPressure  SkinThickness  Insulin   BMI  \\\n",
              "0            6      NaN            NaN            NaN      NaN  34.0   \n",
              "1            2    112.0           75.0           32.0      NaN  35.7   \n",
              "2            2    108.0           64.0            NaN      NaN  30.8   \n",
              "3            8    107.0           80.0            NaN      NaN  24.6   \n",
              "4            7    136.0           90.0            NaN      NaN  29.9   \n",
              "\n",
              "   DiabetesPedigreeFunction  Age  Outcome  BMI\\t  \n",
              "0                     0.430   43        0    NaN  \n",
              "1                     0.148   21        0    NaN  \n",
              "2                     0.158   21        0    NaN  \n",
              "3                     0.856   34        0    NaN  \n",
              "4                     0.210   50        0    NaN  "
            ],
            "text/html": [
              "\n",
              "  <div id=\"df-6d96363e-6576-4f5c-b654-b3a51a2d228a\">\n",
              "    <div class=\"colab-df-container\">\n",
              "      <div>\n",
              "<style scoped>\n",
              "    .dataframe tbody tr th:only-of-type {\n",
              "        vertical-align: middle;\n",
              "    }\n",
              "\n",
              "    .dataframe tbody tr th {\n",
              "        vertical-align: top;\n",
              "    }\n",
              "\n",
              "    .dataframe thead th {\n",
              "        text-align: right;\n",
              "    }\n",
              "</style>\n",
              "<table border=\"1\" class=\"dataframe\">\n",
              "  <thead>\n",
              "    <tr style=\"text-align: right;\">\n",
              "      <th></th>\n",
              "      <th>Pregnancies</th>\n",
              "      <th>Glucose</th>\n",
              "      <th>BloodPressure</th>\n",
              "      <th>SkinThickness</th>\n",
              "      <th>Insulin</th>\n",
              "      <th>BMI</th>\n",
              "      <th>DiabetesPedigreeFunction</th>\n",
              "      <th>Age</th>\n",
              "      <th>Outcome</th>\n",
              "      <th>BMI\\t</th>\n",
              "    </tr>\n",
              "  </thead>\n",
              "  <tbody>\n",
              "    <tr>\n",
              "      <th>0</th>\n",
              "      <td>6</td>\n",
              "      <td>NaN</td>\n",
              "      <td>NaN</td>\n",
              "      <td>NaN</td>\n",
              "      <td>NaN</td>\n",
              "      <td>34.0</td>\n",
              "      <td>0.430</td>\n",
              "      <td>43</td>\n",
              "      <td>0</td>\n",
              "      <td>NaN</td>\n",
              "    </tr>\n",
              "    <tr>\n",
              "      <th>1</th>\n",
              "      <td>2</td>\n",
              "      <td>112.0</td>\n",
              "      <td>75.0</td>\n",
              "      <td>32.0</td>\n",
              "      <td>NaN</td>\n",
              "      <td>35.7</td>\n",
              "      <td>0.148</td>\n",
              "      <td>21</td>\n",
              "      <td>0</td>\n",
              "      <td>NaN</td>\n",
              "    </tr>\n",
              "    <tr>\n",
              "      <th>2</th>\n",
              "      <td>2</td>\n",
              "      <td>108.0</td>\n",
              "      <td>64.0</td>\n",
              "      <td>NaN</td>\n",
              "      <td>NaN</td>\n",
              "      <td>30.8</td>\n",
              "      <td>0.158</td>\n",
              "      <td>21</td>\n",
              "      <td>0</td>\n",
              "      <td>NaN</td>\n",
              "    </tr>\n",
              "    <tr>\n",
              "      <th>3</th>\n",
              "      <td>8</td>\n",
              "      <td>107.0</td>\n",
              "      <td>80.0</td>\n",
              "      <td>NaN</td>\n",
              "      <td>NaN</td>\n",
              "      <td>24.6</td>\n",
              "      <td>0.856</td>\n",
              "      <td>34</td>\n",
              "      <td>0</td>\n",
              "      <td>NaN</td>\n",
              "    </tr>\n",
              "    <tr>\n",
              "      <th>4</th>\n",
              "      <td>7</td>\n",
              "      <td>136.0</td>\n",
              "      <td>90.0</td>\n",
              "      <td>NaN</td>\n",
              "      <td>NaN</td>\n",
              "      <td>29.9</td>\n",
              "      <td>0.210</td>\n",
              "      <td>50</td>\n",
              "      <td>0</td>\n",
              "      <td>NaN</td>\n",
              "    </tr>\n",
              "  </tbody>\n",
              "</table>\n",
              "</div>\n",
              "      <button class=\"colab-df-convert\" onclick=\"convertToInteractive('df-6d96363e-6576-4f5c-b654-b3a51a2d228a')\"\n",
              "              title=\"Convert this dataframe to an interactive table.\"\n",
              "              style=\"display:none;\">\n",
              "        \n",
              "  <svg xmlns=\"http://www.w3.org/2000/svg\" height=\"24px\"viewBox=\"0 0 24 24\"\n",
              "       width=\"24px\">\n",
              "    <path d=\"M0 0h24v24H0V0z\" fill=\"none\"/>\n",
              "    <path d=\"M18.56 5.44l.94 2.06.94-2.06 2.06-.94-2.06-.94-.94-2.06-.94 2.06-2.06.94zm-11 1L8.5 8.5l.94-2.06 2.06-.94-2.06-.94L8.5 2.5l-.94 2.06-2.06.94zm10 10l.94 2.06.94-2.06 2.06-.94-2.06-.94-.94-2.06-.94 2.06-2.06.94z\"/><path d=\"M17.41 7.96l-1.37-1.37c-.4-.4-.92-.59-1.43-.59-.52 0-1.04.2-1.43.59L10.3 9.45l-7.72 7.72c-.78.78-.78 2.05 0 2.83L4 21.41c.39.39.9.59 1.41.59.51 0 1.02-.2 1.41-.59l7.78-7.78 2.81-2.81c.8-.78.8-2.07 0-2.86zM5.41 20L4 18.59l7.72-7.72 1.47 1.35L5.41 20z\"/>\n",
              "  </svg>\n",
              "      </button>\n",
              "      \n",
              "  <style>\n",
              "    .colab-df-container {\n",
              "      display:flex;\n",
              "      flex-wrap:wrap;\n",
              "      gap: 12px;\n",
              "    }\n",
              "\n",
              "    .colab-df-convert {\n",
              "      background-color: #E8F0FE;\n",
              "      border: none;\n",
              "      border-radius: 50%;\n",
              "      cursor: pointer;\n",
              "      display: none;\n",
              "      fill: #1967D2;\n",
              "      height: 32px;\n",
              "      padding: 0 0 0 0;\n",
              "      width: 32px;\n",
              "    }\n",
              "\n",
              "    .colab-df-convert:hover {\n",
              "      background-color: #E2EBFA;\n",
              "      box-shadow: 0px 1px 2px rgba(60, 64, 67, 0.3), 0px 1px 3px 1px rgba(60, 64, 67, 0.15);\n",
              "      fill: #174EA6;\n",
              "    }\n",
              "\n",
              "    [theme=dark] .colab-df-convert {\n",
              "      background-color: #3B4455;\n",
              "      fill: #D2E3FC;\n",
              "    }\n",
              "\n",
              "    [theme=dark] .colab-df-convert:hover {\n",
              "      background-color: #434B5C;\n",
              "      box-shadow: 0px 1px 3px 1px rgba(0, 0, 0, 0.15);\n",
              "      filter: drop-shadow(0px 1px 2px rgba(0, 0, 0, 0.3));\n",
              "      fill: #FFFFFF;\n",
              "    }\n",
              "  </style>\n",
              "\n",
              "      <script>\n",
              "        const buttonEl =\n",
              "          document.querySelector('#df-6d96363e-6576-4f5c-b654-b3a51a2d228a button.colab-df-convert');\n",
              "        buttonEl.style.display =\n",
              "          google.colab.kernel.accessAllowed ? 'block' : 'none';\n",
              "\n",
              "        async function convertToInteractive(key) {\n",
              "          const element = document.querySelector('#df-6d96363e-6576-4f5c-b654-b3a51a2d228a');\n",
              "          const dataTable =\n",
              "            await google.colab.kernel.invokeFunction('convertToInteractive',\n",
              "                                                     [key], {});\n",
              "          if (!dataTable) return;\n",
              "\n",
              "          const docLinkHtml = 'Like what you see? Visit the ' +\n",
              "            '<a target=\"_blank\" href=https://colab.research.google.com/notebooks/data_table.ipynb>data table notebook</a>'\n",
              "            + ' to learn more about interactive tables.';\n",
              "          element.innerHTML = '';\n",
              "          dataTable['output_type'] = 'display_data';\n",
              "          await google.colab.output.renderOutput(dataTable, element);\n",
              "          const docLink = document.createElement('div');\n",
              "          docLink.innerHTML = docLinkHtml;\n",
              "          element.appendChild(docLink);\n",
              "        }\n",
              "      </script>\n",
              "    </div>\n",
              "  </div>\n",
              "  "
            ]
          },
          "metadata": {},
          "execution_count": 20
        }
      ]
    },
    {
      "cell_type": "code",
      "source": [
        "diabetes['Insulin'].isnull().value_counts(normalize=True)"
      ],
      "metadata": {
        "colab": {
          "base_uri": "https://localhost:8080/"
        },
        "id": "ODfdQ4VZPcxz",
        "outputId": "1598cb8d-d744-4ece-e36a-4c503feab8b7"
      },
      "execution_count": null,
      "outputs": [
        {
          "output_type": "execute_result",
          "data": {
            "text/plain": [
              "False    0.510283\n",
              "True     0.489717\n",
              "Name: Insulin, dtype: float64"
            ]
          },
          "metadata": {},
          "execution_count": 21
        }
      ]
    },
    {
      "cell_type": "code",
      "source": [
        "n = diabetes.shape[0] #число строк в таблице\n",
        "thresh = n*0.7\n",
        "diabetes = diabetes.dropna(how='any', thresh=thresh, axis=1)\n",
        "print(diabetes.shape[1])\n",
        "diabetes.head()"
      ],
      "metadata": {
        "colab": {
          "base_uri": "https://localhost:8080/",
          "height": 223
        },
        "id": "Ty7P9D9LQVYf",
        "outputId": "a567a4ef-5e34-46bd-ab0a-c21575c6640d"
      },
      "execution_count": null,
      "outputs": [
        {
          "output_type": "stream",
          "name": "stdout",
          "text": [
            "8\n"
          ]
        },
        {
          "output_type": "execute_result",
          "data": {
            "text/plain": [
              "   Pregnancies  Glucose  BloodPressure  SkinThickness   BMI  \\\n",
              "0            6      NaN            NaN            NaN  34.0   \n",
              "1            2    112.0           75.0           32.0  35.7   \n",
              "2            2    108.0           64.0            NaN  30.8   \n",
              "3            8    107.0           80.0            NaN  24.6   \n",
              "4            7    136.0           90.0            NaN  29.9   \n",
              "\n",
              "   DiabetesPedigreeFunction  Age  Outcome  \n",
              "0                     0.430   43        0  \n",
              "1                     0.148   21        0  \n",
              "2                     0.158   21        0  \n",
              "3                     0.856   34        0  \n",
              "4                     0.210   50        0  "
            ],
            "text/html": [
              "\n",
              "  <div id=\"df-9c4480d3-1726-40c9-bda9-7b6c5bbc728c\">\n",
              "    <div class=\"colab-df-container\">\n",
              "      <div>\n",
              "<style scoped>\n",
              "    .dataframe tbody tr th:only-of-type {\n",
              "        vertical-align: middle;\n",
              "    }\n",
              "\n",
              "    .dataframe tbody tr th {\n",
              "        vertical-align: top;\n",
              "    }\n",
              "\n",
              "    .dataframe thead th {\n",
              "        text-align: right;\n",
              "    }\n",
              "</style>\n",
              "<table border=\"1\" class=\"dataframe\">\n",
              "  <thead>\n",
              "    <tr style=\"text-align: right;\">\n",
              "      <th></th>\n",
              "      <th>Pregnancies</th>\n",
              "      <th>Glucose</th>\n",
              "      <th>BloodPressure</th>\n",
              "      <th>SkinThickness</th>\n",
              "      <th>BMI</th>\n",
              "      <th>DiabetesPedigreeFunction</th>\n",
              "      <th>Age</th>\n",
              "      <th>Outcome</th>\n",
              "    </tr>\n",
              "  </thead>\n",
              "  <tbody>\n",
              "    <tr>\n",
              "      <th>0</th>\n",
              "      <td>6</td>\n",
              "      <td>NaN</td>\n",
              "      <td>NaN</td>\n",
              "      <td>NaN</td>\n",
              "      <td>34.0</td>\n",
              "      <td>0.430</td>\n",
              "      <td>43</td>\n",
              "      <td>0</td>\n",
              "    </tr>\n",
              "    <tr>\n",
              "      <th>1</th>\n",
              "      <td>2</td>\n",
              "      <td>112.0</td>\n",
              "      <td>75.0</td>\n",
              "      <td>32.0</td>\n",
              "      <td>35.7</td>\n",
              "      <td>0.148</td>\n",
              "      <td>21</td>\n",
              "      <td>0</td>\n",
              "    </tr>\n",
              "    <tr>\n",
              "      <th>2</th>\n",
              "      <td>2</td>\n",
              "      <td>108.0</td>\n",
              "      <td>64.0</td>\n",
              "      <td>NaN</td>\n",
              "      <td>30.8</td>\n",
              "      <td>0.158</td>\n",
              "      <td>21</td>\n",
              "      <td>0</td>\n",
              "    </tr>\n",
              "    <tr>\n",
              "      <th>3</th>\n",
              "      <td>8</td>\n",
              "      <td>107.0</td>\n",
              "      <td>80.0</td>\n",
              "      <td>NaN</td>\n",
              "      <td>24.6</td>\n",
              "      <td>0.856</td>\n",
              "      <td>34</td>\n",
              "      <td>0</td>\n",
              "    </tr>\n",
              "    <tr>\n",
              "      <th>4</th>\n",
              "      <td>7</td>\n",
              "      <td>136.0</td>\n",
              "      <td>90.0</td>\n",
              "      <td>NaN</td>\n",
              "      <td>29.9</td>\n",
              "      <td>0.210</td>\n",
              "      <td>50</td>\n",
              "      <td>0</td>\n",
              "    </tr>\n",
              "  </tbody>\n",
              "</table>\n",
              "</div>\n",
              "      <button class=\"colab-df-convert\" onclick=\"convertToInteractive('df-9c4480d3-1726-40c9-bda9-7b6c5bbc728c')\"\n",
              "              title=\"Convert this dataframe to an interactive table.\"\n",
              "              style=\"display:none;\">\n",
              "        \n",
              "  <svg xmlns=\"http://www.w3.org/2000/svg\" height=\"24px\"viewBox=\"0 0 24 24\"\n",
              "       width=\"24px\">\n",
              "    <path d=\"M0 0h24v24H0V0z\" fill=\"none\"/>\n",
              "    <path d=\"M18.56 5.44l.94 2.06.94-2.06 2.06-.94-2.06-.94-.94-2.06-.94 2.06-2.06.94zm-11 1L8.5 8.5l.94-2.06 2.06-.94-2.06-.94L8.5 2.5l-.94 2.06-2.06.94zm10 10l.94 2.06.94-2.06 2.06-.94-2.06-.94-.94-2.06-.94 2.06-2.06.94z\"/><path d=\"M17.41 7.96l-1.37-1.37c-.4-.4-.92-.59-1.43-.59-.52 0-1.04.2-1.43.59L10.3 9.45l-7.72 7.72c-.78.78-.78 2.05 0 2.83L4 21.41c.39.39.9.59 1.41.59.51 0 1.02-.2 1.41-.59l7.78-7.78 2.81-2.81c.8-.78.8-2.07 0-2.86zM5.41 20L4 18.59l7.72-7.72 1.47 1.35L5.41 20z\"/>\n",
              "  </svg>\n",
              "      </button>\n",
              "      \n",
              "  <style>\n",
              "    .colab-df-container {\n",
              "      display:flex;\n",
              "      flex-wrap:wrap;\n",
              "      gap: 12px;\n",
              "    }\n",
              "\n",
              "    .colab-df-convert {\n",
              "      background-color: #E8F0FE;\n",
              "      border: none;\n",
              "      border-radius: 50%;\n",
              "      cursor: pointer;\n",
              "      display: none;\n",
              "      fill: #1967D2;\n",
              "      height: 32px;\n",
              "      padding: 0 0 0 0;\n",
              "      width: 32px;\n",
              "    }\n",
              "\n",
              "    .colab-df-convert:hover {\n",
              "      background-color: #E2EBFA;\n",
              "      box-shadow: 0px 1px 2px rgba(60, 64, 67, 0.3), 0px 1px 3px 1px rgba(60, 64, 67, 0.15);\n",
              "      fill: #174EA6;\n",
              "    }\n",
              "\n",
              "    [theme=dark] .colab-df-convert {\n",
              "      background-color: #3B4455;\n",
              "      fill: #D2E3FC;\n",
              "    }\n",
              "\n",
              "    [theme=dark] .colab-df-convert:hover {\n",
              "      background-color: #434B5C;\n",
              "      box-shadow: 0px 1px 3px 1px rgba(0, 0, 0, 0.15);\n",
              "      filter: drop-shadow(0px 1px 2px rgba(0, 0, 0, 0.3));\n",
              "      fill: #FFFFFF;\n",
              "    }\n",
              "  </style>\n",
              "\n",
              "      <script>\n",
              "        const buttonEl =\n",
              "          document.querySelector('#df-9c4480d3-1726-40c9-bda9-7b6c5bbc728c button.colab-df-convert');\n",
              "        buttonEl.style.display =\n",
              "          google.colab.kernel.accessAllowed ? 'block' : 'none';\n",
              "\n",
              "        async function convertToInteractive(key) {\n",
              "          const element = document.querySelector('#df-9c4480d3-1726-40c9-bda9-7b6c5bbc728c');\n",
              "          const dataTable =\n",
              "            await google.colab.kernel.invokeFunction('convertToInteractive',\n",
              "                                                     [key], {});\n",
              "          if (!dataTable) return;\n",
              "\n",
              "          const docLinkHtml = 'Like what you see? Visit the ' +\n",
              "            '<a target=\"_blank\" href=https://colab.research.google.com/notebooks/data_table.ipynb>data table notebook</a>'\n",
              "            + ' to learn more about interactive tables.';\n",
              "          element.innerHTML = '';\n",
              "          dataTable['output_type'] = 'display_data';\n",
              "          await google.colab.output.renderOutput(dataTable, element);\n",
              "          const docLink = document.createElement('div');\n",
              "          docLink.innerHTML = docLinkHtml;\n",
              "          element.appendChild(docLink);\n",
              "        }\n",
              "      </script>\n",
              "    </div>\n",
              "  </div>\n",
              "  "
            ]
          },
          "metadata": {},
          "execution_count": 24
        }
      ]
    },
    {
      "cell_type": "code",
      "source": [
        "\n",
        "diabetes = diabetes.dropna(thresh=6, axis=0)\n",
        "print(diabetes.shape[0])\n",
        "diabetes.head()"
      ],
      "metadata": {
        "colab": {
          "base_uri": "https://localhost:8080/",
          "height": 223
        },
        "id": "pHGsCMJvRDDY",
        "outputId": "d9206539-37fc-44f9-8188-3c24a97dbc8d"
      },
      "execution_count": null,
      "outputs": [
        {
          "output_type": "stream",
          "name": "stdout",
          "text": [
            "777\n"
          ]
        },
        {
          "output_type": "execute_result",
          "data": {
            "text/plain": [
              "   Pregnancies  Glucose  BloodPressure  SkinThickness   BMI  \\\n",
              "1            2    112.0           75.0           32.0  35.7   \n",
              "2            2    108.0           64.0            NaN  30.8   \n",
              "3            8    107.0           80.0            NaN  24.6   \n",
              "4            7    136.0           90.0            NaN  29.9   \n",
              "5            6    103.0           72.0           32.0  37.7   \n",
              "\n",
              "   DiabetesPedigreeFunction  Age  Outcome  \n",
              "1                     0.148   21        0  \n",
              "2                     0.158   21        0  \n",
              "3                     0.856   34        0  \n",
              "4                     0.210   50        0  \n",
              "5                     0.324   55        0  "
            ],
            "text/html": [
              "\n",
              "  <div id=\"df-7a235cbc-f6b1-43dd-9a97-79f96cd6a72f\">\n",
              "    <div class=\"colab-df-container\">\n",
              "      <div>\n",
              "<style scoped>\n",
              "    .dataframe tbody tr th:only-of-type {\n",
              "        vertical-align: middle;\n",
              "    }\n",
              "\n",
              "    .dataframe tbody tr th {\n",
              "        vertical-align: top;\n",
              "    }\n",
              "\n",
              "    .dataframe thead th {\n",
              "        text-align: right;\n",
              "    }\n",
              "</style>\n",
              "<table border=\"1\" class=\"dataframe\">\n",
              "  <thead>\n",
              "    <tr style=\"text-align: right;\">\n",
              "      <th></th>\n",
              "      <th>Pregnancies</th>\n",
              "      <th>Glucose</th>\n",
              "      <th>BloodPressure</th>\n",
              "      <th>SkinThickness</th>\n",
              "      <th>BMI</th>\n",
              "      <th>DiabetesPedigreeFunction</th>\n",
              "      <th>Age</th>\n",
              "      <th>Outcome</th>\n",
              "    </tr>\n",
              "  </thead>\n",
              "  <tbody>\n",
              "    <tr>\n",
              "      <th>1</th>\n",
              "      <td>2</td>\n",
              "      <td>112.0</td>\n",
              "      <td>75.0</td>\n",
              "      <td>32.0</td>\n",
              "      <td>35.7</td>\n",
              "      <td>0.148</td>\n",
              "      <td>21</td>\n",
              "      <td>0</td>\n",
              "    </tr>\n",
              "    <tr>\n",
              "      <th>2</th>\n",
              "      <td>2</td>\n",
              "      <td>108.0</td>\n",
              "      <td>64.0</td>\n",
              "      <td>NaN</td>\n",
              "      <td>30.8</td>\n",
              "      <td>0.158</td>\n",
              "      <td>21</td>\n",
              "      <td>0</td>\n",
              "    </tr>\n",
              "    <tr>\n",
              "      <th>3</th>\n",
              "      <td>8</td>\n",
              "      <td>107.0</td>\n",
              "      <td>80.0</td>\n",
              "      <td>NaN</td>\n",
              "      <td>24.6</td>\n",
              "      <td>0.856</td>\n",
              "      <td>34</td>\n",
              "      <td>0</td>\n",
              "    </tr>\n",
              "    <tr>\n",
              "      <th>4</th>\n",
              "      <td>7</td>\n",
              "      <td>136.0</td>\n",
              "      <td>90.0</td>\n",
              "      <td>NaN</td>\n",
              "      <td>29.9</td>\n",
              "      <td>0.210</td>\n",
              "      <td>50</td>\n",
              "      <td>0</td>\n",
              "    </tr>\n",
              "    <tr>\n",
              "      <th>5</th>\n",
              "      <td>6</td>\n",
              "      <td>103.0</td>\n",
              "      <td>72.0</td>\n",
              "      <td>32.0</td>\n",
              "      <td>37.7</td>\n",
              "      <td>0.324</td>\n",
              "      <td>55</td>\n",
              "      <td>0</td>\n",
              "    </tr>\n",
              "  </tbody>\n",
              "</table>\n",
              "</div>\n",
              "      <button class=\"colab-df-convert\" onclick=\"convertToInteractive('df-7a235cbc-f6b1-43dd-9a97-79f96cd6a72f')\"\n",
              "              title=\"Convert this dataframe to an interactive table.\"\n",
              "              style=\"display:none;\">\n",
              "        \n",
              "  <svg xmlns=\"http://www.w3.org/2000/svg\" height=\"24px\"viewBox=\"0 0 24 24\"\n",
              "       width=\"24px\">\n",
              "    <path d=\"M0 0h24v24H0V0z\" fill=\"none\"/>\n",
              "    <path d=\"M18.56 5.44l.94 2.06.94-2.06 2.06-.94-2.06-.94-.94-2.06-.94 2.06-2.06.94zm-11 1L8.5 8.5l.94-2.06 2.06-.94-2.06-.94L8.5 2.5l-.94 2.06-2.06.94zm10 10l.94 2.06.94-2.06 2.06-.94-2.06-.94-.94-2.06-.94 2.06-2.06.94z\"/><path d=\"M17.41 7.96l-1.37-1.37c-.4-.4-.92-.59-1.43-.59-.52 0-1.04.2-1.43.59L10.3 9.45l-7.72 7.72c-.78.78-.78 2.05 0 2.83L4 21.41c.39.39.9.59 1.41.59.51 0 1.02-.2 1.41-.59l7.78-7.78 2.81-2.81c.8-.78.8-2.07 0-2.86zM5.41 20L4 18.59l7.72-7.72 1.47 1.35L5.41 20z\"/>\n",
              "  </svg>\n",
              "      </button>\n",
              "      \n",
              "  <style>\n",
              "    .colab-df-container {\n",
              "      display:flex;\n",
              "      flex-wrap:wrap;\n",
              "      gap: 12px;\n",
              "    }\n",
              "\n",
              "    .colab-df-convert {\n",
              "      background-color: #E8F0FE;\n",
              "      border: none;\n",
              "      border-radius: 50%;\n",
              "      cursor: pointer;\n",
              "      display: none;\n",
              "      fill: #1967D2;\n",
              "      height: 32px;\n",
              "      padding: 0 0 0 0;\n",
              "      width: 32px;\n",
              "    }\n",
              "\n",
              "    .colab-df-convert:hover {\n",
              "      background-color: #E2EBFA;\n",
              "      box-shadow: 0px 1px 2px rgba(60, 64, 67, 0.3), 0px 1px 3px 1px rgba(60, 64, 67, 0.15);\n",
              "      fill: #174EA6;\n",
              "    }\n",
              "\n",
              "    [theme=dark] .colab-df-convert {\n",
              "      background-color: #3B4455;\n",
              "      fill: #D2E3FC;\n",
              "    }\n",
              "\n",
              "    [theme=dark] .colab-df-convert:hover {\n",
              "      background-color: #434B5C;\n",
              "      box-shadow: 0px 1px 3px 1px rgba(0, 0, 0, 0.15);\n",
              "      filter: drop-shadow(0px 1px 2px rgba(0, 0, 0, 0.3));\n",
              "      fill: #FFFFFF;\n",
              "    }\n",
              "  </style>\n",
              "\n",
              "      <script>\n",
              "        const buttonEl =\n",
              "          document.querySelector('#df-7a235cbc-f6b1-43dd-9a97-79f96cd6a72f button.colab-df-convert');\n",
              "        buttonEl.style.display =\n",
              "          google.colab.kernel.accessAllowed ? 'block' : 'none';\n",
              "\n",
              "        async function convertToInteractive(key) {\n",
              "          const element = document.querySelector('#df-7a235cbc-f6b1-43dd-9a97-79f96cd6a72f');\n",
              "          const dataTable =\n",
              "            await google.colab.kernel.invokeFunction('convertToInteractive',\n",
              "                                                     [key], {});\n",
              "          if (!dataTable) return;\n",
              "\n",
              "          const docLinkHtml = 'Like what you see? Visit the ' +\n",
              "            '<a target=\"_blank\" href=https://colab.research.google.com/notebooks/data_table.ipynb>data table notebook</a>'\n",
              "            + ' to learn more about interactive tables.';\n",
              "          element.innerHTML = '';\n",
              "          dataTable['output_type'] = 'display_data';\n",
              "          await google.colab.output.renderOutput(dataTable, element);\n",
              "          const docLink = document.createElement('div');\n",
              "          docLink.innerHTML = docLinkHtml;\n",
              "          element.appendChild(docLink);\n",
              "        }\n",
              "      </script>\n",
              "    </div>\n",
              "  </div>\n",
              "  "
            ]
          },
          "metadata": {},
          "execution_count": 31
        }
      ]
    },
    {
      "cell_type": "code",
      "source": [
        "diabetes = diabetes.fillna({'Glucose':diabetes['Glucose'].median(), 'BloodPressure':diabetes['BloodPressure'].median(), 'SkinThickness':diabetes['SkinThickness'].median(), 'BMI':diabetes['BMI'].median()})\n",
        "print(diabetes['SkinThickness'].mean())"
      ],
      "metadata": {
        "colab": {
          "base_uri": "https://localhost:8080/"
        },
        "id": "xr3SPGm2RVpZ",
        "outputId": "718dda5c-a74b-4ad9-981a-da518e4efa6d"
      },
      "execution_count": null,
      "outputs": [
        {
          "output_type": "stream",
          "name": "stdout",
          "text": [
            "29.1003861003861\n"
          ]
        }
      ]
    },
    {
      "cell_type": "code",
      "source": [
        "outliners, cleaned = outliers_iqr_mod(diabetes, 'SkinThickness')\n",
        "print(outliners.shape[0])"
      ],
      "metadata": {
        "colab": {
          "base_uri": "https://localhost:8080/"
        },
        "id": "WEx-JOeqS3UN",
        "outputId": "c6affacd-ee12-4731-fc0c-e5aa750444a7"
      },
      "execution_count": null,
      "outputs": [
        {
          "output_type": "stream",
          "name": "stdout",
          "text": [
            "87\n"
          ]
        }
      ]
    },
    {
      "cell_type": "code",
      "source": [
        "outliners, cleaned = outliers_z_score_mod(diabetes, 'SkinThickness')\n",
        "print(outliners.shape[0])"
      ],
      "metadata": {
        "colab": {
          "base_uri": "https://localhost:8080/"
        },
        "id": "Xw7LsHK3TNYE",
        "outputId": "5c1110a5-5973-4b78-e34c-c86164a53475"
      },
      "execution_count": null,
      "outputs": [
        {
          "output_type": "stream",
          "name": "stdout",
          "text": [
            "4\n"
          ]
        }
      ]
    },
    {
      "cell_type": "code",
      "source": [
        "histplot = sns.histplot(diabetes, x = 'DiabetesPedigreeFunction')"
      ],
      "metadata": {
        "colab": {
          "base_uri": "https://localhost:8080/",
          "height": 279
        },
        "id": "zEbZ5---ThsQ",
        "outputId": "3aaa9f87-e58e-4e44-fcb7-86855d1c1f63"
      },
      "execution_count": null,
      "outputs": [
        {
          "output_type": "display_data",
          "data": {
            "text/plain": [
              "<Figure size 432x288 with 1 Axes>"
            ],
            "image/png": "[encoded data removed]"
          },
          "metadata": {
            "needs_background": "light"
          }
        }
      ]
    },
    {
      "cell_type": "code",
      "source": [
        "outliners, cleaned = outliers_iqr_mod(diabetes, 'DiabetesPedigreeFunction')\n",
        "outliners1, cleaned1 = outliers_iqr_mod(diabetes, 'DiabetesPedigreeFunction', log_scale =True)\n",
        "print(outliners.shape[0]-outliners1.shape[0])"
      ],
      "metadata": {
        "colab": {
          "base_uri": "https://localhost:8080/"
        },
        "id": "Np1G37ICUGdE",
        "outputId": "b9e5697b-2126-423c-dc8c-38e4e3b33e07"
      },
      "execution_count": null,
      "outputs": [
        {
          "output_type": "stream",
          "name": "stdout",
          "text": [
            "29\n"
          ]
        }
      ]
    },
    {
      "cell_type": "code",
      "source": [
        ""
      ],
      "metadata": {
        "id": "xigozALRUfOZ"
      },
      "execution_count": null,
      "outputs": []
    }
  ]
}