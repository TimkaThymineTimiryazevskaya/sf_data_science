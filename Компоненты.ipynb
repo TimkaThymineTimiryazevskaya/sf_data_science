{
  "nbformat": 4,
  "nbformat_minor": 0,
  "metadata": {
    "colab": {
      "provenance": [],
      "authorship_tag": "ABX9TyNFwyD8o+nUOsug4vbZS3wC",
      "include_colab_link": true
    },
    "kernelspec": {
      "name": "python3",
      "display_name": "Python 3"
    },
    "language_info": {
      "name": "python"
    }
  },
  "cells": [
    {
      "cell_type": "markdown",
      "metadata": {
        "id": "view-in-github",
        "colab_type": "text"
      },
      "source": [
        "<a href=\"https://colab.research.google.com/github/TimkaThymineTimiryazevskaya/sf_data_science/blob/main/%D0%9A%D0%BE%D0%BC%D0%BF%D0%BE%D0%BD%D0%B5%D0%BD%D1%82%D1%8B.ipynb\" target=\"_parent\"><img src=\"https://colab.research.google.com/assets/colab-badge.svg\" alt=\"Open In Colab\"/></a>"
      ]
    },
    {
      "cell_type": "code",
      "execution_count": 1,
      "metadata": {
        "id": "LimIXviDcr-x"
      },
      "outputs": [],
      "source": [
        "import numpy as np"
      ]
    },
    {
      "cell_type": "code",
      "source": [
        "v1 = np.array([1,3,5])\n",
        "v2 = np.array([4,-4,9])\n",
        "v3 = np.array([13,7,12])\n",
        "A = np.array([v1,v2,v3])\n",
        "\n",
        "eig_values, eig_vectors = np.linalg.eig(A)\n",
        "\n",
        "print(eig_values)"
      ],
      "metadata": {
        "colab": {
          "base_uri": "https://localhost:8080/"
        },
        "id": "QXOnyvHaczic",
        "outputId": "e46e2a14-ba38-4e2c-f277-6bfff43a7e2d"
      },
      "execution_count": 2,
      "outputs": [
        {
          "output_type": "stream",
          "name": "stdout",
          "text": [
            "[19.52189628 -3.75422737 -6.76766891]\n"
          ]
        }
      ]
    },
    {
      "cell_type": "code",
      "source": [
        "v1 = np.array([1,9,4])\n",
        "v2 = np.array([9,4,7])\n",
        "v3 = np.array([4,7,12])\n",
        "A = np.array([v1,v2,v3])\n",
        "\n",
        "eig_values, eig_vectors = np.linalg.eig(A.T@A)\n",
        "\n",
        "print(eig_values)\n",
        "print(eig_vectors)"
      ],
      "metadata": {
        "colab": {
          "base_uri": "https://localhost:8080/"
        },
        "id": "LCVFiqKKdLMm",
        "outputId": "24506eda-a6f8-4a02-a7eb-ab4855011c7e"
      },
      "execution_count": 4,
      "outputs": [
        {
          "output_type": "stream",
          "name": "stdout",
          "text": [
            "[391.37004987  45.77088847  15.85906166]\n",
            "[[-0.41955589 -0.7323045  -0.5363795 ]\n",
            " [-0.55709648  0.67425896 -0.48478693]\n",
            " [-0.71667034 -0.09541992  0.69085358]]\n"
          ]
        }
      ]
    },
    {
      "cell_type": "code",
      "source": [
        "import numpy as np\n",
        "x1 = np.array([1, 2, 1, 1]).T\n",
        "x2 = np.array([70, 130, 65, 60]).T\n",
        "\n",
        "C = np.array([\n",
        "[1, 0.9922],\n",
        "[0.9922, 1],\n",
        "])\n",
        "\n",
        "eig_values, eig_vectors = np.linalg.eig(C)\n",
        "\n",
        "x1_norm = (x1 - x1.mean()) / np.linalg.norm(x1)\n",
        "x2_norm = (x2 - x2.mean()) / np.linalg.norm(x2)\n",
        "\n",
        "x_new = x1_norm * eig_vectors[0][0] + x2_norm * eig_vectors[1][0]\n",
        "\n",
        "x_new_norm = (x_new - x_new.mean()) / np.linalg.norm(x_new)\n",
        "\n",
        "print(np.round(x_new_norm, 2))\n",
        "\n",
        "## [-0.24  0.86 -0.29 -0.33]"
      ],
      "metadata": {
        "colab": {
          "base_uri": "https://localhost:8080/"
        },
        "id": "sI_AgUmWdhpz",
        "outputId": "f7c7778c-873f-426b-caec-84e6bc112b45"
      },
      "execution_count": 6,
      "outputs": [
        {
          "output_type": "stream",
          "name": "stdout",
          "text": [
            "[-0.24  0.86 -0.29 -0.33]\n"
          ]
        }
      ]
    },
    {
      "cell_type": "code",
      "source": [],
      "metadata": {
        "id": "G134zgxyfCI0"
      },
      "execution_count": null,
      "outputs": []
    }
  ]
}