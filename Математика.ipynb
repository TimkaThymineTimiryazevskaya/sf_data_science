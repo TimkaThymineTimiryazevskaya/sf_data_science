{
  "nbformat": 4,
  "nbformat_minor": 0,
  "metadata": {
    "colab": {
      "provenance": [],
      "authorship_tag": "ABX9TyO2Y4KTlhDCk4fYVATwsinR",
      "include_colab_link": true
    },
    "kernelspec": {
      "name": "python3",
      "display_name": "Python 3"
    },
    "language_info": {
      "name": "python"
    }
  },
  "cells": [
    {
      "cell_type": "markdown",
      "metadata": {
        "id": "view-in-github",
        "colab_type": "text"
      },
      "source": [
        "<a href=\"https://colab.research.google.com/github/TimkaThymineTimiryazevskaya/sf_data_science/blob/main/%D0%9C%D0%B0%D1%82%D0%B5%D0%BC%D0%B0%D1%82%D0%B8%D0%BA%D0%B0.ipynb\" target=\"_parent\"><img src=\"https://colab.research.google.com/assets/colab-badge.svg\" alt=\"Open In Colab\"/></a>"
      ]
    },
    {
      "cell_type": "code",
      "execution_count": 1,
      "metadata": {
        "id": "mTLWL1lZZcqp"
      },
      "outputs": [],
      "source": [
        "A = {'ID453', 'ID312', 'ID41', 'ID3', 'ID500', 'ID920', 'ID36', 'ID27'}\n",
        "B = {'ID41', 'ID36', 'ID27', 'ID124', 'ID7', 'ID501', 'ID91' }"
      ]
    },
    {
      "cell_type": "code",
      "source": [
        "union_AB = A.union(B)\n",
        "print(union_AB)"
      ],
      "metadata": {
        "colab": {
          "base_uri": "https://localhost:8080/"
        },
        "id": "v3ZdSBQvZiX3",
        "outputId": "3386a0f0-e2fa-4113-dae0-fa7fad1f2ec6"
      },
      "execution_count": 2,
      "outputs": [
        {
          "output_type": "stream",
          "name": "stdout",
          "text": [
            "{'ID312', 'ID920', 'ID7', 'ID27', 'ID501', 'ID500', 'ID41', 'ID91', 'ID124', 'ID36', 'ID3', 'ID453'}\n"
          ]
        }
      ]
    },
    {
      "cell_type": "code",
      "source": [
        "union_AB = A | B\n",
        "print(union_AB)"
      ],
      "metadata": {
        "colab": {
          "base_uri": "https://localhost:8080/"
        },
        "id": "9_sMsGIaZpFM",
        "outputId": "0626df00-1b83-451c-e1eb-8bc97f7a7a9a"
      },
      "execution_count": 3,
      "outputs": [
        {
          "output_type": "stream",
          "name": "stdout",
          "text": [
            "{'ID312', 'ID920', 'ID7', 'ID27', 'ID501', 'ID500', 'ID41', 'ID91', 'ID124', 'ID36', 'ID3', 'ID453'}\n"
          ]
        }
      ]
    },
    {
      "cell_type": "code",
      "source": [
        "inter_AB = A.intersection(B)\n",
        "print(inter_AB)"
      ],
      "metadata": {
        "colab": {
          "base_uri": "https://localhost:8080/"
        },
        "id": "JSxh1eQCZrgd",
        "outputId": "2adc925f-4716-4b34-fbe0-ab1717bf2402"
      },
      "execution_count": 4,
      "outputs": [
        {
          "output_type": "stream",
          "name": "stdout",
          "text": [
            "{'ID36', 'ID41', 'ID27'}\n"
          ]
        }
      ]
    },
    {
      "cell_type": "code",
      "source": [
        "inter_AB = A & B\n",
        "print(inter_AB)"
      ],
      "metadata": {
        "colab": {
          "base_uri": "https://localhost:8080/"
        },
        "id": "6UqsUa7kZrlx",
        "outputId": "5f3dd3b9-468a-4d6f-d69e-a35c2f921400"
      },
      "execution_count": 5,
      "outputs": [
        {
          "output_type": "stream",
          "name": "stdout",
          "text": [
            "{'ID36', 'ID41', 'ID27'}\n"
          ]
        }
      ]
    },
    {
      "cell_type": "code",
      "source": [
        "diff_AB = A.difference(B)\n",
        "print(diff_AB)"
      ],
      "metadata": {
        "colab": {
          "base_uri": "https://localhost:8080/"
        },
        "id": "jxsgl8pYZwHt",
        "outputId": "c510f1be-877f-4630-a04c-28e0b47f75d9"
      },
      "execution_count": 6,
      "outputs": [
        {
          "output_type": "stream",
          "name": "stdout",
          "text": [
            "{'ID312', 'ID920', 'ID500', 'ID3', 'ID453'}\n"
          ]
        }
      ]
    },
    {
      "cell_type": "code",
      "source": [
        "diff_AB = A - B\n",
        "print(diff_AB)"
      ],
      "metadata": {
        "colab": {
          "base_uri": "https://localhost:8080/"
        },
        "id": "kI7MtJxUZwhv",
        "outputId": "324d9243-5b69-4c1a-8966-f1053bd85898"
      },
      "execution_count": 7,
      "outputs": [
        {
          "output_type": "stream",
          "name": "stdout",
          "text": [
            "{'ID312', 'ID920', 'ID500', 'ID3', 'ID453'}\n"
          ]
        }
      ]
    },
    {
      "cell_type": "code",
      "source": [
        "symmAB = A.symmetric_difference(B)\n",
        "print(symmAB)"
      ],
      "metadata": {
        "colab": {
          "base_uri": "https://localhost:8080/"
        },
        "id": "Fp-10b9lZ5Y1",
        "outputId": "f6bddb05-7175-4814-f491-eae55c66d82c"
      },
      "execution_count": 8,
      "outputs": [
        {
          "output_type": "stream",
          "name": "stdout",
          "text": [
            "{'ID500', 'ID91', 'ID3', 'ID312', 'ID920', 'ID7', 'ID501', 'ID124', 'ID453'}\n"
          ]
        }
      ]
    },
    {
      "cell_type": "code",
      "source": [
        "from sympy import FiniteSet, Union\n",
        "l1 = [1, 3, 7, 10] \n",
        "l2 = [9, 7, 1] \n",
        "a = FiniteSet(*l1) \n",
        "b = FiniteSet(*l2) \n",
        "Union(a, b)"
      ],
      "metadata": {
        "colab": {
          "base_uri": "https://localhost:8080/",
          "height": 37
        },
        "id": "UOoIlRKVZ8hG",
        "outputId": "4f52a5bc-a062-42b0-d855-aef668c4c34b"
      },
      "execution_count": 9,
      "outputs": [
        {
          "output_type": "execute_result",
          "data": {
            "text/plain": [
              "{1, 3, 7, 9, 10}"
            ],
            "text/latex": "$\\displaystyle \\left\\{1, 3, 7, 9, 10\\right\\}$"
          },
          "metadata": {},
          "execution_count": 9
        }
      ]
    },
    {
      "cell_type": "code",
      "source": [
        "from sympy import ConditionSet, Eq, Symbol, Interval\n",
        "x=Symbol('x')\n",
        "s=ConditionSet(x, Eq(x**2-5*x,0), Interval(2,9))\n",
        "s"
      ],
      "metadata": {
        "colab": {
          "base_uri": "https://localhost:8080/",
          "height": 38
        },
        "id": "xsX-MiovaGbm",
        "outputId": "beeb2fbf-c3f0-4d83-f238-c89cebe3be9a"
      },
      "execution_count": 10,
      "outputs": [
        {
          "output_type": "execute_result",
          "data": {
            "text/plain": [
              "ConditionSet(x, Eq(x**2 - 5*x, 0), Interval(2, 9))"
            ],
            "text/latex": "$\\displaystyle \\left\\{x\\; \\middle|\\; x \\in \\left[2, 9\\right] \\wedge x^{2} - 5 x = 0 \\right\\}$"
          },
          "metadata": {},
          "execution_count": 10
        }
      ]
    },
    {
      "cell_type": "code",
      "source": [
        "A = {'bennet@xyz.com','darcy@abc.com','margaret@xyz.com','pa@hhh.com','marimari@xyz.com','mallika@yahoo.com','abc@xyz.com','0071235@gmail.ru'}\n",
        "B = {'marimari@xyz.com','darcy@abc.com','0071235@gmail.ru','darcy@abc.com','petr44@xyz.com','katrin@ya.com'}\n",
        "\n",
        "len(A&B)"
      ],
      "metadata": {
        "colab": {
          "base_uri": "https://localhost:8080/"
        },
        "id": "NzzNBCR_aOgs",
        "outputId": "7f0c6da8-bf3c-4d81-8032-4871fbf21f17"
      },
      "execution_count": 12,
      "outputs": [
        {
          "output_type": "execute_result",
          "data": {
            "text/plain": [
              "3"
            ]
          },
          "metadata": {},
          "execution_count": 12
        }
      ]
    },
    {
      "cell_type": "code",
      "source": [
        "len (A.union(B))"
      ],
      "metadata": {
        "colab": {
          "base_uri": "https://localhost:8080/"
        },
        "id": "mJ3vOuelatcj",
        "outputId": "b2ebdbce-ad6b-4df0-cfe5-42d0719c3dcc"
      },
      "execution_count": 13,
      "outputs": [
        {
          "output_type": "execute_result",
          "data": {
            "text/plain": [
              "10"
            ]
          },
          "metadata": {},
          "execution_count": 13
        }
      ]
    },
    {
      "cell_type": "code",
      "source": [
        "len(A^B)"
      ],
      "metadata": {
        "colab": {
          "base_uri": "https://localhost:8080/"
        },
        "id": "USJE9Ba7a39w",
        "outputId": "a03d7ded-a74d-4e51-ffad-78332ac7de8e"
      },
      "execution_count": 14,
      "outputs": [
        {
          "output_type": "execute_result",
          "data": {
            "text/plain": [
              "7"
            ]
          },
          "metadata": {},
          "execution_count": 14
        }
      ]
    },
    {
      "cell_type": "code",
      "source": [
        "from sympy import Symbol, S, sin #импортируем нужные функции для обозначения переменных\n",
        "from sympy.calculus.util import function_range #импортируем функцию для поиска области значений\n",
        "x = Symbol(\"x\")\n",
        "f = sin(x)\n",
        "function_range(f, x, S.Reals)"
      ],
      "metadata": {
        "colab": {
          "base_uri": "https://localhost:8080/",
          "height": 37
        },
        "id": "FA5JgJtha8SD",
        "outputId": "f8c98d1c-b98d-4fc9-e7c2-73fdd901ef85"
      },
      "execution_count": 15,
      "outputs": [
        {
          "output_type": "execute_result",
          "data": {
            "text/plain": [
              "Interval(-1, 1)"
            ],
            "text/latex": "$\\displaystyle \\left[-1, 1\\right]$"
          },
          "metadata": {},
          "execution_count": 15
        }
      ]
    },
    {
      "cell_type": "code",
      "source": [
        "from sympy import Symbol, S #импортируем нужные функции для обозначения переменных\n",
        "from sympy.calculus.util import function_range #импортируем функцию для поиска области значений\n",
        "from sympy import exp #добавляем функцию для вычисления экспоненциальной функции\n",
        "x = Symbol(\"x\")\n",
        "f = (x*x-3)/(exp(x))\n",
        "function_range(f, x, S.Reals)"
      ],
      "metadata": {
        "colab": {
          "base_uri": "https://localhost:8080/",
          "height": 38
        },
        "id": "Ic58y9RocKJf",
        "outputId": "1209d6fc-2d2a-4afe-b60b-d0b6a3e36547"
      },
      "execution_count": 16,
      "outputs": [
        {
          "output_type": "execute_result",
          "data": {
            "text/plain": [
              "Interval(-2*E, oo)"
            ],
            "text/latex": "$\\displaystyle \\left[- 2 e, \\infty\\right)$"
          },
          "metadata": {},
          "execution_count": 16
        }
      ]
    },
    {
      "cell_type": "code",
      "source": [
        "x = Symbol(\"x\")\n",
        "f = x*x+5*x+4\n",
        "f.subs(x, 0)"
      ],
      "metadata": {
        "colab": {
          "base_uri": "https://localhost:8080/",
          "height": 37
        },
        "id": "mFZpx1M2cO3v",
        "outputId": "09f4fd34-607d-496b-cb67-f5c50a96af3e"
      },
      "execution_count": 17,
      "outputs": [
        {
          "output_type": "execute_result",
          "data": {
            "text/plain": [
              "4"
            ],
            "text/latex": "$\\displaystyle 4$"
          },
          "metadata": {},
          "execution_count": 17
        }
      ]
    },
    {
      "cell_type": "code",
      "source": [
        "from sympy import solveset, Eq\n",
        "solveset(Eq(x*x+5*x+4, 0), x)"
      ],
      "metadata": {
        "colab": {
          "base_uri": "https://localhost:8080/",
          "height": 37
        },
        "id": "myYZF8zycTC-",
        "outputId": "4056da40-8930-4b6c-dc1b-71caded1a42f"
      },
      "execution_count": 18,
      "outputs": [
        {
          "output_type": "execute_result",
          "data": {
            "text/plain": [
              "{-4, -1}"
            ],
            "text/latex": "$\\displaystyle \\left\\{-4, -1\\right\\}$"
          },
          "metadata": {},
          "execution_count": 18
        }
      ]
    },
    {
      "cell_type": "code",
      "source": [
        "solveset(Eq(x**2+2*x-8,0),x)"
      ],
      "metadata": {
        "colab": {
          "base_uri": "https://localhost:8080/",
          "height": 37
        },
        "id": "x_B7vcOnc0ek",
        "outputId": "ef3d191e-097e-460f-edf8-84cea1c50460"
      },
      "execution_count": 19,
      "outputs": [
        {
          "output_type": "execute_result",
          "data": {
            "text/plain": [
              "{-4, 2}"
            ],
            "text/latex": "$\\displaystyle \\left\\{-4, 2\\right\\}$"
          },
          "metadata": {},
          "execution_count": 19
        }
      ]
    },
    {
      "cell_type": "code",
      "source": [
        "f = 3/(x**2-10)\n",
        "function_range(f, x, S.Reals)"
      ],
      "metadata": {
        "colab": {
          "base_uri": "https://localhost:8080/",
          "height": 58
        },
        "id": "v2ID7C8Vc9At",
        "outputId": "d1eb4e94-8401-493e-d93e-425b4c2598d2"
      },
      "execution_count": 20,
      "outputs": [
        {
          "output_type": "execute_result",
          "data": {
            "text/plain": [
              "Union(Interval(-oo, -3/10), Interval.open(0, oo))"
            ],
            "text/latex": "$\\displaystyle \\left(-\\infty, - \\frac{3}{10}\\right] \\cup \\left(0, \\infty\\right)$"
          },
          "metadata": {},
          "execution_count": 20
        }
      ]
    },
    {
      "cell_type": "code",
      "source": [
        "24/15"
      ],
      "metadata": {
        "colab": {
          "base_uri": "https://localhost:8080/"
        },
        "id": "52TAGOXrdMMH",
        "outputId": "621ede7a-d7f0-4d6f-9ceb-b30a7390f343"
      },
      "execution_count": 21,
      "outputs": [
        {
          "output_type": "execute_result",
          "data": {
            "text/plain": [
              "1.6"
            ]
          },
          "metadata": {},
          "execution_count": 21
        }
      ]
    },
    {
      "cell_type": "code",
      "source": [
        "import sympy\n",
        "x = sympy.Symbol(\"x\")\n",
        "expr = x**4 + 3*x**3 + 4*x**2 + 8\n",
        "expr.diff(x)"
      ],
      "metadata": {
        "colab": {
          "base_uri": "https://localhost:8080/",
          "height": 38
        },
        "id": "dXd8_o0BdXks",
        "outputId": "195cdffa-cfa0-4811-b7bb-e4dec076ed21"
      },
      "execution_count": 22,
      "outputs": [
        {
          "output_type": "execute_result",
          "data": {
            "text/plain": [
              "4*x**3 + 9*x**2 + 8*x"
            ],
            "text/latex": "$\\displaystyle 4 x^{3} + 9 x^{2} + 8 x$"
          },
          "metadata": {},
          "execution_count": 22
        }
      ]
    },
    {
      "cell_type": "code",
      "source": [
        "import sympy\n",
        "from sympy import diff, sin, exp, log, Symbol\n",
        "x = sympy.Symbol(\"x\")\n",
        "expr = log(x**2 + 5*x) + exp(sin(x))\n",
        "expr.diff(x)"
      ],
      "metadata": {
        "colab": {
          "base_uri": "https://localhost:8080/",
          "height": 52
        },
        "id": "1utT0QVvfXOf",
        "outputId": "b072d282-400a-403d-ec3a-f8c4870482ec"
      },
      "execution_count": 23,
      "outputs": [
        {
          "output_type": "execute_result",
          "data": {
            "text/plain": [
              "(2*x + 5)/(x**2 + 5*x) + exp(sin(x))*cos(x)"
            ],
            "text/latex": "$\\displaystyle \\frac{2 x + 5}{x^{2} + 5 x} + e^{\\sin{\\left(x \\right)}} \\cos{\\left(x \\right)}$"
          },
          "metadata": {},
          "execution_count": 23
        }
      ]
    },
    {
      "cell_type": "code",
      "source": [
        "import sympy\n",
        "from sympy import diff, sin,exp, log, Symbol\n",
        "x = sympy.Symbol(\"x\")\n",
        "expr = log(x**2 + 5*x) + exp(sin(x))\n",
        "expr.diff(x,2)"
      ],
      "metadata": {
        "colab": {
          "base_uri": "https://localhost:8080/",
          "height": 63
        },
        "id": "MZmNJp6gfX1R",
        "outputId": "cc135f84-dd58-4627-bf23-f1d94645e301"
      },
      "execution_count": 24,
      "outputs": [
        {
          "output_type": "execute_result",
          "data": {
            "text/plain": [
              "-exp(sin(x))*sin(x) + exp(sin(x))*cos(x)**2 + 2/(x*(x + 5)) - (2*x + 5)**2/(x**2*(x + 5)**2)"
            ],
            "text/latex": "$\\displaystyle - e^{\\sin{\\left(x \\right)}} \\sin{\\left(x \\right)} + e^{\\sin{\\left(x \\right)}} \\cos^{2}{\\left(x \\right)} + \\frac{2}{x \\left(x + 5\\right)} - \\frac{\\left(2 x + 5\\right)^{2}}{x^{2} \\left(x + 5\\right)^{2}}$"
          },
          "metadata": {},
          "execution_count": 24
        }
      ]
    },
    {
      "cell_type": "code",
      "source": [
        "expr = 2*x**3*log(x)\n",
        "expr.diff(x)"
      ],
      "metadata": {
        "colab": {
          "base_uri": "https://localhost:8080/",
          "height": 38
        },
        "id": "epXusrINf1Ap",
        "outputId": "463b8ff3-4054-4e5f-8b07-659445a9d5cc"
      },
      "execution_count": 26,
      "outputs": [
        {
          "output_type": "execute_result",
          "data": {
            "text/plain": [
              "6*x**2*log(x) + 2*x**2"
            ],
            "text/latex": "$\\displaystyle 6 x^{2} \\log{\\left(x \\right)} + 2 x^{2}$"
          },
          "metadata": {},
          "execution_count": 26
        }
      ]
    },
    {
      "cell_type": "code",
      "source": [
        "expr = x/(x**2+1)\n",
        "expr.diff(x)"
      ],
      "metadata": {
        "colab": {
          "base_uri": "https://localhost:8080/",
          "height": 61
        },
        "id": "szJT109yf_Tc",
        "outputId": "b88a541a-aecb-445a-c3b5-447896124f8a"
      },
      "execution_count": 27,
      "outputs": [
        {
          "output_type": "execute_result",
          "data": {
            "text/plain": [
              "-2*x**2/(x**2 + 1)**2 + 1/(x**2 + 1)"
            ],
            "text/latex": "$\\displaystyle - \\frac{2 x^{2}}{\\left(x^{2} + 1\\right)^{2}} + \\frac{1}{x^{2} + 1}$"
          },
          "metadata": {},
          "execution_count": 27
        }
      ]
    },
    {
      "cell_type": "code",
      "source": [
        "expr = x**4+5*x\n",
        "expr.diff(x,2)"
      ],
      "metadata": {
        "colab": {
          "base_uri": "https://localhost:8080/",
          "height": 38
        },
        "id": "YYYB_QRFgIUI",
        "outputId": "74ef8ab7-6ad7-4280-ace2-dd0a003026ba"
      },
      "execution_count": 28,
      "outputs": [
        {
          "output_type": "execute_result",
          "data": {
            "text/plain": [
              "12*x**2"
            ],
            "text/latex": "$\\displaystyle 12 x^{2}$"
          },
          "metadata": {},
          "execution_count": 28
        }
      ]
    },
    {
      "cell_type": "code",
      "source": [
        "expr = x**3/4-3*x\n",
        "expr.diff(x,2)"
      ],
      "metadata": {
        "colab": {
          "base_uri": "https://localhost:8080/",
          "height": 51
        },
        "id": "_abIhCdlgU7N",
        "outputId": "27129518-e568-46a5-bcb9-8e6094a644cf"
      },
      "execution_count": 29,
      "outputs": [
        {
          "output_type": "execute_result",
          "data": {
            "text/plain": [
              "3*x/2"
            ],
            "text/latex": "$\\displaystyle \\frac{3 x}{2}$"
          },
          "metadata": {},
          "execution_count": 29
        }
      ]
    }
  ]
}