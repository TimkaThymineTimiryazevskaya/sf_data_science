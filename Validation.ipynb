{
  "nbformat": 4,
  "nbformat_minor": 0,
  "metadata": {
    "colab": {
      "provenance": [],
      "authorship_tag": "ABX9TyPLWSDEKk+Tgvo3UPxHAYjw",
      "include_colab_link": true
    },
    "kernelspec": {
      "name": "python3",
      "display_name": "Python 3"
    },
    "language_info": {
      "name": "python"
    }
  },
  "cells": [
    {
      "cell_type": "markdown",
      "metadata": {
        "id": "view-in-github",
        "colab_type": "text"
      },
      "source": [
        "<a href=\"https://colab.research.google.com/github/TimkaThymineTimiryazevskaya/sf_data_science/blob/main/Validation.ipynb\" target=\"_parent\"><img src=\"https://colab.research.google.com/assets/colab-badge.svg\" alt=\"Open In Colab\"/></a>"
      ]
    },
    {
      "cell_type": "code",
      "execution_count": 83,
      "metadata": {
        "id": "sXQoeWxdlzQO"
      },
      "outputs": [],
      "source": [
        "import numpy as np #для матричных вычислений\n",
        "import pandas as pd #для анализа и предобработки данных\n",
        "import matplotlib.pyplot as plt #для визуализации\n",
        "import seaborn as sns #для визуализации\n",
        " \n",
        "from sklearn import metrics #метрики\n",
        "from sklearn import model_selection #методы разделения и валидации\n",
        "from sklearn import linear_model #линейные модели\n",
        "from sklearn import tree #деревья решений\n",
        "plt.style.use('seaborn') #стиль отрисовки seaborn\n",
        "%matplotlib inline"
      ]
    },
    {
      "cell_type": "code",
      "source": [
        "water_data = pd.read_csv('water_potability.zip')\n",
        "water_data.head()"
      ],
      "metadata": {
        "colab": {
          "base_uri": "https://localhost:8080/",
          "height": 206
        },
        "id": "qkctOz01l1Lx",
        "outputId": "8a2ebfbb-407e-4594-b2d8-74420e0b2f30"
      },
      "execution_count": 84,
      "outputs": [
        {
          "output_type": "execute_result",
          "data": {
            "text/plain": [
              "         ph    Hardness        Solids  Chloramines     Sulfate  Conductivity  \\\n",
              "0       NaN  204.890455  20791.318981     7.300212  368.516441    564.308654   \n",
              "1  3.716080  129.422921  18630.057858     6.635246         NaN    592.885359   \n",
              "2  8.099124  224.236259  19909.541732     9.275884         NaN    418.606213   \n",
              "3  8.316766  214.373394  22018.417441     8.059332  356.886136    363.266516   \n",
              "4  9.092223  181.101509  17978.986339     6.546600  310.135738    398.410813   \n",
              "\n",
              "   Organic_carbon  Trihalomethanes  Turbidity  Potability  \n",
              "0       10.379783        86.990970   2.963135           0  \n",
              "1       15.180013        56.329076   4.500656           0  \n",
              "2       16.868637        66.420093   3.055934           0  \n",
              "3       18.436524       100.341674   4.628771           0  \n",
              "4       11.558279        31.997993   4.075075           0  "
            ],
            "text/html": [
              "\n",
              "  <div id=\"df-14df94a9-dbb7-482f-a9fe-7587c843a01b\">\n",
              "    <div class=\"colab-df-container\">\n",
              "      <div>\n",
              "<style scoped>\n",
              "    .dataframe tbody tr th:only-of-type {\n",
              "        vertical-align: middle;\n",
              "    }\n",
              "\n",
              "    .dataframe tbody tr th {\n",
              "        vertical-align: top;\n",
              "    }\n",
              "\n",
              "    .dataframe thead th {\n",
              "        text-align: right;\n",
              "    }\n",
              "</style>\n",
              "<table border=\"1\" class=\"dataframe\">\n",
              "  <thead>\n",
              "    <tr style=\"text-align: right;\">\n",
              "      <th></th>\n",
              "      <th>ph</th>\n",
              "      <th>Hardness</th>\n",
              "      <th>Solids</th>\n",
              "      <th>Chloramines</th>\n",
              "      <th>Sulfate</th>\n",
              "      <th>Conductivity</th>\n",
              "      <th>Organic_carbon</th>\n",
              "      <th>Trihalomethanes</th>\n",
              "      <th>Turbidity</th>\n",
              "      <th>Potability</th>\n",
              "    </tr>\n",
              "  </thead>\n",
              "  <tbody>\n",
              "    <tr>\n",
              "      <th>0</th>\n",
              "      <td>NaN</td>\n",
              "      <td>204.890455</td>\n",
              "      <td>20791.318981</td>\n",
              "      <td>7.300212</td>\n",
              "      <td>368.516441</td>\n",
              "      <td>564.308654</td>\n",
              "      <td>10.379783</td>\n",
              "      <td>86.990970</td>\n",
              "      <td>2.963135</td>\n",
              "      <td>0</td>\n",
              "    </tr>\n",
              "    <tr>\n",
              "      <th>1</th>\n",
              "      <td>3.716080</td>\n",
              "      <td>129.422921</td>\n",
              "      <td>18630.057858</td>\n",
              "      <td>6.635246</td>\n",
              "      <td>NaN</td>\n",
              "      <td>592.885359</td>\n",
              "      <td>15.180013</td>\n",
              "      <td>56.329076</td>\n",
              "      <td>4.500656</td>\n",
              "      <td>0</td>\n",
              "    </tr>\n",
              "    <tr>\n",
              "      <th>2</th>\n",
              "      <td>8.099124</td>\n",
              "      <td>224.236259</td>\n",
              "      <td>19909.541732</td>\n",
              "      <td>9.275884</td>\n",
              "      <td>NaN</td>\n",
              "      <td>418.606213</td>\n",
              "      <td>16.868637</td>\n",
              "      <td>66.420093</td>\n",
              "      <td>3.055934</td>\n",
              "      <td>0</td>\n",
              "    </tr>\n",
              "    <tr>\n",
              "      <th>3</th>\n",
              "      <td>8.316766</td>\n",
              "      <td>214.373394</td>\n",
              "      <td>22018.417441</td>\n",
              "      <td>8.059332</td>\n",
              "      <td>356.886136</td>\n",
              "      <td>363.266516</td>\n",
              "      <td>18.436524</td>\n",
              "      <td>100.341674</td>\n",
              "      <td>4.628771</td>\n",
              "      <td>0</td>\n",
              "    </tr>\n",
              "    <tr>\n",
              "      <th>4</th>\n",
              "      <td>9.092223</td>\n",
              "      <td>181.101509</td>\n",
              "      <td>17978.986339</td>\n",
              "      <td>6.546600</td>\n",
              "      <td>310.135738</td>\n",
              "      <td>398.410813</td>\n",
              "      <td>11.558279</td>\n",
              "      <td>31.997993</td>\n",
              "      <td>4.075075</td>\n",
              "      <td>0</td>\n",
              "    </tr>\n",
              "  </tbody>\n",
              "</table>\n",
              "</div>\n",
              "      <button class=\"colab-df-convert\" onclick=\"convertToInteractive('df-14df94a9-dbb7-482f-a9fe-7587c843a01b')\"\n",
              "              title=\"Convert this dataframe to an interactive table.\"\n",
              "              style=\"display:none;\">\n",
              "        \n",
              "  <svg xmlns=\"http://www.w3.org/2000/svg\" height=\"24px\"viewBox=\"0 0 24 24\"\n",
              "       width=\"24px\">\n",
              "    <path d=\"M0 0h24v24H0V0z\" fill=\"none\"/>\n",
              "    <path d=\"M18.56 5.44l.94 2.06.94-2.06 2.06-.94-2.06-.94-.94-2.06-.94 2.06-2.06.94zm-11 1L8.5 8.5l.94-2.06 2.06-.94-2.06-.94L8.5 2.5l-.94 2.06-2.06.94zm10 10l.94 2.06.94-2.06 2.06-.94-2.06-.94-.94-2.06-.94 2.06-2.06.94z\"/><path d=\"M17.41 7.96l-1.37-1.37c-.4-.4-.92-.59-1.43-.59-.52 0-1.04.2-1.43.59L10.3 9.45l-7.72 7.72c-.78.78-.78 2.05 0 2.83L4 21.41c.39.39.9.59 1.41.59.51 0 1.02-.2 1.41-.59l7.78-7.78 2.81-2.81c.8-.78.8-2.07 0-2.86zM5.41 20L4 18.59l7.72-7.72 1.47 1.35L5.41 20z\"/>\n",
              "  </svg>\n",
              "      </button>\n",
              "      \n",
              "  <style>\n",
              "    .colab-df-container {\n",
              "      display:flex;\n",
              "      flex-wrap:wrap;\n",
              "      gap: 12px;\n",
              "    }\n",
              "\n",
              "    .colab-df-convert {\n",
              "      background-color: #E8F0FE;\n",
              "      border: none;\n",
              "      border-radius: 50%;\n",
              "      cursor: pointer;\n",
              "      display: none;\n",
              "      fill: #1967D2;\n",
              "      height: 32px;\n",
              "      padding: 0 0 0 0;\n",
              "      width: 32px;\n",
              "    }\n",
              "\n",
              "    .colab-df-convert:hover {\n",
              "      background-color: #E2EBFA;\n",
              "      box-shadow: 0px 1px 2px rgba(60, 64, 67, 0.3), 0px 1px 3px 1px rgba(60, 64, 67, 0.15);\n",
              "      fill: #174EA6;\n",
              "    }\n",
              "\n",
              "    [theme=dark] .colab-df-convert {\n",
              "      background-color: #3B4455;\n",
              "      fill: #D2E3FC;\n",
              "    }\n",
              "\n",
              "    [theme=dark] .colab-df-convert:hover {\n",
              "      background-color: #434B5C;\n",
              "      box-shadow: 0px 1px 3px 1px rgba(0, 0, 0, 0.15);\n",
              "      filter: drop-shadow(0px 1px 2px rgba(0, 0, 0, 0.3));\n",
              "      fill: #FFFFFF;\n",
              "    }\n",
              "  </style>\n",
              "\n",
              "      <script>\n",
              "        const buttonEl =\n",
              "          document.querySelector('#df-14df94a9-dbb7-482f-a9fe-7587c843a01b button.colab-df-convert');\n",
              "        buttonEl.style.display =\n",
              "          google.colab.kernel.accessAllowed ? 'block' : 'none';\n",
              "\n",
              "        async function convertToInteractive(key) {\n",
              "          const element = document.querySelector('#df-14df94a9-dbb7-482f-a9fe-7587c843a01b');\n",
              "          const dataTable =\n",
              "            await google.colab.kernel.invokeFunction('convertToInteractive',\n",
              "                                                     [key], {});\n",
              "          if (!dataTable) return;\n",
              "\n",
              "          const docLinkHtml = 'Like what you see? Visit the ' +\n",
              "            '<a target=\"_blank\" href=https://colab.research.google.com/notebooks/data_table.ipynb>data table notebook</a>'\n",
              "            + ' to learn more about interactive tables.';\n",
              "          element.innerHTML = '';\n",
              "          dataTable['output_type'] = 'display_data';\n",
              "          await google.colab.output.renderOutput(dataTable, element);\n",
              "          const docLink = document.createElement('div');\n",
              "          docLink.innerHTML = docLinkHtml;\n",
              "          element.appendChild(docLink);\n",
              "        }\n",
              "      </script>\n",
              "    </div>\n",
              "  </div>\n",
              "  "
            ]
          },
          "metadata": {},
          "execution_count": 84
        }
      ]
    },
    {
      "cell_type": "code",
      "source": [
        "display(water_data.isnull().mean() * 100)\n"
      ],
      "metadata": {
        "colab": {
          "base_uri": "https://localhost:8080/",
          "height": 208
        },
        "id": "jCiMjt_EmAJA",
        "outputId": "984baf76-9b0e-4b7d-f9e9-2ce707e9be4a"
      },
      "execution_count": 85,
      "outputs": [
        {
          "output_type": "display_data",
          "data": {
            "text/plain": [
              "ph                 14.987790\n",
              "Hardness            0.000000\n",
              "Solids              0.000000\n",
              "Chloramines         0.000000\n",
              "Sulfate            23.840049\n",
              "Conductivity        0.000000\n",
              "Organic_carbon      0.000000\n",
              "Trihalomethanes     4.945055\n",
              "Turbidity           0.000000\n",
              "Potability          0.000000\n",
              "dtype: float64"
            ]
          },
          "metadata": {}
        }
      ]
    },
    {
      "cell_type": "code",
      "source": [
        "#Заполняем пропуски\n",
        "water_data['ph'] = water_data['ph'].fillna(water_data.groupby('Potability')['ph'].transform('median'))\n",
        "water_data['Sulfate'] = water_data['Sulfate'].fillna(water_data.groupby('Potability')['Sulfate'].transform('median'))\n",
        "water_data['Trihalomethanes'] = water_data['Trihalomethanes'].fillna(water_data.groupby('Potability')['Trihalomethanes'].transform('median'))"
      ],
      "metadata": {
        "id": "fzJ1Bq3WmK5O"
      },
      "execution_count": 86,
      "outputs": []
    },
    {
      "cell_type": "code",
      "source": [
        "X = water_data.drop('Potability', axis=1)\n",
        "y = water_data['Potability']"
      ],
      "metadata": {
        "id": "SxOtzkOQms4A"
      },
      "execution_count": 87,
      "outputs": []
    },
    {
      "cell_type": "code",
      "source": [
        "X_train, X_valid, y_train, y_valid = model_selection.train_test_split(X, y, test_size=0.2, random_state=42)"
      ],
      "metadata": {
        "id": "Ddk4Se26nBOq"
      },
      "execution_count": 88,
      "outputs": []
    },
    {
      "cell_type": "code",
      "source": [
        "print('Train shape: {}'.format(X_train.shape))\n",
        "print('Valid shape: {}'.format(X_valid.shape))"
      ],
      "metadata": {
        "colab": {
          "base_uri": "https://localhost:8080/"
        },
        "id": "spLoI8MltHzr",
        "outputId": "24b83ce1-028b-4443-c2f9-d453e925d782"
      },
      "execution_count": 7,
      "outputs": [
        {
          "output_type": "stream",
          "name": "stdout",
          "text": [
            "Train shape: (2620, 9)\n",
            "Valid shape: (656, 9)\n"
          ]
        }
      ]
    },
    {
      "cell_type": "code",
      "source": [
        "#Создаём модель\n",
        "model = tree.DecisionTreeClassifier(\n",
        "    criterion='entropy', #критерий информативности\n",
        "    max_depth=7, #максимальная глубина\n",
        "    min_samples_leaf=5, #минимальное число объектов в листе\n",
        "    random_state=42 #генератор случайных чисел  \n",
        ")\n",
        "#Обучаем модель на тренировочной выборке\n",
        "model.fit(X_train, y_train)\n",
        "#Делаем предсказание для каждой из выборок\n",
        "y_train_pred = model.predict(X_train)\n",
        "y_valid_pred = model.predict(X_valid)\n",
        "#Выводим значения метрик\n",
        "print('Train hold-out accuracy: {:.2f}'.format(metrics.accuracy_score(y_train, y_train_pred)))\n",
        "print('Valid hold-out accuracy: {:.2f}'.format(metrics.accuracy_score(y_valid, y_valid_pred))) \n",
        " \n",
        "# Train hold-out accuracy: 0.82\n",
        "# Valid hold-out accuracy: 0.77"
      ],
      "metadata": {
        "colab": {
          "base_uri": "https://localhost:8080/"
        },
        "id": "sy3d-rORtLJq",
        "outputId": "6ebfb4e8-12d6-4454-ef66-64acfa4b7460"
      },
      "execution_count": 8,
      "outputs": [
        {
          "output_type": "stream",
          "name": "stdout",
          "text": [
            "Train hold-out accuracy: 0.82\n",
            "Valid hold-out accuracy: 0.77\n"
          ]
        }
      ]
    },
    {
      "cell_type": "code",
      "source": [
        "#разбиваем исходную выборку на тренировочную и валидационную в соотношении 80/20\n",
        "X_train, X_valid, y_train, y_valid = model_selection.train_test_split(X, y, test_size=0.2, random_state=42)\n",
        "#разбиваем валидационную выборку на валидационную и тестовую в соотношении 50/50\n",
        "X_valid, X_test, y_valid, y_test = model_selection.train_test_split(X_valid, y_valid, test_size=0.5, random_state=42)"
      ],
      "metadata": {
        "id": "ZDOaH0TStSo_"
      },
      "execution_count": 58,
      "outputs": []
    },
    {
      "cell_type": "code",
      "source": [
        "print('Train shape: {}'.format(X_train.shape))\n",
        "print('Valid shape: {}'.format(X_valid.shape))\n",
        "print('Test shape: {}'.format(X_test.shape))"
      ],
      "metadata": {
        "colab": {
          "base_uri": "https://localhost:8080/"
        },
        "id": "lSLRZ5nOteZ_",
        "outputId": "2fb19972-60a3-4672-c07b-545d09c48af4"
      },
      "execution_count": 10,
      "outputs": [
        {
          "output_type": "stream",
          "name": "stdout",
          "text": [
            "Train shape: (2620, 9)\n",
            "Valid shape: (328, 9)\n",
            "Test shape: (328, 9)\n"
          ]
        }
      ]
    },
    {
      "cell_type": "code",
      "source": [
        "#Создаём модель\n",
        "model = tree.DecisionTreeClassifier(\n",
        "    criterion='entropy', #критерий информативности\n",
        "    max_depth=7, #максимальная глубина\n",
        "    min_samples_leaf=5, #минимальное число объектов в листе\n",
        "    random_state=42 #генератор случайных чисел  \n",
        ")\n",
        " \n",
        "#Создаём объект кросс-валидатора KFold\n",
        "kf = model_selection.KFold(n_splits=5)\n",
        "#Создаём список для хранения тренировочных и валидационных метрик\n",
        "train_metrics = []\n",
        "val_metrics = []\n",
        "#Организуем цикл для кросс-валидации (используем весь набор данных)\n",
        "#train_index — индексы тренировочной выборки\n",
        "#valid_index — индексы валидационной выборки\n",
        "for train_index, valid_index in kf.split(X, y): \n",
        "    #Создаём тренировочную и валидационную выборку, обращаясь по текущим индексам\n",
        "    X_train, y_train = X.iloc[train_index], y.iloc[train_index]\n",
        "    X_valid, y_valid = X.iloc[valid_index], y.iloc[valid_index]\n",
        "    #Обучаем случайный лес на тренировочной выборке\n",
        "    model.fit(X_train, y_train)\n",
        "    #Делаем предсказание для каждой из выборок\n",
        "    y_train_pred = model.predict(X_train)\n",
        "    y_valid_pred = model.predict(X_valid)\n",
        "    #Рассчитываем метрику и заносим её в список\n",
        "    train_metrics.append(metrics.accuracy_score(y_train, y_train_pred))\n",
        "    val_metrics.append(metrics.accuracy_score(y_valid, y_valid_pred))"
      ],
      "metadata": {
        "id": "cyHaRuaTtga9"
      },
      "execution_count": 11,
      "outputs": []
    },
    {
      "cell_type": "code",
      "source": [
        "print(train_metrics)\n",
        "print(val_metrics)"
      ],
      "metadata": {
        "colab": {
          "base_uri": "https://localhost:8080/"
        },
        "id": "Acc6HtWzuI-6",
        "outputId": "c5134def-529c-45b8-a184-55d35bfb0400"
      },
      "execution_count": 12,
      "outputs": [
        {
          "output_type": "stream",
          "name": "stdout",
          "text": [
            "[0.8034351145038168, 0.8168637924456315, 0.8027470431133156, 0.8267836703548264, 0.8157191911484166]\n",
            "[0.7957317073170732, 0.7053435114503817, 0.7358778625954199, 0.7282442748091603, 0.732824427480916]\n"
          ]
        }
      ]
    },
    {
      "cell_type": "code",
      "source": [
        "print('Train k-fold mean accuracy: {:.2f}'.format(np.mean(train_metrics)))\n",
        "print('Valid k-fold mean accuracy: {:.2f}'.format(np.mean(val_metrics)))"
      ],
      "metadata": {
        "colab": {
          "base_uri": "https://localhost:8080/"
        },
        "id": "fL1fQtpKuTDs",
        "outputId": "179e0248-72cc-4dc0-ca87-415b5bbc0de4"
      },
      "execution_count": 13,
      "outputs": [
        {
          "output_type": "stream",
          "name": "stdout",
          "text": [
            "Train k-fold mean accuracy: 0.81\n",
            "Valid k-fold mean accuracy: 0.74\n"
          ]
        }
      ]
    },
    {
      "cell_type": "code",
      "source": [
        "#Создаём модель\n",
        "model = tree.DecisionTreeClassifier(\n",
        "    criterion='entropy', #критерий информативности\n",
        "    max_depth=7, #максимальная глубина\n",
        "    min_samples_leaf=5, #минимальное число объектов в листе\n",
        "    random_state=42 #генератор случайных чисел  \n",
        ")\n",
        " \n",
        "#Создаём объект кросс-валидатора KFold\n",
        "kf = model_selection.KFold(n_splits=5)\n",
        " \n",
        "#Считаем метрики на кросс-валидации k-fold\n",
        "cv_metrics = model_selection.cross_validate(\n",
        "    estimator=model, #модель\n",
        "    X=X, #матрица наблюдений X\n",
        "    y=y, #вектор ответов y\n",
        "    cv=kf, #кросс-валидатор\n",
        "    scoring='accuracy', #метрика\n",
        "    return_train_score=True #подсчёт метрики на тренировочных фолдах\n",
        ")\n",
        "display(cv_metrics)"
      ],
      "metadata": {
        "colab": {
          "base_uri": "https://localhost:8080/",
          "height": 86
        },
        "id": "Ixwx1cj8uWVy",
        "outputId": "e133004e-b592-4d0d-d90e-1cbd787460a8"
      },
      "execution_count": 14,
      "outputs": [
        {
          "output_type": "display_data",
          "data": {
            "text/plain": [
              "{'fit_time': array([0.04386926, 0.04219151, 0.03406143, 0.02904963, 0.03638697]),\n",
              " 'score_time': array([0.00382996, 0.00372648, 0.0029583 , 0.00329185, 0.00652385]),\n",
              " 'test_score': array([0.79573171, 0.70534351, 0.73587786, 0.72824427, 0.73282443]),\n",
              " 'train_score': array([0.80343511, 0.81686379, 0.80274704, 0.82678367, 0.81571919])}"
            ]
          },
          "metadata": {}
        }
      ]
    },
    {
      "cell_type": "code",
      "source": [
        "print('Train k-fold mean accuracy: {:.2f}'.format(np.mean(cv_metrics['train_score'])))\n",
        "print('Valid k-fold mean accuracy: {:.2f}'.format(np.mean(cv_metrics['test_score'])))"
      ],
      "metadata": {
        "colab": {
          "base_uri": "https://localhost:8080/"
        },
        "id": "w-1ymGPiulxO",
        "outputId": "28389fd1-d54a-4fc7-a8b6-9b613dc4ea7c"
      },
      "execution_count": 15,
      "outputs": [
        {
          "output_type": "stream",
          "name": "stdout",
          "text": [
            "Train k-fold mean accuracy: 0.81\n",
            "Valid k-fold mean accuracy: 0.74\n"
          ]
        }
      ]
    },
    {
      "cell_type": "code",
      "source": [
        "#Создаём модель\n",
        "model = tree.DecisionTreeClassifier(\n",
        "    criterion='entropy', #критерий информативности\n",
        "    max_depth=7, #максимальная глубина\n",
        "    min_samples_leaf=5, #минимальное число объектов в листе\n",
        "    random_state=42 #генератор случайных чисел  \n",
        ")\n",
        " \n",
        "#Создаём кросс-валидатор LeaveOneOut\n",
        "loo = model_selection.LeaveOneOut()\n",
        " \n",
        "#Считаем метрики на кросс-валидации leave-one-out\n",
        "cv_metrics = model_selection.cross_validate(\n",
        "    estimator=model, #модель\n",
        "    X=X.iloc[:500], #матрица наблюдений X\n",
        "    y=y.iloc[:500], #вектор ответов y\n",
        "    cv=loo, #кросс-валидатор\n",
        "    scoring='accuracy', #метрика\n",
        "    return_train_score=True #подсчёт метрики на тренировочных фолдах\n",
        ")\n",
        " \n",
        "print('Train k-fold mean accuracy: {:.2f}'.format(np.mean(cv_metrics['train_score'])))\n",
        "print('Valid k-fold mean accuracy: {:.2f}'.format(np.mean(cv_metrics['test_score'])))"
      ],
      "metadata": {
        "colab": {
          "base_uri": "https://localhost:8080/"
        },
        "id": "ESkDOEI1urYD",
        "outputId": "da734dc0-01b7-4e2c-db33-01beaf8142eb"
      },
      "execution_count": 16,
      "outputs": [
        {
          "output_type": "stream",
          "name": "stdout",
          "text": [
            "Train k-fold mean accuracy: 0.95\n",
            "Valid k-fold mean accuracy: 0.90\n"
          ]
        }
      ]
    },
    {
      "cell_type": "code",
      "source": [
        "display(water_data['Potability'].value_counts(normalize=True))\n",
        "sns.countplot(data=water_data, x='Potability');"
      ],
      "metadata": {
        "colab": {
          "base_uri": "https://localhost:8080/",
          "height": 331
        },
        "id": "HAHoH3TavUbV",
        "outputId": "12bddc47-a4b3-47ac-8151-46971a6e4ab0"
      },
      "execution_count": 17,
      "outputs": [
        {
          "output_type": "display_data",
          "data": {
            "text/plain": [
              "0    0.60989\n",
              "1    0.39011\n",
              "Name: Potability, dtype: float64"
            ]
          },
          "metadata": {}
        },
        {
          "output_type": "display_data",
          "data": {
            "text/plain": [
              "<Figure size 432x288 with 1 Axes>"
            ],
            "image/png": "[encoded data removed]"
          },
          "metadata": {
            "needs_background": "light"
          }
        }
      ]
    },
    {
      "cell_type": "code",
      "source": [
        "X, y = water_data.drop('Potability', axis=1), water_data['Potability']\n",
        "X_train, X_valid, y_train, y_valid = model_selection.train_test_split(X, y, test_size=0.2, random_state=1)\n",
        "print('Train:\\n', y_train.value_counts(normalize=True), sep='')\n",
        "print('Valid:\\n', y_valid.value_counts(normalize=True), sep='')"
      ],
      "metadata": {
        "colab": {
          "base_uri": "https://localhost:8080/"
        },
        "id": "FHsIZfb9v2ms",
        "outputId": "cb65aec7-5c23-42c4-f407-a6ef5c2b5d62"
      },
      "execution_count": 18,
      "outputs": [
        {
          "output_type": "stream",
          "name": "stdout",
          "text": [
            "Train:\n",
            "0    0.620229\n",
            "1    0.379771\n",
            "Name: Potability, dtype: float64\n",
            "Valid:\n",
            "0    0.568598\n",
            "1    0.431402\n",
            "Name: Potability, dtype: float64\n"
          ]
        }
      ]
    },
    {
      "cell_type": "code",
      "source": [
        "X_train, X_valid, y_train, y_valid = model_selection.train_test_split(X, y, stratify=y, test_size=0.2, random_state=1)\n",
        "print('Train:\\n', y_train.value_counts(normalize=True), sep='')\n",
        "print('Valid:\\n', y_valid.value_counts(normalize=True), sep='')"
      ],
      "metadata": {
        "colab": {
          "base_uri": "https://localhost:8080/"
        },
        "id": "6zYmQ3HiwBYt",
        "outputId": "b1477546-ec65-4f85-d06a-113cd03096c7"
      },
      "execution_count": 19,
      "outputs": [
        {
          "output_type": "stream",
          "name": "stdout",
          "text": [
            "Train:\n",
            "0    0.609924\n",
            "1    0.390076\n",
            "Name: Potability, dtype: float64\n",
            "Valid:\n",
            "0    0.609756\n",
            "1    0.390244\n",
            "Name: Potability, dtype: float64\n"
          ]
        }
      ]
    },
    {
      "cell_type": "code",
      "source": [
        "skf = model_selection.StratifiedKFold(n_splits=3, shuffle=True, random_state=42)\n",
        "for train_index, valid_index in skf.split(X, y): \n",
        "    X_train, y_train = X.iloc[train_index], y.iloc[train_index]\n",
        "    X_valid, y_valid = X.iloc[valid_index], y.iloc[valid_index]\n",
        "    print('Train:\\n', y_train.value_counts(normalize=True), sep='')\n",
        "    print('Valid:\\n', y_valid.value_counts(normalize=True), sep='')\n",
        "    print('-'*40)"
      ],
      "metadata": {
        "colab": {
          "base_uri": "https://localhost:8080/"
        },
        "id": "5RZaONaZwIfD",
        "outputId": "29194a27-0858-40ac-fe6f-7919306cefd3"
      },
      "execution_count": 20,
      "outputs": [
        {
          "output_type": "stream",
          "name": "stdout",
          "text": [
            "Train:\n",
            "0    0.60989\n",
            "1    0.39011\n",
            "Name: Potability, dtype: float64\n",
            "Valid:\n",
            "0    0.60989\n",
            "1    0.39011\n",
            "Name: Potability, dtype: float64\n",
            "----------------------------------------\n",
            "Train:\n",
            "0    0.60989\n",
            "1    0.39011\n",
            "Name: Potability, dtype: float64\n",
            "Valid:\n",
            "0    0.60989\n",
            "1    0.39011\n",
            "Name: Potability, dtype: float64\n",
            "----------------------------------------\n",
            "Train:\n",
            "0    0.60989\n",
            "1    0.39011\n",
            "Name: Potability, dtype: float64\n",
            "Valid:\n",
            "0    0.60989\n",
            "1    0.39011\n",
            "Name: Potability, dtype: float64\n",
            "----------------------------------------\n"
          ]
        }
      ]
    },
    {
      "cell_type": "code",
      "source": [
        "from sklearn import datasets\n",
        "X, y = datasets.make_classification(\n",
        "    n_samples=200, #количество объектов\n",
        "    n_features=2, #количество признаков\n",
        "    n_informative=2, #количество информативных признаков\n",
        "    n_redundant=0, #количество неинформативных признаков\n",
        "    n_classes=2, #количество классов\n",
        "    weights=[1, 0.2], #пропорции классов\n",
        "    random_state=40 #генератор случайных чисел\n",
        ")\n",
        "X = pd.DataFrame(X, columns=['feature_1', 'feature_2'])\n",
        "y = pd.Series(y)\n",
        "sns.scatterplot(x=X['feature_1'], y=X['feature_2'], hue=y);"
      ],
      "metadata": {
        "colab": {
          "base_uri": "https://localhost:8080/",
          "height": 279
        },
        "id": "M8v8-9-Lxeqe",
        "outputId": "e637b387-6a06-426e-8a4c-09f7773efdad"
      },
      "execution_count": 21,
      "outputs": [
        {
          "output_type": "display_data",
          "data": {
            "text/plain": [
              "<Figure size 432x288 with 1 Axes>"
            ],
            "image/png": "[encoded data removed]"
          },
          "metadata": {
            "needs_background": "light"
          }
        }
      ]
    },
    {
      "cell_type": "code",
      "source": [
        "X_train, X_valid, y_train, y_valid = model_selection.train_test_split(X, y, stratify=y, test_size=0.2, random_state=42)\n",
        "sns.scatterplot(x=X_valid['feature_1'], y=X_valid['feature_2'], hue=y_valid);"
      ],
      "metadata": {
        "colab": {
          "base_uri": "https://localhost:8080/",
          "height": 279
        },
        "id": "JaKz3dW3x2ym",
        "outputId": "6d69d5e9-286e-4376-f693-a6a3d2b5de5c"
      },
      "execution_count": 22,
      "outputs": [
        {
          "output_type": "display_data",
          "data": {
            "text/plain": [
              "<Figure size 432x288 with 1 Axes>"
            ],
            "image/png": "[encoded data removed]"
          },
          "metadata": {
            "needs_background": "light"
          }
        }
      ]
    },
    {
      "cell_type": "code",
      "source": [
        "X_train, X_valid, y_train, y_valid = model_selection.train_test_split(X, y, stratify=y, test_size=0.2, random_state=42)\n",
        "#Создаём модель\n",
        "model = tree.DecisionTreeClassifier(\n",
        "    criterion='entropy', #критерий информативности\n",
        "    max_depth=7, #максимальная глубина\n",
        "    min_samples_leaf=5, #минимальное число объектов в листе\n",
        "    random_state=42, #генератор случайных чисел\n",
        ")\n",
        "#Обучаем модель на тренировочной выборке\n",
        "model.fit(X_train, y_train)\n",
        "#Делаем предсказание для каждой из выборок\n",
        "y_train_pred = model.predict(X_train)\n",
        "y_valid_pred = model.predict(X_valid)\n",
        "#Выводим значения метрик\n",
        "print(metrics.classification_report(y_valid, y_valid_pred)) "
      ],
      "metadata": {
        "colab": {
          "base_uri": "https://localhost:8080/"
        },
        "id": "DeCQ8Tq4yoKL",
        "outputId": "6be46d8c-331f-4f3f-9b5e-6b73561d0cb6"
      },
      "execution_count": 23,
      "outputs": [
        {
          "output_type": "stream",
          "name": "stdout",
          "text": [
            "              precision    recall  f1-score   support\n",
            "\n",
            "           0       0.94      0.94      0.94        36\n",
            "           1       0.50      0.50      0.50         4\n",
            "\n",
            "    accuracy                           0.90        40\n",
            "   macro avg       0.72      0.72      0.72        40\n",
            "weighted avg       0.90      0.90      0.90        40\n",
            "\n"
          ]
        }
      ]
    },
    {
      "cell_type": "code",
      "source": [
        "model = linear_model.LogisticRegression()\n",
        "#Обучаем модель на тренировочной выборке\n",
        "model.fit(X_train, y_train)\n",
        "#Делаем предсказание для каждой из выборок\n",
        "y_train_pred = model.predict(X_train)\n",
        "y_valid_pred = model.predict(X_valid)\n",
        "#Выводим значения метрик\n",
        "print(metrics.classification_report(y_valid, y_valid_pred)) "
      ],
      "metadata": {
        "colab": {
          "base_uri": "https://localhost:8080/"
        },
        "id": "P2li-NDNy07c",
        "outputId": "3886c899-327b-4d29-b24f-96f96aa28fc6"
      },
      "execution_count": 24,
      "outputs": [
        {
          "output_type": "stream",
          "name": "stdout",
          "text": [
            "              precision    recall  f1-score   support\n",
            "\n",
            "           0       0.92      0.97      0.95        36\n",
            "           1       0.50      0.25      0.33         4\n",
            "\n",
            "    accuracy                           0.90        40\n",
            "   macro avg       0.71      0.61      0.64        40\n",
            "weighted avg       0.88      0.90      0.88        40\n",
            "\n"
          ]
        }
      ]
    },
    {
      "cell_type": "code",
      "source": [
        "#Создаём модель\n",
        "model = tree.DecisionTreeClassifier(\n",
        "    criterion='entropy', #критерий информативности\n",
        "    max_depth=7, #максимальная глубина\n",
        "    min_samples_leaf=5, #минимальное число объектов в листе\n",
        "    random_state=42, #генератор случайных чисел\n",
        "    class_weight='balanced' #веса классов\n",
        ")\n",
        "#Обучаем модель на тренировочной выборке\n",
        "model.fit(X_train, y_train)\n",
        "#Делаем предсказание для каждой из выборок\n",
        "y_train_pred = model.predict(X_train)\n",
        "y_valid_pred = model.predict(X_valid)\n",
        "#Выводим значения метрик    \n",
        "print(metrics.classification_report(y_valid, y_valid_pred))"
      ],
      "metadata": {
        "colab": {
          "base_uri": "https://localhost:8080/"
        },
        "id": "hhZHt0HGVbSF",
        "outputId": "58455fe5-a31f-48bb-88c6-266f5d1fa856"
      },
      "execution_count": 26,
      "outputs": [
        {
          "output_type": "stream",
          "name": "stdout",
          "text": [
            "              precision    recall  f1-score   support\n",
            "\n",
            "           0       0.97      0.89      0.93        36\n",
            "           1       0.43      0.75      0.55         4\n",
            "\n",
            "    accuracy                           0.88        40\n",
            "   macro avg       0.70      0.82      0.74        40\n",
            "weighted avg       0.92      0.88      0.89        40\n",
            "\n"
          ]
        }
      ]
    },
    {
      "cell_type": "code",
      "source": [
        "model = linear_model.LogisticRegression(class_weight='balanced')\n",
        "#Обучаем модель на тренировочной выборке\n",
        "model.fit(X_train, y_train)\n",
        "#Делаем предсказание для каждой из выборок\n",
        "y_train_pred = model.predict(X_train)\n",
        "y_valid_pred = model.predict(X_valid)\n",
        "#Выводим значения метрик\n",
        "print(metrics.classification_report(y_valid, y_valid_pred)) "
      ],
      "metadata": {
        "colab": {
          "base_uri": "https://localhost:8080/"
        },
        "id": "UPGXpyt6ZK_g",
        "outputId": "ed3649b9-a216-4ae5-8f31-a84a6cc22afd"
      },
      "execution_count": 27,
      "outputs": [
        {
          "output_type": "stream",
          "name": "stdout",
          "text": [
            "              precision    recall  f1-score   support\n",
            "\n",
            "           0       0.97      0.83      0.90        36\n",
            "           1       0.33      0.75      0.46         4\n",
            "\n",
            "    accuracy                           0.82        40\n",
            "   macro avg       0.65      0.79      0.68        40\n",
            "weighted avg       0.90      0.82      0.85        40\n",
            "\n"
          ]
        }
      ]
    },
    {
      "cell_type": "code",
      "source": [
        "#Создаём модель\n",
        "model = tree.DecisionTreeClassifier(\n",
        "    criterion='entropy', #критерий информативности\n",
        "    max_depth=7, #максимальная глубина\n",
        "    min_samples_leaf=5, #минимальное число объектов в листе\n",
        "    random_state=42 #генератор случайных чисел \n",
        ")\n",
        "#Обучаем модель\n",
        "model.fit(X_train, y_train)\n",
        "#Создаём кросс-валидатор k-fold со стратификацией\n",
        "skf = model_selection.StratifiedKFold(n_splits=5)\n",
        "#Делаем предсказание вероятностей на кросс-валидации\n",
        "y_cv_proba_pred = model_selection.cross_val_predict(model, X_train, y_train, cv=skf, method='predict_proba')"
      ],
      "metadata": {
        "id": "Cqj_5_1IZaak"
      },
      "execution_count": 43,
      "outputs": []
    },
    {
      "cell_type": "code",
      "source": [
        "y_cv_proba_pred = y_cv_proba_pred[:, 1]"
      ],
      "metadata": {
        "id": "MhtBxHzxaBkk"
      },
      "execution_count": 44,
      "outputs": []
    },
    {
      "cell_type": "code",
      "source": [
        "y_cv_proba_pred = y_cv_proba_pred[:, 1]\n",
        "precision, recall, thresholds = metrics.precision_recall_curve(y_train, y_cv_proba_pred)\n",
        "\n",
        "print('Thresholds:', thresholds[:5])\n",
        "print('Precision scores:', precision[:5])\n",
        "print('Recall scores:',recall[:5])"
      ],
      "metadata": {
        "colab": {
          "base_uri": "https://localhost:8080/"
        },
        "id": "71K9tdH_aItT",
        "outputId": "650982f5-6d2c-41e1-9006-95e051b47e5b"
      },
      "execution_count": 45,
      "outputs": [
        {
          "output_type": "stream",
          "name": "stdout",
          "text": [
            "Thresholds: [0.         0.07142857 0.08333333 0.08695652 0.09859155]\n",
            "Precision scores: [0.39465649 0.5101626  0.51068159 0.51095262 0.51096379]\n",
            "Recall scores: [1.         0.97098646 0.97098646 0.97001934 0.96905222]\n"
          ]
        }
      ]
    },
    {
      "cell_type": "code",
      "source": [
        "y_cv_proba_pred = y_cv_proba_pred[:, 1]\n",
        "precision, recall, thresholds = metrics.precision_recall_curve(y_train, y_cv_proba_pred)\n",
        "#Вычисляем F1-score при различных threshold\n",
        "f1_scores = (2 * precision * recall) / (precision + recall)\n",
        "#Определяем индекс максимума\n",
        "idx = np.argmax(f1_scores)\n",
        "print('Best threshold = {:.2f}, F1-Score = {:.2f}'.format(thresholds[idx], f1_scores[idx]))\n",
        " \n",
        "#Строим PR-кривую\n",
        "fig, ax = plt.subplots(figsize=(10, 5)) #фигура + координатная плоскость\n",
        "#Строим линейный график зависимости precision от recall\n",
        "ax.plot(precision, recall, label='Decision Tree PR')\n",
        "#Отмечаем точку максимума F1\n",
        "ax.scatter(precision[idx], recall[idx], marker='o', color='black', label='Best F1 score')\n",
        "#Даём графику название и подписываем оси\n",
        "ax.set_title('Precision-recall curve')\n",
        "ax.set_xlabel('Recall')\n",
        "ax.set_ylabel('Precision')\n",
        "#Отображаем легенду\n",
        "ax.legend();"
      ],
      "metadata": {
        "colab": {
          "base_uri": "https://localhost:8080/",
          "height": 366
        },
        "id": "64ZxGRYIaK7w",
        "outputId": "5e3fc206-f598-4e5e-8180-ebdb9489ed26"
      },
      "execution_count": 46,
      "outputs": [
        {
          "output_type": "stream",
          "name": "stdout",
          "text": [
            "Best threshold = 0.34, F1-Score = 0.70\n"
          ]
        },
        {
          "output_type": "display_data",
          "data": {
            "text/plain": [
              "<Figure size 720x360 with 1 Axes>"
            ],
            "image/png": "[encoded data removed]"
          },
          "metadata": {
            "needs_background": "light"
          }
        }
      ]
    },
    {
      "cell_type": "code",
      "source": [
        "threshold_opt = 0.33\n",
        "y_valid_pred_proba = model.predict_proba(X_valid)[:, 1]\n",
        "y_valid_pred = (y_valid_pred_proba > threshold_opt).astype('int')\n",
        "#Считаем метрики\n",
        "print(metrics.classification_report(y_valid, y_valid_pred))"
      ],
      "metadata": {
        "colab": {
          "base_uri": "https://localhost:8080/"
        },
        "id": "D1jXvw5AaTbH",
        "outputId": "8685263f-fe53-4d5d-9b7f-484b424fb98c"
      },
      "execution_count": 47,
      "outputs": [
        {
          "output_type": "stream",
          "name": "stdout",
          "text": [
            "              precision    recall  f1-score   support\n",
            "\n",
            "           0       0.88      0.65      0.74       412\n",
            "           1       0.59      0.84      0.69       244\n",
            "\n",
            "    accuracy                           0.72       656\n",
            "   macro avg       0.73      0.74      0.72       656\n",
            "weighted avg       0.77      0.72      0.72       656\n",
            "\n"
          ]
        }
      ]
    },
    {
      "cell_type": "code",
      "source": [
        "print('PR AUC: {:.2f}'.format(metrics.auc(recall, precision)))"
      ],
      "metadata": {
        "colab": {
          "base_uri": "https://localhost:8080/"
        },
        "id": "KUCKQNkJaebR",
        "outputId": "f0892582-4ff7-4682-b3cf-49fb1a5bc50b"
      },
      "execution_count": 34,
      "outputs": [
        {
          "output_type": "stream",
          "name": "stdout",
          "text": [
            "PR AUC: 0.66\n"
          ]
        }
      ]
    },
    {
      "cell_type": "code",
      "source": [
        "from imblearn.over_sampling import SMOTE"
      ],
      "metadata": {
        "id": "hE9ggSRUatGV"
      },
      "execution_count": 35,
      "outputs": []
    },
    {
      "cell_type": "code",
      "source": [
        "sm = SMOTE(random_state=2)\n",
        "X_train_s, y_train_s = sm.fit_resample(X_train, y_train)\n",
        "\n",
        "print('Train shape before oversampling:', X_train.shape) \n",
        "print('Class balance before oversampling: \\n', y_train.value_counts(), sep='')\n",
        "print('-'*40)\n",
        "print('Train shape after oversampling:', X_train_s.shape)\n",
        "print('Class balance after oversampling: \\n', y_train_s.value_counts(), sep='')"
      ],
      "metadata": {
        "colab": {
          "base_uri": "https://localhost:8080/"
        },
        "id": "afXQ0rGYbDmp",
        "outputId": "404922ac-04e5-4ff5-e8a5-be7b62875144"
      },
      "execution_count": 59,
      "outputs": [
        {
          "output_type": "stream",
          "name": "stdout",
          "text": [
            "Train shape before oversampling: (2620, 9)\n",
            "Class balance before oversampling: \n",
            "0    1586\n",
            "1    1034\n",
            "Name: Potability, dtype: int64\n",
            "----------------------------------------\n",
            "Train shape after oversampling: (3172, 9)\n",
            "Class balance after oversampling: \n",
            "0    1586\n",
            "1    1586\n",
            "Name: Potability, dtype: int64\n"
          ]
        }
      ]
    },
    {
      "cell_type": "code",
      "source": [
        "#Создаём модель\n",
        "model = tree.DecisionTreeClassifier(\n",
        "    criterion='entropy', #критерий информативности\n",
        "    max_depth=7, #максимальная глубина\n",
        "    min_samples_leaf=5, #минимальное число объектов в листе\n",
        "    random_state=42, #генератор случайных чисел\n",
        ")\n",
        "#Обучаем модель на тренировочной выборке (с сэмплированием)\n",
        "model.fit(X_train_s, y_train_s)\n",
        "#Делаем предсказание для каждой из выборок\n",
        "y_train_pred = model.predict(X_train)\n",
        "y_valid_pred = model.predict(X_valid)\n",
        "#Выводим значения метрик    \n",
        "print(metrics.classification_report(y_valid, y_valid_pred))"
      ],
      "metadata": {
        "colab": {
          "base_uri": "https://localhost:8080/"
        },
        "id": "-TLwSQVtbGtR",
        "outputId": "bf030274-d25e-4400-ac1a-0025b94276d3"
      },
      "execution_count": 60,
      "outputs": [
        {
          "output_type": "stream",
          "name": "stdout",
          "text": [
            "              precision    recall  f1-score   support\n",
            "\n",
            "           0       0.77      0.77      0.77       192\n",
            "           1       0.68      0.68      0.68       136\n",
            "\n",
            "    accuracy                           0.73       328\n",
            "   macro avg       0.73      0.73      0.73       328\n",
            "weighted avg       0.74      0.73      0.73       328\n",
            "\n"
          ]
        }
      ]
    },
    {
      "cell_type": "code",
      "source": [
        "model = linear_model.LogisticRegression(random_state =42)\n",
        "#Обучаем модель на тренировочной выборке\n",
        "model.fit(X_train_s, y_train_s)\n",
        "#Делаем предсказание для каждой из выборок\n",
        "y_train_pred = model.predict(X_train)\n",
        "y_valid_pred = model.predict(X_valid)\n",
        "#Выводим значения метрик\n",
        "print(metrics.classification_report(y_valid, y_valid_pred)) "
      ],
      "metadata": {
        "colab": {
          "base_uri": "https://localhost:8080/"
        },
        "id": "YchC5JkPbYbd",
        "outputId": "64ec45c8-0247-46c0-c4a2-3934fa5cc81e"
      },
      "execution_count": 62,
      "outputs": [
        {
          "output_type": "stream",
          "name": "stdout",
          "text": [
            "              precision    recall  f1-score   support\n",
            "\n",
            "           0       0.61      0.59      0.60       192\n",
            "           1       0.44      0.46      0.45       136\n",
            "\n",
            "    accuracy                           0.54       328\n",
            "   macro avg       0.52      0.52      0.52       328\n",
            "weighted avg       0.54      0.54      0.54       328\n",
            "\n"
          ]
        }
      ]
    },
    {
      "cell_type": "code",
      "source": [
        "X_train, X_valid, y_train, y_valid = model_selection.train_test_split(X, y, stratify=y, test_size=0.2, random_state=42)\n",
        "#Создаём модель\n",
        "model_bad = tree.DecisionTreeClassifier(\n",
        "    criterion='entropy', #критерий информативности\n",
        "    class_weight='balanced', #веса классов\n",
        "    random_state=42 #генератор случайных чисел\n",
        ")\n",
        "#Обучаем модель на тренировочной выборке\n",
        "model_bad.fit(X_train, y_train)\n",
        "#Делаем предсказание для каждой из выборок\n",
        "y_train_pred = model_bad.predict(X_train)\n",
        "y_valid_pred = model_bad.predict(X_valid)\n",
        "#Выводим значения метрик для тренировочной выборки\n",
        "print('Train F1 score: {:.2f}'.format(metrics.f1_score(y_train, y_train_pred)))\n",
        "#Выводим значения метрик для валидационной выборки\n",
        "print('Valid F1 score: {:.2f}'.format(metrics.f1_score(y_valid, y_valid_pred)))"
      ],
      "metadata": {
        "colab": {
          "base_uri": "https://localhost:8080/"
        },
        "id": "-h6K0VxTbjTb",
        "outputId": "1442805e-2d37-4723-87d8-3b700180a30c"
      },
      "execution_count": 76,
      "outputs": [
        {
          "output_type": "stream",
          "name": "stdout",
          "text": [
            "Train F1 score: 1.00\n",
            "Valid F1 score: 0.82\n"
          ]
        }
      ]
    },
    {
      "cell_type": "code",
      "source": [
        "#Создаём объект кросс-валидатора k-fold со стратификацией\n",
        "skf = model_selection.StratifiedKFold(n_splits=5)\n",
        " \n",
        "#Считаем метрики на кросс-валидации k-fold со стратификацией\n",
        "cv_metrics = model_selection.cross_validate(\n",
        "    estimator=model_bad, #модель\n",
        "    X=X, #матрица наблюдений X\n",
        "    y=y, #вектор ответов y\n",
        "    cv=skf, #кросс-валидатор\n",
        "    scoring='f1', #метрика\n",
        "    return_train_score=True #подсчёт метрики на тренировочных фолдах\n",
        ")\n",
        "display(cv_metrics)"
      ],
      "metadata": {
        "colab": {
          "base_uri": "https://localhost:8080/",
          "height": 86
        },
        "id": "f77KsZbge4CU",
        "outputId": "fcd1324c-4b6e-494c-e058-f0516bd399a6"
      },
      "execution_count": 79,
      "outputs": [
        {
          "output_type": "display_data",
          "data": {
            "text/plain": [
              "{'fit_time': array([0.01274276, 0.00495601, 0.0046618 , 0.00484133, 0.00514531]),\n",
              " 'score_time': array([0.0031023 , 0.00251603, 0.0025754 , 0.00245643, 0.00242615]),\n",
              " 'test_score': array([0.79227053, 0.78571429, 0.81407035, 0.81407035, 0.8       ]),\n",
              " 'train_score': array([1., 1., 1., 1., 1.])}"
            ]
          },
          "metadata": {}
        }
      ]
    },
    {
      "cell_type": "code",
      "source": [
        "print('Train k-fold mean f1: {:.2f}'.format(np.mean(cv_metrics['train_score'])))\n",
        "print('Valid k-fold mean f1: {:.2f}'.format(np.mean(cv_metrics['test_score'])))"
      ],
      "metadata": {
        "colab": {
          "base_uri": "https://localhost:8080/"
        },
        "id": "NqhYI-kFfKsy",
        "outputId": "f265d40e-5622-4199-8ee1-0b415fc2b339"
      },
      "execution_count": 80,
      "outputs": [
        {
          "output_type": "stream",
          "name": "stdout",
          "text": [
            "Train k-fold mean f1: 1.00\n",
            "Valid k-fold mean f1: 0.80\n"
          ]
        }
      ]
    },
    {
      "cell_type": "code",
      "source": [
        "from sklearn import datasets\n",
        "X_mod, y_mod = datasets.make_classification(\n",
        "    n_samples=1000, #количество объектов\n",
        "    n_features=2, #количество признаков\n",
        "    n_informative=2, #количество информативных признаков\n",
        "    n_redundant=0, #количество неинформативных признаков\n",
        "    n_classes=2, #количество классов\n",
        "    n_clusters_per_class=2, #количество кластеров внутри класса\n",
        "    random_state=1 #генератор случайных чисел\n",
        ")\n",
        "X_mod = pd.DataFrame(X_mod, columns=['feature_1', 'feature_2'])\n",
        "y_mod = pd.Series(y_mod)\n",
        "sns.scatterplot(x=X_mod['feature_1'], y=X_mod['feature_2'], hue=y, palette='seismic');"
      ],
      "metadata": {
        "colab": {
          "base_uri": "https://localhost:8080/",
          "height": 279
        },
        "id": "dfMPPNH6fPQe",
        "outputId": "a76c0b36-560e-497b-e0a8-aa05c184425b"
      },
      "execution_count": 92,
      "outputs": [
        {
          "output_type": "display_data",
          "data": {
            "text/plain": [
              "<Figure size 432x288 with 1 Axes>"
            ],
            "image/png": "[encoded data removed]"
          },
          "metadata": {
            "needs_background": "light"
          }
        }
      ]
    },
    {
      "cell_type": "code",
      "source": [
        "X_train, X_valid, y_train, y_valid = model_selection.train_test_split(X_mod, y_mod, stratify=y_mod, test_size=0.3, random_state=42)"
      ],
      "metadata": {
        "id": "s_7_r4SGfWbM"
      },
      "execution_count": 93,
      "outputs": []
    },
    {
      "cell_type": "code",
      "source": [
        "model_bad = tree.DecisionTreeClassifier(\n",
        "    max_depth = 10\n",
        ")\n",
        "#Обучаем модель на тренировочной выборке\n",
        "model_bad.fit(X_train, y_train)\n",
        "#Делаем предсказание для каждой из выборок\n",
        "y_train_pred = model_bad.predict(X_train)\n",
        "y_valid_pred = model_bad.predict(X_valid)\n",
        "#Выводим значения метрик для тренировочной выборки\n",
        "print((metrics.classification_report(y_train, y_train_pred)))\n",
        "#Выводим значения метрик для валидационной выборки\n",
        "print((metrics.classification_report(y_valid, y_valid_pred)))"
      ],
      "metadata": {
        "colab": {
          "base_uri": "https://localhost:8080/"
        },
        "id": "ivYLP8LjfjZ7",
        "outputId": "7189bba3-3c4a-4de6-a231-4c4c320e1429"
      },
      "execution_count": 72,
      "outputs": [
        {
          "output_type": "stream",
          "name": "stdout",
          "text": [
            "              precision    recall  f1-score   support\n",
            "\n",
            "           0       0.98      0.97      0.98       349\n",
            "           1       0.97      0.98      0.98       351\n",
            "\n",
            "    accuracy                           0.98       700\n",
            "   macro avg       0.98      0.98      0.98       700\n",
            "weighted avg       0.98      0.98      0.98       700\n",
            "\n",
            "              precision    recall  f1-score   support\n",
            "\n",
            "           0       0.83      0.79      0.81       150\n",
            "           1       0.80      0.84      0.82       150\n",
            "\n",
            "    accuracy                           0.82       300\n",
            "   macro avg       0.82      0.82      0.82       300\n",
            "weighted avg       0.82      0.82      0.82       300\n",
            "\n"
          ]
        }
      ]
    },
    {
      "cell_type": "code",
      "source": [
        "print('Current depth:', model_bad.get_depth())"
      ],
      "metadata": {
        "colab": {
          "base_uri": "https://localhost:8080/"
        },
        "id": "D2071v3Jf0Oi",
        "outputId": "e6b8d680-a4e6-493f-ad94-b5b3fd14042d"
      },
      "execution_count": 75,
      "outputs": [
        {
          "output_type": "stream",
          "name": "stdout",
          "text": [
            "Current depth: 17\n"
          ]
        }
      ]
    },
    {
      "cell_type": "code",
      "source": [
        "#Создаём модель\n",
        "model = tree.DecisionTreeClassifier(\n",
        "    criterion='entropy', #критерий информативности\n",
        "    max_depth=7, #ограничиваем глубину дерева\n",
        "    random_state=42, #генератор случайных чисел\n",
        "    class_weight='balanced' #веса классов\n",
        ")\n",
        " \n",
        "#Создаём объект кросс-валидатора k-fold со стратификацией\n",
        "skf = model_selection.StratifiedKFold(n_splits=5)\n",
        " \n",
        "#Считаем метрики на кросс-валидации k-fold со стратификацией\n",
        "cv_metrics = model_selection.cross_validate(\n",
        "    estimator=model, #модель\n",
        "    X=X, #матрица наблюдений X\n",
        "    y=y, #вектор ответов y\n",
        "    cv=skf, #кросс-валидатор\n",
        "    scoring='f1', #метрика\n",
        "    return_train_score=True #подсчёт метрики на тренировочных фолдах\n",
        ")\n",
        " \n",
        "print('Train k-fold mean f1: {:.2f}'.format(np.mean(cv_metrics['train_score'])))\n",
        "print('Valid k-fold mean f1: {:.2f}'.format(np.mean(cv_metrics['test_score'])))"
      ],
      "metadata": {
        "colab": {
          "base_uri": "https://localhost:8080/"
        },
        "id": "GjEl_26kjc4j",
        "outputId": "f28fdc0c-8e9f-4c9b-ba70-8601bd824b1c"
      },
      "execution_count": 89,
      "outputs": [
        {
          "output_type": "stream",
          "name": "stdout",
          "text": [
            "Train k-fold mean f1: 0.75\n",
            "Valid k-fold mean f1: 0.66\n"
          ]
        }
      ]
    },
    {
      "cell_type": "code",
      "source": [
        "#Создаём модель\n",
        "model = tree.DecisionTreeClassifier(\n",
        "    criterion='entropy', #критерий информативности\n",
        "    max_depth=7, #ограничиваем глубину дерева\n",
        "    min_samples_leaf=5, #увеличиваем количество объектов в листе\n",
        "    random_state=42, #генератор случайных чисел\n",
        "    class_weight='balanced' #веса классов\n",
        ")\n",
        " \n",
        "#Создаём объект кросс-валидатора k-fold со стратификацией\n",
        "skf = model_selection.StratifiedKFold(n_splits=5)\n",
        " \n",
        "#Считаем метрики на кросс-валидации k-fold со стратификацией\n",
        "cv_metrics = model_selection.cross_validate(\n",
        "    estimator=model, #модель\n",
        "    X=X, #матрица наблюдений X\n",
        "    y=y, #вектор ответов y\n",
        "    cv=skf, #кросс-валидатор\n",
        "    scoring='f1', #метрика\n",
        "    return_train_score=True #подсчёт метрики на тренировочных фолдах\n",
        ")\n",
        " \n",
        "print('Train k-fold mean f1: {:.2f}'.format(np.mean(cv_metrics['train_score'])))\n",
        "print('Valid k-fold mean f1: {:.2f}'.format(np.mean(cv_metrics['test_score'])))"
      ],
      "metadata": {
        "colab": {
          "base_uri": "https://localhost:8080/"
        },
        "id": "pvBV6PQDj5BQ",
        "outputId": "feef4300-92f9-4f8a-f8bf-c01ae80084f1"
      },
      "execution_count": 90,
      "outputs": [
        {
          "output_type": "stream",
          "name": "stdout",
          "text": [
            "Train k-fold mean f1: 0.74\n",
            "Valid k-fold mean f1: 0.66\n"
          ]
        }
      ]
    },
    {
      "cell_type": "code",
      "source": [
        "model_bad = tree.DecisionTreeClassifier(\n",
        "    max_depth = 3\n",
        ")\n",
        "#Обучаем модель на тренировочной выборке\n",
        "model_bad.fit(X_mod, y_mod)\n",
        "#Делаем предсказание для каждой из выборок\n",
        "y_train_pred = model_bad.predict(X_train)\n",
        "y_valid_pred = model_bad.predict(X_valid)\n",
        "#Выводим значения метрик для тренировочной выборки\n",
        "print((metrics.classification_report(y_train, y_train_pred)))\n",
        "#Выводим значения метрик для валидационной выборки\n",
        "print((metrics.classification_report(y_valid, y_valid_pred)))"
      ],
      "metadata": {
        "colab": {
          "base_uri": "https://localhost:8080/"
        },
        "id": "eU6drohYkeht",
        "outputId": "d1c90917-c261-4b7b-9252-cac77c7e7a0c"
      },
      "execution_count": 94,
      "outputs": [
        {
          "output_type": "stream",
          "name": "stdout",
          "text": [
            "              precision    recall  f1-score   support\n",
            "\n",
            "           0       0.88      0.88      0.88       349\n",
            "           1       0.88      0.87      0.88       351\n",
            "\n",
            "    accuracy                           0.88       700\n",
            "   macro avg       0.88      0.88      0.88       700\n",
            "weighted avg       0.88      0.88      0.88       700\n",
            "\n",
            "              precision    recall  f1-score   support\n",
            "\n",
            "           0       0.88      0.85      0.86       150\n",
            "           1       0.85      0.89      0.87       150\n",
            "\n",
            "    accuracy                           0.87       300\n",
            "   macro avg       0.87      0.87      0.87       300\n",
            "weighted avg       0.87      0.87      0.87       300\n",
            "\n"
          ]
        }
      ]
    },
    {
      "cell_type": "code",
      "source": [
        "#Создаём модель\n",
        "model = tree.DecisionTreeClassifier(\n",
        "    criterion='entropy', #критерий информативности\n",
        "    max_depth=7, #максимальная глубина\n",
        "    min_samples_leaf=5, #минимальное число объектов в листе\n",
        "    class_weight='balanced', \n",
        "    random_state=42, #генератор случайных чисел \n",
        ")\n",
        " \n",
        "#Создаём объект кросс-валидатора k-fold со стратификацией\n",
        "skf = model_selection.StratifiedKFold(n_splits=5)\n",
        " \n",
        "#Вычисляем координаты для построения кривой обучения\n",
        "train_sizes, train_scores, valid_scores = model_selection.learning_curve(\n",
        "    estimator = model, #модель\n",
        "    X = X, #матрица наблюдений X\n",
        "    y = y, #вектор ответов y\n",
        "    cv = skf, #кросс-валидатор\n",
        "    scoring = 'f1' #метрика\n",
        ")\n",
        "print('Train sizes: \\n', train_sizes)\n",
        "print('Train scores: \\n', train_scores)\n",
        "print('Valid scores: \\n', valid_scores)"
      ],
      "metadata": {
        "colab": {
          "base_uri": "https://localhost:8080/"
        },
        "id": "cIFu55vzlkvg",
        "outputId": "2159b3ae-fc7e-4524-8932-1ca15401aac9"
      },
      "execution_count": 95,
      "outputs": [
        {
          "output_type": "stream",
          "name": "stdout",
          "text": [
            "Train sizes: \n",
            " [ 262  851 1441 2030 2620]\n",
            "Train scores: \n",
            " [[0.8        0.72727273 0.72727273 0.72727273 0.72727273]\n",
            " [0.76156584 0.82522523 0.8757764  0.8757764  0.8757764 ]\n",
            " [0.78546099 0.80108011 0.78497653 0.78183613 0.78183613]\n",
            " [0.75440806 0.74526573 0.72822528 0.76443265 0.75997384]\n",
            " [0.73336393 0.75992939 0.72322275 0.74051593 0.76085963]]\n",
            "Valid scores: \n",
            " [[0.62222222 0.2228739  0.18128655 0.25329815 0.28486647]\n",
            " [0.64528302 0.4978903  0.46031746 0.53831776 0.56928839]\n",
            " [0.59622642 0.60687023 0.60805861 0.56624319 0.60820896]\n",
            " [0.60903733 0.68641115 0.63859649 0.59344894 0.67407407]\n",
            " [0.61981982 0.6797153  0.66294227 0.61689587 0.71719039]]\n"
          ]
        }
      ]
    },
    {
      "cell_type": "code",
      "source": [
        "train_scores_mean = np.mean(train_scores, axis=1)\n",
        "valid_scores_mean = np.mean(valid_scores, axis=1)\n",
        " \n",
        "print('Train k-fold f1 scores',  train_scores_mean)\n",
        "print('Valid k-fold f1 scores',  valid_scores_mean)"
      ],
      "metadata": {
        "colab": {
          "base_uri": "https://localhost:8080/"
        },
        "id": "0uWWG_OroFQz",
        "outputId": "5199a3b0-73f0-441e-f31c-1febd9f7f171"
      },
      "execution_count": 96,
      "outputs": [
        {
          "output_type": "stream",
          "name": "stdout",
          "text": [
            "Train k-fold f1 scores [0.74181818 0.84282405 0.78703798 0.75046111 0.74357833]\n",
            "Valid k-fold f1 scores [0.31290946 0.54221938 0.59712148 0.6403136  0.65931273]\n"
          ]
        }
      ]
    },
    {
      "cell_type": "code",
      "source": [
        "#Визуализируем кривую обучения\n",
        "fig, ax = plt.subplots(figsize=(10, 5)) #фигура + координатная плоскость\n",
        "#Строим кривую обучения по метрикам на тренировочных фолдах\n",
        "ax.plot(train_sizes, train_scores_mean, label='Train')\n",
        "#Строим кривую обучения по метрикам на валидационных фолдах\n",
        "ax.plot(train_sizes, valid_scores_mean, label='Valid')\n",
        "#Даём название графику и подписи осям\n",
        "ax.set_title('Learning curve')\n",
        "ax.set_xlabel('Train data size')\n",
        "ax.set_ylabel('Score')\n",
        "#Устанавливаем отметки по оси абсцисс\n",
        "ax.xaxis.set_ticks(train_sizes)\n",
        "#Устаналиваем диапазон оси ординат\n",
        "ax.set_ylim(0, 1)\n",
        "#Отображаем легенду\n",
        "ax.legend();"
      ],
      "metadata": {
        "colab": {
          "base_uri": "https://localhost:8080/",
          "height": 349
        },
        "id": "z3En3dBCoRyz",
        "outputId": "a44e0d4b-3937-409a-a30d-0768b0619fc1"
      },
      "execution_count": 97,
      "outputs": [
        {
          "output_type": "display_data",
          "data": {
            "text/plain": [
              "<Figure size 720x360 with 1 Axes>"
            ],
            "image/png": "[encoded data removed]"
          },
          "metadata": {
            "needs_background": "light"
          }
        }
      ]
    },
    {
      "cell_type": "code",
      "source": [
        "def plot_learning_curve(model, X, y, cv, scoring=\"f1\", ax=None, title=\"\"):\n",
        "    # Вычисляем координаты для построения кривой обучения\n",
        "    train_sizes, train_scores, valid_scores = model_selection.learning_curve(\n",
        "        estimator=model,  # модель\n",
        "        X=X,  # матрица наблюдений X\n",
        "        y=y,  # вектор ответов y\n",
        "        cv=cv,  # кросс-валидатор\n",
        "        scoring=scoring,  # метрика\n",
        "    )\n",
        "    # Вычисляем среднее значение по фолдам для каждого набора данных\n",
        "    train_scores_mean = np.mean(train_scores, axis=1)\n",
        "    valid_scores_mean = np.mean(valid_scores, axis=1)\n",
        "    # Если координатной плоскости не было передано, создаём новую\n",
        "    if ax is None:\n",
        "        fig, ax = plt.subplots(figsize=(10, 4))  # фигура + координатная плоскость\n",
        "    # Строим кривую обучения по метрикам на тренировочных фолдах\n",
        "    ax.plot(train_sizes, train_scores_mean, label=\"Train\")\n",
        "    # Строим кривую обучения по метрикам на валидационных фолдах\n",
        "    ax.plot(train_sizes, valid_scores_mean, label=\"Valid\")\n",
        "    # Даём название графику и подписи осям\n",
        "    ax.set_title(\"Learning curve: {}\".format(title))\n",
        "    ax.set_xlabel(\"Train data size\")\n",
        "    ax.set_ylabel(\"Score\")\n",
        "    # Устанавливаем отметки по оси абсцисс\n",
        "    ax.xaxis.set_ticks(train_sizes)\n",
        "    # Устанавливаем диапазон оси ординат\n",
        "    ax.set_ylim(0, 1)\n",
        "    # Отображаем легенду\n",
        "    ax.legend()"
      ],
      "metadata": {
        "id": "ty2MYRWsobHk"
      },
      "execution_count": 98,
      "outputs": []
    },
    {
      "cell_type": "code",
      "source": [
        "#Создаём список из моделей\n",
        "models = [\n",
        "    linear_model.LogisticRegression(\n",
        "        max_iter=1000, #количество итераций на сходимость\n",
        "        random_state=42, #генератор случайных чисел\n",
        "        class_weight='balanced' #веса классов\n",
        "    ),\n",
        "    tree.DecisionTreeClassifier(\n",
        "        criterion='entropy', #критерий информативности\n",
        "        max_depth=7, #максимальная глубина\n",
        "        min_samples_leaf=5, #минимальное число объектов в листе\n",
        "        random_state=42, #генератор случайных чисел \n",
        "        class_weight='balanced' #веса классов\n",
        "    ),\n",
        "    tree.DecisionTreeClassifier(\n",
        "        criterion='entropy', #критерий информативности\n",
        "        random_state=42, #генератор случайных чисел \n",
        "        class_weight='balanced' #веса классов\n",
        "    ),\n",
        "]"
      ],
      "metadata": {
        "id": "g2uHPbREojJX"
      },
      "execution_count": 99,
      "outputs": []
    },
    {
      "cell_type": "code",
      "source": [
        "#Создаём объект кросс-валидатора k-fold со стратификацией\n",
        "skf = model_selection.StratifiedKFold(n_splits=5)\n",
        "#Визуализируем кривые обучения\n",
        "fig, axes = plt.subplots(1, 3, figsize=(15, 4)) #фигура + три координатных плоскости\n",
        "#Создаём цикл по списку моделей и индексам этого списка\n",
        "for i, model in enumerate(models): #i — текущий индекс, model — текущая модель\n",
        "    plot_learning_curve(model, X, y, skf, ax=axes[i], title=f'model {i+1}')"
      ],
      "metadata": {
        "colab": {
          "base_uri": "https://localhost:8080/",
          "height": 294
        },
        "id": "55vAIOhwoqOa",
        "outputId": "9fb26954-cce5-43ea-d973-7cc28bd727a8"
      },
      "execution_count": 100,
      "outputs": [
        {
          "output_type": "display_data",
          "data": {
            "text/plain": [
              "<Figure size 1080x288 with 3 Axes>"
            ],
            "image/png": "[encoded data removed]"
          },
          "metadata": {
            "needs_background": "light"
          }
        }
      ]
    },
    {
      "cell_type": "code",
      "source": [
        "import numpy as np #для матричных вычислений\n",
        "import pandas as pd #для анализа и предобработки данных\n",
        "import matplotlib.pyplot as plt #для визуализации\n",
        "import seaborn as sns #для визуализации\n",
        "\n",
        "from sklearn import metrics #метрики\n",
        "from sklearn import model_selection #методы разделения и валидации\n",
        "from sklearn import ensemble #ансамбли\n",
        "\n",
        "plt.style.use('seaborn') #стиль отрисовки seaborn\n",
        "%matplotlib inline"
      ],
      "metadata": {
        "id": "mUnOqXtFow8Z"
      },
      "execution_count": 101,
      "outputs": []
    },
    {
      "cell_type": "code",
      "source": [
        "shoppers_data = pd.read_csv('online_shoppers_intention.zip')\n",
        "shoppers_data.head()"
      ],
      "metadata": {
        "colab": {
          "base_uri": "https://localhost:8080/",
          "height": 270
        },
        "id": "lDS3XToApcAX",
        "outputId": "e314cdcc-f24c-4874-9115-5644a25a680a"
      },
      "execution_count": 102,
      "outputs": [
        {
          "output_type": "execute_result",
          "data": {
            "text/plain": [
              "   Administrative  Administrative_Duration  Informational  \\\n",
              "0               0                      0.0              0   \n",
              "1               0                      0.0              0   \n",
              "2               0                      0.0              0   \n",
              "3               0                      0.0              0   \n",
              "4               0                      0.0              0   \n",
              "\n",
              "   Informational_Duration  ProductRelated  ProductRelated_Duration  \\\n",
              "0                     0.0               1                 0.000000   \n",
              "1                     0.0               2                64.000000   \n",
              "2                     0.0               1                 0.000000   \n",
              "3                     0.0               2                 2.666667   \n",
              "4                     0.0              10               627.500000   \n",
              "\n",
              "   BounceRates  ExitRates  PageValues  SpecialDay Month  OperatingSystems  \\\n",
              "0         0.20       0.20         0.0         0.0   Feb                 1   \n",
              "1         0.00       0.10         0.0         0.0   Feb                 2   \n",
              "2         0.20       0.20         0.0         0.0   Feb                 4   \n",
              "3         0.05       0.14         0.0         0.0   Feb                 3   \n",
              "4         0.02       0.05         0.0         0.0   Feb                 3   \n",
              "\n",
              "   Browser  Region  TrafficType        VisitorType  Weekend  Revenue  \n",
              "0        1       1            1  Returning_Visitor    False    False  \n",
              "1        2       1            2  Returning_Visitor    False    False  \n",
              "2        1       9            3  Returning_Visitor    False    False  \n",
              "3        2       2            4  Returning_Visitor    False    False  \n",
              "4        3       1            4  Returning_Visitor     True    False  "
            ],
            "text/html": [
              "\n",
              "  <div id=\"df-6e92e7a7-7b64-4710-8c01-3931c8f19a21\">\n",
              "    <div class=\"colab-df-container\">\n",
              "      <div>\n",
              "<style scoped>\n",
              "    .dataframe tbody tr th:only-of-type {\n",
              "        vertical-align: middle;\n",
              "    }\n",
              "\n",
              "    .dataframe tbody tr th {\n",
              "        vertical-align: top;\n",
              "    }\n",
              "\n",
              "    .dataframe thead th {\n",
              "        text-align: right;\n",
              "    }\n",
              "</style>\n",
              "<table border=\"1\" class=\"dataframe\">\n",
              "  <thead>\n",
              "    <tr style=\"text-align: right;\">\n",
              "      <th></th>\n",
              "      <th>Administrative</th>\n",
              "      <th>Administrative_Duration</th>\n",
              "      <th>Informational</th>\n",
              "      <th>Informational_Duration</th>\n",
              "      <th>ProductRelated</th>\n",
              "      <th>ProductRelated_Duration</th>\n",
              "      <th>BounceRates</th>\n",
              "      <th>ExitRates</th>\n",
              "      <th>PageValues</th>\n",
              "      <th>SpecialDay</th>\n",
              "      <th>Month</th>\n",
              "      <th>OperatingSystems</th>\n",
              "      <th>Browser</th>\n",
              "      <th>Region</th>\n",
              "      <th>TrafficType</th>\n",
              "      <th>VisitorType</th>\n",
              "      <th>Weekend</th>\n",
              "      <th>Revenue</th>\n",
              "    </tr>\n",
              "  </thead>\n",
              "  <tbody>\n",
              "    <tr>\n",
              "      <th>0</th>\n",
              "      <td>0</td>\n",
              "      <td>0.0</td>\n",
              "      <td>0</td>\n",
              "      <td>0.0</td>\n",
              "      <td>1</td>\n",
              "      <td>0.000000</td>\n",
              "      <td>0.20</td>\n",
              "      <td>0.20</td>\n",
              "      <td>0.0</td>\n",
              "      <td>0.0</td>\n",
              "      <td>Feb</td>\n",
              "      <td>1</td>\n",
              "      <td>1</td>\n",
              "      <td>1</td>\n",
              "      <td>1</td>\n",
              "      <td>Returning_Visitor</td>\n",
              "      <td>False</td>\n",
              "      <td>False</td>\n",
              "    </tr>\n",
              "    <tr>\n",
              "      <th>1</th>\n",
              "      <td>0</td>\n",
              "      <td>0.0</td>\n",
              "      <td>0</td>\n",
              "      <td>0.0</td>\n",
              "      <td>2</td>\n",
              "      <td>64.000000</td>\n",
              "      <td>0.00</td>\n",
              "      <td>0.10</td>\n",
              "      <td>0.0</td>\n",
              "      <td>0.0</td>\n",
              "      <td>Feb</td>\n",
              "      <td>2</td>\n",
              "      <td>2</td>\n",
              "      <td>1</td>\n",
              "      <td>2</td>\n",
              "      <td>Returning_Visitor</td>\n",
              "      <td>False</td>\n",
              "      <td>False</td>\n",
              "    </tr>\n",
              "    <tr>\n",
              "      <th>2</th>\n",
              "      <td>0</td>\n",
              "      <td>0.0</td>\n",
              "      <td>0</td>\n",
              "      <td>0.0</td>\n",
              "      <td>1</td>\n",
              "      <td>0.000000</td>\n",
              "      <td>0.20</td>\n",
              "      <td>0.20</td>\n",
              "      <td>0.0</td>\n",
              "      <td>0.0</td>\n",
              "      <td>Feb</td>\n",
              "      <td>4</td>\n",
              "      <td>1</td>\n",
              "      <td>9</td>\n",
              "      <td>3</td>\n",
              "      <td>Returning_Visitor</td>\n",
              "      <td>False</td>\n",
              "      <td>False</td>\n",
              "    </tr>\n",
              "    <tr>\n",
              "      <th>3</th>\n",
              "      <td>0</td>\n",
              "      <td>0.0</td>\n",
              "      <td>0</td>\n",
              "      <td>0.0</td>\n",
              "      <td>2</td>\n",
              "      <td>2.666667</td>\n",
              "      <td>0.05</td>\n",
              "      <td>0.14</td>\n",
              "      <td>0.0</td>\n",
              "      <td>0.0</td>\n",
              "      <td>Feb</td>\n",
              "      <td>3</td>\n",
              "      <td>2</td>\n",
              "      <td>2</td>\n",
              "      <td>4</td>\n",
              "      <td>Returning_Visitor</td>\n",
              "      <td>False</td>\n",
              "      <td>False</td>\n",
              "    </tr>\n",
              "    <tr>\n",
              "      <th>4</th>\n",
              "      <td>0</td>\n",
              "      <td>0.0</td>\n",
              "      <td>0</td>\n",
              "      <td>0.0</td>\n",
              "      <td>10</td>\n",
              "      <td>627.500000</td>\n",
              "      <td>0.02</td>\n",
              "      <td>0.05</td>\n",
              "      <td>0.0</td>\n",
              "      <td>0.0</td>\n",
              "      <td>Feb</td>\n",
              "      <td>3</td>\n",
              "      <td>3</td>\n",
              "      <td>1</td>\n",
              "      <td>4</td>\n",
              "      <td>Returning_Visitor</td>\n",
              "      <td>True</td>\n",
              "      <td>False</td>\n",
              "    </tr>\n",
              "  </tbody>\n",
              "</table>\n",
              "</div>\n",
              "      <button class=\"colab-df-convert\" onclick=\"convertToInteractive('df-6e92e7a7-7b64-4710-8c01-3931c8f19a21')\"\n",
              "              title=\"Convert this dataframe to an interactive table.\"\n",
              "              style=\"display:none;\">\n",
              "        \n",
              "  <svg xmlns=\"http://www.w3.org/2000/svg\" height=\"24px\"viewBox=\"0 0 24 24\"\n",
              "       width=\"24px\">\n",
              "    <path d=\"M0 0h24v24H0V0z\" fill=\"none\"/>\n",
              "    <path d=\"M18.56 5.44l.94 2.06.94-2.06 2.06-.94-2.06-.94-.94-2.06-.94 2.06-2.06.94zm-11 1L8.5 8.5l.94-2.06 2.06-.94-2.06-.94L8.5 2.5l-.94 2.06-2.06.94zm10 10l.94 2.06.94-2.06 2.06-.94-2.06-.94-.94-2.06-.94 2.06-2.06.94z\"/><path d=\"M17.41 7.96l-1.37-1.37c-.4-.4-.92-.59-1.43-.59-.52 0-1.04.2-1.43.59L10.3 9.45l-7.72 7.72c-.78.78-.78 2.05 0 2.83L4 21.41c.39.39.9.59 1.41.59.51 0 1.02-.2 1.41-.59l7.78-7.78 2.81-2.81c.8-.78.8-2.07 0-2.86zM5.41 20L4 18.59l7.72-7.72 1.47 1.35L5.41 20z\"/>\n",
              "  </svg>\n",
              "      </button>\n",
              "      \n",
              "  <style>\n",
              "    .colab-df-container {\n",
              "      display:flex;\n",
              "      flex-wrap:wrap;\n",
              "      gap: 12px;\n",
              "    }\n",
              "\n",
              "    .colab-df-convert {\n",
              "      background-color: #E8F0FE;\n",
              "      border: none;\n",
              "      border-radius: 50%;\n",
              "      cursor: pointer;\n",
              "      display: none;\n",
              "      fill: #1967D2;\n",
              "      height: 32px;\n",
              "      padding: 0 0 0 0;\n",
              "      width: 32px;\n",
              "    }\n",
              "\n",
              "    .colab-df-convert:hover {\n",
              "      background-color: #E2EBFA;\n",
              "      box-shadow: 0px 1px 2px rgba(60, 64, 67, 0.3), 0px 1px 3px 1px rgba(60, 64, 67, 0.15);\n",
              "      fill: #174EA6;\n",
              "    }\n",
              "\n",
              "    [theme=dark] .colab-df-convert {\n",
              "      background-color: #3B4455;\n",
              "      fill: #D2E3FC;\n",
              "    }\n",
              "\n",
              "    [theme=dark] .colab-df-convert:hover {\n",
              "      background-color: #434B5C;\n",
              "      box-shadow: 0px 1px 3px 1px rgba(0, 0, 0, 0.15);\n",
              "      filter: drop-shadow(0px 1px 2px rgba(0, 0, 0, 0.3));\n",
              "      fill: #FFFFFF;\n",
              "    }\n",
              "  </style>\n",
              "\n",
              "      <script>\n",
              "        const buttonEl =\n",
              "          document.querySelector('#df-6e92e7a7-7b64-4710-8c01-3931c8f19a21 button.colab-df-convert');\n",
              "        buttonEl.style.display =\n",
              "          google.colab.kernel.accessAllowed ? 'block' : 'none';\n",
              "\n",
              "        async function convertToInteractive(key) {\n",
              "          const element = document.querySelector('#df-6e92e7a7-7b64-4710-8c01-3931c8f19a21');\n",
              "          const dataTable =\n",
              "            await google.colab.kernel.invokeFunction('convertToInteractive',\n",
              "                                                     [key], {});\n",
              "          if (!dataTable) return;\n",
              "\n",
              "          const docLinkHtml = 'Like what you see? Visit the ' +\n",
              "            '<a target=\"_blank\" href=https://colab.research.google.com/notebooks/data_table.ipynb>data table notebook</a>'\n",
              "            + ' to learn more about interactive tables.';\n",
              "          element.innerHTML = '';\n",
              "          dataTable['output_type'] = 'display_data';\n",
              "          await google.colab.output.renderOutput(dataTable, element);\n",
              "          const docLink = document.createElement('div');\n",
              "          docLink.innerHTML = docLinkHtml;\n",
              "          element.appendChild(docLink);\n",
              "        }\n",
              "      </script>\n",
              "    </div>\n",
              "  </div>\n",
              "  "
            ]
          },
          "metadata": {},
          "execution_count": 102
        }
      ]
    },
    {
      "cell_type": "code",
      "source": [
        "print(shoppers_data.shape)"
      ],
      "metadata": {
        "colab": {
          "base_uri": "https://localhost:8080/"
        },
        "id": "vFrAbIrXpfl4",
        "outputId": "765985cf-cd8d-49aa-cf43-0d28e7929a6a"
      },
      "execution_count": 103,
      "outputs": [
        {
          "output_type": "stream",
          "name": "stdout",
          "text": [
            "(12330, 18)\n"
          ]
        }
      ]
    },
    {
      "cell_type": "code",
      "source": [
        "shoppers_data.isna().sum()"
      ],
      "metadata": {
        "colab": {
          "base_uri": "https://localhost:8080/"
        },
        "id": "RfAQuLQpphf7",
        "outputId": "d82ee600-8748-4777-93e4-c90ebd2eef02"
      },
      "execution_count": 104,
      "outputs": [
        {
          "output_type": "execute_result",
          "data": {
            "text/plain": [
              "Administrative             0\n",
              "Administrative_Duration    0\n",
              "Informational              0\n",
              "Informational_Duration     0\n",
              "ProductRelated             0\n",
              "ProductRelated_Duration    0\n",
              "BounceRates                0\n",
              "ExitRates                  0\n",
              "PageValues                 0\n",
              "SpecialDay                 0\n",
              "Month                      0\n",
              "OperatingSystems           0\n",
              "Browser                    0\n",
              "Region                     0\n",
              "TrafficType                0\n",
              "VisitorType                0\n",
              "Weekend                    0\n",
              "Revenue                    0\n",
              "dtype: int64"
            ]
          },
          "metadata": {},
          "execution_count": 104
        }
      ]
    },
    {
      "cell_type": "code",
      "source": [
        "dummy_data = pd.get_dummies(shoppers_data)\n",
        "dummy_data.head()"
      ],
      "metadata": {
        "colab": {
          "base_uri": "https://localhost:8080/",
          "height": 300
        },
        "id": "dRdceSzhplsy",
        "outputId": "f288fc7b-0121-44de-9525-342586d566aa"
      },
      "execution_count": 105,
      "outputs": [
        {
          "output_type": "execute_result",
          "data": {
            "text/plain": [
              "   Administrative  Administrative_Duration  Informational  \\\n",
              "0               0                      0.0              0   \n",
              "1               0                      0.0              0   \n",
              "2               0                      0.0              0   \n",
              "3               0                      0.0              0   \n",
              "4               0                      0.0              0   \n",
              "\n",
              "   Informational_Duration  ProductRelated  ProductRelated_Duration  \\\n",
              "0                     0.0               1                 0.000000   \n",
              "1                     0.0               2                64.000000   \n",
              "2                     0.0               1                 0.000000   \n",
              "3                     0.0               2                 2.666667   \n",
              "4                     0.0              10               627.500000   \n",
              "\n",
              "   BounceRates  ExitRates  PageValues  SpecialDay  ...  Month_Jul  Month_June  \\\n",
              "0         0.20       0.20         0.0         0.0  ...          0           0   \n",
              "1         0.00       0.10         0.0         0.0  ...          0           0   \n",
              "2         0.20       0.20         0.0         0.0  ...          0           0   \n",
              "3         0.05       0.14         0.0         0.0  ...          0           0   \n",
              "4         0.02       0.05         0.0         0.0  ...          0           0   \n",
              "\n",
              "   Month_Mar  Month_May  Month_Nov  Month_Oct  Month_Sep  \\\n",
              "0          0          0          0          0          0   \n",
              "1          0          0          0          0          0   \n",
              "2          0          0          0          0          0   \n",
              "3          0          0          0          0          0   \n",
              "4          0          0          0          0          0   \n",
              "\n",
              "   VisitorType_New_Visitor  VisitorType_Other  VisitorType_Returning_Visitor  \n",
              "0                        0                  0                              1  \n",
              "1                        0                  0                              1  \n",
              "2                        0                  0                              1  \n",
              "3                        0                  0                              1  \n",
              "4                        0                  0                              1  \n",
              "\n",
              "[5 rows x 29 columns]"
            ],
            "text/html": [
              "\n",
              "  <div id=\"df-4801eaae-2e13-4927-9a82-60f53ea271b3\">\n",
              "    <div class=\"colab-df-container\">\n",
              "      <div>\n",
              "<style scoped>\n",
              "    .dataframe tbody tr th:only-of-type {\n",
              "        vertical-align: middle;\n",
              "    }\n",
              "\n",
              "    .dataframe tbody tr th {\n",
              "        vertical-align: top;\n",
              "    }\n",
              "\n",
              "    .dataframe thead th {\n",
              "        text-align: right;\n",
              "    }\n",
              "</style>\n",
              "<table border=\"1\" class=\"dataframe\">\n",
              "  <thead>\n",
              "    <tr style=\"text-align: right;\">\n",
              "      <th></th>\n",
              "      <th>Administrative</th>\n",
              "      <th>Administrative_Duration</th>\n",
              "      <th>Informational</th>\n",
              "      <th>Informational_Duration</th>\n",
              "      <th>ProductRelated</th>\n",
              "      <th>ProductRelated_Duration</th>\n",
              "      <th>BounceRates</th>\n",
              "      <th>ExitRates</th>\n",
              "      <th>PageValues</th>\n",
              "      <th>SpecialDay</th>\n",
              "      <th>...</th>\n",
              "      <th>Month_Jul</th>\n",
              "      <th>Month_June</th>\n",
              "      <th>Month_Mar</th>\n",
              "      <th>Month_May</th>\n",
              "      <th>Month_Nov</th>\n",
              "      <th>Month_Oct</th>\n",
              "      <th>Month_Sep</th>\n",
              "      <th>VisitorType_New_Visitor</th>\n",
              "      <th>VisitorType_Other</th>\n",
              "      <th>VisitorType_Returning_Visitor</th>\n",
              "    </tr>\n",
              "  </thead>\n",
              "  <tbody>\n",
              "    <tr>\n",
              "      <th>0</th>\n",
              "      <td>0</td>\n",
              "      <td>0.0</td>\n",
              "      <td>0</td>\n",
              "      <td>0.0</td>\n",
              "      <td>1</td>\n",
              "      <td>0.000000</td>\n",
              "      <td>0.20</td>\n",
              "      <td>0.20</td>\n",
              "      <td>0.0</td>\n",
              "      <td>0.0</td>\n",
              "      <td>...</td>\n",
              "      <td>0</td>\n",
              "      <td>0</td>\n",
              "      <td>0</td>\n",
              "      <td>0</td>\n",
              "      <td>0</td>\n",
              "      <td>0</td>\n",
              "      <td>0</td>\n",
              "      <td>0</td>\n",
              "      <td>0</td>\n",
              "      <td>1</td>\n",
              "    </tr>\n",
              "    <tr>\n",
              "      <th>1</th>\n",
              "      <td>0</td>\n",
              "      <td>0.0</td>\n",
              "      <td>0</td>\n",
              "      <td>0.0</td>\n",
              "      <td>2</td>\n",
              "      <td>64.000000</td>\n",
              "      <td>0.00</td>\n",
              "      <td>0.10</td>\n",
              "      <td>0.0</td>\n",
              "      <td>0.0</td>\n",
              "      <td>...</td>\n",
              "      <td>0</td>\n",
              "      <td>0</td>\n",
              "      <td>0</td>\n",
              "      <td>0</td>\n",
              "      <td>0</td>\n",
              "      <td>0</td>\n",
              "      <td>0</td>\n",
              "      <td>0</td>\n",
              "      <td>0</td>\n",
              "      <td>1</td>\n",
              "    </tr>\n",
              "    <tr>\n",
              "      <th>2</th>\n",
              "      <td>0</td>\n",
              "      <td>0.0</td>\n",
              "      <td>0</td>\n",
              "      <td>0.0</td>\n",
              "      <td>1</td>\n",
              "      <td>0.000000</td>\n",
              "      <td>0.20</td>\n",
              "      <td>0.20</td>\n",
              "      <td>0.0</td>\n",
              "      <td>0.0</td>\n",
              "      <td>...</td>\n",
              "      <td>0</td>\n",
              "      <td>0</td>\n",
              "      <td>0</td>\n",
              "      <td>0</td>\n",
              "      <td>0</td>\n",
              "      <td>0</td>\n",
              "      <td>0</td>\n",
              "      <td>0</td>\n",
              "      <td>0</td>\n",
              "      <td>1</td>\n",
              "    </tr>\n",
              "    <tr>\n",
              "      <th>3</th>\n",
              "      <td>0</td>\n",
              "      <td>0.0</td>\n",
              "      <td>0</td>\n",
              "      <td>0.0</td>\n",
              "      <td>2</td>\n",
              "      <td>2.666667</td>\n",
              "      <td>0.05</td>\n",
              "      <td>0.14</td>\n",
              "      <td>0.0</td>\n",
              "      <td>0.0</td>\n",
              "      <td>...</td>\n",
              "      <td>0</td>\n",
              "      <td>0</td>\n",
              "      <td>0</td>\n",
              "      <td>0</td>\n",
              "      <td>0</td>\n",
              "      <td>0</td>\n",
              "      <td>0</td>\n",
              "      <td>0</td>\n",
              "      <td>0</td>\n",
              "      <td>1</td>\n",
              "    </tr>\n",
              "    <tr>\n",
              "      <th>4</th>\n",
              "      <td>0</td>\n",
              "      <td>0.0</td>\n",
              "      <td>0</td>\n",
              "      <td>0.0</td>\n",
              "      <td>10</td>\n",
              "      <td>627.500000</td>\n",
              "      <td>0.02</td>\n",
              "      <td>0.05</td>\n",
              "      <td>0.0</td>\n",
              "      <td>0.0</td>\n",
              "      <td>...</td>\n",
              "      <td>0</td>\n",
              "      <td>0</td>\n",
              "      <td>0</td>\n",
              "      <td>0</td>\n",
              "      <td>0</td>\n",
              "      <td>0</td>\n",
              "      <td>0</td>\n",
              "      <td>0</td>\n",
              "      <td>0</td>\n",
              "      <td>1</td>\n",
              "    </tr>\n",
              "  </tbody>\n",
              "</table>\n",
              "<p>5 rows × 29 columns</p>\n",
              "</div>\n",
              "      <button class=\"colab-df-convert\" onclick=\"convertToInteractive('df-4801eaae-2e13-4927-9a82-60f53ea271b3')\"\n",
              "              title=\"Convert this dataframe to an interactive table.\"\n",
              "              style=\"display:none;\">\n",
              "        \n",
              "  <svg xmlns=\"http://www.w3.org/2000/svg\" height=\"24px\"viewBox=\"0 0 24 24\"\n",
              "       width=\"24px\">\n",
              "    <path d=\"M0 0h24v24H0V0z\" fill=\"none\"/>\n",
              "    <path d=\"M18.56 5.44l.94 2.06.94-2.06 2.06-.94-2.06-.94-.94-2.06-.94 2.06-2.06.94zm-11 1L8.5 8.5l.94-2.06 2.06-.94-2.06-.94L8.5 2.5l-.94 2.06-2.06.94zm10 10l.94 2.06.94-2.06 2.06-.94-2.06-.94-.94-2.06-.94 2.06-2.06.94z\"/><path d=\"M17.41 7.96l-1.37-1.37c-.4-.4-.92-.59-1.43-.59-.52 0-1.04.2-1.43.59L10.3 9.45l-7.72 7.72c-.78.78-.78 2.05 0 2.83L4 21.41c.39.39.9.59 1.41.59.51 0 1.02-.2 1.41-.59l7.78-7.78 2.81-2.81c.8-.78.8-2.07 0-2.86zM5.41 20L4 18.59l7.72-7.72 1.47 1.35L5.41 20z\"/>\n",
              "  </svg>\n",
              "      </button>\n",
              "      \n",
              "  <style>\n",
              "    .colab-df-container {\n",
              "      display:flex;\n",
              "      flex-wrap:wrap;\n",
              "      gap: 12px;\n",
              "    }\n",
              "\n",
              "    .colab-df-convert {\n",
              "      background-color: #E8F0FE;\n",
              "      border: none;\n",
              "      border-radius: 50%;\n",
              "      cursor: pointer;\n",
              "      display: none;\n",
              "      fill: #1967D2;\n",
              "      height: 32px;\n",
              "      padding: 0 0 0 0;\n",
              "      width: 32px;\n",
              "    }\n",
              "\n",
              "    .colab-df-convert:hover {\n",
              "      background-color: #E2EBFA;\n",
              "      box-shadow: 0px 1px 2px rgba(60, 64, 67, 0.3), 0px 1px 3px 1px rgba(60, 64, 67, 0.15);\n",
              "      fill: #174EA6;\n",
              "    }\n",
              "\n",
              "    [theme=dark] .colab-df-convert {\n",
              "      background-color: #3B4455;\n",
              "      fill: #D2E3FC;\n",
              "    }\n",
              "\n",
              "    [theme=dark] .colab-df-convert:hover {\n",
              "      background-color: #434B5C;\n",
              "      box-shadow: 0px 1px 3px 1px rgba(0, 0, 0, 0.15);\n",
              "      filter: drop-shadow(0px 1px 2px rgba(0, 0, 0, 0.3));\n",
              "      fill: #FFFFFF;\n",
              "    }\n",
              "  </style>\n",
              "\n",
              "      <script>\n",
              "        const buttonEl =\n",
              "          document.querySelector('#df-4801eaae-2e13-4927-9a82-60f53ea271b3 button.colab-df-convert');\n",
              "        buttonEl.style.display =\n",
              "          google.colab.kernel.accessAllowed ? 'block' : 'none';\n",
              "\n",
              "        async function convertToInteractive(key) {\n",
              "          const element = document.querySelector('#df-4801eaae-2e13-4927-9a82-60f53ea271b3');\n",
              "          const dataTable =\n",
              "            await google.colab.kernel.invokeFunction('convertToInteractive',\n",
              "                                                     [key], {});\n",
              "          if (!dataTable) return;\n",
              "\n",
              "          const docLinkHtml = 'Like what you see? Visit the ' +\n",
              "            '<a target=\"_blank\" href=https://colab.research.google.com/notebooks/data_table.ipynb>data table notebook</a>'\n",
              "            + ' to learn more about interactive tables.';\n",
              "          element.innerHTML = '';\n",
              "          dataTable['output_type'] = 'display_data';\n",
              "          await google.colab.output.renderOutput(dataTable, element);\n",
              "          const docLink = document.createElement('div');\n",
              "          docLink.innerHTML = docLinkHtml;\n",
              "          element.appendChild(docLink);\n",
              "        }\n",
              "      </script>\n",
              "    </div>\n",
              "  </div>\n",
              "  "
            ]
          },
          "metadata": {},
          "execution_count": 105
        }
      ]
    },
    {
      "cell_type": "code",
      "source": [
        "sns.countplot(x='Revenue', data=dummy_data, palette='CMRmap')\n",
        "class_percent = dummy_data['Revenue'].value_counts(normalize=True) * 100\n",
        "print('Sessions without purchase : {:.2f}%'.format(class_percent[0]))\n",
        "print('Sessions with purchase: {:.2f}%'.format(class_percent[1]))"
      ],
      "metadata": {
        "colab": {
          "base_uri": "https://localhost:8080/",
          "height": 314
        },
        "id": "zCjkujrCpp_C",
        "outputId": "fd94fc8d-7052-42e2-9b6c-6315caa03bd9"
      },
      "execution_count": 106,
      "outputs": [
        {
          "output_type": "stream",
          "name": "stdout",
          "text": [
            "Sessions without purchase : 84.53%\n",
            "Sessions with purchase: 15.47%\n"
          ]
        },
        {
          "output_type": "display_data",
          "data": {
            "text/plain": [
              "<Figure size 432x288 with 1 Axes>"
            ],
            "image/png": "[encoded data removed]"
          },
          "metadata": {
            "needs_background": "light"
          }
        }
      ]
    },
    {
      "cell_type": "code",
      "source": [
        "X, y = dummy_data.drop('Revenue', axis=1), dummy_data['Revenue']"
      ],
      "metadata": {
        "id": "UCEURfDApvyR"
      },
      "execution_count": 107,
      "outputs": []
    },
    {
      "cell_type": "code",
      "source": [
        "X_train, X_valid, y_train, y_valid = model_selection.train_test_split(X, y, stratify = y, test_size=0.2, random_state=42)\n",
        "X_train.shape"
      ],
      "metadata": {
        "colab": {
          "base_uri": "https://localhost:8080/"
        },
        "id": "YG9t4EVhp2wW",
        "outputId": "6152c5ac-eeff-437c-e715-65dcf58143a5"
      },
      "execution_count": 111,
      "outputs": [
        {
          "output_type": "execute_result",
          "data": {
            "text/plain": [
              "(9864, 28)"
            ]
          },
          "metadata": {},
          "execution_count": 111
        }
      ]
    },
    {
      "cell_type": "code",
      "source": [
        "model = ensemble.RandomForestClassifier(random_state=42)\n",
        "model.fit(X_train, y_train)\n",
        "\n",
        "skf = model_selection.StratifiedKFold(n_splits=5)\n",
        "\n",
        "cv_metrics = model_selection.cross_validate(\n",
        "    model, X_train, y_train, cv=skf, scoring='f1', return_train_score=True\n",
        ") \n",
        "\n",
        "print('Train k-fold mean f1: {:.2f}'.format(np.mean(cv_metrics['train_score']))) \n",
        "print('Valid k-fold mean f1: {:.2f}'.format(np.mean(cv_metrics['test_score']))) "
      ],
      "metadata": {
        "colab": {
          "base_uri": "https://localhost:8080/"
        },
        "id": "reh7ABzPqEWX",
        "outputId": "ad257666-518f-41f9-b125-4262fb83169e"
      },
      "execution_count": 116,
      "outputs": [
        {
          "output_type": "stream",
          "name": "stdout",
          "text": [
            "Train k-fold mean f1: 1.00\n",
            "Valid k-fold mean f1: 0.65\n"
          ]
        }
      ]
    },
    {
      "cell_type": "code",
      "source": [
        "models = [ensemble.RandomForestClassifier(max_depth = 5, n_estimators = 200, min_samples_leaf= 5, random_state=42),\n",
        "          ensemble.RandomForestClassifier(max_depth = 7, n_estimators = 200, min_samples_leaf= 5, random_state=42),\n",
        "          ensemble.RandomForestClassifier(max_depth = 12, n_estimators = 200, min_samples_leaf= 5, random_state=42)] "
      ],
      "metadata": {
        "id": "LdmzJSDLq3Iu"
      },
      "execution_count": 117,
      "outputs": []
    },
    {
      "cell_type": "code",
      "source": [
        "#Создаём объект кросс-валидатора k-fold со стратификацией\n",
        "skf = model_selection.StratifiedKFold(n_splits=5)\n",
        "#Визуализируем кривые обучения\n",
        "fig, axes = plt.subplots(1, 3, figsize=(15, 4)) #фигура + три координатных плоскости\n",
        "#Создаём цикл по списку моделей и индексам этого списка\n",
        "for i, model in enumerate(models): #i — текущий индекс, model — текущая модель\n",
        "    plot_learning_curve(model, X_train, y_train, skf, ax=axes[i], title=f'model {i+1}')"
      ],
      "metadata": {
        "colab": {
          "base_uri": "https://localhost:8080/",
          "height": 294
        },
        "id": "q-ri9b-Ir8Yp",
        "outputId": "e997aae5-d0ec-4a94-b9cf-9b37da54058e"
      },
      "execution_count": 118,
      "outputs": [
        {
          "output_type": "display_data",
          "data": {
            "text/plain": [
              "<Figure size 1080x288 with 3 Axes>"
            ],
            "image/png": "[encoded data removed]"
          },
          "metadata": {
            "needs_background": "light"
          }
        }
      ]
    },
    {
      "cell_type": "code",
      "source": [
        "model =  ensemble.RandomForestClassifier(max_depth = 7, n_estimators = 200, min_samples_leaf= 5, random_state=42)\n",
        "model.fit(X_train, y_train)\n",
        "\n",
        "y_test_predict = model.predict(X_valid)\n",
        "print(metrics.classification_report(y_valid, y_test_predict))"
      ],
      "metadata": {
        "colab": {
          "base_uri": "https://localhost:8080/"
        },
        "id": "Rm_5FUpssES1",
        "outputId": "5c325ac6-da53-49ed-fff3-da0f1a680870"
      },
      "execution_count": 122,
      "outputs": [
        {
          "output_type": "stream",
          "name": "stdout",
          "text": [
            "              precision    recall  f1-score   support\n",
            "\n",
            "       False       0.91      0.98      0.94      2084\n",
            "        True       0.79      0.49      0.60       382\n",
            "\n",
            "    accuracy                           0.90      2466\n",
            "   macro avg       0.85      0.73      0.77      2466\n",
            "weighted avg       0.89      0.90      0.89      2466\n",
            "\n"
          ]
        }
      ]
    },
    {
      "cell_type": "code",
      "source": [
        "model.fit(X_train, y_train)\n",
        "#Создаём кросс-валидатор k-fold со стратификацией\n",
        "skf = model_selection.StratifiedKFold(n_splits=5)\n",
        "#Делаем предсказание вероятностей на кросс-валидации\n",
        "y_cv_proba_pred = model_selection.cross_val_predict(model, X_train, y_train, cv=skf, method='predict_proba')"
      ],
      "metadata": {
        "id": "kN58IxfpsuwP"
      },
      "execution_count": 123,
      "outputs": []
    },
    {
      "cell_type": "code",
      "source": [
        "y_cv_proba_pred = y_cv_proba_pred[:, 1]\n",
        "precision, recall, thresholds = metrics.precision_recall_curve(y_train, y_cv_proba_pred)\n",
        "#Вычисляем F1-score при различных threshold\n",
        "f1_scores = (2 * precision * recall) / (precision + recall)\n",
        "#Определяем индекс максимума\n",
        "idx = np.argmax(f1_scores)\n",
        "print('Best threshold = {:.2f}, F1-Score = {:.2f}'.format(thresholds[idx], f1_scores[idx]))\n",
        " \n",
        "#Строим PR-кривую\n",
        "fig, ax = plt.subplots(figsize=(10, 5)) #фигура + координатная плоскость\n",
        "#Строим линейный график зависимости precision от recall\n",
        "ax.plot(precision, recall, label='Decision Tree PR')\n",
        "#Отмечаем точку максимума F1\n",
        "ax.scatter(precision[idx], recall[idx], marker='o', color='black', label='Best F1 score')\n",
        "#Даём графику название и подписываем оси\n",
        "ax.set_title('Precision-recall curve')\n",
        "ax.set_xlabel('Recall')\n",
        "ax.set_ylabel('Precision')\n",
        "#Отображаем легенду\n",
        "ax.legend();"
      ],
      "metadata": {
        "colab": {
          "base_uri": "https://localhost:8080/",
          "height": 366
        },
        "id": "Du7M4tg1toue",
        "outputId": "46835db3-fc80-4995-9e9e-9dff670d1326"
      },
      "execution_count": 124,
      "outputs": [
        {
          "output_type": "stream",
          "name": "stdout",
          "text": [
            "Best threshold = 0.36, F1-Score = 0.69\n"
          ]
        },
        {
          "output_type": "display_data",
          "data": {
            "text/plain": [
              "<Figure size 720x360 with 1 Axes>"
            ],
            "image/png": "[encoded data removed]"
          },
          "metadata": {
            "needs_background": "light"
          }
        }
      ]
    },
    {
      "cell_type": "code",
      "source": [
        "threshold_opt = 0.33\n",
        "y_valid_pred_proba = model.predict_proba(X_valid)[:, 1]\n",
        "y_valid_pred = (y_valid_pred_proba > threshold_opt).astype('int')\n",
        "#Считаем метрики\n",
        "print(metrics.classification_report(y_valid, y_valid_pred))"
      ],
      "metadata": {
        "colab": {
          "base_uri": "https://localhost:8080/"
        },
        "id": "3RnG23tYt8Pf",
        "outputId": "55199294-6ca7-4b41-ab80-8774b7ab004c"
      },
      "execution_count": 125,
      "outputs": [
        {
          "output_type": "stream",
          "name": "stdout",
          "text": [
            "              precision    recall  f1-score   support\n",
            "\n",
            "       False       0.95      0.92      0.93      2084\n",
            "        True       0.63      0.72      0.67       382\n",
            "\n",
            "    accuracy                           0.89      2466\n",
            "   macro avg       0.79      0.82      0.80      2466\n",
            "weighted avg       0.90      0.89      0.89      2466\n",
            "\n"
          ]
        }
      ]
    },
    {
      "cell_type": "code",
      "source": [],
      "metadata": {
        "id": "5wCdyNlvuUVh"
      },
      "execution_count": null,
      "outputs": []
    }
  ]
}