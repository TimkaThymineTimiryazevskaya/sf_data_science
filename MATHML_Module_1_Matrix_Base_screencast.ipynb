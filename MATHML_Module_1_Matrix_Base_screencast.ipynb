{
  "cells": [
    {
      "cell_type": "markdown",
      "metadata": {
        "id": "view-in-github",
        "colab_type": "text"
      },
      "source": [
        "<a href=\"https://colab.research.google.com/github/TimkaThymineTimiryazevskaya/sf_data_science/blob/main/MATHML_Module_1_Matrix_Base_screencast.ipynb\" target=\"_parent\"><img src=\"https://colab.research.google.com/assets/colab-badge.svg\" alt=\"Open In Colab\"/></a>"
      ]
    },
    {
      "cell_type": "code",
      "execution_count": 1,
      "metadata": {
        "collapsed": true,
        "id": "JoPFewW7X-LN"
      },
      "outputs": [],
      "source": [
        "import numpy as np"
      ]
    },
    {
      "cell_type": "code",
      "execution_count": null,
      "metadata": {
        "collapsed": true,
        "id": "HyzGHgvqX-LT"
      },
      "outputs": [],
      "source": [
        "# как создать матрицу?"
      ]
    },
    {
      "cell_type": "code",
      "execution_count": 2,
      "metadata": {
        "colab": {
          "base_uri": "https://localhost:8080/"
        },
        "id": "4qZpv5dpX-LU",
        "outputId": "019c246e-96bc-4c64-9b03-e7ca830613f0"
      },
      "outputs": [
        {
          "output_type": "execute_result",
          "data": {
            "text/plain": [
              "array([[1, 1],\n",
              "       [2, 3],\n",
              "       [4, 5]])"
            ]
          },
          "metadata": {},
          "execution_count": 2
        }
      ],
      "source": [
        "# как двумерный массив Numpy\n",
        "np.array( [ [1,1] , [2,3] , [4,5] ] )"
      ]
    },
    {
      "cell_type": "code",
      "execution_count": 3,
      "metadata": {
        "colab": {
          "base_uri": "https://localhost:8080/"
        },
        "id": "7DwEkOYsX-LV",
        "outputId": "5d5f7da6-dd9c-4fb9-bf08-26da5e7eedb8"
      },
      "outputs": [
        {
          "output_type": "stream",
          "name": "stdout",
          "text": [
            "Data Frame:\n",
            "    0   1   2\n",
            "0   1   2   3\n",
            "1   4   5   6\n",
            "2   7   8   9\n",
            "3  10  11  12\n",
            "Matrix:\n",
            "[[ 1  2  3]\n",
            " [ 4  5  6]\n",
            " [ 7  8  9]\n",
            " [10 11 12]]\n"
          ]
        }
      ],
      "source": [
        "# преобразовать из Pandas DataFrame\n",
        "import pandas as pd\n",
        "\n",
        "data=[[1,2,3],[4,5,6],[7,8,9],[10,11,12]]\n",
        "df = pd.DataFrame(data)\n",
        "\n",
        "A = df.values\n",
        "\n",
        "print('Data Frame:')\n",
        "print(df)\n",
        "print('Matrix:')\n",
        "print(A)"
      ]
    },
    {
      "cell_type": "code",
      "execution_count": 4,
      "metadata": {
        "colab": {
          "base_uri": "https://localhost:8080/"
        },
        "id": "dJ_31XbVX-LV",
        "outputId": "167ab1ad-09d7-4314-bc69-f1b90f799ec6"
      },
      "outputs": [
        {
          "output_type": "execute_result",
          "data": {
            "text/plain": [
              "(4, 3)"
            ]
          },
          "metadata": {},
          "execution_count": 4
        }
      ],
      "source": [
        "# размер матрицы\n",
        "np.shape(A)"
      ]
    },
    {
      "cell_type": "code",
      "execution_count": 5,
      "metadata": {
        "colab": {
          "base_uri": "https://localhost:8080/"
        },
        "id": "zc23aBrgX-LW",
        "outputId": "96d1bb50-d992-4364-f734-c9678b84023b"
      },
      "outputs": [
        {
          "output_type": "execute_result",
          "data": {
            "text/plain": [
              "array([[1],\n",
              "       [2],\n",
              "       [3]])"
            ]
          },
          "metadata": {},
          "execution_count": 5
        }
      ],
      "source": [
        "# вектор-столбец\n",
        "x=np.array([1,2,3])\n",
        "np.reshape(x,(3,1))"
      ]
    },
    {
      "cell_type": "code",
      "execution_count": 6,
      "metadata": {
        "colab": {
          "base_uri": "https://localhost:8080/"
        },
        "id": "aymb68kOX-LW",
        "outputId": "59b0b899-40e7-4223-b390-488e733e56a2"
      },
      "outputs": [
        {
          "output_type": "execute_result",
          "data": {
            "text/plain": [
              "array([[1, 2, 3]])"
            ]
          },
          "metadata": {},
          "execution_count": 6
        }
      ],
      "source": [
        "# вектор-строка\n",
        "np.reshape(x,(1,3))"
      ]
    },
    {
      "cell_type": "code",
      "execution_count": 7,
      "metadata": {
        "colab": {
          "base_uri": "https://localhost:8080/"
        },
        "id": "-J0g7x1BX-LX",
        "outputId": "855d7021-1f3f-4a15-9744-187c3eae7504"
      },
      "outputs": [
        {
          "output_type": "stream",
          "name": "stdout",
          "text": [
            "[[1 2 3]] (1, 3)\n"
          ]
        }
      ],
      "source": [
        "# вектор-строка\n",
        "x_row=np.array([1, 2, 3], ndmin=2)\n",
        "print(x_row,np.shape(x_row))"
      ]
    },
    {
      "cell_type": "code",
      "execution_count": 8,
      "metadata": {
        "colab": {
          "base_uri": "https://localhost:8080/"
        },
        "id": "mp9y0zSuX-LY",
        "outputId": "468b9c1f-4721-4d23-de9d-f6855700ead0"
      },
      "outputs": [
        {
          "output_type": "stream",
          "name": "stdout",
          "text": [
            "матрица А:\n",
            "[[ 1  2  3]\n",
            " [ 4  5  6]\n",
            " [ 7  8  9]\n",
            " [10 11 12]]\n",
            "Первая строка матрицы А:\n",
            "[1 2 3]\n",
            "Третий столбец матрицы А:\n",
            "[ 3  6  9 12]\n",
            "Элемент а_43:\n",
            "12\n"
          ]
        }
      ],
      "source": [
        "# индексация матриц (двумерных массивов numpy)\n",
        "print('матрица А:')\n",
        "print(A)\n",
        "print('Первая строка матрицы А:')\n",
        "print(A[0])\n",
        "print('Третий столбец матрицы А:')\n",
        "print(A[:,2])\n",
        "print('Элемент а_43:')\n",
        "print(A[3,2])"
      ]
    },
    {
      "cell_type": "code",
      "execution_count": 9,
      "metadata": {
        "collapsed": true,
        "id": "pGy8jNpbX-LZ"
      },
      "outputs": [],
      "source": [
        "# создание специальных матриц"
      ]
    },
    {
      "cell_type": "code",
      "execution_count": 10,
      "metadata": {
        "colab": {
          "base_uri": "https://localhost:8080/"
        },
        "id": "N-cGG9afX-LZ",
        "outputId": "696301b8-6fd6-45e5-f318-443258b12298"
      },
      "outputs": [
        {
          "output_type": "execute_result",
          "data": {
            "text/plain": [
              "array([[0., 0., 0.],\n",
              "       [0., 0., 0.]])"
            ]
          },
          "metadata": {},
          "execution_count": 10
        }
      ],
      "source": [
        "# нулевая\n",
        "np.zeros((2,3))"
      ]
    },
    {
      "cell_type": "code",
      "execution_count": 11,
      "metadata": {
        "colab": {
          "base_uri": "https://localhost:8080/"
        },
        "id": "nKpP5pbxX-La",
        "outputId": "bba75b0e-1d4e-4545-e0e1-67391a04bd32"
      },
      "outputs": [
        {
          "output_type": "execute_result",
          "data": {
            "text/plain": [
              "array([[1., 0., 0.],\n",
              "       [0., 1., 0.],\n",
              "       [0., 0., 1.]])"
            ]
          },
          "metadata": {},
          "execution_count": 11
        }
      ],
      "source": [
        "# единичная\n",
        "np.eye(3)"
      ]
    },
    {
      "cell_type": "code",
      "execution_count": 12,
      "metadata": {
        "colab": {
          "base_uri": "https://localhost:8080/"
        },
        "id": "w_Ry22OwX-La",
        "outputId": "94b3b6a3-6631-410a-a944-3ac4010c0fde"
      },
      "outputs": [
        {
          "output_type": "execute_result",
          "data": {
            "text/plain": [
              "array([[1., 1., 1., 1., 1.],\n",
              "       [1., 1., 1., 1., 1.],\n",
              "       [1., 1., 1., 1., 1.]])"
            ]
          },
          "metadata": {},
          "execution_count": 12
        }
      ],
      "source": [
        "# матрица единиц\n",
        "np.ones((3,5))"
      ]
    },
    {
      "cell_type": "code",
      "execution_count": 13,
      "metadata": {
        "colab": {
          "base_uri": "https://localhost:8080/"
        },
        "id": "Z8ZpNKhvX-Lb",
        "outputId": "df1c6f5b-5236-4b94-cf7d-ba0ed8623235"
      },
      "outputs": [
        {
          "output_type": "execute_result",
          "data": {
            "text/plain": [
              "array([[1, 0, 0],\n",
              "       [0, 2, 0],\n",
              "       [0, 0, 3]])"
            ]
          },
          "metadata": {},
          "execution_count": 13
        }
      ],
      "source": [
        "# Диагональная\n",
        "diagonal=[1,2,3]\n",
        "np.diag(diagonal)"
      ]
    },
    {
      "cell_type": "code",
      "execution_count": 14,
      "metadata": {
        "colab": {
          "base_uri": "https://localhost:8080/"
        },
        "id": "b2SdBgrDX-Lb",
        "outputId": "fb5af7cd-5d0b-406f-a2ef-b928f56688c5"
      },
      "outputs": [
        {
          "output_type": "execute_result",
          "data": {
            "text/plain": [
              "array([[5., 0., 0.],\n",
              "       [0., 5., 0.],\n",
              "       [0., 0., 5.]])"
            ]
          },
          "metadata": {},
          "execution_count": 14
        }
      ],
      "source": [
        "# Шаровая\n",
        "5*np.eye(3)"
      ]
    },
    {
      "cell_type": "code",
      "execution_count": 15,
      "metadata": {
        "collapsed": true,
        "id": "2BtoCukrX-Lc"
      },
      "outputs": [],
      "source": [
        "A=np.array([[1,1],[2,3],[4,5]])\n",
        "B=np.array([[1,-1],[-2,3],[4,-5]])"
      ]
    },
    {
      "cell_type": "code",
      "execution_count": 16,
      "metadata": {
        "colab": {
          "base_uri": "https://localhost:8080/"
        },
        "id": "mgBuFyxnX-Lc",
        "outputId": "51656cf5-9eee-460f-99c8-8d45dd609b00"
      },
      "outputs": [
        {
          "output_type": "execute_result",
          "data": {
            "text/plain": [
              "array([[1, 1],\n",
              "       [2, 3],\n",
              "       [4, 5]])"
            ]
          },
          "metadata": {},
          "execution_count": 16
        }
      ],
      "source": [
        "A"
      ]
    },
    {
      "cell_type": "code",
      "execution_count": 17,
      "metadata": {
        "colab": {
          "base_uri": "https://localhost:8080/"
        },
        "id": "fbGgvrFOX-Ld",
        "outputId": "95b1a476-6a34-4dbf-9f9e-b4ef69ed9057"
      },
      "outputs": [
        {
          "output_type": "execute_result",
          "data": {
            "text/plain": [
              "array([[ 1, -1],\n",
              "       [-2,  3],\n",
              "       [ 4, -5]])"
            ]
          },
          "metadata": {},
          "execution_count": 17
        }
      ],
      "source": [
        "B"
      ]
    },
    {
      "cell_type": "code",
      "execution_count": 18,
      "metadata": {
        "colab": {
          "base_uri": "https://localhost:8080/"
        },
        "id": "VOcKm9CCX-Ld",
        "outputId": "5b117777-4660-4578-cee0-47b36bba18ed"
      },
      "outputs": [
        {
          "output_type": "execute_result",
          "data": {
            "text/plain": [
              "array([[2, 0],\n",
              "       [0, 6],\n",
              "       [8, 0]])"
            ]
          },
          "metadata": {},
          "execution_count": 18
        }
      ],
      "source": [
        "A+B"
      ]
    },
    {
      "cell_type": "code",
      "execution_count": null,
      "metadata": {
        "id": "pJjz1NevX-Ld"
      },
      "outputs": [],
      "source": [
        "B+A"
      ]
    },
    {
      "cell_type": "code",
      "execution_count": null,
      "metadata": {
        "id": "lO_pgXRPX-Ld"
      },
      "outputs": [],
      "source": [
        "A-B"
      ]
    },
    {
      "cell_type": "code",
      "execution_count": null,
      "metadata": {
        "id": "yBnwCIm0X-Le"
      },
      "outputs": [],
      "source": [
        "2*A"
      ]
    },
    {
      "cell_type": "code",
      "execution_count": 19,
      "metadata": {
        "colab": {
          "base_uri": "https://localhost:8080/"
        },
        "id": "58ybYQUxX-Le",
        "outputId": "b018de35-4596-40c5-8d45-fd3459b57616"
      },
      "outputs": [
        {
          "output_type": "execute_result",
          "data": {
            "text/plain": [
              "array([[1, 2, 4],\n",
              "       [1, 3, 5]])"
            ]
          },
          "metadata": {},
          "execution_count": 19
        }
      ],
      "source": [
        "A.T"
      ]
    },
    {
      "cell_type": "code",
      "execution_count": 20,
      "metadata": {
        "colab": {
          "base_uri": "https://localhost:8080/"
        },
        "id": "DtAd7R4JX-Le",
        "outputId": "8e88f45c-5238-4380-c281-bdaa623bd924"
      },
      "outputs": [
        {
          "output_type": "execute_result",
          "data": {
            "text/plain": [
              "array([1, 2, 3])"
            ]
          },
          "metadata": {},
          "execution_count": 20
        }
      ],
      "source": [
        "# как транспонировать вектор?\n",
        "x=np.array([1,2,3])\n",
        "x.T"
      ]
    },
    {
      "cell_type": "code",
      "execution_count": 21,
      "metadata": {
        "colab": {
          "base_uri": "https://localhost:8080/"
        },
        "id": "fuJQ-dfWX-Le",
        "outputId": "ae82c368-6a2c-4dbc-80d3-357bb17d8ed4"
      },
      "outputs": [
        {
          "output_type": "stream",
          "name": "stdout",
          "text": [
            "[[1]\n",
            " [2]\n",
            " [3]]\n",
            "(3, 1)\n"
          ]
        }
      ],
      "source": [
        "x_col=np.reshape(x,(3,1))\n",
        "print(x_col)\n",
        "print(np.shape(x_col))"
      ]
    },
    {
      "cell_type": "code",
      "execution_count": 22,
      "metadata": {
        "colab": {
          "base_uri": "https://localhost:8080/"
        },
        "id": "qRc-uwNBX-Le",
        "outputId": "1685131d-fc27-433b-cd4f-d22e2aeedb56"
      },
      "outputs": [
        {
          "output_type": "execute_result",
          "data": {
            "text/plain": [
              "array([[1, 2, 3]])"
            ]
          },
          "metadata": {},
          "execution_count": 22
        }
      ],
      "source": [
        "x_col.T"
      ]
    },
    {
      "cell_type": "code",
      "execution_count": 23,
      "metadata": {
        "colab": {
          "base_uri": "https://localhost:8080/"
        },
        "id": "Bo65-ebCX-Lf",
        "outputId": "c8e7b542-66b6-4187-e672-61b57d7b9683"
      },
      "outputs": [
        {
          "output_type": "stream",
          "name": "stdout",
          "text": [
            "(3,)\n",
            "(3, 1)\n",
            "(1, 3)\n"
          ]
        }
      ],
      "source": [
        "print(np.shape(x))\n",
        "print(np.shape(x_col))\n",
        "print(np.shape(x_col.T))"
      ]
    },
    {
      "cell_type": "code",
      "execution_count": 24,
      "metadata": {
        "collapsed": true,
        "id": "xT7-Pg6dX-Lf"
      },
      "outputs": [],
      "source": [
        "import numpy as np\n",
        "\n",
        "Husband_Income = np.array([100,220,140])\n",
        "Wife_Income = np.array([150,200,130])\n",
        "Mother_In_Law_Income = np.array([90,80,100])\n",
        "\n",
        "Husband_Consumption = np.array([50,50,60])\n",
        "Wife_Consumption = np.array([100,80,140])\n",
        "Mother_In_Law_Consumption = np.array([100,20,140])"
      ]
    },
    {
      "cell_type": "code",
      "source": [
        "Inc = np.array([Husband_Income, Wife_Income, Mother_In_Law_Income])\n",
        "print(Inc.T)"
      ],
      "metadata": {
        "colab": {
          "base_uri": "https://localhost:8080/"
        },
        "id": "KKuIjCpOYSpm",
        "outputId": "0abc3fe6-fad0-4ea1-e1a7-798ab55220f0"
      },
      "execution_count": 25,
      "outputs": [
        {
          "output_type": "stream",
          "name": "stdout",
          "text": [
            "[[100 150  90]\n",
            " [220 200  80]\n",
            " [140 130 100]]\n"
          ]
        }
      ]
    },
    {
      "cell_type": "code",
      "source": [
        "Cons = np.array([Husband_Consumption, Wife_Consumption, Mother_In_Law_Consumption])\n",
        "print(Cons.T)"
      ],
      "metadata": {
        "colab": {
          "base_uri": "https://localhost:8080/"
        },
        "id": "OuuShcvfYtqk",
        "outputId": "6884864c-0b14-46ee-bd8c-2f6d7a5f3708"
      },
      "execution_count": 26,
      "outputs": [
        {
          "output_type": "stream",
          "name": "stdout",
          "text": [
            "[[ 50 100 100]\n",
            " [ 50  80  20]\n",
            " [ 60 140 140]]\n"
          ]
        }
      ]
    },
    {
      "cell_type": "code",
      "source": [
        "a = Inc.T\n",
        "print(a*0.87)"
      ],
      "metadata": {
        "colab": {
          "base_uri": "https://localhost:8080/"
        },
        "id": "1lQQwTaaY7Ig",
        "outputId": "79e6d979-8d85-469f-e262-83b3bb266678"
      },
      "execution_count": 28,
      "outputs": [
        {
          "output_type": "stream",
          "name": "stdout",
          "text": [
            "[[ 87.  130.5  78.3]\n",
            " [191.4 174.   69.6]\n",
            " [121.8 113.1  87. ]]\n"
          ]
        }
      ]
    },
    {
      "cell_type": "code",
      "source": [
        "print(a*0.87-Cons.T)"
      ],
      "metadata": {
        "colab": {
          "base_uri": "https://localhost:8080/"
        },
        "id": "id3cFCPEZKJw",
        "outputId": "4d867e63-93c7-4301-d562-3d6fbf57e552"
      },
      "execution_count": 31,
      "outputs": [
        {
          "output_type": "stream",
          "name": "stdout",
          "text": [
            "[[ 37.   30.5 -21.7]\n",
            " [141.4  94.   49.6]\n",
            " [ 61.8 -26.9 -53. ]]\n"
          ]
        }
      ]
    },
    {
      "cell_type": "code",
      "source": [
        "A = np.matrix(\"1, -5; 2, 2; 0, 3\")\n",
        "B = np.matrix(\"3, 1, 0; -1, 0, 2\")"
      ],
      "metadata": {
        "id": "PgcLzjSrZV4N"
      },
      "execution_count": 32,
      "outputs": []
    },
    {
      "cell_type": "code",
      "source": [
        "A"
      ],
      "metadata": {
        "colab": {
          "base_uri": "https://localhost:8080/"
        },
        "id": "IU2HN2YjZwk8",
        "outputId": "d15e7b24-3953-45df-a9fc-02ed64830ea3"
      },
      "execution_count": 33,
      "outputs": [
        {
          "output_type": "execute_result",
          "data": {
            "text/plain": [
              "matrix([[ 1, -5],\n",
              "        [ 2,  2],\n",
              "        [ 0,  3]])"
            ]
          },
          "metadata": {},
          "execution_count": 33
        }
      ]
    },
    {
      "cell_type": "code",
      "source": [
        "A = np.matrix(\"1,2,1;1,-1,2\")\n",
        "A"
      ],
      "metadata": {
        "colab": {
          "base_uri": "https://localhost:8080/"
        },
        "id": "eP9zdRaaZyFL",
        "outputId": "49dacd3c-230a-4ae7-9cb3-58f6c78cac7d"
      },
      "execution_count": 34,
      "outputs": [
        {
          "output_type": "execute_result",
          "data": {
            "text/plain": [
              "matrix([[ 1,  2,  1],\n",
              "        [ 1, -1,  2]])"
            ]
          },
          "metadata": {},
          "execution_count": 34
        }
      ]
    },
    {
      "cell_type": "code",
      "source": [
        "G = A.T*A\n",
        "G"
      ],
      "metadata": {
        "colab": {
          "base_uri": "https://localhost:8080/"
        },
        "id": "HlNq4c5kbzg9",
        "outputId": "54570937-6cde-4c6e-e0fc-3a528774d84e"
      },
      "execution_count": 35,
      "outputs": [
        {
          "output_type": "execute_result",
          "data": {
            "text/plain": [
              "matrix([[2, 1, 3],\n",
              "        [1, 5, 0],\n",
              "        [3, 0, 5]])"
            ]
          },
          "metadata": {},
          "execution_count": 35
        }
      ]
    },
    {
      "cell_type": "code",
      "source": [
        "A = np.array([[5,-1,3,1,2], [-2,8,5,-1,1]])\n",
        "x = np.array([1,2,3,4,5])\n",
        "A"
      ],
      "metadata": {
        "colab": {
          "base_uri": "https://localhost:8080/"
        },
        "id": "_SLV9dmzb58V",
        "outputId": "53f83032-9bdc-4b82-e6b1-87e55abd5296"
      },
      "execution_count": 41,
      "outputs": [
        {
          "output_type": "execute_result",
          "data": {
            "text/plain": [
              "array([[ 5, -1,  3,  1,  2],\n",
              "       [-2,  8,  5, -1,  1]])"
            ]
          },
          "metadata": {},
          "execution_count": 41
        }
      ]
    },
    {
      "cell_type": "code",
      "source": [
        "print(A@x)"
      ],
      "metadata": {
        "colab": {
          "base_uri": "https://localhost:8080/"
        },
        "id": "vAk5uvVncBfG",
        "outputId": "d806ff4a-3335-4557-f065-90e52682fcaf"
      },
      "execution_count": 43,
      "outputs": [
        {
          "output_type": "stream",
          "name": "stdout",
          "text": [
            "[26 30]\n"
          ]
        }
      ]
    },
    {
      "cell_type": "code",
      "source": [
        "A = np.array([[1,9,8,5], [3,6,3,2], [3,3,3,3], [0,2,5,9], [4,4,1,2]])\n",
        "B = np.array([[1,-1,0,1,1], [-2,0,2,-1,1]])"
      ],
      "metadata": {
        "id": "viq1eV_ccEgM"
      },
      "execution_count": 44,
      "outputs": []
    },
    {
      "cell_type": "code",
      "source": [
        "print(B@A)"
      ],
      "metadata": {
        "colab": {
          "base_uri": "https://localhost:8080/"
        },
        "id": "LbKP1aWgct31",
        "outputId": "8a2aa090-ac51-4570-9651-458c5eebbbad"
      },
      "execution_count": 47,
      "outputs": [
        {
          "output_type": "stream",
          "name": "stdout",
          "text": [
            "[[  2   9  11  14]\n",
            " [  8 -10 -14 -11]]\n"
          ]
        }
      ]
    },
    {
      "cell_type": "code",
      "source": [
        "x = np.array([1,2,1,0,4])\n",
        "y = np.array([2,1,-1,1,0])\n",
        "z = np.array([-1,1,-1,0,0])"
      ],
      "metadata": {
        "id": "SLcO47V_cvfd"
      },
      "execution_count": 48,
      "outputs": []
    },
    {
      "cell_type": "code",
      "source": [
        "A = np.array([x,y,z])\n",
        "G = (A.T@A)\n",
        "G"
      ],
      "metadata": {
        "colab": {
          "base_uri": "https://localhost:8080/"
        },
        "id": "R9Pylkh5c3ZL",
        "outputId": "9f67ad35-eb86-444c-dc90-220f23a59002"
      },
      "execution_count": 51,
      "outputs": [
        {
          "output_type": "execute_result",
          "data": {
            "text/plain": [
              "array([[ 6,  3,  0,  2,  4],\n",
              "       [ 3,  6,  0,  1,  8],\n",
              "       [ 0,  0,  3, -1,  4],\n",
              "       [ 2,  1, -1,  1,  0],\n",
              "       [ 4,  8,  4,  0, 16]])"
            ]
          },
          "metadata": {},
          "execution_count": 51
        }
      ]
    },
    {
      "cell_type": "code",
      "source": [
        "Count_DF = pd.DataFrame({\n",
        "    'Женские стрижки': [10, 2, 12, 4, 6, 10, 22, 7], \n",
        "    'Мужские стрижки': [5, 21, 12, 8, 25, 3, 1, 0], \n",
        "    'Окрашивания':[12, 3, 0, 18, 27, 2, 4, 31],\n",
        "    'Укладка':[15, 25, 30, 14, 25, 17, 25, 31],\n",
        "    'Уход':[10, 6, 4, 5, 18, 12, 20, 28]\n",
        "    }, \n",
        "    index=['Аня', 'Борис', 'Вика', 'Галя', 'Дима', 'Егор', 'Женя','Юра']\n",
        ")\n",
        "Price_DF = pd.DataFrame({\n",
        "    'Женские стрижки': [2, 1.8, 2, 1.8, 2.5, 5, 1.1, 4.5], \n",
        "    'Мужские стрижки': [1.5, 2.5, 2, 1.2, 3.5, 5, 1, 4], \n",
        "    'Окрашивания':[1, 1, 0, 2.8, 2, 3, 1.5, 2.5],\n",
        "    'Укладка':[0.8, 1, 0.5, 0.8, 1, 2, 0.5, 1],\n",
        "    'Уход':[1, 1, 2, 2, 1.5, 2.5, 1.7, 2] \n",
        "    }, \n",
        "    index=['Аня', 'Борис', 'Вика', 'Галя', 'Дима', 'Егор', 'Женя','Юра']\n",
        ")"
      ],
      "metadata": {
        "id": "38s6Znk2c_0o"
      },
      "execution_count": 52,
      "outputs": []
    },
    {
      "cell_type": "code",
      "source": [
        "com = np.array([0.2, 0.2, 0.3, 0.1, 0.1])"
      ],
      "metadata": {
        "id": "topsmGQsdK-n"
      },
      "execution_count": 53,
      "outputs": []
    },
    {
      "cell_type": "code",
      "source": [
        "A = np.array(Count_DF.values)\n",
        "B = np.array(Price_DF.values)"
      ],
      "metadata": {
        "id": "6w2FrhPXdPun"
      },
      "execution_count": 56,
      "outputs": []
    },
    {
      "cell_type": "code",
      "source": [
        "C = A.T@B\n",
        "C"
      ],
      "metadata": {
        "colab": {
          "base_uri": "https://localhost:8080/"
        },
        "id": "jx85NUiSeC8x",
        "outputId": "fd3bc047-481a-4d00-9e74-fa721d0e515f"
      },
      "execution_count": 59,
      "outputs": [
        {
          "output_type": "execute_result",
          "data": {
            "text/plain": [
              "array([[175.5, 169.8, 115.7,  63.2, 129.4],\n",
              "       [164.8, 197.1, 108.9,  68.9, 112.7],\n",
              "       [283.2, 279.6, 208.9,  91. , 165.3],\n",
              "       [474.7, 483.3, 295.2, 165.7, 312.5],\n",
              "       [300.8, 299. , 202. , 100. , 181. ]])"
            ]
          },
          "metadata": {},
          "execution_count": 59
        }
      ]
    },
    {
      "cell_type": "code",
      "source": [
        "com1 = np.ones(1)-com"
      ],
      "metadata": {
        "id": "ebCxBuIiePqX"
      },
      "execution_count": 61,
      "outputs": []
    },
    {
      "cell_type": "code",
      "source": [
        "print(com@C)"
      ],
      "metadata": {
        "colab": {
          "base_uri": "https://localhost:8080/"
        },
        "id": "Xgs3hWrHezdg",
        "outputId": "5ba64f7c-6ca8-4fe0-f5cc-66711e4dbcf3"
      },
      "execution_count": 64,
      "outputs": [
        {
          "output_type": "stream",
          "name": "stdout",
          "text": [
            "[230.57 235.49 157.31  80.29 147.36]\n"
          ]
        }
      ]
    },
    {
      "cell_type": "code",
      "source": [
        "salon_inc = (A*B)@(com)\n",
        "print(salon_inc)"
      ],
      "metadata": {
        "colab": {
          "base_uri": "https://localhost:8080/"
        },
        "id": "vNC3_xtKe6Sj",
        "outputId": "81d08bf7-0a32-4454-c801-9d8c40c39a1d"
      },
      "execution_count": 66,
      "outputs": [
        {
          "output_type": "stream",
          "name": "stdout",
          "text": [
            "[11.3  15.22 11.9  20.6  41.9  21.2  11.49 38.25]\n"
          ]
        }
      ]
    },
    {
      "cell_type": "code",
      "source": [
        "print((A*B)@(com1))"
      ],
      "metadata": {
        "colab": {
          "base_uri": "https://localhost:8080/"
        },
        "id": "yQoZuRPIfMAf",
        "outputId": "217044a4-ef51-421c-a22a-96094510b60b"
      },
      "execution_count": 69,
      "outputs": [
        {
          "output_type": "stream",
          "name": "stdout",
          "text": [
            "[ 50.2   74.88  59.1   67.8  166.6  113.8   66.21 157.75]\n"
          ]
        }
      ]
    },
    {
      "cell_type": "code",
      "source": [
        "A = np.matrix(\"1,2;2,5\")\n",
        "print(np.linalg.inv(A))"
      ],
      "metadata": {
        "colab": {
          "base_uri": "https://localhost:8080/"
        },
        "id": "zmFvMDe2fWqn",
        "outputId": "63674441-aac9-44a2-e14d-7ee5c81f2371"
      },
      "execution_count": 2,
      "outputs": [
        {
          "output_type": "stream",
          "name": "stdout",
          "text": [
            "[[ 5. -2.]\n",
            " [-2.  1.]]\n"
          ]
        }
      ]
    },
    {
      "cell_type": "code",
      "source": [
        "import numpy as np\n",
        "v1 = np.array([1,2,3,1])\n",
        "v2 = np.array([4,5,6,1])\n",
        "v3 = np.array([7,8,9,1])\n",
        "A = np.array([v1, v2, v3]).T\n",
        "print(np.linalg.matrix_rank(A))\n"
      ],
      "metadata": {
        "colab": {
          "base_uri": "https://localhost:8080/"
        },
        "id": "bD3J9-QDm0hK",
        "outputId": "5e3ffbdc-9e67-4619-c9b7-6755d1d11f61"
      },
      "execution_count": 4,
      "outputs": [
        {
          "output_type": "stream",
          "name": "stdout",
          "text": [
            "2\n"
          ]
        }
      ]
    },
    {
      "cell_type": "code",
      "source": [
        "A = np.array([[8, 6, 11], [7, 5, 9],[6, 10, 6]])\n",
        "print(np.linalg.inv(A))"
      ],
      "metadata": {
        "colab": {
          "base_uri": "https://localhost:8080/"
        },
        "id": "03xVuo-soa9f",
        "outputId": "e3b363bd-9e2e-41cb-ac6f-a54726f70153"
      },
      "execution_count": 5,
      "outputs": [
        {
          "output_type": "stream",
          "name": "stdout",
          "text": [
            "[[-1.875    2.3125  -0.03125]\n",
            " [ 0.375   -0.5625   0.15625]\n",
            " [ 1.25    -1.375   -0.0625 ]]\n"
          ]
        }
      ]
    },
    {
      "cell_type": "code",
      "source": [
        "v1 = np.array([9, 10, 7, 7, 9])\n",
        "v2 = np.array([2, 0, 5, 1, 4])\n",
        "v3 = np.array([4, 0, 0, 4, 1])\n",
        "v4 = np.array([3, -4, 3, -1, -4])"
      ],
      "metadata": {
        "id": "R4p6lZ0_pCMa"
      },
      "execution_count": 6,
      "outputs": []
    },
    {
      "cell_type": "code",
      "source": [
        "A= np.array([v1,v2,v3,v4]).T\n",
        "A"
      ],
      "metadata": {
        "colab": {
          "base_uri": "https://localhost:8080/"
        },
        "id": "QrW2n_4tpIrw",
        "outputId": "f45b60af-8201-49d6-8d76-77d138233f62"
      },
      "execution_count": 7,
      "outputs": [
        {
          "output_type": "execute_result",
          "data": {
            "text/plain": [
              "array([[ 9,  2,  4,  3],\n",
              "       [10,  0,  0, -4],\n",
              "       [ 7,  5,  0,  3],\n",
              "       [ 7,  1,  4, -1],\n",
              "       [ 9,  4,  1, -4]])"
            ]
          },
          "metadata": {},
          "execution_count": 7
        }
      ]
    },
    {
      "cell_type": "code",
      "source": [
        "print(np.linalg.matrix_rank(A))"
      ],
      "metadata": {
        "colab": {
          "base_uri": "https://localhost:8080/"
        },
        "id": "lub9RZ_tpQAL",
        "outputId": "c56fcceb-7e0b-4e77-fb06-98e472fdf428"
      },
      "execution_count": 8,
      "outputs": [
        {
          "output_type": "stream",
          "name": "stdout",
          "text": [
            "4\n"
          ]
        }
      ]
    },
    {
      "cell_type": "code",
      "source": [
        "print(A.T@A)"
      ],
      "metadata": {
        "colab": {
          "base_uri": "https://localhost:8080/"
        },
        "id": "VGCozlSnpWyL",
        "outputId": "ba4de95b-4b00-441d-92d8-27ba25d8b0aa"
      },
      "execution_count": 9,
      "outputs": [
        {
          "output_type": "stream",
          "name": "stdout",
          "text": [
            "[[360  96  73 -35]\n",
            " [ 96  46  16   4]\n",
            " [ 73  16  33   4]\n",
            " [-35   4   4  51]]\n"
          ]
        }
      ]
    },
    {
      "cell_type": "code",
      "source": [
        "print(np.linalg.det(A.T@A))"
      ],
      "metadata": {
        "colab": {
          "base_uri": "https://localhost:8080/"
        },
        "id": "lq25xff6pd62",
        "outputId": "878b458e-296b-4ae7-a98d-155db59ac74d"
      },
      "execution_count": 10,
      "outputs": [
        {
          "output_type": "stream",
          "name": "stdout",
          "text": [
            "3716647.9999999995\n"
          ]
        }
      ]
    },
    {
      "cell_type": "code",
      "source": [
        "print(np.linalg.inv(A.T@A))"
      ],
      "metadata": {
        "colab": {
          "base_uri": "https://localhost:8080/"
        },
        "id": "GeDIpnWCplum",
        "outputId": "18945a30-c632-47d5-e924-a6400f833750"
      },
      "execution_count": 11,
      "outputs": [
        {
          "output_type": "stream",
          "name": "stdout",
          "text": [
            "[[ 0.01711488 -0.02798543 -0.02623063  0.01599775]\n",
            " [-0.02798543  0.071967    0.03031441 -0.02722776]\n",
            " [-0.02623063  0.03031441  0.07683106 -0.02640498]\n",
            " [ 0.01599775 -0.02722776 -0.02640498  0.03479318]]\n"
          ]
        }
      ]
    },
    {
      "cell_type": "code",
      "source": [],
      "metadata": {
        "id": "_7CmXoLIpymV"
      },
      "execution_count": null,
      "outputs": []
    }
  ],
  "metadata": {
    "kernelspec": {
      "display_name": "Python 3",
      "language": "python",
      "name": "python3"
    },
    "language_info": {
      "codemirror_mode": {
        "name": "ipython",
        "version": 3
      },
      "file_extension": ".py",
      "mimetype": "text/x-python",
      "name": "python",
      "nbconvert_exporter": "python",
      "pygments_lexer": "ipython3",
      "version": "3.7.1"
    },
    "colab": {
      "provenance": [],
      "include_colab_link": true
    }
  },
  "nbformat": 4,
  "nbformat_minor": 0
}