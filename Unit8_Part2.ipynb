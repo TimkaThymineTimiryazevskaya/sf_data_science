{
  "cells": [
    {
      "cell_type": "markdown",
      "metadata": {
        "id": "view-in-github",
        "colab_type": "text"
      },
      "source": [
        "<a href=\"https://colab.research.google.com/github/TimkaThymineTimiryazevskaya/sf_data_science/blob/main/Unit8_Part2.ipynb\" target=\"_parent\"><img src=\"https://colab.research.google.com/assets/colab-badge.svg\" alt=\"Open In Colab\"/></a>"
      ]
    },
    {
      "cell_type": "code",
      "execution_count": 1,
      "id": "d395f489",
      "metadata": {
        "id": "d395f489"
      },
      "outputs": [],
      "source": [
        "import numpy as np\n",
        "import pandas as pd"
      ]
    },
    {
      "cell_type": "code",
      "execution_count": 3,
      "id": "def89b0c",
      "metadata": {
        "id": "def89b0c"
      },
      "outputs": [],
      "source": [
        "df = pd.read_csv('Advertising.zip',index_col=0)"
      ]
    },
    {
      "cell_type": "code",
      "execution_count": 4,
      "id": "3fbdff65",
      "metadata": {
        "colab": {
          "base_uri": "https://localhost:8080/",
          "height": 206
        },
        "id": "3fbdff65",
        "outputId": "977674b9-1a5c-453b-8a3b-3d7e2564568d"
      },
      "outputs": [
        {
          "output_type": "execute_result",
          "data": {
            "text/plain": [
              "      TV  radio  newspaper  sales\n",
              "1  230.1   37.8       69.2   22.1\n",
              "2   44.5   39.3       45.1   10.4\n",
              "3   17.2   45.9       69.3    9.3\n",
              "4  151.5   41.3       58.5   18.5\n",
              "5  180.8   10.8       58.4   12.9"
            ],
            "text/html": [
              "\n",
              "  <div id=\"df-d533a804-50d4-4291-a790-0d0ad3afadfa\">\n",
              "    <div class=\"colab-df-container\">\n",
              "      <div>\n",
              "<style scoped>\n",
              "    .dataframe tbody tr th:only-of-type {\n",
              "        vertical-align: middle;\n",
              "    }\n",
              "\n",
              "    .dataframe tbody tr th {\n",
              "        vertical-align: top;\n",
              "    }\n",
              "\n",
              "    .dataframe thead th {\n",
              "        text-align: right;\n",
              "    }\n",
              "</style>\n",
              "<table border=\"1\" class=\"dataframe\">\n",
              "  <thead>\n",
              "    <tr style=\"text-align: right;\">\n",
              "      <th></th>\n",
              "      <th>TV</th>\n",
              "      <th>radio</th>\n",
              "      <th>newspaper</th>\n",
              "      <th>sales</th>\n",
              "    </tr>\n",
              "  </thead>\n",
              "  <tbody>\n",
              "    <tr>\n",
              "      <th>1</th>\n",
              "      <td>230.1</td>\n",
              "      <td>37.8</td>\n",
              "      <td>69.2</td>\n",
              "      <td>22.1</td>\n",
              "    </tr>\n",
              "    <tr>\n",
              "      <th>2</th>\n",
              "      <td>44.5</td>\n",
              "      <td>39.3</td>\n",
              "      <td>45.1</td>\n",
              "      <td>10.4</td>\n",
              "    </tr>\n",
              "    <tr>\n",
              "      <th>3</th>\n",
              "      <td>17.2</td>\n",
              "      <td>45.9</td>\n",
              "      <td>69.3</td>\n",
              "      <td>9.3</td>\n",
              "    </tr>\n",
              "    <tr>\n",
              "      <th>4</th>\n",
              "      <td>151.5</td>\n",
              "      <td>41.3</td>\n",
              "      <td>58.5</td>\n",
              "      <td>18.5</td>\n",
              "    </tr>\n",
              "    <tr>\n",
              "      <th>5</th>\n",
              "      <td>180.8</td>\n",
              "      <td>10.8</td>\n",
              "      <td>58.4</td>\n",
              "      <td>12.9</td>\n",
              "    </tr>\n",
              "  </tbody>\n",
              "</table>\n",
              "</div>\n",
              "      <button class=\"colab-df-convert\" onclick=\"convertToInteractive('df-d533a804-50d4-4291-a790-0d0ad3afadfa')\"\n",
              "              title=\"Convert this dataframe to an interactive table.\"\n",
              "              style=\"display:none;\">\n",
              "        \n",
              "  <svg xmlns=\"http://www.w3.org/2000/svg\" height=\"24px\"viewBox=\"0 0 24 24\"\n",
              "       width=\"24px\">\n",
              "    <path d=\"M0 0h24v24H0V0z\" fill=\"none\"/>\n",
              "    <path d=\"M18.56 5.44l.94 2.06.94-2.06 2.06-.94-2.06-.94-.94-2.06-.94 2.06-2.06.94zm-11 1L8.5 8.5l.94-2.06 2.06-.94-2.06-.94L8.5 2.5l-.94 2.06-2.06.94zm10 10l.94 2.06.94-2.06 2.06-.94-2.06-.94-.94-2.06-.94 2.06-2.06.94z\"/><path d=\"M17.41 7.96l-1.37-1.37c-.4-.4-.92-.59-1.43-.59-.52 0-1.04.2-1.43.59L10.3 9.45l-7.72 7.72c-.78.78-.78 2.05 0 2.83L4 21.41c.39.39.9.59 1.41.59.51 0 1.02-.2 1.41-.59l7.78-7.78 2.81-2.81c.8-.78.8-2.07 0-2.86zM5.41 20L4 18.59l7.72-7.72 1.47 1.35L5.41 20z\"/>\n",
              "  </svg>\n",
              "      </button>\n",
              "      \n",
              "  <style>\n",
              "    .colab-df-container {\n",
              "      display:flex;\n",
              "      flex-wrap:wrap;\n",
              "      gap: 12px;\n",
              "    }\n",
              "\n",
              "    .colab-df-convert {\n",
              "      background-color: #E8F0FE;\n",
              "      border: none;\n",
              "      border-radius: 50%;\n",
              "      cursor: pointer;\n",
              "      display: none;\n",
              "      fill: #1967D2;\n",
              "      height: 32px;\n",
              "      padding: 0 0 0 0;\n",
              "      width: 32px;\n",
              "    }\n",
              "\n",
              "    .colab-df-convert:hover {\n",
              "      background-color: #E2EBFA;\n",
              "      box-shadow: 0px 1px 2px rgba(60, 64, 67, 0.3), 0px 1px 3px 1px rgba(60, 64, 67, 0.15);\n",
              "      fill: #174EA6;\n",
              "    }\n",
              "\n",
              "    [theme=dark] .colab-df-convert {\n",
              "      background-color: #3B4455;\n",
              "      fill: #D2E3FC;\n",
              "    }\n",
              "\n",
              "    [theme=dark] .colab-df-convert:hover {\n",
              "      background-color: #434B5C;\n",
              "      box-shadow: 0px 1px 3px 1px rgba(0, 0, 0, 0.15);\n",
              "      filter: drop-shadow(0px 1px 2px rgba(0, 0, 0, 0.3));\n",
              "      fill: #FFFFFF;\n",
              "    }\n",
              "  </style>\n",
              "\n",
              "      <script>\n",
              "        const buttonEl =\n",
              "          document.querySelector('#df-d533a804-50d4-4291-a790-0d0ad3afadfa button.colab-df-convert');\n",
              "        buttonEl.style.display =\n",
              "          google.colab.kernel.accessAllowed ? 'block' : 'none';\n",
              "\n",
              "        async function convertToInteractive(key) {\n",
              "          const element = document.querySelector('#df-d533a804-50d4-4291-a790-0d0ad3afadfa');\n",
              "          const dataTable =\n",
              "            await google.colab.kernel.invokeFunction('convertToInteractive',\n",
              "                                                     [key], {});\n",
              "          if (!dataTable) return;\n",
              "\n",
              "          const docLinkHtml = 'Like what you see? Visit the ' +\n",
              "            '<a target=\"_blank\" href=https://colab.research.google.com/notebooks/data_table.ipynb>data table notebook</a>'\n",
              "            + ' to learn more about interactive tables.';\n",
              "          element.innerHTML = '';\n",
              "          dataTable['output_type'] = 'display_data';\n",
              "          await google.colab.output.renderOutput(dataTable, element);\n",
              "          const docLink = document.createElement('div');\n",
              "          docLink.innerHTML = docLinkHtml;\n",
              "          element.appendChild(docLink);\n",
              "        }\n",
              "      </script>\n",
              "    </div>\n",
              "  </div>\n",
              "  "
            ]
          },
          "metadata": {},
          "execution_count": 4
        }
      ],
      "source": [
        "df.head()"
      ]
    },
    {
      "cell_type": "code",
      "execution_count": 5,
      "id": "eb2ea97b",
      "metadata": {
        "id": "eb2ea97b"
      },
      "outputs": [],
      "source": [
        "X = df['TV']\n",
        "y = df['sales']\n",
        "n = len(y)\n",
        "X = np.append(np.ones((n,1)), X.values.reshape(n,1), axis = 1)\n",
        "y = df['sales'].values.reshape(n,1)\n",
        "par = np.zeros((2,1))"
      ]
    },
    {
      "cell_type": "code",
      "execution_count": 6,
      "id": "6c57c280",
      "metadata": {
        "id": "6c57c280"
      },
      "outputs": [],
      "source": [
        "def cost_function(X, y , par):\n",
        "    y_pred = np.dot(X, par)\n",
        "    error = (y_pred - y)**2\n",
        "    cost = 1/(n)*np.sum(error)\n",
        "    return cost"
      ]
    },
    {
      "cell_type": "code",
      "execution_count": 7,
      "id": "40b464b2",
      "metadata": {
        "id": "40b464b2"
      },
      "outputs": [],
      "source": [
        "def grad_d(X,y, par, alpha, iterations):\n",
        "    costs = []\n",
        "    for i in range(iterations):\n",
        "        y_pred = np.dot(X, par)\n",
        "        der = np.dot (X.transpose(), (y_pred - y))/ n\n",
        "        par -= alpha * der\n",
        "        costs.append(cost_function(X,y, par))\n",
        "    return par, costs"
      ]
    },
    {
      "cell_type": "code",
      "execution_count": 8,
      "id": "1ee5e93b",
      "metadata": {
        "id": "1ee5e93b"
      },
      "outputs": [],
      "source": [
        "par, costs = grad_d(X,y, par, 0.00005, 500000)"
      ]
    },
    {
      "cell_type": "code",
      "execution_count": null,
      "id": "452bddc7",
      "metadata": {
        "id": "452bddc7",
        "outputId": "e2b022ab-644b-4e03-8cfb-056350e7d15c"
      },
      "outputs": [
        {
          "data": {
            "text/plain": [
              "array([[7.02008789],\n",
              "       [0.04760015]])"
            ]
          },
          "execution_count": 171,
          "metadata": {},
          "output_type": "execute_result"
        }
      ],
      "source": [
        "par"
      ]
    },
    {
      "cell_type": "code",
      "execution_count": null,
      "id": "7628aa8a",
      "metadata": {
        "id": "7628aa8a",
        "outputId": "decfe26e-b62b-445f-92c2-633147df06bf"
      },
      "outputs": [
        {
          "name": "stdout",
          "output_type": "stream",
          "text": [
            "                            OLS Regression Results                            \n",
            "==============================================================================\n",
            "Dep. Variable:                      y   R-squared:                       0.612\n",
            "Model:                            OLS   Adj. R-squared:                  0.610\n",
            "Method:                 Least Squares   F-statistic:                     312.1\n",
            "Date:                Sat, 18 Jun 2022   Prob (F-statistic):           1.47e-42\n",
            "Time:                        08:48:52   Log-Likelihood:                -519.05\n",
            "No. Observations:                 200   AIC:                             1042.\n",
            "Df Residuals:                     198   BIC:                             1049.\n",
            "Df Model:                           1                                         \n",
            "Covariance Type:            nonrobust                                         \n",
            "==============================================================================\n",
            "                 coef    std err          t      P>|t|      [0.025      0.975]\n",
            "------------------------------------------------------------------------------\n",
            "const          7.0326      0.458     15.360      0.000       6.130       7.935\n",
            "x1             0.0475      0.003     17.668      0.000       0.042       0.053\n",
            "==============================================================================\n",
            "Omnibus:                        0.531   Durbin-Watson:                   1.935\n",
            "Prob(Omnibus):                  0.767   Jarque-Bera (JB):                0.669\n",
            "Skew:                          -0.089   Prob(JB):                        0.716\n",
            "Kurtosis:                       2.779   Cond. No.                         338.\n",
            "==============================================================================\n",
            "\n",
            "Notes:\n",
            "[1] Standard Errors assume that the covariance matrix of the errors is correctly specified.\n"
          ]
        }
      ],
      "source": [
        "import numpy as np\n",
        "import statsmodels.api as sm\n",
        "mod = sm.OLS(y, X)\n",
        "res = mod.fit()\n",
        "print(res.summary())"
      ]
    },
    {
      "cell_type": "code",
      "execution_count": null,
      "id": "db3259c6",
      "metadata": {
        "id": "db3259c6",
        "outputId": "466826be-7d3b-4e33-ca8a-a66dcfd49c56"
      },
      "outputs": [
        {
          "name": "stdout",
          "output_type": "stream",
          "text": [
            "[[0.         0.04753664]]\n",
            "[7.03259355]\n"
          ]
        }
      ],
      "source": [
        "from sklearn.linear_model import LinearRegression\n",
        "model = LinearRegression()\n",
        "model.fit(X,y)\n",
        "print(model.coef_)\n",
        "print(model.intercept_)"
      ]
    },
    {
      "cell_type": "code",
      "source": [
        "X = df.drop(['sales'], axis=1)\n",
        "y = df['sales']\n",
        "n = len(y)\n",
        "X = np.append(np.ones((n,1)), X.values.reshape(n,3), axis = 1)\n",
        "y = df['sales'].values.reshape(n,1)\n",
        "par = np.zeros((4,1))\n",
        "X"
      ],
      "metadata": {
        "colab": {
          "base_uri": "https://localhost:8080/"
        },
        "id": "RDSH-AiwGVWS",
        "outputId": "7592a6ee-58af-48cc-a21b-1494a5db87b2"
      },
      "id": "RDSH-AiwGVWS",
      "execution_count": 28,
      "outputs": [
        {
          "output_type": "execute_result",
          "data": {
            "text/plain": [
              "array([[  1. , 230.1,  37.8,  69.2],\n",
              "       [  1. ,  44.5,  39.3,  45.1],\n",
              "       [  1. ,  17.2,  45.9,  69.3],\n",
              "       [  1. , 151.5,  41.3,  58.5],\n",
              "       [  1. , 180.8,  10.8,  58.4],\n",
              "       [  1. ,   8.7,  48.9,  75. ],\n",
              "       [  1. ,  57.5,  32.8,  23.5],\n",
              "       [  1. , 120.2,  19.6,  11.6],\n",
              "       [  1. ,   8.6,   2.1,   1. ],\n",
              "       [  1. , 199.8,   2.6,  21.2],\n",
              "       [  1. ,  66.1,   5.8,  24.2],\n",
              "       [  1. , 214.7,  24. ,   4. ],\n",
              "       [  1. ,  23.8,  35.1,  65.9],\n",
              "       [  1. ,  97.5,   7.6,   7.2],\n",
              "       [  1. , 204.1,  32.9,  46. ],\n",
              "       [  1. , 195.4,  47.7,  52.9],\n",
              "       [  1. ,  67.8,  36.6, 114. ],\n",
              "       [  1. , 281.4,  39.6,  55.8],\n",
              "       [  1. ,  69.2,  20.5,  18.3],\n",
              "       [  1. , 147.3,  23.9,  19.1],\n",
              "       [  1. , 218.4,  27.7,  53.4],\n",
              "       [  1. , 237.4,   5.1,  23.5],\n",
              "       [  1. ,  13.2,  15.9,  49.6],\n",
              "       [  1. , 228.3,  16.9,  26.2],\n",
              "       [  1. ,  62.3,  12.6,  18.3],\n",
              "       [  1. , 262.9,   3.5,  19.5],\n",
              "       [  1. , 142.9,  29.3,  12.6],\n",
              "       [  1. , 240.1,  16.7,  22.9],\n",
              "       [  1. , 248.8,  27.1,  22.9],\n",
              "       [  1. ,  70.6,  16. ,  40.8],\n",
              "       [  1. , 292.9,  28.3,  43.2],\n",
              "       [  1. , 112.9,  17.4,  38.6],\n",
              "       [  1. ,  97.2,   1.5,  30. ],\n",
              "       [  1. , 265.6,  20. ,   0.3],\n",
              "       [  1. ,  95.7,   1.4,   7.4],\n",
              "       [  1. , 290.7,   4.1,   8.5],\n",
              "       [  1. , 266.9,  43.8,   5. ],\n",
              "       [  1. ,  74.7,  49.4,  45.7],\n",
              "       [  1. ,  43.1,  26.7,  35.1],\n",
              "       [  1. , 228. ,  37.7,  32. ],\n",
              "       [  1. , 202.5,  22.3,  31.6],\n",
              "       [  1. , 177. ,  33.4,  38.7],\n",
              "       [  1. , 293.6,  27.7,   1.8],\n",
              "       [  1. , 206.9,   8.4,  26.4],\n",
              "       [  1. ,  25.1,  25.7,  43.3],\n",
              "       [  1. , 175.1,  22.5,  31.5],\n",
              "       [  1. ,  89.7,   9.9,  35.7],\n",
              "       [  1. , 239.9,  41.5,  18.5],\n",
              "       [  1. , 227.2,  15.8,  49.9],\n",
              "       [  1. ,  66.9,  11.7,  36.8],\n",
              "       [  1. , 199.8,   3.1,  34.6],\n",
              "       [  1. , 100.4,   9.6,   3.6],\n",
              "       [  1. , 216.4,  41.7,  39.6],\n",
              "       [  1. , 182.6,  46.2,  58.7],\n",
              "       [  1. , 262.7,  28.8,  15.9],\n",
              "       [  1. , 198.9,  49.4,  60. ],\n",
              "       [  1. ,   7.3,  28.1,  41.4],\n",
              "       [  1. , 136.2,  19.2,  16.6],\n",
              "       [  1. , 210.8,  49.6,  37.7],\n",
              "       [  1. , 210.7,  29.5,   9.3],\n",
              "       [  1. ,  53.5,   2. ,  21.4],\n",
              "       [  1. , 261.3,  42.7,  54.7],\n",
              "       [  1. , 239.3,  15.5,  27.3],\n",
              "       [  1. , 102.7,  29.6,   8.4],\n",
              "       [  1. , 131.1,  42.8,  28.9],\n",
              "       [  1. ,  69. ,   9.3,   0.9],\n",
              "       [  1. ,  31.5,  24.6,   2.2],\n",
              "       [  1. , 139.3,  14.5,  10.2],\n",
              "       [  1. , 237.4,  27.5,  11. ],\n",
              "       [  1. , 216.8,  43.9,  27.2],\n",
              "       [  1. , 199.1,  30.6,  38.7],\n",
              "       [  1. , 109.8,  14.3,  31.7],\n",
              "       [  1. ,  26.8,  33. ,  19.3],\n",
              "       [  1. , 129.4,   5.7,  31.3],\n",
              "       [  1. , 213.4,  24.6,  13.1],\n",
              "       [  1. ,  16.9,  43.7,  89.4],\n",
              "       [  1. ,  27.5,   1.6,  20.7],\n",
              "       [  1. , 120.5,  28.5,  14.2],\n",
              "       [  1. ,   5.4,  29.9,   9.4],\n",
              "       [  1. , 116. ,   7.7,  23.1],\n",
              "       [  1. ,  76.4,  26.7,  22.3],\n",
              "       [  1. , 239.8,   4.1,  36.9],\n",
              "       [  1. ,  75.3,  20.3,  32.5],\n",
              "       [  1. ,  68.4,  44.5,  35.6],\n",
              "       [  1. , 213.5,  43. ,  33.8],\n",
              "       [  1. , 193.2,  18.4,  65.7],\n",
              "       [  1. ,  76.3,  27.5,  16. ],\n",
              "       [  1. , 110.7,  40.6,  63.2],\n",
              "       [  1. ,  88.3,  25.5,  73.4],\n",
              "       [  1. , 109.8,  47.8,  51.4],\n",
              "       [  1. , 134.3,   4.9,   9.3],\n",
              "       [  1. ,  28.6,   1.5,  33. ],\n",
              "       [  1. , 217.7,  33.5,  59. ],\n",
              "       [  1. , 250.9,  36.5,  72.3],\n",
              "       [  1. , 107.4,  14. ,  10.9],\n",
              "       [  1. , 163.3,  31.6,  52.9],\n",
              "       [  1. , 197.6,   3.5,   5.9],\n",
              "       [  1. , 184.9,  21. ,  22. ],\n",
              "       [  1. , 289.7,  42.3,  51.2],\n",
              "       [  1. , 135.2,  41.7,  45.9],\n",
              "       [  1. , 222.4,   4.3,  49.8],\n",
              "       [  1. , 296.4,  36.3, 100.9],\n",
              "       [  1. , 280.2,  10.1,  21.4],\n",
              "       [  1. , 187.9,  17.2,  17.9],\n",
              "       [  1. , 238.2,  34.3,   5.3],\n",
              "       [  1. , 137.9,  46.4,  59. ],\n",
              "       [  1. ,  25. ,  11. ,  29.7],\n",
              "       [  1. ,  90.4,   0.3,  23.2],\n",
              "       [  1. ,  13.1,   0.4,  25.6],\n",
              "       [  1. , 255.4,  26.9,   5.5],\n",
              "       [  1. , 225.8,   8.2,  56.5],\n",
              "       [  1. , 241.7,  38. ,  23.2],\n",
              "       [  1. , 175.7,  15.4,   2.4],\n",
              "       [  1. , 209.6,  20.6,  10.7],\n",
              "       [  1. ,  78.2,  46.8,  34.5],\n",
              "       [  1. ,  75.1,  35. ,  52.7],\n",
              "       [  1. , 139.2,  14.3,  25.6],\n",
              "       [  1. ,  76.4,   0.8,  14.8],\n",
              "       [  1. , 125.7,  36.9,  79.2],\n",
              "       [  1. ,  19.4,  16. ,  22.3],\n",
              "       [  1. , 141.3,  26.8,  46.2],\n",
              "       [  1. ,  18.8,  21.7,  50.4],\n",
              "       [  1. , 224. ,   2.4,  15.6],\n",
              "       [  1. , 123.1,  34.6,  12.4],\n",
              "       [  1. , 229.5,  32.3,  74.2],\n",
              "       [  1. ,  87.2,  11.8,  25.9],\n",
              "       [  1. ,   7.8,  38.9,  50.6],\n",
              "       [  1. ,  80.2,   0. ,   9.2],\n",
              "       [  1. , 220.3,  49. ,   3.2],\n",
              "       [  1. ,  59.6,  12. ,  43.1],\n",
              "       [  1. ,   0.7,  39.6,   8.7],\n",
              "       [  1. , 265.2,   2.9,  43. ],\n",
              "       [  1. ,   8.4,  27.2,   2.1],\n",
              "       [  1. , 219.8,  33.5,  45.1],\n",
              "       [  1. ,  36.9,  38.6,  65.6],\n",
              "       [  1. ,  48.3,  47. ,   8.5],\n",
              "       [  1. ,  25.6,  39. ,   9.3],\n",
              "       [  1. , 273.7,  28.9,  59.7],\n",
              "       [  1. ,  43. ,  25.9,  20.5],\n",
              "       [  1. , 184.9,  43.9,   1.7],\n",
              "       [  1. ,  73.4,  17. ,  12.9],\n",
              "       [  1. , 193.7,  35.4,  75.6],\n",
              "       [  1. , 220.5,  33.2,  37.9],\n",
              "       [  1. , 104.6,   5.7,  34.4],\n",
              "       [  1. ,  96.2,  14.8,  38.9],\n",
              "       [  1. , 140.3,   1.9,   9. ],\n",
              "       [  1. , 240.1,   7.3,   8.7],\n",
              "       [  1. , 243.2,  49. ,  44.3],\n",
              "       [  1. ,  38. ,  40.3,  11.9],\n",
              "       [  1. ,  44.7,  25.8,  20.6],\n",
              "       [  1. , 280.7,  13.9,  37. ],\n",
              "       [  1. , 121. ,   8.4,  48.7],\n",
              "       [  1. , 197.6,  23.3,  14.2],\n",
              "       [  1. , 171.3,  39.7,  37.7],\n",
              "       [  1. , 187.8,  21.1,   9.5],\n",
              "       [  1. ,   4.1,  11.6,   5.7],\n",
              "       [  1. ,  93.9,  43.5,  50.5],\n",
              "       [  1. , 149.8,   1.3,  24.3],\n",
              "       [  1. ,  11.7,  36.9,  45.2],\n",
              "       [  1. , 131.7,  18.4,  34.6],\n",
              "       [  1. , 172.5,  18.1,  30.7],\n",
              "       [  1. ,  85.7,  35.8,  49.3],\n",
              "       [  1. , 188.4,  18.1,  25.6],\n",
              "       [  1. , 163.5,  36.8,   7.4],\n",
              "       [  1. , 117.2,  14.7,   5.4],\n",
              "       [  1. , 234.5,   3.4,  84.8],\n",
              "       [  1. ,  17.9,  37.6,  21.6],\n",
              "       [  1. , 206.8,   5.2,  19.4],\n",
              "       [  1. , 215.4,  23.6,  57.6],\n",
              "       [  1. , 284.3,  10.6,   6.4],\n",
              "       [  1. ,  50. ,  11.6,  18.4],\n",
              "       [  1. , 164.5,  20.9,  47.4],\n",
              "       [  1. ,  19.6,  20.1,  17. ],\n",
              "       [  1. , 168.4,   7.1,  12.8],\n",
              "       [  1. , 222.4,   3.4,  13.1],\n",
              "       [  1. , 276.9,  48.9,  41.8],\n",
              "       [  1. , 248.4,  30.2,  20.3],\n",
              "       [  1. , 170.2,   7.8,  35.2],\n",
              "       [  1. , 276.7,   2.3,  23.7],\n",
              "       [  1. , 165.6,  10. ,  17.6],\n",
              "       [  1. , 156.6,   2.6,   8.3],\n",
              "       [  1. , 218.5,   5.4,  27.4],\n",
              "       [  1. ,  56.2,   5.7,  29.7],\n",
              "       [  1. , 287.6,  43. ,  71.8],\n",
              "       [  1. , 253.8,  21.3,  30. ],\n",
              "       [  1. , 205. ,  45.1,  19.6],\n",
              "       [  1. , 139.5,   2.1,  26.6],\n",
              "       [  1. , 191.1,  28.7,  18.2],\n",
              "       [  1. , 286. ,  13.9,   3.7],\n",
              "       [  1. ,  18.7,  12.1,  23.4],\n",
              "       [  1. ,  39.5,  41.1,   5.8],\n",
              "       [  1. ,  75.5,  10.8,   6. ],\n",
              "       [  1. ,  17.2,   4.1,  31.6],\n",
              "       [  1. , 166.8,  42. ,   3.6],\n",
              "       [  1. , 149.7,  35.6,   6. ],\n",
              "       [  1. ,  38.2,   3.7,  13.8],\n",
              "       [  1. ,  94.2,   4.9,   8.1],\n",
              "       [  1. , 177. ,   9.3,   6.4],\n",
              "       [  1. , 283.6,  42. ,  66.2],\n",
              "       [  1. , 232.1,   8.6,   8.7]])"
            ]
          },
          "metadata": {},
          "execution_count": 28
        }
      ]
    },
    {
      "cell_type": "code",
      "source": [
        "import numpy as np\n",
        "import statsmodels.api as sm\n",
        "mod = sm.OLS(y, X)\n",
        "res = mod.fit()\n",
        "print(res.summary())"
      ],
      "metadata": {
        "colab": {
          "base_uri": "https://localhost:8080/"
        },
        "id": "Jpe0Hj04GdrU",
        "outputId": "27c3006b-347d-4410-ba46-ad3965f7b29b"
      },
      "id": "Jpe0Hj04GdrU",
      "execution_count": 27,
      "outputs": [
        {
          "output_type": "stream",
          "name": "stdout",
          "text": [
            "                                 OLS Regression Results                                \n",
            "=======================================================================================\n",
            "Dep. Variable:                  sales   R-squared (uncentered):                   0.982\n",
            "Model:                            OLS   Adj. R-squared (uncentered):              0.982\n",
            "Method:                 Least Squares   F-statistic:                              3566.\n",
            "Date:                Sat, 25 Mar 2023   Prob (F-statistic):                   2.43e-171\n",
            "Time:                        14:18:15   Log-Likelihood:                         -423.54\n",
            "No. Observations:                 200   AIC:                                      853.1\n",
            "Df Residuals:                     197   BIC:                                      863.0\n",
            "Df Model:                           3                                                  \n",
            "Covariance Type:            nonrobust                                                  \n",
            "==============================================================================\n",
            "                 coef    std err          t      P>|t|      [0.025      0.975]\n",
            "------------------------------------------------------------------------------\n",
            "TV             0.0538      0.001     40.507      0.000       0.051       0.056\n",
            "radio          0.2222      0.009     23.595      0.000       0.204       0.241\n",
            "newspaper      0.0168      0.007      2.517      0.013       0.004       0.030\n",
            "==============================================================================\n",
            "Omnibus:                        5.982   Durbin-Watson:                   2.038\n",
            "Prob(Omnibus):                  0.050   Jarque-Bera (JB):                7.039\n",
            "Skew:                          -0.232   Prob(JB):                       0.0296\n",
            "Kurtosis:                       3.794   Cond. No.                         12.6\n",
            "==============================================================================\n",
            "\n",
            "Notes:\n",
            "[1] R² is computed without centering (uncentered) since the model does not contain a constant.\n",
            "[2] Standard Errors assume that the covariance matrix of the errors is correctly specified.\n"
          ]
        }
      ]
    },
    {
      "cell_type": "code",
      "source": [
        "par, costs = grad_d(X,y, par, 0.00005, 500000)\n",
        "par"
      ],
      "metadata": {
        "colab": {
          "base_uri": "https://localhost:8080/"
        },
        "id": "89CLWIOLIlFM",
        "outputId": "154852dc-6c9a-463c-87cd-33c13e342580"
      },
      "id": "89CLWIOLIlFM",
      "execution_count": 32,
      "outputs": [
        {
          "output_type": "execute_result",
          "data": {
            "text/plain": [
              "array([[ 2.93883775e+00],\n",
              "       [ 4.57647864e-02],\n",
              "       [ 1.88530609e-01],\n",
              "       [-1.03717953e-03]])"
            ]
          },
          "metadata": {},
          "execution_count": 32
        }
      ]
    },
    {
      "cell_type": "code",
      "source": [],
      "metadata": {
        "id": "FMdrJDJ7Iv1u"
      },
      "id": "FMdrJDJ7Iv1u",
      "execution_count": null,
      "outputs": []
    }
  ],
  "metadata": {
    "kernelspec": {
      "display_name": "Python 3 (ipykernel)",
      "language": "python",
      "name": "python3"
    },
    "language_info": {
      "codemirror_mode": {
        "name": "ipython",
        "version": 3
      },
      "file_extension": ".py",
      "mimetype": "text/x-python",
      "name": "python",
      "nbconvert_exporter": "python",
      "pygments_lexer": "ipython3",
      "version": "3.9.7"
    },
    "colab": {
      "provenance": [],
      "include_colab_link": true
    }
  },
  "nbformat": 4,
  "nbformat_minor": 5
}